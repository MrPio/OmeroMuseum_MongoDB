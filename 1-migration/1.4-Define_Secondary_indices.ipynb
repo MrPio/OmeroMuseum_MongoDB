{
 "cells": [
  {
   "cell_type": "code",
   "execution_count": 4,
   "id": "0d7da80b",
   "metadata": {},
   "outputs": [
    {
     "name": "stdout",
     "output_type": "stream",
     "text": [
      "The autoreload extension is already loaded. To reload it, use:\n",
      "  %reload_ext autoreload\n"
     ]
    }
   ],
   "source": [
    "%load_ext autoreload\n",
    "%autoreload 2\n",
    "from pymongo import MongoClient\n",
    "import sys\n",
    "from pathlib import Path\n",
    "from tqdm import tqdm\n",
    "import json\n",
    "import random\n",
    "import bson\n",
    "\n",
    "sys.path.append(str(Path(\"..\").resolve()))\n",
    "from src import *"
   ]
  },
  {
   "cell_type": "markdown",
   "id": "11d99dc9",
   "metadata": {},
   "source": [
    "# Define indexes on embedded docs' id\n",
    "Tickets are embedded inside visitors' docs. Events reference them. Thus, tickets must have a ID to be retrievable.\n",
    "\n",
    "First I've added a `_id` field to ticket embedded docs, with value _ObjectId_. Then, I defined an index on such a field.\n",
    "\n",
    "## Performance improvements\n",
    "Before defining the index:\n",
    "```python\n",
    "db.visitors.find({\"tickets._id\": ObjectId(\"<OID>\")}).explain()\n",
    "```\n",
    "\n",
    "winning plan = `COLLSCAN`. `docsExamined = 50`. `totalKeysExamined = 0`. **Query scanned whole collection.**\n",
    "\n",
    "Then,\n",
    "```python\n",
    "db.visitors.create_index({ \"tickets._id\": 1 })\n",
    "```\n",
    "\n",
    "winning plan = `IXSCAN` -> `FETCH`. `indexName = tickets._id_1`. `totalKeysExamined = 1`. `totalDocsExamined = 1`. **Query scanned 1 document.**\n",
    "\n",
    "FETCH appears because Mongo must read the full document after the index gives the matching key.\n",
    "\n",
    "## Index update\n",
    "\n",
    "MongoDB maintains indexes automatically on writes."
   ]
  },
  {
   "cell_type": "markdown",
   "id": "ed206b5b",
   "metadata": {},
   "source": [
    "## Load post-preprocessing data\n",
    "The following cell reset the `omero_museum` database loading the `4_consistent` snapshot."
   ]
  },
  {
   "cell_type": "code",
   "execution_count": 5,
   "id": "f6ced694",
   "metadata": {},
   "outputs": [],
   "source": [
    "%%capture\n",
    "MongoClient(\"mongodb://localhost:27017/\").drop_database(\"omero_museum\")\n",
    "!mongorestore --host localhost:27017 --drop --db omero_museum  \"../backup/4_consistent/omero_museum\""
   ]
  },
  {
   "cell_type": "code",
   "execution_count": 6,
   "id": "2391badf",
   "metadata": {},
   "outputs": [
    {
     "name": "stdout",
     "output_type": "stream",
     "text": [
      "The collections of the \u001b[1m\u001b[33momero_museum\u001b[0m db are:\n",
      "----------------------------------------\n",
      "[activities]: \u001b[1m\u001b[31m_id\u001b[0m \u001b[1m\u001b[33mcapacity\u001b[0m \u001b[1m\u001b[32mduration\u001b[0m \u001b[1m\u001b[36menrolled\u001b[0m \u001b[1m\u001b[34mroom\u001b[0m \u001b[1m\u001b[35mstart_date\u001b[0m \u001b[1m\u001b[37mticketIds\u001b[0m \u001b[1m\u001b[90mworkshop_title\u001b[0m\n",
      "[artworks]: \u001b[1m\u001b[31m_id\u001b[0m \u001b[1m\u001b[33mauthorIds\u001b[0m \u001b[1m\u001b[32mcomments_star_1\u001b[0m \u001b[1m\u001b[36mcomments_star_2\u001b[0m \u001b[1m\u001b[34mcomments_star_3\u001b[0m \u001b[1m\u001b[35mcomments_star_4\u001b[0m \u001b[1m\u001b[37mcomments_star_5\u001b[0m \u001b[1m\u001b[90mdate\u001b[0m \u001b[1m\u001b[91mdescription\u001b[0m \u001b[1m\u001b[93mdonation_state\u001b[0m \u001b[1m\u001b[92mdonator_id\u001b[0m \u001b[1m\u001b[96mis_original\u001b[0m \u001b[1m\u001b[94mlocation_name\u001b[0m \u001b[1m\u001b[95mmaterials\u001b[0m \u001b[1m\u001b[31mperiod\u001b[0m \u001b[1m\u001b[33mseller_id\u001b[0m \u001b[1m\u001b[32msize\u001b[0m \u001b[1m\u001b[36mtecniques\u001b[0m \u001b[1m\u001b[34mtrade\u001b[0m \u001b[1m\u001b[35mtype\u001b[0m\n",
      "[authors]: \u001b[1m\u001b[31m_id\u001b[0m \u001b[1m\u001b[33mbirth_date\u001b[0m \u001b[1m\u001b[32mgender\u001b[0m \u001b[1m\u001b[36mhome_town\u001b[0m \u001b[1m\u001b[34mname\u001b[0m \u001b[1m\u001b[35msurname\u001b[0m\n",
      "[departments]: \u001b[1m\u001b[31m_id\u001b[0m \u001b[1m\u001b[33mfloor\u001b[0m \u001b[1m\u001b[32mfree_spots\u001b[0m \u001b[1m\u001b[36mroom\u001b[0m\n",
      "[limited_events]: \u001b[1m\u001b[31m_id\u001b[0m \u001b[1m\u001b[33martist\u001b[0m \u001b[1m\u001b[32martwork_titles\u001b[0m \u001b[1m\u001b[36mauthor_ids\u001b[0m \u001b[1m\u001b[34mcapacity\u001b[0m \u001b[1m\u001b[35mdescription\u001b[0m \u001b[1m\u001b[37mend_date\u001b[0m \u001b[1m\u001b[90mroom_name\u001b[0m \u001b[1m\u001b[91mstart_date\u001b[0m \u001b[1m\u001b[93mtheme\u001b[0m \u001b[1m\u001b[92mticket_ids\u001b[0m \u001b[1m\u001b[96mtype\u001b[0m\n",
      "[messages]: \u001b[1m\u001b[31m_id\u001b[0m \u001b[1m\u001b[33mcontent\u001b[0m \u001b[1m\u001b[32mcustomer_id\u001b[0m \u001b[1m\u001b[36mdelivery_status\u001b[0m \u001b[1m\u001b[34mlength\u001b[0m \u001b[1m\u001b[35msent_date\u001b[0m \u001b[1m\u001b[37mtype\u001b[0m \u001b[1m\u001b[90muri\u001b[0m\n",
      "[roles]: \u001b[1m\u001b[31m_id\u001b[0m \u001b[1m\u001b[33mactivity_ids\u001b[0m \u001b[1m\u001b[32mbirth_date\u001b[0m \u001b[1m\u001b[36mchat_ids\u001b[0m \u001b[1m\u001b[34mcurriculum\u001b[0m \u001b[1m\u001b[35mdate_start\u001b[0m \u001b[1m\u001b[37mdepartment\u001b[0m \u001b[1m\u001b[90mdesk\u001b[0m \u001b[1m\u001b[91memail\u001b[0m \u001b[1m\u001b[93menglish_cert\u001b[0m \u001b[1m\u001b[92mgender\u001b[0m \u001b[1m\u001b[96mhometown\u001b[0m \u001b[1m\u001b[94mname\u001b[0m \u001b[1m\u001b[95mpassword\u001b[0m \u001b[1m\u001b[31mphone_number\u001b[0m \u001b[1m\u001b[33msalary\u001b[0m \u001b[1m\u001b[32mshifts\u001b[0m \u001b[1m\u001b[36msurname\u001b[0m \u001b[1m\u001b[34mtype\u001b[0m \u001b[1m\u001b[35musername\u001b[0m\n",
      "[rooms]: \u001b[1m\u001b[31m_id\u001b[0m \u001b[1m\u001b[33mfloor\u001b[0m\n",
      "[suppliers]: \u001b[1m\u001b[31m_id\u001b[0m \u001b[1m\u001b[33memail\u001b[0m \u001b[1m\u001b[32miban\u001b[0m \u001b[1m\u001b[36mis_museum\u001b[0m \u001b[1m\u001b[34mis_state\u001b[0m \u001b[1m\u001b[35mname\u001b[0m \u001b[1m\u001b[37mphone_num\u001b[0m \u001b[1m\u001b[90msurvey_ids\u001b[0m\n",
      "[visitors]: \u001b[1m\u001b[31m_id\u001b[0m \u001b[1m\u001b[33mbirth_date\u001b[0m \u001b[1m\u001b[32mchat\u001b[0m \u001b[1m\u001b[36mcomments\u001b[0m \u001b[1m\u001b[34mdonation_ids\u001b[0m \u001b[1m\u001b[35memail\u001b[0m \u001b[1m\u001b[37mgender\u001b[0m \u001b[1m\u001b[90mimpairment\u001b[0m \u001b[1m\u001b[91mis_customer\u001b[0m \u001b[1m\u001b[93mland\u001b[0m \u001b[1m\u001b[92mname\u001b[0m \u001b[1m\u001b[96mphone_num\u001b[0m \u001b[1m\u001b[94msale_ids\u001b[0m \u001b[1m\u001b[95msurname\u001b[0m \u001b[1m\u001b[31msurveys\u001b[0m \u001b[1m\u001b[33mtickets\u001b[0m \u001b[1m\u001b[32mtrade_ids\u001b[0m\n",
      "[workshops]: \u001b[1m\u001b[31m_id\u001b[0m \u001b[1m\u001b[33mduration\u001b[0m \u001b[1m\u001b[32mprice_class\u001b[0m \u001b[1m\u001b[36mprice_person\u001b[0m \u001b[1m\u001b[34mtype\u001b[0m\n"
     ]
    }
   ],
   "source": [
    "connector = MongoDBConnector(\"omero_museum\")\n",
    "db = connector.db"
   ]
  },
  {
   "cell_type": "markdown",
   "id": "1cdba8dc",
   "metadata": {},
   "source": [
    "## Define indexes on _Embedded_ + _Referenced_ documents"
   ]
  },
  {
   "cell_type": "code",
   "execution_count": 7,
   "id": "a6b5dcec",
   "metadata": {},
   "outputs": [
    {
     "data": {
      "text/plain": [
       "'tickets._id_1'"
      ]
     },
     "execution_count": 7,
     "metadata": {},
     "output_type": "execute_result"
    }
   ],
   "source": [
    "db.visitors.create_index({ \"tickets._id\": 1 })"
   ]
  },
  {
   "cell_type": "markdown",
   "id": "8d961bff",
   "metadata": {},
   "source": [
    "---\n",
    "## Dump Final Database"
   ]
  },
  {
   "cell_type": "code",
   "execution_count": 8,
   "id": "834388a9",
   "metadata": {},
   "outputs": [],
   "source": [
    "%%capture\n",
    "!mongodump --host localhost:27017 --db omero_museum --out \"../backup/5_optimized\""
   ]
  }
 ],
 "metadata": {
  "kernelspec": {
   "display_name": "Python 3",
   "language": "python",
   "name": "python3"
  },
  "language_info": {
   "codemirror_mode": {
    "name": "ipython",
    "version": 3
   },
   "file_extension": ".py",
   "mimetype": "text/x-python",
   "name": "python",
   "nbconvert_exporter": "python",
   "pygments_lexer": "ipython3",
   "version": "3.10.8"
  }
 },
 "nbformat": 4,
 "nbformat_minor": 5
}
