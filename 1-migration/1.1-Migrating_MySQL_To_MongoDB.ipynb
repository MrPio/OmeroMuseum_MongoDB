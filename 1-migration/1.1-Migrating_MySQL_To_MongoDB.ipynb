{
 "cells": [
  {
   "cell_type": "code",
   "execution_count": 37,
   "id": "682b8096",
   "metadata": {},
   "outputs": [
    {
     "name": "stdout",
     "output_type": "stream",
     "text": [
      "The autoreload extension is already loaded. To reload it, use:\n",
      "  %reload_ext autoreload\n"
     ]
    }
   ],
   "source": [
    "%load_ext autoreload\n",
    "%autoreload 2\n",
    "from pymongo import MongoClient\n",
    "import sys\n",
    "from pathlib import Path\n",
    "from tqdm import tqdm\n",
    "import json\n",
    "\n",
    "sys.path.append(str(Path(\"..\").resolve()))\n",
    "from src import *"
   ]
  },
  {
   "cell_type": "markdown",
   "id": "2bbd3b8b",
   "metadata": {},
   "source": [
    "# Migrate MySQL to MongoDB\n",
    "As the database schema has evolved significantly since the current MySQL database was created, we've first migrated a subset of the collections using [_MongoDB Relational Migrator_](https://www.mongodb.com/resources/solutions/use-cases/mysql-to-mongodb).\n",
    "The database snapshot up to this point can be loaded from `backup/1_after_migration` using the following cell.\n",
    "\n",
    "In this notebook we are going to complete the migration using handwritten queries."
   ]
  },
  {
   "cell_type": "markdown",
   "id": "5507d948",
   "metadata": {},
   "source": [
    "## Load post-migration data\n",
    "The following cell reset the `omero_museum` database loading the `1_after_migration` snapshot."
   ]
  },
  {
   "cell_type": "code",
   "execution_count": 38,
   "id": "a35c78f1",
   "metadata": {},
   "outputs": [],
   "source": [
    "%%capture\n",
    "MongoClient(\"mongodb://localhost:27017/\").drop_database(\"omero_museum\")\n",
    "!mongorestore --host localhost:27017 --drop --db omero_museum  \"../backup/1_after_migration/omero_museum\""
   ]
  },
  {
   "cell_type": "markdown",
   "id": "31b7a2df",
   "metadata": {},
   "source": [
    "## Visualizing the migrated database"
   ]
  },
  {
   "cell_type": "code",
   "execution_count": 39,
   "id": "957eeb49",
   "metadata": {},
   "outputs": [
    {
     "name": "stdout",
     "output_type": "stream",
     "text": [
      "The collections of the \u001b[1m\u001b[33momero_museum\u001b[0m db are:\n",
      "----------------------------------------\n",
      "[artisti]: \u001b[1m\u001b[31m_id\u001b[0m \u001b[1m\u001b[33mcognome\u001b[0m \u001b[1m\u001b[32mdata_nasc\u001b[0m \u001b[1m\u001b[36mid\u001b[0m \u001b[1m\u001b[34mluogo_nasc\u001b[0m \u001b[1m\u001b[35mnome\u001b[0m \u001b[1m\u001b[37msesso\u001b[0m\n",
      "[biglietti]: \u001b[1m\u001b[31m_id\u001b[0m \u001b[1m\u001b[33mcosto\u001b[0m \u001b[1m\u001b[32mdata_stampa\u001b[0m \u001b[1m\u001b[36mevento\u001b[0m \u001b[1m\u001b[34mgruppo\u001b[0m \u001b[1m\u001b[35mid\u001b[0m\n",
      "[clienti]: \u001b[1m\u001b[31m_id\u001b[0m \u001b[1m\u001b[33mcellulare\u001b[0m \u001b[1m\u001b[32mcognome\u001b[0m \u001b[1m\u001b[36memail\u001b[0m \u001b[1m\u001b[34mid\u001b[0m \u001b[1m\u001b[35mname \u001b[0m \u001b[1m\u001b[37mtariffa\u001b[0m \u001b[1m\u001b[90mtessera\u001b[0m\n",
      "[dipendenti]: \u001b[1m\u001b[31m_id\u001b[0m \u001b[1m\u001b[33mcellulare\u001b[0m \u001b[1m\u001b[32mcognome\u001b[0m \u001b[1m\u001b[36mcurriculum\u001b[0m \u001b[1m\u001b[34mdata_nasc\u001b[0m \u001b[1m\u001b[35mdata_registrazione\u001b[0m \u001b[1m\u001b[37memail\u001b[0m \u001b[1m\u001b[90mid\u001b[0m \u001b[1m\u001b[91mluogo_nasc\u001b[0m \u001b[1m\u001b[93mnome\u001b[0m \u001b[1m\u001b[92msesso\u001b[0m\n",
      "[laboratori]: \u001b[1m\u001b[31m_id\u001b[0m \u001b[1m\u001b[33mcosto_classe\u001b[0m \u001b[1m\u001b[32mcosto_persona\u001b[0m \u001b[1m\u001b[36mdurata\u001b[0m \u001b[1m\u001b[34mnome\u001b[0m \u001b[1m\u001b[35mtipologia\u001b[0m\n",
      "[opere]: \u001b[1m\u001b[31m_id\u001b[0m \u001b[1m\u001b[33mdata\u001b[0m \u001b[1m\u001b[32mdescrizione\u001b[0m \u001b[1m\u001b[36mid\u001b[0m \u001b[1m\u001b[34msala\u001b[0m \u001b[1m\u001b[35mtipologia\u001b[0m \u001b[1m\u001b[37mtitolo\u001b[0m\n",
      "[questionari]: \u001b[1m\u001b[31m_id\u001b[0m \u001b[1m\u001b[33maccompagnatori_visita\u001b[0m \u001b[1m\u001b[32mdata_compilazione\u001b[0m \u001b[1m\u001b[36mmotivazione_visita\u001b[0m \u001b[1m\u001b[34mnumero_visite\u001b[0m \u001b[1m\u001b[35mritorno\u001b[0m \u001b[1m\u001b[37mtipologia_visita\u001b[0m \u001b[1m\u001b[90mtitolo_studi\u001b[0m \u001b[1m\u001b[91mvalutazione_esperienza\u001b[0m \u001b[1m\u001b[93mvalutazione_struttura\u001b[0m \u001b[1m\u001b[92mvalutazione_visita\u001b[0m \u001b[1m\u001b[96mvisitatore\u001b[0m\n",
      "[reparti]: \u001b[1m\u001b[31m_id\u001b[0m \u001b[1m\u001b[33mnome\u001b[0m \u001b[1m\u001b[32mpiano\u001b[0m \u001b[1m\u001b[36mposti_occ\u001b[0m \u001b[1m\u001b[34mposti_tot\u001b[0m \u001b[1m\u001b[35mstanza\u001b[0m\n"
     ]
    }
   ],
   "source": [
    "schema=json.load(open(\"schema.json\"))\n",
    "connector=MongoDBConnector(\"omero_museum\")\n",
    "db=connector.db"
   ]
  },
  {
   "cell_type": "markdown",
   "id": "fbaef622",
   "metadata": {},
   "source": [
    "There are 3 kinds of problems that catch the eye:\n",
    "1. Collections need to be **renamed**,\n",
    "2. Some collections are **missing**.\n",
    "3. Several fields have **changed** during the design."
   ]
  },
  {
   "cell_type": "markdown",
   "id": "877fba28",
   "metadata": {},
   "source": [
    "### 1. Renaming fields"
   ]
  },
  {
   "cell_type": "code",
   "execution_count": 40,
   "id": "38fcda0d",
   "metadata": {},
   "outputs": [
    {
     "name": "stdout",
     "output_type": "stream",
     "text": [
      "Renaming collection \u001b[1m\u001b[31mbiglietti --> tickets\u001b[0m\n",
      "Renaming collection \u001b[1m\u001b[31mreparti --> departments\u001b[0m\n",
      "Renaming collection \u001b[1m\u001b[31mdipendenti --> roles\u001b[0m\n",
      "Renaming collection \u001b[1m\u001b[31mopere --> artworks\u001b[0m\n",
      "Renaming collection \u001b[1m\u001b[31mclienti --> visitors\u001b[0m\n",
      "Renaming collection \u001b[1m\u001b[31mlaboratori --> workshops\u001b[0m\n",
      "Renaming collection \u001b[1m\u001b[31mquestionari --> surveys\u001b[0m\n",
      "Renaming collection \u001b[1m\u001b[31martisti --> authors\u001b[0m\n"
     ]
    }
   ],
   "source": [
    "collections_renaming = {\n",
    "    \"biglietti\": \"tickets\",\n",
    "    \"reparti\": \"departments\",\n",
    "    \"dipendenti\": \"roles\",\n",
    "    \"opere\": \"artworks\",\n",
    "    \"clienti\": \"visitors\",\n",
    "    \"laboratori\": \"workshops\",\n",
    "    \"questionari\": \"surveys\",\n",
    "    \"artisti\": \"authors\",\n",
    "}\n",
    "for old_name, new_name in collections_renaming.items():\n",
    "    if old_name not in connector.collections:\n",
    "        continue\n",
    "    db[old_name].rename(new_name)\n",
    "    cprint(\"Renaming collection\", f\"red:{old_name} --> {new_name}\")"
   ]
  },
  {
   "cell_type": "markdown",
   "id": "a47c617d",
   "metadata": {},
   "source": [
    "### 2. Adding missing collections"
   ]
  },
  {
   "cell_type": "code",
   "execution_count": 41,
   "id": "0cd69517",
   "metadata": {},
   "outputs": [
    {
     "name": "stdout",
     "output_type": "stream",
     "text": [
      "Creating collection \u001b[1m\u001b[32mrooms\u001b[0m\n",
      "Creating collection \u001b[1m\u001b[32mmessages\u001b[0m\n",
      "Creating collection \u001b[1m\u001b[32msuppliers\u001b[0m\n",
      "Creating collection \u001b[1m\u001b[32mlimited_events\u001b[0m\n",
      "Creating collection \u001b[1m\u001b[32mactivities\u001b[0m\n"
     ]
    }
   ],
   "source": [
    "collections_missing = [\n",
    "    \"rooms\",\n",
    "    \"messages\",\n",
    "    \"suppliers\",\n",
    "    \"limited_events\",\n",
    "    \"activities\",\n",
    "]\n",
    "for name in collections_missing:\n",
    "    db.create_collection(name)\n",
    "    cprint(\"Creating collection\", f\"green:{name}\")"
   ]
  },
  {
   "cell_type": "markdown",
   "id": "4903e16a",
   "metadata": {},
   "source": [
    "### 3. Renaming documents' entries"
   ]
  },
  {
   "cell_type": "code",
   "execution_count": 42,
   "id": "9896b707",
   "metadata": {},
   "outputs": [
    {
     "name": "stderr",
     "output_type": "stream",
     "text": [
      "100%|██████████| 8/8 [00:00<00:00, 43.93it/s]\n"
     ]
    }
   ],
   "source": [
    "entries_renaming = {\n",
    "    \"artworks\": {\n",
    "        \"data\": \"date\",\n",
    "        \"descrizione\": \"description\",\n",
    "        \"sala\": \"room\",\n",
    "        \"tipologia\": \"type\",\n",
    "        \"titolo\": \"title\",\n",
    "    },\n",
    "    \"authors\": {\n",
    "        \"cognome\": \"surname\",\n",
    "        \"data_nasc\": \"birth_date\",\n",
    "        \"luogo_nasc\": \"home_town\",\n",
    "        \"nome\": \"name\",\n",
    "        \"sesso\": \"gender\",\n",
    "    },\n",
    "    \"departments\": {\n",
    "        \"nome\": \"name\",\n",
    "        \"piano\": \"floor\",\n",
    "        \"posti_occ\": \"free_spots\",\n",
    "        \"stanza\": \"room\",\n",
    "    },\n",
    "    \"roles\": {\n",
    "        \"cellulare\": \"phone_number\",\n",
    "        \"cognome\": \"surname\",\n",
    "        \"curriculum\": \"curriculum\",\n",
    "        \"data_nasc\": \"birth_date\",\n",
    "        \"data_registrazione\": \"date_start\",\n",
    "        \"email\": \"email\",\n",
    "        \"luogo_nasc\": \"hometown\",\n",
    "        \"nome\": \"name\",\n",
    "        \"sesso\": \"gender\",\n",
    "    },\n",
    "    \"surveys\": {\n",
    "        \"accompagnatori_visita\": \"accompanying_persons_visit\",\n",
    "        \"data_compilazione\": \"date_of_compilation\",\n",
    "        \"motivazione_visita\": \"reason_for_visit\",\n",
    "        \"numero_visite\": \"number_of_visits\",\n",
    "        \"ritorno\": \"return\",\n",
    "        \"tipologia_visita\": \"type_of_visit\",\n",
    "        \"titolo_studi\": \"title_of_studies\",\n",
    "        \"valutazione_esperienza\": \"evaluation_of_experience\",\n",
    "        \"valutazione_struttura\": \"evaluation_of_facility\",\n",
    "        \"valutazione_visita\": \"evaluation_of_visit\",\n",
    "    },\n",
    "    \"tickets\": {\n",
    "        \"costo\": \"price\",\n",
    "        \"data_stampa\": \"date\",\n",
    "    },\n",
    "    \"visitors\": {\n",
    "        \"cellulare\": \"cell phone number\",\n",
    "        \"cognome\": \"surname\",\n",
    "        \"email\": \"email\",\n",
    "        \"name\": \"name\",\n",
    "        \"tariffa\": \"fare\",\n",
    "    },\n",
    "    \"workshops\": {\n",
    "        \"costo_classe\": \"price_class\",\n",
    "        \"costo_persona\": \"price_person\",\n",
    "        \"durata\": \"duration\",\n",
    "        \"nome\": \"title\",\n",
    "        \"tipologia\": \"type\",\n",
    "    },\n",
    "}\n",
    "for coll_name, mapping in tqdm(entries_renaming.items()):\n",
    "    coll = db[coll_name]\n",
    "\n",
    "    for doc in coll.find({}):\n",
    "        new_doc = {\"_id\": doc[\"_id\"]}\n",
    "        for old_key, new_key in mapping.items():\n",
    "            if old_key in doc:\n",
    "                new_doc[new_key] = doc[old_key]\n",
    "\n",
    "        coll.replace_one({\"_id\": doc[\"_id\"]}, new_doc)  "
   ]
  },
  {
   "cell_type": "code",
   "execution_count": 43,
   "id": "ea5cbe21",
   "metadata": {},
   "outputs": [
    {
     "name": "stdout",
     "output_type": "stream",
     "text": [
      "The collections of the \u001b[1m\u001b[33momero_museum\u001b[0m db are:\n",
      "----------------------------------------\n",
      "[activities]:\n",
      "[artworks]: \u001b[1m\u001b[31m_id\u001b[0m \u001b[1m\u001b[33mdate\u001b[0m \u001b[1m\u001b[32mdescription\u001b[0m \u001b[1m\u001b[36mroom\u001b[0m \u001b[1m\u001b[34mtitle\u001b[0m \u001b[1m\u001b[35mtype\u001b[0m\n",
      "[authors]: \u001b[1m\u001b[31m_id\u001b[0m \u001b[1m\u001b[33mbirth_date\u001b[0m \u001b[1m\u001b[32mgender\u001b[0m \u001b[1m\u001b[36mhome_town\u001b[0m \u001b[1m\u001b[34mname\u001b[0m \u001b[1m\u001b[35msurname\u001b[0m\n",
      "[departments]: \u001b[1m\u001b[31m_id\u001b[0m \u001b[1m\u001b[33mfloor\u001b[0m \u001b[1m\u001b[32mfree_spots\u001b[0m \u001b[1m\u001b[36mname\u001b[0m \u001b[1m\u001b[34mroom\u001b[0m\n",
      "[limited_events]:\n",
      "[messages]:\n",
      "[roles]: \u001b[1m\u001b[31m_id\u001b[0m \u001b[1m\u001b[33mbirth_date\u001b[0m \u001b[1m\u001b[32mcurriculum\u001b[0m \u001b[1m\u001b[36mdate_start\u001b[0m \u001b[1m\u001b[34memail\u001b[0m \u001b[1m\u001b[35mgender\u001b[0m \u001b[1m\u001b[37mhometown\u001b[0m \u001b[1m\u001b[90mname\u001b[0m \u001b[1m\u001b[91mphone_number\u001b[0m \u001b[1m\u001b[93msurname\u001b[0m\n",
      "[rooms]:\n",
      "[suppliers]:\n",
      "[surveys]: \u001b[1m\u001b[31m_id\u001b[0m \u001b[1m\u001b[33maccompanying_persons_visit\u001b[0m \u001b[1m\u001b[32mdate_of_compilation\u001b[0m \u001b[1m\u001b[36mevaluation_of_experience\u001b[0m \u001b[1m\u001b[34mevaluation_of_facility\u001b[0m \u001b[1m\u001b[35mevaluation_of_visit\u001b[0m \u001b[1m\u001b[37mnumber_of_visits\u001b[0m \u001b[1m\u001b[90mreason_for_visit\u001b[0m \u001b[1m\u001b[91mreturn\u001b[0m \u001b[1m\u001b[93mtitle_of_studies\u001b[0m \u001b[1m\u001b[92mtype_of_visit\u001b[0m\n",
      "[tickets]: \u001b[1m\u001b[31m_id\u001b[0m \u001b[1m\u001b[33mdate\u001b[0m \u001b[1m\u001b[32mprice\u001b[0m\n",
      "[visitors]: \u001b[1m\u001b[31m_id\u001b[0m \u001b[1m\u001b[33mcell phone number\u001b[0m \u001b[1m\u001b[32memail\u001b[0m \u001b[1m\u001b[36mfare\u001b[0m \u001b[1m\u001b[34msurname\u001b[0m\n",
      "[workshops]: \u001b[1m\u001b[31m_id\u001b[0m \u001b[1m\u001b[33mduration\u001b[0m \u001b[1m\u001b[32mprice_class\u001b[0m \u001b[1m\u001b[36mprice_person\u001b[0m \u001b[1m\u001b[34mtitle\u001b[0m \u001b[1m\u001b[35mtype\u001b[0m\n"
     ]
    }
   ],
   "source": [
    "connector.stats()"
   ]
  },
  {
   "cell_type": "markdown",
   "id": "b977621d",
   "metadata": {},
   "source": [
    "## Setting right `_id` values\n",
    "Some collections have a wrong primary key."
   ]
  },
  {
   "cell_type": "code",
   "execution_count": 44,
   "id": "db8072bc",
   "metadata": {},
   "outputs": [
    {
     "name": "stdout",
     "output_type": "stream",
     "text": [
      "[workshops]: \u001b[1m\u001b[31m68b572f8845fcdbabc1c8941\u001b[0m --> \u001b[1m\u001b[32mBestiario immaginario\u001b[0m\n",
      "[workshops]: \u001b[1m\u001b[31m68b572f8845fcdbabc1c8942\u001b[0m --> \u001b[1m\u001b[32mConosci Louis?\u001b[0m\n",
      "[workshops]: \u001b[1m\u001b[31m68b572f8845fcdbabc1c8943\u001b[0m --> \u001b[1m\u001b[32mContemporaneamente di-segno\u001b[0m\n",
      "[workshops]: \u001b[1m\u001b[31m68b572f8845fcdbabc1c8944\u001b[0m --> \u001b[1m\u001b[32mDi-segno\u001b[0m\n",
      "[workshops]: \u001b[1m\u001b[31m68b572f8845fcdbabc1c8945\u001b[0m --> \u001b[1m\u001b[32mIl Museo delle meraviglie\u001b[0m\n",
      "[workshops]: \u001b[1m\u001b[31m68b572f8845fcdbabc1c8946\u001b[0m --> \u001b[1m\u001b[32mImpronte\u001b[0m\n",
      "[workshops]: \u001b[1m\u001b[31m68b572f8845fcdbabc1c8947\u001b[0m --> \u001b[1m\u001b[32mLe cose raccontano storie\u001b[0m\n",
      "[workshops]: \u001b[1m\u001b[31m68b572f8845fcdbabc1c8948\u001b[0m --> \u001b[1m\u001b[32mLibri tattili\u001b[0m\n",
      "[workshops]: \u001b[1m\u001b[31m68b572f8845fcdbabc1c8949\u001b[0m --> \u001b[1m\u001b[32mMini corso di ceramica\u001b[0m\n",
      "[workshops]: \u001b[1m\u001b[31m68b572f8845fcdbabc1c894a\u001b[0m --> \u001b[1m\u001b[32mRi-tratto con tatto\u001b[0m\n",
      "[workshops]: \u001b[1m\u001b[31m68b572f8845fcdbabc1c894b\u001b[0m --> \u001b[1m\u001b[32mRicordi da toccare\u001b[0m\n",
      "[workshops]: \u001b[1m\u001b[31m68b572f8845fcdbabc1c894c\u001b[0m --> \u001b[1m\u001b[32mUno solo... ma tanti\u001b[0m\n",
      "------------------------------\n",
      "[artworks]: \u001b[1m\u001b[31m68b572f8845fcdbabc1c894d\u001b[0m --> \u001b[1m\u001b[32mIl Partenone\u001b[0m\n",
      "[artworks]: \u001b[1m\u001b[31m68b572f8845fcdbabc1c894e\u001b[0m --> \u001b[1m\u001b[32mIl Discobolo\u001b[0m\n",
      "[artworks]: \u001b[1m\u001b[31m68b572f8845fcdbabc1c894f\u001b[0m --> \u001b[1m\u001b[32mSanta Maria del Fiore di Firenze\u001b[0m\n",
      "[artworks]: \u001b[1m\u001b[31m68b572f8845fcdbabc1c8950\u001b[0m --> \u001b[1m\u001b[32mDuomo di Monza\u001b[0m\n",
      "[artworks]: \u001b[1m\u001b[31m68b572f8845fcdbabc1c8951\u001b[0m --> \u001b[1m\u001b[32mManichini Coloniali\u001b[0m\n",
      "[artworks]: \u001b[1m\u001b[31m68b572f8845fcdbabc1c8952\u001b[0m --> \u001b[1m\u001b[32mDuomo di Ancona\u001b[0m\n",
      "------------------------------\n",
      "[departments]: \u001b[1m\u001b[31m68b572f8845fcdbabc1c8984\u001b[0m --> \u001b[1m\u001b[32mAccoglienza\u001b[0m\n",
      "[departments]: \u001b[1m\u001b[31m68b572f8845fcdbabc1c8985\u001b[0m --> \u001b[1m\u001b[32mAccoglienzaDesign\u001b[0m\n",
      "[departments]: \u001b[1m\u001b[31m68b572f8845fcdbabc1c8986\u001b[0m --> \u001b[1m\u001b[32mAmministrazione\u001b[0m\n",
      "[departments]: \u001b[1m\u001b[31m68b572f8845fcdbabc1c8987\u001b[0m --> \u001b[1m\u001b[32mSegreteria\u001b[0m\n",
      "[departments]: \u001b[1m\u001b[31m68b572f8845fcdbabc1c8988\u001b[0m --> \u001b[1m\u001b[32mUfficioDidattica\u001b[0m\n",
      "[departments]: \u001b[1m\u001b[31m68b572f8845fcdbabc1c8989\u001b[0m --> \u001b[1m\u001b[32mUfficioProgettazione\u001b[0m\n",
      "------------------------------\n"
     ]
    }
   ],
   "source": [
    "collections_id = {\"workshops\": \"title\", \"artworks\": \"title\", \"departments\": \"name\"}\n",
    "for coll, key in collections_id.items():\n",
    "    for doc in db[coll].find({}):\n",
    "        id = doc.pop(key)\n",
    "        db[coll].delete_one({\"_id\": doc[\"_id\"]})\n",
    "        db[coll].insert_one({**doc, \"_id\": id})\n",
    "        cprint(f\"[{coll}]:\", f\"red:{doc['_id']}\", \"-->\", f\"green:{id}\")\n",
    "    print(\"-\" * 30)"
   ]
  },
  {
   "cell_type": "markdown",
   "id": "0125ca78",
   "metadata": {},
   "source": [
    "---\n",
    "## Dump Final Database"
   ]
  },
  {
   "cell_type": "code",
   "execution_count": 45,
   "id": "e306a073",
   "metadata": {},
   "outputs": [],
   "source": [
    "%%capture\n",
    "!mongodump --host localhost:27017 --db omero_museum --out \"../backup/2_migration_preprocessed\""
   ]
  }
 ],
 "metadata": {
  "kernelspec": {
   "display_name": "Python 3",
   "language": "python",
   "name": "python3"
  },
  "language_info": {
   "codemirror_mode": {
    "name": "ipython",
    "version": 3
   },
   "file_extension": ".py",
   "mimetype": "text/x-python",
   "name": "python",
   "nbconvert_exporter": "python",
   "pygments_lexer": "ipython3",
   "version": "3.10.8"
  }
 },
 "nbformat": 4,
 "nbformat_minor": 5
}
