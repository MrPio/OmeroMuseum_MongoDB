{
 "cells": [
  {
   "cell_type": "code",
   "execution_count": 11,
   "id": "e4225935",
   "metadata": {},
   "outputs": [
    {
     "name": "stdout",
     "output_type": "stream",
     "text": [
      "The autoreload extension is already loaded. To reload it, use:\n",
      "  %reload_ext autoreload\n"
     ]
    }
   ],
   "source": [
    "%load_ext autoreload\n",
    "%autoreload 2\n",
    "from pymongo import MongoClient\n",
    "import sys\n",
    "from pathlib import Path\n",
    "from tqdm import tqdm\n",
    "import json\n",
    "import random\n",
    "import bson\n",
    "from faker import Faker\n",
    "\n",
    "sys.path.append(str(Path(\"..\").resolve()))\n",
    "from src import *"
   ]
  },
  {
   "cell_type": "markdown",
   "id": "acc257f0",
   "metadata": {},
   "source": [
    "# Final touches: recover the lost Consistency due to seed\n",
    "ℹ️ This notebook require the execution of [`1.2-Seeding_Database`](1.2-Seeding_Database.ipynb). Or you can just load the snapshop as in the following cell."
   ]
  },
  {
   "cell_type": "markdown",
   "id": "e01ee927",
   "metadata": {},
   "source": [
    "## Load post-preprocessing data\n",
    "The following cell reset the `omero_museum` database loading the `3_seeded` snapshot."
   ]
  },
  {
   "cell_type": "code",
   "execution_count": 12,
   "id": "e0447318",
   "metadata": {},
   "outputs": [],
   "source": [
    "%%capture\n",
    "MongoClient(\"mongodb://localhost:27017/\").drop_database(\"omero_museum\")\n",
    "!mongorestore --host localhost:27017 --drop --db omero_museum  \"../backup/3_seeded/omero_museum\""
   ]
  },
  {
   "cell_type": "code",
   "execution_count": 13,
   "id": "04e72afd",
   "metadata": {},
   "outputs": [
    {
     "name": "stdout",
     "output_type": "stream",
     "text": [
      "The collections of the \u001b[1m\u001b[33momero_museum\u001b[0m db are:\n",
      "----------------------------------------\n",
      "[activities]: \u001b[1m\u001b[31m_id\u001b[0m \u001b[1m\u001b[33mcapacity\u001b[0m \u001b[1m\u001b[32mduration\u001b[0m \u001b[1m\u001b[36menrolled\u001b[0m \u001b[1m\u001b[34mroom\u001b[0m \u001b[1m\u001b[35mstart_date\u001b[0m \u001b[1m\u001b[37mticketIds\u001b[0m \u001b[1m\u001b[90mworkshop_title\u001b[0m\n",
      "[artworks]: \u001b[1m\u001b[31m_id\u001b[0m \u001b[1m\u001b[33mauthorIds\u001b[0m \u001b[1m\u001b[32mcomments_star_1\u001b[0m \u001b[1m\u001b[36mcomments_star_2\u001b[0m \u001b[1m\u001b[34mcomments_star_3\u001b[0m \u001b[1m\u001b[35mcomments_star_4\u001b[0m \u001b[1m\u001b[37mcomments_star_5\u001b[0m \u001b[1m\u001b[90mdate\u001b[0m \u001b[1m\u001b[91mdescription\u001b[0m \u001b[1m\u001b[93mdonation_state\u001b[0m \u001b[1m\u001b[92mdonator_id\u001b[0m \u001b[1m\u001b[96mis_original\u001b[0m \u001b[1m\u001b[94mlocation_name\u001b[0m \u001b[1m\u001b[95mmaterials\u001b[0m \u001b[1m\u001b[31mperiod\u001b[0m \u001b[1m\u001b[33mseller_id\u001b[0m \u001b[1m\u001b[32msize\u001b[0m \u001b[1m\u001b[36mtecniques\u001b[0m \u001b[1m\u001b[34mtrade\u001b[0m \u001b[1m\u001b[35mtype\u001b[0m\n",
      "[authors]: \u001b[1m\u001b[31m_id\u001b[0m \u001b[1m\u001b[33mbirth_date\u001b[0m \u001b[1m\u001b[32mgender\u001b[0m \u001b[1m\u001b[36mhome_town\u001b[0m \u001b[1m\u001b[34mname\u001b[0m \u001b[1m\u001b[35msurname\u001b[0m\n",
      "[departments]: \u001b[1m\u001b[31m_id\u001b[0m \u001b[1m\u001b[33mfloor\u001b[0m \u001b[1m\u001b[32mfree_spots\u001b[0m \u001b[1m\u001b[36mroom\u001b[0m\n",
      "[limited_events]: \u001b[1m\u001b[31m_id\u001b[0m \u001b[1m\u001b[33martist\u001b[0m \u001b[1m\u001b[32martwork_titles\u001b[0m \u001b[1m\u001b[36mauthor_ids\u001b[0m \u001b[1m\u001b[34mcapacity\u001b[0m \u001b[1m\u001b[35mdescription\u001b[0m \u001b[1m\u001b[37mend_date\u001b[0m \u001b[1m\u001b[90mroom_name\u001b[0m \u001b[1m\u001b[91mstart_date\u001b[0m \u001b[1m\u001b[93mtheme\u001b[0m \u001b[1m\u001b[92mticket_ids\u001b[0m \u001b[1m\u001b[96mtype\u001b[0m\n",
      "[messages]: \u001b[1m\u001b[31m_id\u001b[0m \u001b[1m\u001b[33mcontent\u001b[0m \u001b[1m\u001b[32mcustomer_id\u001b[0m \u001b[1m\u001b[36mdelivery_status\u001b[0m \u001b[1m\u001b[34mlength\u001b[0m \u001b[1m\u001b[35msent_date\u001b[0m \u001b[1m\u001b[37mtype\u001b[0m \u001b[1m\u001b[90muri\u001b[0m\n",
      "[roles]: \u001b[1m\u001b[31m_id\u001b[0m \u001b[1m\u001b[33mactivity_ids\u001b[0m \u001b[1m\u001b[32mbirth_date\u001b[0m \u001b[1m\u001b[36mchat_ids\u001b[0m \u001b[1m\u001b[34mcurriculum\u001b[0m \u001b[1m\u001b[35mdate_start\u001b[0m \u001b[1m\u001b[37mdepartment\u001b[0m \u001b[1m\u001b[90mdesk\u001b[0m \u001b[1m\u001b[91memail\u001b[0m \u001b[1m\u001b[93menglish_cert\u001b[0m \u001b[1m\u001b[92mgender\u001b[0m \u001b[1m\u001b[96mhometown\u001b[0m \u001b[1m\u001b[94mname\u001b[0m \u001b[1m\u001b[95mpassword\u001b[0m \u001b[1m\u001b[31mphone_number\u001b[0m \u001b[1m\u001b[33msalary\u001b[0m \u001b[1m\u001b[32mshifts\u001b[0m \u001b[1m\u001b[36msurname\u001b[0m \u001b[1m\u001b[34mtype\u001b[0m \u001b[1m\u001b[35musername\u001b[0m\n",
      "[rooms]: \u001b[1m\u001b[31m_id\u001b[0m \u001b[1m\u001b[33mfloor\u001b[0m\n",
      "[suppliers]: \u001b[1m\u001b[31m_id\u001b[0m \u001b[1m\u001b[33memail\u001b[0m \u001b[1m\u001b[32miban\u001b[0m \u001b[1m\u001b[36mis_museum\u001b[0m \u001b[1m\u001b[34mis_state\u001b[0m \u001b[1m\u001b[35mname\u001b[0m \u001b[1m\u001b[37mphone_num\u001b[0m \u001b[1m\u001b[90msurvey_ids\u001b[0m\n",
      "[visitors]: \u001b[1m\u001b[31m_id\u001b[0m \u001b[1m\u001b[33mbirth_date\u001b[0m \u001b[1m\u001b[32mchat\u001b[0m \u001b[1m\u001b[36mcomments\u001b[0m \u001b[1m\u001b[34mdonation_ids\u001b[0m \u001b[1m\u001b[35memail\u001b[0m \u001b[1m\u001b[37mgender\u001b[0m \u001b[1m\u001b[90mimpairment\u001b[0m \u001b[1m\u001b[91mis_customer\u001b[0m \u001b[1m\u001b[93mland\u001b[0m \u001b[1m\u001b[92mname\u001b[0m \u001b[1m\u001b[96mphone_num\u001b[0m \u001b[1m\u001b[94msale_ids\u001b[0m \u001b[1m\u001b[95msurname\u001b[0m \u001b[1m\u001b[31msurveys\u001b[0m \u001b[1m\u001b[33mtickets\u001b[0m \u001b[1m\u001b[32mtrade_ids\u001b[0m\n",
      "[workshops]: \u001b[1m\u001b[31m_id\u001b[0m \u001b[1m\u001b[33mduration\u001b[0m \u001b[1m\u001b[32mprice_class\u001b[0m \u001b[1m\u001b[36mprice_person\u001b[0m \u001b[1m\u001b[34mtype\u001b[0m\n"
     ]
    }
   ],
   "source": [
    "faker=Faker()\n",
    "connector = MongoDBConnector(\"omero_museum\")\n",
    "db = connector.db"
   ]
  },
  {
   "cell_type": "markdown",
   "id": "234f8cbd",
   "metadata": {},
   "source": [
    "## Artworks' comments' rating"
   ]
  },
  {
   "cell_type": "code",
   "execution_count": 14,
   "id": "272e1272",
   "metadata": {},
   "outputs": [],
   "source": [
    "for star in [1, 2, 3, 4, 5]:\n",
    "    db.artworks.update_many({}, {\"$set\": {f\"comments_star_{star}.$[].rating\": star}})"
   ]
  },
  {
   "cell_type": "markdown",
   "id": "28eecea3",
   "metadata": {},
   "source": [
    "## Visitors' `is_customer`"
   ]
  },
  {
   "cell_type": "code",
   "execution_count": 15,
   "id": "1e0e8ded",
   "metadata": {},
   "outputs": [
    {
     "data": {
      "text/plain": [
       "UpdateResult({'n': 51, 'nModified': 51, 'ok': 1.0, 'updatedExisting': True}, acknowledged=True)"
      ]
     },
     "execution_count": 15,
     "metadata": {},
     "output_type": "execute_result"
    }
   ],
   "source": [
    "customer_fields = [\n",
    "    \"surname\",\n",
    "    \"name\",\n",
    "    \"donations_ids\",\n",
    "    \"sales_ids\",\n",
    "    \"phone_num\",\n",
    "    \"email\",\n",
    "    \"trade_ids\",\n",
    "    \"chat\",\n",
    "    \"comments\",\n",
    "]\n",
    "db.visitors.update_many(\n",
    "    {\"is_customer\": False},\n",
    "    [\n",
    "        {\"$unset\": customer_fields},\n",
    "        {\n",
    "            \"$set\": {\n",
    "                \"tickets\": {\"$slice\": [\"$tickets\", 1]},\n",
    "                \"surveys\": {\"$slice\": [\"$surveys\", 1]},\n",
    "            }\n",
    "        },\n",
    "    ],\n",
    ")"
   ]
  },
  {
   "cell_type": "markdown",
   "id": "c5f3d012",
   "metadata": {},
   "source": [
    "## Messages' `type`"
   ]
  },
  {
   "cell_type": "code",
   "execution_count": 16,
   "id": "2bce32d3",
   "metadata": {},
   "outputs": [],
   "source": [
    "for msg in db.messages.find({}):\n",
    "    if msg[\"type\"] == \"audio\":\n",
    "        db.messages.update_one(\n",
    "            {\"_id\": msg[\"_id\"]},\n",
    "            [\n",
    "                {\"$unset\": [\"uri\", \"size\"]},\n",
    "                {\"$set\": {\"content\": faker.hexify(\"^\" * 100)}},\n",
    "            ],\n",
    "        )\n",
    "    if msg[\"type\"] == \"picture\":\n",
    "        db.messages.update_one(\n",
    "            {\"_id\": msg[\"_id\"]},\n",
    "            [\n",
    "                {\"$unset\": [\"content\", \"length\"]},\n",
    "                {\"$set\": {\"uri\": faker.image_url()}},\n",
    "            ],\n",
    "        )\n",
    "    if msg[\"type\"] == \"text\":\n",
    "        db.messages.update_one(\n",
    "            {\"_id\": msg[\"_id\"]},\n",
    "            [{\"$unset\": [\"uri\", \"size\"]}],\n",
    "        )"
   ]
  },
  {
   "cell_type": "markdown",
   "id": "8f03f44a",
   "metadata": {},
   "source": [
    "## Suppliers' `is_museum`"
   ]
  },
  {
   "cell_type": "code",
   "execution_count": 19,
   "id": "f15229ba",
   "metadata": {},
   "outputs": [],
   "source": [
    "for _ in [True, False]:\n",
    "    db.suppliers.update_many(\n",
    "        {\"survey_ids\": {\"$exists\": _}},\n",
    "        [{\"$set\": {\"is_museum\": _}}],\n",
    "    )"
   ]
  },
  {
   "cell_type": "markdown",
   "id": "5758c221",
   "metadata": {},
   "source": [
    "---\n",
    "## Dump Final Database"
   ]
  },
  {
   "cell_type": "code",
   "execution_count": 20,
   "id": "33db6617",
   "metadata": {},
   "outputs": [],
   "source": [
    "%%capture\n",
    "!mongodump --host localhost:27017 --db omero_museum --out \"../backup/4_consistent\""
   ]
  }
 ],
 "metadata": {
  "kernelspec": {
   "display_name": "Python 3",
   "language": "python",
   "name": "python3"
  },
  "language_info": {
   "codemirror_mode": {
    "name": "ipython",
    "version": 3
   },
   "file_extension": ".py",
   "mimetype": "text/x-python",
   "name": "python",
   "nbconvert_exporter": "python",
   "pygments_lexer": "ipython3",
   "version": "3.10.8"
  }
 },
 "nbformat": 4,
 "nbformat_minor": 5
}
