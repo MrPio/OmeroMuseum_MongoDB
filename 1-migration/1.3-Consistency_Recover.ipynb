{
 "cells": [
  {
   "cell_type": "code",
   "execution_count": 146,
   "id": "e4225935",
   "metadata": {},
   "outputs": [
    {
     "name": "stdout",
     "output_type": "stream",
     "text": [
      "The autoreload extension is already loaded. To reload it, use:\n",
      "  %reload_ext autoreload\n"
     ]
    }
   ],
   "source": [
    "%load_ext autoreload\n",
    "%autoreload 2\n",
    "from pymongo import MongoClient\n",
    "import sys\n",
    "from pathlib import Path\n",
    "from tqdm import tqdm\n",
    "import json\n",
    "import random\n",
    "import bson\n",
    "\n",
    "sys.path.append(str(Path(\"..\").resolve()))\n",
    "from src import *"
   ]
  },
  {
   "cell_type": "markdown",
   "id": "acc257f0",
   "metadata": {},
   "source": [
    "# Final touches: recover the lost Consistency due to seed\n",
    "ℹ️ This notebook require the execution of [`1.2-Seeding_Database`](1.2-Seeding_Database.ipynb). Or you can just load the snapshop as in the following cell."
   ]
  },
  {
   "cell_type": "markdown",
   "id": "e01ee927",
   "metadata": {},
   "source": [
    "## Load post-preprocessing data\n",
    "The following cell reset the `omero_museum` database loading the `3_seeded` snapshot."
   ]
  },
  {
   "cell_type": "code",
   "execution_count": 147,
   "id": "e0447318",
   "metadata": {},
   "outputs": [],
   "source": [
    "%%capture\n",
    "MongoClient(\"mongodb://localhost:27017/\").drop_database(\"omero_museum\")\n",
    "!mongorestore --host localhost:27017 --drop --db omero_museum  \"../backup/3_seeded/omero_museum\""
   ]
  },
  {
   "cell_type": "code",
   "execution_count": 148,
   "id": "04e72afd",
   "metadata": {},
   "outputs": [
    {
     "name": "stdout",
     "output_type": "stream",
     "text": [
      "The collections of the \u001b[1m\u001b[33momero_museum\u001b[0m db are:\n",
      "----------------------------------------\n",
      "[activities]: \u001b[1m\u001b[31m_id\u001b[0m \u001b[1m\u001b[33mcapacity\u001b[0m \u001b[1m\u001b[32mduration\u001b[0m \u001b[1m\u001b[36menrolled\u001b[0m \u001b[1m\u001b[34mroom\u001b[0m \u001b[1m\u001b[35mstartDate\u001b[0m \u001b[1m\u001b[37mticketIds\u001b[0m \u001b[1m\u001b[90mworkshopTitle\u001b[0m\n",
      "[artworks]: \u001b[1m\u001b[31m_id\u001b[0m \u001b[1m\u001b[33mauthorIds\u001b[0m \u001b[1m\u001b[32mcomments_star_1\u001b[0m \u001b[1m\u001b[36mcomments_star_2\u001b[0m \u001b[1m\u001b[34mcomments_star_3\u001b[0m \u001b[1m\u001b[35mcomments_star_4\u001b[0m \u001b[1m\u001b[37mcomments_star_5\u001b[0m \u001b[1m\u001b[90mdate\u001b[0m \u001b[1m\u001b[91mdescription\u001b[0m \u001b[1m\u001b[93mdonationState\u001b[0m \u001b[1m\u001b[92mdonatorId\u001b[0m \u001b[1m\u001b[96misOriginal\u001b[0m \u001b[1m\u001b[94mlocationName\u001b[0m \u001b[1m\u001b[95mmaterials\u001b[0m \u001b[1m\u001b[31mperiod\u001b[0m \u001b[1m\u001b[33msellerId\u001b[0m \u001b[1m\u001b[32msize\u001b[0m \u001b[1m\u001b[36mtecniques\u001b[0m \u001b[1m\u001b[34mtrade\u001b[0m \u001b[1m\u001b[35mtype\u001b[0m\n",
      "[authors]: \u001b[1m\u001b[31m_id\u001b[0m \u001b[1m\u001b[33mbirth_date\u001b[0m \u001b[1m\u001b[32mgender\u001b[0m \u001b[1m\u001b[36mhome_town\u001b[0m \u001b[1m\u001b[34mname\u001b[0m \u001b[1m\u001b[35msurname\u001b[0m\n",
      "[departments]: \u001b[1m\u001b[31m_id\u001b[0m \u001b[1m\u001b[33mfloor\u001b[0m \u001b[1m\u001b[32mfree_spots\u001b[0m \u001b[1m\u001b[36mroom\u001b[0m\n",
      "[limited_events]: \u001b[1m\u001b[31m_id\u001b[0m \u001b[1m\u001b[33martist\u001b[0m \u001b[1m\u001b[32martworkTitles\u001b[0m \u001b[1m\u001b[36mauthorIds\u001b[0m \u001b[1m\u001b[34mcapacity\u001b[0m \u001b[1m\u001b[35mdescription\u001b[0m \u001b[1m\u001b[37mendDate\u001b[0m \u001b[1m\u001b[90mroomName\u001b[0m \u001b[1m\u001b[91mstartDate\u001b[0m \u001b[1m\u001b[93mtheme\u001b[0m \u001b[1m\u001b[92mticketIds\u001b[0m \u001b[1m\u001b[96mtype\u001b[0m\n",
      "[messages]: \u001b[1m\u001b[31m_id\u001b[0m \u001b[1m\u001b[33mcontent\u001b[0m \u001b[1m\u001b[32mcustomerId\u001b[0m \u001b[1m\u001b[36mdeliveryStatus\u001b[0m \u001b[1m\u001b[34mlength\u001b[0m \u001b[1m\u001b[35msentDate\u001b[0m \u001b[1m\u001b[37mtype\u001b[0m \u001b[1m\u001b[90muri\u001b[0m\n",
      "[roles]: \u001b[1m\u001b[31m_id\u001b[0m \u001b[1m\u001b[33mactivityIds\u001b[0m \u001b[1m\u001b[32mbirth_date\u001b[0m \u001b[1m\u001b[36mchatIds\u001b[0m \u001b[1m\u001b[34mcurriculum\u001b[0m \u001b[1m\u001b[35mdate_start\u001b[0m \u001b[1m\u001b[37mdepartment\u001b[0m \u001b[1m\u001b[90mdesk\u001b[0m \u001b[1m\u001b[91memail\u001b[0m \u001b[1m\u001b[93menglish_cert\u001b[0m \u001b[1m\u001b[92mgender\u001b[0m \u001b[1m\u001b[96mhometown\u001b[0m \u001b[1m\u001b[94mname\u001b[0m \u001b[1m\u001b[95mpassword\u001b[0m \u001b[1m\u001b[31mphone_number\u001b[0m \u001b[1m\u001b[33msalary\u001b[0m \u001b[1m\u001b[32mshifts\u001b[0m \u001b[1m\u001b[36msurname\u001b[0m \u001b[1m\u001b[34mtype\u001b[0m \u001b[1m\u001b[35musername\u001b[0m\n",
      "[rooms]: \u001b[1m\u001b[31m_id\u001b[0m \u001b[1m\u001b[33mfloor\u001b[0m\n",
      "[suppliers]: \u001b[1m\u001b[31m_id\u001b[0m \u001b[1m\u001b[33memail\u001b[0m \u001b[1m\u001b[32miban\u001b[0m \u001b[1m\u001b[36misMuseum\u001b[0m \u001b[1m\u001b[34misState\u001b[0m \u001b[1m\u001b[35mname\u001b[0m \u001b[1m\u001b[37mphoneNum\u001b[0m \u001b[1m\u001b[90msurveyIds\u001b[0m\n",
      "[visitors]: \u001b[1m\u001b[31m_id\u001b[0m \u001b[1m\u001b[33mbirthDate\u001b[0m \u001b[1m\u001b[32mchat\u001b[0m \u001b[1m\u001b[36mcomments\u001b[0m \u001b[1m\u001b[34mdonationIds\u001b[0m \u001b[1m\u001b[35memail\u001b[0m \u001b[1m\u001b[37mgender\u001b[0m \u001b[1m\u001b[90mimpairment\u001b[0m \u001b[1m\u001b[91mis_customer\u001b[0m \u001b[1m\u001b[93mland\u001b[0m \u001b[1m\u001b[92mname\u001b[0m \u001b[1m\u001b[96mphoneNum\u001b[0m \u001b[1m\u001b[94msaleIds\u001b[0m \u001b[1m\u001b[95msurname\u001b[0m \u001b[1m\u001b[31msurveys\u001b[0m \u001b[1m\u001b[33mtickets\u001b[0m \u001b[1m\u001b[32mtradeIds\u001b[0m\n",
      "[workshops]: \u001b[1m\u001b[31m_id\u001b[0m \u001b[1m\u001b[33mduration\u001b[0m \u001b[1m\u001b[32mprice_class\u001b[0m \u001b[1m\u001b[36mprice_person\u001b[0m \u001b[1m\u001b[34mtype\u001b[0m\n"
     ]
    }
   ],
   "source": [
    "connector = MongoDBConnector(\"omero_museum\")\n",
    "db = connector.db"
   ]
  },
  {
   "cell_type": "markdown",
   "id": "234f8cbd",
   "metadata": {},
   "source": [
    "## Artworks' comments' rating"
   ]
  },
  {
   "cell_type": "code",
   "execution_count": 149,
   "id": "272e1272",
   "metadata": {},
   "outputs": [],
   "source": [
    "for star in [1, 2, 3, 4, 5]:\n",
    "    db.artworks.update_many({}, {\"$set\": {f\"comments_star_{star}.$[].rating\": star}})"
   ]
  },
  {
   "cell_type": "markdown",
   "id": "28eecea3",
   "metadata": {},
   "source": [
    "## Visitors' `is_customer`"
   ]
  },
  {
   "cell_type": "code",
   "execution_count": 150,
   "id": "1e0e8ded",
   "metadata": {},
   "outputs": [
    {
     "data": {
      "text/plain": [
       "UpdateResult({'n': 48, 'nModified': 48, 'ok': 1.0, 'updatedExisting': True}, acknowledged=True)"
      ]
     },
     "execution_count": 150,
     "metadata": {},
     "output_type": "execute_result"
    }
   ],
   "source": [
    "customer_fields = [\n",
    "    \"surname\",\n",
    "    \"name\",\n",
    "    \"donationsIds\",\n",
    "    \"salesIds\",\n",
    "    \"phoneNum\",\n",
    "    \"email\",\n",
    "    \"tradeIds\",\n",
    "    \"chat\",\n",
    "    \"comments\",\n",
    "]\n",
    "db.visitors.update_many(\n",
    "    {\"is_customer\": False},\n",
    "    [\n",
    "        {\"$unset\": customer_fields},\n",
    "        {\n",
    "            \"$set\": {\n",
    "                \"tickets\": {\"$slice\": [\"$tickets\", 1]},\n",
    "                \"surveys\": {\"$slice\": [\"$surveys\", 1]},\n",
    "            }\n",
    "        },\n",
    "    ],\n",
    ")"
   ]
  },
  {
   "cell_type": "markdown",
   "id": "c856e722",
   "metadata": {},
   "source": [
    "## Ticket's missing `id`"
   ]
  },
  {
   "cell_type": "code",
   "execution_count": 151,
   "id": "680f9145",
   "metadata": {},
   "outputs": [
    {
     "data": {
      "text/plain": [
       "' for doc in db.visitors.find({}):\\n    if \"tickets\" in doc:\\n        db.visitors.update_one(\\n            {\"_id\": doc[\"_id\"]},\\n            {\\n                \"$set\": {\\n                    \"tickets\": [{**t, \"_id\": bson.ObjectId()} for t in doc[\"tickets\"]]\\n                }\\n            },\\n        ) '"
      ]
     },
     "execution_count": 151,
     "metadata": {},
     "output_type": "execute_result"
    }
   ],
   "source": [
    "\"\"\" for doc in db.visitors.find({}):\n",
    "    if \"tickets\" in doc:\n",
    "        db.visitors.update_one(\n",
    "            {\"_id\": doc[\"_id\"]},\n",
    "            {\n",
    "                \"$set\": {\n",
    "                    \"tickets\": [{**t, \"_id\": bson.ObjectId()} for t in doc[\"tickets\"]]\n",
    "                }\n",
    "            },\n",
    "        ) \"\"\""
   ]
  },
  {
   "cell_type": "markdown",
   "id": "d7c52b70",
   "metadata": {},
   "source": [
    "## Fix Event-Ticket broken reference"
   ]
  },
  {
   "cell_type": "code",
   "execution_count": 152,
   "id": "987f130d",
   "metadata": {},
   "outputs": [
    {
     "data": {
      "text/plain": [
       "' ids = {\\n    doc[\"_id\"]: [t[\"_id\"] for t in doc[\"tickets\"]]\\n    for doc in db.visitors.find({}, {\"_id\": 1, \"tickets\": 1})\\n    if doc.get(\"tickets\")\\n}\\n\\nfor c in [db.activities, db.limited_events]:\\n    for doc in c.find({}):\\n        if \"ticketIds\" in doc:\\n            c.update_one(\\n                {\"_id\": doc[\"_id\"]},\\n                {\\n                    \"$set\": {\\n                        \"ticketIds\": [\\n                            random.choice(random.choice(list(ids.values())))\\n                            for _ in doc[\"ticketIds\"]\\n                        ]\\n                    }\\n                },\\n            ) '"
      ]
     },
     "execution_count": 152,
     "metadata": {},
     "output_type": "execute_result"
    }
   ],
   "source": [
    "\"\"\" ids = {\n",
    "    doc[\"_id\"]: [t[\"_id\"] for t in doc[\"tickets\"]]\n",
    "    for doc in db.visitors.find({}, {\"_id\": 1, \"tickets\": 1})\n",
    "    if doc.get(\"tickets\")\n",
    "}\n",
    "\n",
    "for c in [db.activities, db.limited_events]:\n",
    "    for doc in c.find({}):\n",
    "        if \"ticketIds\" in doc:\n",
    "            c.update_one(\n",
    "                {\"_id\": doc[\"_id\"]},\n",
    "                {\n",
    "                    \"$set\": {\n",
    "                        \"ticketIds\": [\n",
    "                            random.choice(random.choice(list(ids.values())))\n",
    "                            for _ in doc[\"ticketIds\"]\n",
    "                        ]\n",
    "                    }\n",
    "                },\n",
    "            ) \"\"\""
   ]
  },
  {
   "cell_type": "markdown",
   "id": "91751ccd",
   "metadata": {},
   "source": [
    "## Roles and chats"
   ]
  },
  {
   "cell_type": "code",
   "execution_count": 153,
   "id": "8d1376b1",
   "metadata": {},
   "outputs": [
    {
     "data": {
      "text/plain": [
       "' visistors_with_chat = db.visitors.find({\"chat\": {\"$exists\": 1}}) '"
      ]
     },
     "execution_count": 153,
     "metadata": {},
     "output_type": "execute_result"
    }
   ],
   "source": [
    "\"\"\" visistors_with_chat = db.visitors.find({\"chat\": {\"$exists\": 1}}) \"\"\""
   ]
  },
  {
   "cell_type": "markdown",
   "id": "5758c221",
   "metadata": {},
   "source": [
    "## Dump Final Database"
   ]
  },
  {
   "cell_type": "code",
   "execution_count": 154,
   "id": "33db6617",
   "metadata": {},
   "outputs": [],
   "source": [
    "%%capture\n",
    "!mongodump --host localhost:27017 --db omero_museum --out \"../backup/4_consistent\""
   ]
  }
 ],
 "metadata": {
  "kernelspec": {
   "display_name": "Python 3",
   "language": "python",
   "name": "python3"
  },
  "language_info": {
   "codemirror_mode": {
    "name": "ipython",
    "version": 3
   },
   "file_extension": ".py",
   "mimetype": "text/x-python",
   "name": "python",
   "nbconvert_exporter": "python",
   "pygments_lexer": "ipython3",
   "version": "3.10.8"
  }
 },
 "nbformat": 4,
 "nbformat_minor": 5
}
