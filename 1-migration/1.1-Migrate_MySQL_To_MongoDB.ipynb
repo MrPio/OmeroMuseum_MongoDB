{
 "cells": [
  {
   "cell_type": "code",
   "execution_count": null,
   "id": "682b8096",
   "metadata": {},
   "outputs": [],
   "source": [
    "%load_ext autoreload\n",
    "%autoreload 2\n",
    "from pymongo import MongoClient\n",
    "import sys\n",
    "from pathlib import Path\n",
    "from tqdm import tqdm\n",
    "import json\n",
    "\n",
    "sys.path.append(str(Path(\"..\").resolve()))\n",
    "from src import *"
   ]
  },
  {
   "cell_type": "markdown",
   "id": "2bbd3b8b",
   "metadata": {},
   "source": [
    "# Migrate MySQL to MongoDB\n",
    "As the database schema has evolved significantly since the current MySQL database was created, we've first migrated a subset of the collections using [_MongoDB Relational Migrator_](https://www.mongodb.com/resources/solutions/use-cases/mysql-to-mongodb).\n",
    "\n",
    "The database up to this point can be loaded from `backup/1_after_migration` using the following command.\n",
    "```sh\n",
    "mongorestore --host localhost:27017 --db omero_museum  \"../backup/1_after_migration/\"\n",
    "```\n",
    "\n",
    "In this notebook we are going to complete the migration using handwritten queries."
   ]
  },
  {
   "cell_type": "markdown",
   "id": "5507d948",
   "metadata": {},
   "source": [
    "## Load post-migration data\n",
    "The following cell reset the `omero_museum` database loading the `1_after_migration` snapshot."
   ]
  },
  {
   "cell_type": "code",
   "execution_count": null,
   "id": "a35c78f1",
   "metadata": {},
   "outputs": [],
   "source": [
    "%%capture\n",
    "# Start from scratch\n",
    "MongoClient(\"mongodb://localhost:27017/\").drop_database(\"omero_museum\")\n",
    "!mongorestore --host localhost:27017 --drop --db omero_museum  \"../backup/1_after_migration/\""
   ]
  },
  {
   "cell_type": "markdown",
   "id": "31b7a2df",
   "metadata": {},
   "source": [
    "## Visualizing the migrated database"
   ]
  },
  {
   "cell_type": "code",
   "execution_count": 57,
   "id": "957eeb49",
   "metadata": {},
   "outputs": [
    {
     "name": "stdout",
     "output_type": "stream",
     "text": [
      "The collections of the \u001b[1m\u001b[33momero_museum\u001b[0m db are:\n",
      "----------------------------------------\n",
      "[activities]:\n",
      "[artworks]: \u001b[1m\u001b[31m_id\u001b[0m \u001b[1m\u001b[33mdata\u001b[0m \u001b[1m\u001b[32mdescrizione\u001b[0m \u001b[1m\u001b[36mid\u001b[0m \u001b[1m\u001b[34msala\u001b[0m \u001b[1m\u001b[35mtipologia\u001b[0m\n",
      "[authors]: \u001b[1m\u001b[31m_id\u001b[0m \u001b[1m\u001b[33mcognome\u001b[0m \u001b[1m\u001b[32mdata_nasc\u001b[0m \u001b[1m\u001b[36mid\u001b[0m \u001b[1m\u001b[34mluogo_nasc\u001b[0m \u001b[1m\u001b[35mnome\u001b[0m \u001b[1m\u001b[37msesso\u001b[0m\n",
      "[departments]: \u001b[1m\u001b[31m_id\u001b[0m \u001b[1m\u001b[33mnome\u001b[0m \u001b[1m\u001b[32mpiano\u001b[0m \u001b[1m\u001b[36mposti_occ\u001b[0m \u001b[1m\u001b[34mposti_tot\u001b[0m \u001b[1m\u001b[35mstanza\u001b[0m\n",
      "[employees]: \u001b[1m\u001b[31m_id\u001b[0m \u001b[1m\u001b[33mcellulare\u001b[0m \u001b[1m\u001b[32mcognome\u001b[0m \u001b[1m\u001b[36mcurriculum\u001b[0m \u001b[1m\u001b[34mdata_nasc\u001b[0m \u001b[1m\u001b[35mdata_registrazione\u001b[0m \u001b[1m\u001b[37memail\u001b[0m \u001b[1m\u001b[90mid\u001b[0m \u001b[1m\u001b[91mluogo_nasc\u001b[0m \u001b[1m\u001b[93mnome\u001b[0m \u001b[1m\u001b[92msesso\u001b[0m\n",
      "[limited_events]:\n",
      "[messages]:\n",
      "[rooms]:\n",
      "[suppliers]:\n",
      "[surveys]: \u001b[1m\u001b[31m_id\u001b[0m \u001b[1m\u001b[33maccompagnatori_visita\u001b[0m \u001b[1m\u001b[32mdata_compilazione\u001b[0m \u001b[1m\u001b[36mmotivazione_visita\u001b[0m \u001b[1m\u001b[34mnumero_visite\u001b[0m \u001b[1m\u001b[35mritorno\u001b[0m \u001b[1m\u001b[37mtipologia_visita\u001b[0m \u001b[1m\u001b[90mtitolo_studi\u001b[0m \u001b[1m\u001b[91mvalutazione_esperienza\u001b[0m \u001b[1m\u001b[93mvalutazione_struttura\u001b[0m \u001b[1m\u001b[92mvalutazione_visita\u001b[0m \u001b[1m\u001b[96mvisitatore\u001b[0m\n",
      "[tickets]: \u001b[1m\u001b[31m_id\u001b[0m \u001b[1m\u001b[33mcosto\u001b[0m \u001b[1m\u001b[32mdata_stampa\u001b[0m \u001b[1m\u001b[36mevento\u001b[0m \u001b[1m\u001b[34mgruppo\u001b[0m \u001b[1m\u001b[35mid\u001b[0m\n",
      "[visitors]: \u001b[1m\u001b[31m_id\u001b[0m \u001b[1m\u001b[33mcellulare\u001b[0m \u001b[1m\u001b[32mcognome\u001b[0m \u001b[1m\u001b[36memail\u001b[0m \u001b[1m\u001b[34mid\u001b[0m \u001b[1m\u001b[35mname \u001b[0m \u001b[1m\u001b[37mtariffa\u001b[0m \u001b[1m\u001b[90mtessera\u001b[0m\n",
      "[workshops]: \u001b[1m\u001b[31m_id\u001b[0m \u001b[1m\u001b[33mcosto_classe\u001b[0m \u001b[1m\u001b[32mcosto_persona\u001b[0m \u001b[1m\u001b[36mdurata\u001b[0m \u001b[1m\u001b[34mnome\u001b[0m \u001b[1m\u001b[35mtipologia\u001b[0m\n"
     ]
    }
   ],
   "source": [
    "schema=json.load(open(\"schema.json\"))\n",
    "connector=MongoDBConnector(\"omero_museum\")\n",
    "db=connector.db"
   ]
  },
  {
   "cell_type": "markdown",
   "id": "fbaef622",
   "metadata": {},
   "source": [
    "There are 3 kinds of problems that catch the eye:\n",
    "1. Collections need to be **renamed**,\n",
    "2. Some collections are **missing**.\n",
    "3. Several fields have **changed** during the design."
   ]
  },
  {
   "cell_type": "markdown",
   "id": "877fba28",
   "metadata": {},
   "source": [
    "### 1. Renaming fields"
   ]
  },
  {
   "cell_type": "code",
   "execution_count": 45,
   "id": "38fcda0d",
   "metadata": {},
   "outputs": [
    {
     "name": "stdout",
     "output_type": "stream",
     "text": [
      "Renaming collection \u001b[1m\u001b[31mbiglietti --> tickets\u001b[0m\n",
      "Renaming collection \u001b[1m\u001b[31mreparti --> departments\u001b[0m\n",
      "Renaming collection \u001b[1m\u001b[31mdipendenti --> employees\u001b[0m\n",
      "Renaming collection \u001b[1m\u001b[31mopere --> artworks\u001b[0m\n",
      "Renaming collection \u001b[1m\u001b[31mclienti --> visitors\u001b[0m\n",
      "Renaming collection \u001b[1m\u001b[31mlaboratori --> workshops\u001b[0m\n",
      "Renaming collection \u001b[1m\u001b[31mquestionari --> surveys\u001b[0m\n",
      "Renaming collection \u001b[1m\u001b[31martisti --> authors\u001b[0m\n"
     ]
    }
   ],
   "source": [
    "collections_renaming = {\n",
    "    \"biglietti\": \"tickets\",\n",
    "    \"reparti\": \"departments\",\n",
    "    \"dipendenti\": \"employees\",\n",
    "    \"opere\": \"artworks\",\n",
    "    \"clienti\": \"visitors\",\n",
    "    \"laboratori\": \"workshops\",\n",
    "    \"questionari\": \"surveys\",\n",
    "    \"artisti\": \"authors\",\n",
    "}\n",
    "for old_name, new_name in collections_renaming.items():\n",
    "    if old_name not in connector.collections:\n",
    "        continue\n",
    "    db[old_name].rename(new_name)\n",
    "    cprint(\"Renaming collection\", f\"red:{old_name} --> {new_name}\")"
   ]
  },
  {
   "cell_type": "markdown",
   "id": "a47c617d",
   "metadata": {},
   "source": [
    "### 2. Adding missing collections"
   ]
  },
  {
   "cell_type": "code",
   "execution_count": 46,
   "id": "0cd69517",
   "metadata": {},
   "outputs": [
    {
     "name": "stdout",
     "output_type": "stream",
     "text": [
      "Creating collection \u001b[1m\u001b[32mrooms\u001b[0m\n",
      "Creating collection \u001b[1m\u001b[32mmessages\u001b[0m\n",
      "Creating collection \u001b[1m\u001b[32msuppliers\u001b[0m\n",
      "Creating collection \u001b[1m\u001b[32mlimited_events\u001b[0m\n",
      "Creating collection \u001b[1m\u001b[32mactivities\u001b[0m\n"
     ]
    }
   ],
   "source": [
    "collections_missing = [\n",
    "    \"rooms\",\n",
    "    \"messages\",\n",
    "    \"suppliers\",\n",
    "    \"limited_events\",\n",
    "    \"activities\",\n",
    "]\n",
    "for name in collections_missing:\n",
    "    db.create_collection(name)\n",
    "    cprint(\"Creating collection\", f\"green:{name}\")"
   ]
  },
  {
   "cell_type": "markdown",
   "id": "4903e16a",
   "metadata": {},
   "source": [
    "### 3. Renaming documents' entries"
   ]
  },
  {
   "cell_type": "code",
   "execution_count": 51,
   "id": "e026ea95",
   "metadata": {},
   "outputs": [
    {
     "name": "stdout",
     "output_type": "stream",
     "text": [
      "The collections of the \u001b[1m\u001b[33momero_museum\u001b[0m db are:\n",
      "----------------------------------------\n",
      "[activities]:\n",
      "[artworks]: \u001b[1m\u001b[31m_id\u001b[0m \u001b[1m\u001b[33mdata\u001b[0m \u001b[1m\u001b[32mdescrizione\u001b[0m \u001b[1m\u001b[36mid\u001b[0m \u001b[1m\u001b[34msala\u001b[0m \u001b[1m\u001b[35mtipologia\u001b[0m\n",
      "[authors]: \u001b[1m\u001b[31m_id\u001b[0m \u001b[1m\u001b[33mcognome\u001b[0m \u001b[1m\u001b[32mdata_nasc\u001b[0m \u001b[1m\u001b[36mid\u001b[0m \u001b[1m\u001b[34mluogo_nasc\u001b[0m \u001b[1m\u001b[35mnome\u001b[0m \u001b[1m\u001b[37msesso\u001b[0m\n",
      "[departments]: \u001b[1m\u001b[31m_id\u001b[0m \u001b[1m\u001b[33mnome\u001b[0m \u001b[1m\u001b[32mpiano\u001b[0m \u001b[1m\u001b[36mposti_occ\u001b[0m \u001b[1m\u001b[34mposti_tot\u001b[0m \u001b[1m\u001b[35mstanza\u001b[0m\n",
      "[employees]: \u001b[1m\u001b[31m_id\u001b[0m \u001b[1m\u001b[33mcellulare\u001b[0m \u001b[1m\u001b[32mcognome\u001b[0m \u001b[1m\u001b[36mcurriculum\u001b[0m \u001b[1m\u001b[34mdata_nasc\u001b[0m \u001b[1m\u001b[35mdata_registrazione\u001b[0m \u001b[1m\u001b[37memail\u001b[0m \u001b[1m\u001b[90mid\u001b[0m \u001b[1m\u001b[91mluogo_nasc\u001b[0m \u001b[1m\u001b[93mnome\u001b[0m \u001b[1m\u001b[92msesso\u001b[0m\n",
      "[limited_events]:\n",
      "[messages]:\n",
      "[rooms]:\n",
      "[suppliers]:\n",
      "[surveys]: \u001b[1m\u001b[31m_id\u001b[0m \u001b[1m\u001b[33maccompagnatori_visita\u001b[0m \u001b[1m\u001b[32mdata_compilazione\u001b[0m \u001b[1m\u001b[36mmotivazione_visita\u001b[0m \u001b[1m\u001b[34mnumero_visite\u001b[0m \u001b[1m\u001b[35mritorno\u001b[0m \u001b[1m\u001b[37mtipologia_visita\u001b[0m \u001b[1m\u001b[90mtitolo_studi\u001b[0m \u001b[1m\u001b[91mvalutazione_esperienza\u001b[0m \u001b[1m\u001b[93mvalutazione_struttura\u001b[0m \u001b[1m\u001b[92mvalutazione_visita\u001b[0m \u001b[1m\u001b[96mvisitatore\u001b[0m\n",
      "[tickets]: \u001b[1m\u001b[31m_id\u001b[0m \u001b[1m\u001b[33mcosto\u001b[0m \u001b[1m\u001b[32mdata_stampa\u001b[0m \u001b[1m\u001b[36mevento\u001b[0m \u001b[1m\u001b[34mgruppo\u001b[0m \u001b[1m\u001b[35mid\u001b[0m\n",
      "[visitors]: \u001b[1m\u001b[31m_id\u001b[0m \u001b[1m\u001b[33mcellulare\u001b[0m \u001b[1m\u001b[32mcognome\u001b[0m \u001b[1m\u001b[36memail\u001b[0m \u001b[1m\u001b[34mid\u001b[0m \u001b[1m\u001b[35mname \u001b[0m \u001b[1m\u001b[37mtariffa\u001b[0m \u001b[1m\u001b[90mtessera\u001b[0m\n",
      "[workshops]: \u001b[1m\u001b[31m_id\u001b[0m \u001b[1m\u001b[33mcosto_classe\u001b[0m \u001b[1m\u001b[32mcosto_persona\u001b[0m \u001b[1m\u001b[36mdurata\u001b[0m \u001b[1m\u001b[34mnome\u001b[0m \u001b[1m\u001b[35mtipologia\u001b[0m\n"
     ]
    }
   ],
   "source": [
    "connector.stats()"
   ]
  },
  {
   "cell_type": "code",
   "execution_count": null,
   "id": "9896b707",
   "metadata": {},
   "outputs": [],
   "source": [
    "entries_renaming = {\n",
    "    \"artworks\": {\n",
    "        \"data\": \"date\",\n",
    "        \"descrizione\": \"description\",\n",
    "        \"sala\": \"room\",\n",
    "        \"tipologia\": \"type\",\n",
    "    },\n",
    "    \"authors\": {\n",
    "        \"cognome\": \"surname\",\n",
    "        \"data_nasc\": \"birth_date\",\n",
    "        \"luogo_nasc\": \"home_town\",\n",
    "        \"nome\": \"name\",\n",
    "        \"sesso\": \"gender\",\n",
    "    },\n",
    "    \"departments\": {\n",
    "        \"nome\": \"name\",\n",
    "        \"piano\": \"floor\",\n",
    "        \"posti_occ\": \"free_spots\",\n",
    "        \"stanza\": \"room\",\n",
    "    },\n",
    "    \"employees\": {\n",
    "        \"cellulare\": \"phone_number\",\n",
    "        \"cognome\": \"surname\",\n",
    "        \"curriculum\": \"curriculum\",\n",
    "        \"data_nasc\": \"birth_date\",\n",
    "        \"data_registrazione\": \"date_start\",\n",
    "        \"email\": \"email\",\n",
    "        \"luogo_nasc\": \"hometown\",\n",
    "        \"nome\": \"name\",\n",
    "        \"sesso\": \"gender\",\n",
    "    },\n",
    "    \"surveys\": {\n",
    "        \"accompagnatori_visita\": \"accompanying_persons_visit\",\n",
    "        \"data_compilazione\": \"date_of_compilation\",\n",
    "        \"motivazione_visita\": \"reason_for_visit\",\n",
    "        \"numero_visite\": \"number_of_visits\",\n",
    "        \"ritorno\": \"return\",\n",
    "        \"tipologia_visita\": \"type_of_visit\",\n",
    "        \"titolo_studi\": \"title_of_studies\",\n",
    "        \"valutazione_esperienza\": \"evaluation_of_experience\",\n",
    "        \"valutazione_struttura\": \"evaluation_of_facility\",\n",
    "        \"valutazione_visita\": \"evaluation_of_visit\",\n",
    "    },\n",
    "    \"tickets\": {\n",
    "        \"costo\": \"price\",\n",
    "        \"data_stampa\": \"date\",\n",
    "    },\n",
    "    \"visitors\": {\n",
    "        \"cellulare\": \"cell phone number\",\n",
    "        \"cognome\": \"surname\",\n",
    "        \"email\": \"email\",\n",
    "        \"name\": \"name\",\n",
    "        \"tariffa\": \"fare\",\n",
    "    },\n",
    "    \"workshops\": {\n",
    "        \"costo_classe\": \"price_class\",\n",
    "        \"costo_persona\": \"price_person\",\n",
    "        \"durata\": \"duration\",\n",
    "        \"nome\": \"title\",\n",
    "        \"tipologia\": \"type\",\n",
    "    },\n",
    "}"
   ]
  },
  {
   "cell_type": "code",
   "execution_count": null,
   "id": "e2cbb96e",
   "metadata": {},
   "outputs": [
    {
     "data": {
      "text/plain": [
       "UpdateResult({'n': 0, 'nModified': 0, 'ok': 1.0, 'updatedExisting': False}, acknowledged=True)"
      ]
     },
     "execution_count": 10,
     "metadata": {},
     "output_type": "execute_result"
    }
   ],
   "source": [
    "db.visitor.update_many({}, {\"$unset\": {\"indirizzo\": \"\"}})\n",
    "db.visitor.update_many({}, {\"$rename\": {\"nome\": \"name \"}})"
   ]
  },
  {
   "cell_type": "markdown",
   "id": "b977621d",
   "metadata": {},
   "source": [
    "## Setting right `_id` values"
   ]
  },
  {
   "cell_type": "markdown",
   "id": "e854d828",
   "metadata": {},
   "source": []
  }
 ],
 "metadata": {
  "kernelspec": {
   "display_name": "Python 3",
   "language": "python",
   "name": "python3"
  },
  "language_info": {
   "codemirror_mode": {
    "name": "ipython",
    "version": 3
   },
   "file_extension": ".py",
   "mimetype": "text/x-python",
   "name": "python",
   "nbconvert_exporter": "python",
   "pygments_lexer": "ipython3",
   "version": "3.10.8"
  }
 },
 "nbformat": 4,
 "nbformat_minor": 5
}
