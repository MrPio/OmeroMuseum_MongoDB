{
 "cells": [
  {
   "cell_type": "code",
   "execution_count": 5,
   "id": "682b8096",
   "metadata": {},
   "outputs": [
    {
     "name": "stdout",
     "output_type": "stream",
     "text": [
      "The autoreload extension is already loaded. To reload it, use:\n",
      "  %reload_ext autoreload\n"
     ]
    }
   ],
   "source": [
    "%load_ext autoreload\n",
    "%autoreload 2\n",
    "from pymongo import MongoClient\n",
    "import sys\n",
    "from pathlib import Path\n",
    "from tqdm import tqdm\n",
    "\n",
    "sys.path.append(str(Path(\"..\").resolve()))\n",
    "from src import *"
   ]
  },
  {
   "cell_type": "markdown",
   "id": "2bbd3b8b",
   "metadata": {},
   "source": [
    "# Migrate MySQL to MongoDB\n",
    "As the database schema has evolved significantly since the current MySQL database was created, we first migrate a subset of the collections using [_MongoDB Relational Migrator_](https://www.mongodb.com/resources/solutions/use-cases/mysql-to-mongodb). We then complete the migration manually using handwritten queries."
   ]
  },
  {
   "cell_type": "code",
   "execution_count": 8,
   "id": "957eeb49",
   "metadata": {},
   "outputs": [],
   "source": [
    "connector=MongoDBConnector(\"museo_omero\")\n",
    "db=connector.db"
   ]
  },
  {
   "cell_type": "code",
   "execution_count": 9,
   "id": "a22e761b",
   "metadata": {},
   "outputs": [
    {
     "name": "stdout",
     "output_type": "stream",
     "text": [
      "[biglietti]: \u001b[1m\u001b[31m_id\u001b[0m \u001b[1m\u001b[33mcosto\u001b[0m \u001b[1m\u001b[32mdata_stampa\u001b[0m \u001b[1m\u001b[36mevento\u001b[0m \u001b[1m\u001b[34mgruppo\u001b[0m \u001b[1m\u001b[35mid\u001b[0m\n",
      "[reparti]: \u001b[1m\u001b[31m_id\u001b[0m \u001b[1m\u001b[33mnome\u001b[0m \u001b[1m\u001b[32mpiano\u001b[0m \u001b[1m\u001b[36mposti_occ\u001b[0m \u001b[1m\u001b[34mposti_tot\u001b[0m \u001b[1m\u001b[35mstanza\u001b[0m\n",
      "[dipendenti]: \u001b[1m\u001b[31m_id\u001b[0m \u001b[1m\u001b[33mcellulare\u001b[0m \u001b[1m\u001b[32mcognome\u001b[0m \u001b[1m\u001b[36mcurriculum\u001b[0m \u001b[1m\u001b[34mdata_nasc\u001b[0m \u001b[1m\u001b[35mdata_registrazione\u001b[0m \u001b[1m\u001b[37memail\u001b[0m \u001b[1m\u001b[90mid\u001b[0m \u001b[1m\u001b[91mluogo_nasc\u001b[0m \u001b[1m\u001b[93mnome\u001b[0m \u001b[1m\u001b[92msesso\u001b[0m\n",
      "[opere]: \u001b[1m\u001b[31m_id\u001b[0m \u001b[1m\u001b[33mdata\u001b[0m \u001b[1m\u001b[32mdescrizione\u001b[0m \u001b[1m\u001b[36mid\u001b[0m \u001b[1m\u001b[34msala\u001b[0m \u001b[1m\u001b[35mtipologia\u001b[0m\n",
      "[visitor]: \u001b[1m\u001b[31m_id\u001b[0m \u001b[1m\u001b[33mcellulare\u001b[0m \u001b[1m\u001b[32mcognome\u001b[0m \u001b[1m\u001b[36memail\u001b[0m \u001b[1m\u001b[34mid\u001b[0m \u001b[1m\u001b[35mname \u001b[0m \u001b[1m\u001b[37mtariffa\u001b[0m \u001b[1m\u001b[90mtessera\u001b[0m\n",
      "[laboratori]: \u001b[1m\u001b[31m_id\u001b[0m \u001b[1m\u001b[33mcosto_classe\u001b[0m \u001b[1m\u001b[32mcosto_persona\u001b[0m \u001b[1m\u001b[36mdurata\u001b[0m \u001b[1m\u001b[34mnome\u001b[0m \u001b[1m\u001b[35mtipologia\u001b[0m\n",
      "[questionari]: \u001b[1m\u001b[31m_id\u001b[0m \u001b[1m\u001b[33maccompagnatori_visita\u001b[0m \u001b[1m\u001b[32mdata_compilazione\u001b[0m \u001b[1m\u001b[36mmotivazione_visita\u001b[0m \u001b[1m\u001b[34mnumero_visite\u001b[0m \u001b[1m\u001b[35mritorno\u001b[0m \u001b[1m\u001b[37mtipologia_visita\u001b[0m \u001b[1m\u001b[90mtitolo_studi\u001b[0m \u001b[1m\u001b[91mvalutazione_esperienza\u001b[0m \u001b[1m\u001b[93mvalutazione_struttura\u001b[0m \u001b[1m\u001b[92mvalutazione_visita\u001b[0m \u001b[1m\u001b[96mvisitatore\u001b[0m\n",
      "[artisti]: \u001b[1m\u001b[31m_id\u001b[0m \u001b[1m\u001b[33mcognome\u001b[0m \u001b[1m\u001b[32mdata_nasc\u001b[0m \u001b[1m\u001b[36mid\u001b[0m \u001b[1m\u001b[34mluogo_nasc\u001b[0m \u001b[1m\u001b[35mnome\u001b[0m \u001b[1m\u001b[37msesso\u001b[0m\n"
     ]
    }
   ],
   "source": [
    "for collection in connector.collections:\n",
    "    schema = connector.infer_schema(collection)\n",
    "    cprint(\n",
    "        f\"[{collection}]:\",\n",
    "        *[f\"rand:{_}\" for _ in schema],\n",
    "    )"
   ]
  },
  {
   "cell_type": "code",
   "execution_count": 4,
   "id": "e2cbb96e",
   "metadata": {},
   "outputs": [
    {
     "data": {
      "text/plain": [
       "UpdateResult({'n': 101, 'nModified': 17, 'ok': 1.0, 'updatedExisting': True}, acknowledged=True)"
      ]
     },
     "execution_count": 4,
     "metadata": {},
     "output_type": "execute_result"
    }
   ],
   "source": [
    "db.clienti.rename(\"visitor\")\n",
    "db.visitor.update_many({}, {\"$unset\": {\"indirizzo\": \"\"}})\n",
    "db.visitor.update_many({}, {\"$rename\": {\"nome\": \"name \"}})"
   ]
  },
  {
   "cell_type": "code",
   "execution_count": 5,
   "id": "4d1b70f4",
   "metadata": {},
   "outputs": [
    {
     "name": "stdout",
     "output_type": "stream",
     "text": [
      "{'_id': ObjectId('68b572f8845fcdbabc1c891f'), 'id': 2, 'nome': 'Mario', 'cognome': 'Orsini', 'tessera': 0, 'cellulare': '+39 (33) 0226 2', 'email': 'heaven.kemmer@gmail.com'}\n",
      "{'_id': ObjectId('68b572f8845fcdbabc1c8920'), 'id': 6, 'nome': 'Giovanni', 'cognome': 'Casini', 'tessera': 0, 'cellulare': '+39 (33) 5875 7', 'email': 'ureinger@white.com'}\n",
      "{'_id': ObjectId('68b572f8845fcdbabc1c8921'), 'id': 10, 'nome': 'Luigi', 'cognome': 'Re', 'tessera': 0, 'cellulare': '+39 (33) 0474 2', 'email': 'jane63@hotmail.com'}\n",
      "{'_id': ObjectId('68b572f8845fcdbabc1c8922'), 'id': 16, 'nome': 'Filippo', 'cognome': 'Capriotti', 'tessera': 1, 'cellulare': '+39 (33) 8764 9', 'email': 'roger.murray@gmail.com'}\n",
      "{'_id': ObjectId('68b572f8845fcdbabc1c8923'), 'id': 25, 'nome': 'Marta', 'cognome': \"D'Ambrosio\", 'tessera': 1, 'cellulare': '+39 (33) 0122 2', 'email': 'larson.mafalda@gmail.com'}\n",
      "{'_id': ObjectId('68b572f8845fcdbabc1c8924'), 'id': 28, 'nome': 'Casilde', 'cognome': 'Tambone', 'tessera': 1, 'cellulare': '+39 (33) 9583 4', 'email': 'ggulgowski@jenkins.com'}\n",
      "{'_id': ObjectId('68b572f8845fcdbabc1c8925'), 'id': 30, 'nome': 'Mauro', 'cognome': 'Felici', 'tessera': 1, 'cellulare': '+39 (33) 4130 3', 'email': 'sylvan.reichert@kilback.c'}\n",
      "{'_id': ObjectId('68b572f8845fcdbabc1c8926'), 'id': 34, 'nome': 'Pietro', 'cognome': 'Ranieri', 'tessera': 0, 'cellulare': '+39 (33) 8855 8', 'email': 'alia.sporer@keeling.info'}\n",
      "{'_id': ObjectId('68b572f8845fcdbabc1c8927'), 'id': 51, 'nome': 'Paolo', 'cognome': 'Grossi', 'tessera': 0, 'cellulare': '+39 (33) 8213 9', 'email': 'hand.toby@hotmail.com'}\n",
      "{'_id': ObjectId('68b572f8845fcdbabc1c8928'), 'id': 53, 'nome': 'Parsimonio', 'cognome': 'Tambone', 'tessera': 0, 'cellulare': '+39 (33) 2572 5', 'email': 'luciano09@fritsch.com'}\n",
      "{'_id': ObjectId('68b572f8845fcdbabc1c8929'), 'id': 60, 'nome': 'Osvaldo', 'cognome': \"D'Ercoli\", 'tessera': 0, 'cellulare': '+39 (33) 0064 4', 'email': 'isaias.cormier@hill.com'}\n",
      "{'_id': ObjectId('68b572f8845fcdbabc1c892a'), 'id': 67, 'nome': 'Osimo', 'cognome': 'Ornizi', 'tessera': 1, 'cellulare': '+39 (33) 7758 5', 'email': 'desiree.mohr@yahoo.com'}\n",
      "{'_id': ObjectId('68b572f8845fcdbabc1c892b'), 'id': 69, 'nome': 'Caterina', 'cognome': 'Maretti', 'tessera': 1, 'cellulare': '+39 (33) 8297 0', 'email': 'abdiel.okon@batz.com'}\n",
      "{'_id': ObjectId('68b572f8845fcdbabc1c892c'), 'id': 71, 'nome': 'Jane', 'cognome': 'Monti', 'tessera': 0, 'cellulare': '+39 (33) 8628 5', 'email': 'jones.camren@gmail.com'}\n",
      "{'_id': ObjectId('68b572f8845fcdbabc1c892d'), 'id': 72, 'nome': 'Alessandra', 'cognome': 'Marmi', 'tessera': 0, 'cellulare': '+39 (33) 6325 6', 'email': 'icrooks@gmail.com'}\n",
      "{'_id': ObjectId('68b572f8845fcdbabc1c892e'), 'id': 73, 'nome': 'Matteo', 'cognome': 'Ricervi', 'tessera': 1, 'cellulare': '+39 (33) 1498 4', 'email': 'aileen.champlin@adams.com'}\n",
      "{'_id': ObjectId('68b572f8845fcdbabc1c892f'), 'id': 74, 'nome': 'Claudio', 'cognome': 'Paterla', 'tessera': 1, 'cellulare': '+39 (33) 8128 5', 'email': 'jones.cam2en@gmail.com'}\n",
      "{'_id': ObjectId('68b572f8845fcdbabc1c898a'), 'id': 1, 'tariffa': 'gratuito'}\n",
      "{'_id': ObjectId('68b572f8845fcdbabc1c898c'), 'id': 3, 'tariffa': 'gratuito'}\n",
      "{'_id': ObjectId('68b572f8845fcdbabc1c898d'), 'id': 4, 'tariffa': 'gratuito'}\n",
      "{'_id': ObjectId('68b572f8845fcdbabc1c898e'), 'id': 5, 'tariffa': 'ridotto'}\n",
      "{'_id': ObjectId('68b572f8845fcdbabc1c8990'), 'id': 7, 'tariffa': 'ridotto'}\n",
      "{'_id': ObjectId('68b572f8845fcdbabc1c8991'), 'id': 8, 'tariffa': 'ridotto'}\n",
      "{'_id': ObjectId('68b572f8845fcdbabc1c8992'), 'id': 9, 'tariffa': 'intero'}\n",
      "{'_id': ObjectId('68b572f8845fcdbabc1c8994'), 'id': 11, 'tariffa': 'intero'}\n",
      "{'_id': ObjectId('68b572f8845fcdbabc1c8995'), 'id': 12, 'tariffa': 'intero'}\n",
      "{'_id': ObjectId('68b572f8845fcdbabc1c8996'), 'id': 13, 'tariffa': 'gratuito'}\n",
      "{'_id': ObjectId('68b572f8845fcdbabc1c8997'), 'id': 14, 'tariffa': 'gratuito'}\n",
      "{'_id': ObjectId('68b572f8845fcdbabc1c8998'), 'id': 15, 'tariffa': 'gratuito'}\n",
      "{'_id': ObjectId('68b572f8845fcdbabc1c899a'), 'id': 17, 'tariffa': 'ridotto'}\n",
      "{'_id': ObjectId('68b572f8845fcdbabc1c899b'), 'id': 18, 'tariffa': 'ridotto'}\n",
      "{'_id': ObjectId('68b572f8845fcdbabc1c899c'), 'id': 19, 'tariffa': 'ridotto'}\n",
      "{'_id': ObjectId('68b572f8845fcdbabc1c899d'), 'id': 20, 'tariffa': 'ridotto'}\n",
      "{'_id': ObjectId('68b572f8845fcdbabc1c899e'), 'id': 21, 'tariffa': 'intero'}\n",
      "{'_id': ObjectId('68b572f8845fcdbabc1c899f'), 'id': 22, 'tariffa': 'intero'}\n",
      "{'_id': ObjectId('68b572f8845fcdbabc1c89a0'), 'id': 23, 'tariffa': 'intero'}\n",
      "{'_id': ObjectId('68b572f8845fcdbabc1c89a1'), 'id': 24, 'tariffa': 'intero'}\n",
      "{'_id': ObjectId('68b572f8845fcdbabc1c89a3'), 'id': 26, 'tariffa': 'gratuito'}\n",
      "{'_id': ObjectId('68b572f8845fcdbabc1c89a4'), 'id': 27, 'tariffa': 'gratuito'}\n",
      "{'_id': ObjectId('68b572f8845fcdbabc1c89a6'), 'id': 29, 'tariffa': 'ridotto'}\n",
      "{'_id': ObjectId('68b572f8845fcdbabc1c89a8'), 'id': 31, 'tariffa': 'ridotto'}\n",
      "{'_id': ObjectId('68b572f8845fcdbabc1c89a9'), 'id': 32, 'tariffa': 'ridotto'}\n",
      "{'_id': ObjectId('68b572f8845fcdbabc1c89aa'), 'id': 33, 'tariffa': 'intero'}\n",
      "{'_id': ObjectId('68b572f8845fcdbabc1c89ac'), 'id': 35, 'tariffa': 'intero'}\n",
      "{'_id': ObjectId('68b572f8845fcdbabc1c89ad'), 'id': 36, 'tariffa': 'intero'}\n",
      "{'_id': ObjectId('68b572f8845fcdbabc1c89ae'), 'id': 37, 'tariffa': 'gratuito'}\n",
      "{'_id': ObjectId('68b572f8845fcdbabc1c89af'), 'id': 38, 'tariffa': 'gratuito'}\n",
      "{'_id': ObjectId('68b572f8845fcdbabc1c89b0'), 'id': 39, 'tariffa': 'gratuito'}\n",
      "{'_id': ObjectId('68b572f8845fcdbabc1c89b1'), 'id': 40, 'tariffa': 'gratuito'}\n",
      "{'_id': ObjectId('68b572f8845fcdbabc1c89b2'), 'id': 41, 'tariffa': 'ridotto'}\n",
      "{'_id': ObjectId('68b572f8845fcdbabc1c89b3'), 'id': 42, 'tariffa': 'ridotto'}\n",
      "{'_id': ObjectId('68b572f8845fcdbabc1c89b4'), 'id': 43, 'tariffa': 'ridotto'}\n",
      "{'_id': ObjectId('68b572f8845fcdbabc1c89b5'), 'id': 44, 'tariffa': 'ridotto'}\n",
      "{'_id': ObjectId('68b572f8845fcdbabc1c89b6'), 'id': 45, 'tariffa': 'intero'}\n",
      "{'_id': ObjectId('68b572f8845fcdbabc1c89b7'), 'id': 46, 'tariffa': 'intero'}\n",
      "{'_id': ObjectId('68b572f8845fcdbabc1c89b8'), 'id': 47, 'tariffa': 'intero'}\n",
      "{'_id': ObjectId('68b572f8845fcdbabc1c89b9'), 'id': 48, 'tariffa': 'intero'}\n",
      "{'_id': ObjectId('68b572f8845fcdbabc1c89ba'), 'id': 49, 'tariffa': 'gratuito'}\n",
      "{'_id': ObjectId('68b572f8845fcdbabc1c89bb'), 'id': 50, 'tariffa': 'gratuito'}\n",
      "{'_id': ObjectId('68b572f8845fcdbabc1c89bd'), 'id': 52, 'tariffa': 'gratuito'}\n",
      "{'_id': ObjectId('68b572f8845fcdbabc1c89bf'), 'id': 54, 'tariffa': 'ridotto'}\n",
      "{'_id': ObjectId('68b572f8845fcdbabc1c89c0'), 'id': 55, 'tariffa': 'ridotto'}\n",
      "{'_id': ObjectId('68b572f8845fcdbabc1c89c1'), 'id': 56, 'tariffa': 'ridotto'}\n",
      "{'_id': ObjectId('68b572f8845fcdbabc1c89c2'), 'id': 57, 'tariffa': 'intero'}\n",
      "{'_id': ObjectId('68b572f8845fcdbabc1c89c3'), 'id': 58, 'tariffa': 'intero'}\n",
      "{'_id': ObjectId('68b572f8845fcdbabc1c89c4'), 'id': 59, 'tariffa': 'intero'}\n",
      "{'_id': ObjectId('68b572f8845fcdbabc1c89c6'), 'id': 61, 'tariffa': 'gratuito'}\n",
      "{'_id': ObjectId('68b572f8845fcdbabc1c89c7'), 'id': 62, 'tariffa': 'gratuito'}\n",
      "{'_id': ObjectId('68b572f8845fcdbabc1c89c8'), 'id': 63, 'tariffa': 'gratuito'}\n",
      "{'_id': ObjectId('68b572f8845fcdbabc1c89c9'), 'id': 64, 'tariffa': 'gratuito'}\n",
      "{'_id': ObjectId('68b572f8845fcdbabc1c89ca'), 'id': 65, 'tariffa': 'ridotto'}\n",
      "{'_id': ObjectId('68b572f8845fcdbabc1c89cb'), 'id': 66, 'tariffa': 'ridotto'}\n",
      "{'_id': ObjectId('68b572f8845fcdbabc1c89cd'), 'id': 68, 'tariffa': 'ridotto'}\n",
      "{'_id': ObjectId('68b572f8845fcdbabc1c89cf'), 'id': 70, 'tariffa': 'intero'}\n",
      "{'_id': ObjectId('68b572f8845fcdbabc1c89d4'), 'id': 75, 'tariffa': 'gratuito'}\n",
      "{'_id': ObjectId('68b572f8845fcdbabc1c89d5'), 'id': 76, 'tariffa': 'gratuito'}\n",
      "{'_id': ObjectId('68b572f8845fcdbabc1c89d6'), 'id': 77, 'tariffa': 'ridotto'}\n",
      "{'_id': ObjectId('68b572f8845fcdbabc1c89d7'), 'id': 78, 'tariffa': 'ridotto'}\n",
      "{'_id': ObjectId('68b572f8845fcdbabc1c89d8'), 'id': 79, 'tariffa': 'ridotto'}\n",
      "{'_id': ObjectId('68b572f8845fcdbabc1c89d9'), 'id': 80, 'tariffa': 'ridotto'}\n",
      "{'_id': ObjectId('68b572f8845fcdbabc1c89da'), 'id': 81, 'tariffa': 'intero'}\n",
      "{'_id': ObjectId('68b572f8845fcdbabc1c89db'), 'id': 82, 'tariffa': 'intero'}\n",
      "{'_id': ObjectId('68b572f8845fcdbabc1c89dc'), 'id': 83, 'tariffa': 'intero'}\n",
      "{'_id': ObjectId('68b572f8845fcdbabc1c89dd'), 'id': 84, 'tariffa': 'intero'}\n",
      "{'_id': ObjectId('68b572f8845fcdbabc1c89de'), 'id': 85, 'tariffa': 'gratuito'}\n",
      "{'_id': ObjectId('68b572f8845fcdbabc1c89df'), 'id': 86, 'tariffa': 'gratuito'}\n",
      "{'_id': ObjectId('68b572f8845fcdbabc1c89e0'), 'id': 87, 'tariffa': 'gratuito'}\n",
      "{'_id': ObjectId('68b572f8845fcdbabc1c89e1'), 'id': 88, 'tariffa': 'gratuito'}\n",
      "{'_id': ObjectId('68b572f8845fcdbabc1c89e2'), 'id': 89, 'tariffa': 'ridotto'}\n",
      "{'_id': ObjectId('68b572f8845fcdbabc1c89e3'), 'id': 90, 'tariffa': 'ridotto'}\n",
      "{'_id': ObjectId('68b572f8845fcdbabc1c89e4'), 'id': 91, 'tariffa': 'ridotto'}\n",
      "{'_id': ObjectId('68b572f8845fcdbabc1c89e5'), 'id': 92, 'tariffa': 'ridotto'}\n",
      "{'_id': ObjectId('68b572f8845fcdbabc1c89e6'), 'id': 93, 'tariffa': 'intero'}\n",
      "{'_id': ObjectId('68b572f8845fcdbabc1c89e7'), 'id': 94, 'tariffa': 'intero'}\n",
      "{'_id': ObjectId('68b572f8845fcdbabc1c89e8'), 'id': 95, 'tariffa': 'intero'}\n",
      "{'_id': ObjectId('68b572f8845fcdbabc1c89e9'), 'id': 96, 'tariffa': 'intero'}\n",
      "{'_id': ObjectId('68b572f8845fcdbabc1c89ea'), 'id': 97, 'tariffa': 'gratuito'}\n",
      "{'_id': ObjectId('68b572f8845fcdbabc1c89eb'), 'id': 98, 'tariffa': 'gratuito'}\n",
      "{'_id': ObjectId('68b572f8845fcdbabc1c89ec'), 'id': 99, 'tariffa': 'gratuito'}\n",
      "{'_id': ObjectId('68b572f8845fcdbabc1c89ed'), 'id': 100, 'tariffa': 'gratuito'}\n",
      "{'_id': ObjectId('68b572f8845fcdbabc1c89ee'), 'id': 101, 'tariffa': 'intero'}\n"
     ]
    }
   ],
   "source": [
    "result = db.clienti.find({})\n",
    "\n",
    "for document in result:\n",
    "    print(document)"
   ]
  }
 ],
 "metadata": {
  "kernelspec": {
   "display_name": "Python 3",
   "language": "python",
   "name": "python3"
  },
  "language_info": {
   "codemirror_mode": {
    "name": "ipython",
    "version": 3
   },
   "file_extension": ".py",
   "mimetype": "text/x-python",
   "name": "python",
   "nbconvert_exporter": "python",
   "pygments_lexer": "ipython3",
   "version": "3.10.8"
  }
 },
 "nbformat": 4,
 "nbformat_minor": 5
}
