{
 "cells": [
  {
   "cell_type": "code",
   "execution_count": 1,
   "id": "22bda6a7",
   "metadata": {},
   "outputs": [],
   "source": [
    "%load_ext autoreload\n",
    "%autoreload 2\n",
    "from pymongo import MongoClient\n",
    "import sys\n",
    "from pathlib import Path\n",
    "from tqdm import tqdm\n",
    "import json\n",
    "\n",
    "sys.path.append(str(Path(\"..\").resolve()))\n",
    "from src import *"
   ]
  },
  {
   "cell_type": "markdown",
   "id": "36387eaa",
   "metadata": {},
   "source": [
    "# Seeding Missing Collections and Entries\n",
    "ℹ️ This notebook require the execution of [`1.1-Migrating_MySQL_To_MongoDB`](1.1-Migrating_MySQL_To_MongoDB.ipynb). Or you can just load the snapshop as in the following cell."
   ]
  },
  {
   "cell_type": "markdown",
   "id": "ae060e79",
   "metadata": {},
   "source": [
    "## Load post-preprocessing data\n",
    "The following cell reset the `omero_museum` database loading the `2_migration_preprocessed` snapshot."
   ]
  },
  {
   "cell_type": "code",
   "execution_count": 2,
   "id": "a8b34548",
   "metadata": {},
   "outputs": [],
   "source": [
    "%%capture\n",
    "MongoClient(\"mongodb://localhost:27017/\").drop_database(\"omero_museum\")\n",
    "!mongorestore --host localhost:27017 --drop --db omero_museum  \"../backup/2_migration_preprocessed/omero_museum\""
   ]
  },
  {
   "cell_type": "code",
   "execution_count": 3,
   "id": "2de6d1cb",
   "metadata": {},
   "outputs": [
    {
     "name": "stdout",
     "output_type": "stream",
     "text": [
      "The collections of the \u001b[1m\u001b[33momero_museum\u001b[0m db are:\n",
      "----------------------------------------\n",
      "[activities]:\n",
      "[artworks]: \u001b[1m\u001b[31m_id\u001b[0m \u001b[1m\u001b[33mdate\u001b[0m \u001b[1m\u001b[32mdescription\u001b[0m \u001b[1m\u001b[36mroom\u001b[0m \u001b[1m\u001b[34mtype\u001b[0m\n",
      "[authors]: \u001b[1m\u001b[31m_id\u001b[0m \u001b[1m\u001b[33mbirth_date\u001b[0m \u001b[1m\u001b[32mgender\u001b[0m \u001b[1m\u001b[36mhome_town\u001b[0m \u001b[1m\u001b[34mname\u001b[0m \u001b[1m\u001b[35msurname\u001b[0m\n",
      "[departments]: \u001b[1m\u001b[31m_id\u001b[0m \u001b[1m\u001b[33mfloor\u001b[0m \u001b[1m\u001b[32mfree_spots\u001b[0m \u001b[1m\u001b[36mroom\u001b[0m\n",
      "[employees]: \u001b[1m\u001b[31m_id\u001b[0m \u001b[1m\u001b[33mbirth_date\u001b[0m \u001b[1m\u001b[32mcurriculum\u001b[0m \u001b[1m\u001b[36mdate_start\u001b[0m \u001b[1m\u001b[34memail\u001b[0m \u001b[1m\u001b[35mgender\u001b[0m \u001b[1m\u001b[37mhometown\u001b[0m \u001b[1m\u001b[90mname\u001b[0m \u001b[1m\u001b[91mphone_number\u001b[0m \u001b[1m\u001b[93msurname\u001b[0m\n",
      "[limited_events]:\n",
      "[messages]:\n",
      "[rooms]:\n",
      "[suppliers]:\n",
      "[surveys]: \u001b[1m\u001b[31m_id\u001b[0m \u001b[1m\u001b[33maccompanying_persons_visit\u001b[0m \u001b[1m\u001b[32mdate_of_compilation\u001b[0m \u001b[1m\u001b[36mevaluation_of_experience\u001b[0m \u001b[1m\u001b[34mevaluation_of_facility\u001b[0m \u001b[1m\u001b[35mevaluation_of_visit\u001b[0m \u001b[1m\u001b[37mnumber_of_visits\u001b[0m \u001b[1m\u001b[90mreason_for_visit\u001b[0m \u001b[1m\u001b[91mreturn\u001b[0m \u001b[1m\u001b[93mtitle_of_studies\u001b[0m \u001b[1m\u001b[92mtype_of_visit\u001b[0m\n",
      "[tickets]: \u001b[1m\u001b[31m_id\u001b[0m \u001b[1m\u001b[33mdate\u001b[0m \u001b[1m\u001b[32mprice\u001b[0m\n",
      "[visitors]: \u001b[1m\u001b[31m_id\u001b[0m \u001b[1m\u001b[33mcell phone number\u001b[0m \u001b[1m\u001b[32memail\u001b[0m \u001b[1m\u001b[36mfare\u001b[0m \u001b[1m\u001b[34msurname\u001b[0m\n",
      "[workshops]: \u001b[1m\u001b[31m_id\u001b[0m \u001b[1m\u001b[33mduration\u001b[0m \u001b[1m\u001b[32mprice_class\u001b[0m \u001b[1m\u001b[36mprice_person\u001b[0m \u001b[1m\u001b[34mtype\u001b[0m\n"
     ]
    }
   ],
   "source": [
    "schema=json.load(open(\"schema.json\"))\n",
    "connector=MongoDBConnector(\"omero_museum\")\n",
    "db=connector.db"
   ]
  },
  {
   "cell_type": "markdown",
   "id": "0cf64a48",
   "metadata": {},
   "source": [
    "## Generating missing entries\n"
   ]
  },
  {
   "cell_type": "code",
   "execution_count": 27,
   "id": "87905163",
   "metadata": {},
   "outputs": [
    {
     "data": {
      "text/plain": [
       "'IT15G0912187133359675929091'"
      ]
     },
     "execution_count": 27,
     "metadata": {},
     "output_type": "execute_result"
    }
   ],
   "source": [
    "s=EntrySeeder(\"iban\")\n",
    "s.seed()"
   ]
  }
 ],
 "metadata": {
  "kernelspec": {
   "display_name": "Python 3",
   "language": "python",
   "name": "python3"
  },
  "language_info": {
   "codemirror_mode": {
    "name": "ipython",
    "version": 3
   },
   "file_extension": ".py",
   "mimetype": "text/x-python",
   "name": "python",
   "nbconvert_exporter": "python",
   "pygments_lexer": "ipython3",
   "version": "3.10.8"
  }
 },
 "nbformat": 4,
 "nbformat_minor": 5
}
