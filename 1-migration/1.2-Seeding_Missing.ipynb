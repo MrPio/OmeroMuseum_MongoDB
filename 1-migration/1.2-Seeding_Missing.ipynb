{
 "cells": [
  {
   "cell_type": "code",
   "execution_count": 1,
   "id": "22bda6a7",
   "metadata": {},
   "outputs": [],
   "source": [
    "%load_ext autoreload\n",
    "%autoreload 2\n",
    "from pymongo import MongoClient\n",
    "import sys\n",
    "from pathlib import Path\n",
    "from tqdm import tqdm\n",
    "import json\n",
    "\n",
    "sys.path.append(str(Path(\"..\").resolve()))\n",
    "from src import *"
   ]
  },
  {
   "cell_type": "markdown",
   "id": "36387eaa",
   "metadata": {},
   "source": [
    "# Seeding Missing Collections and Entries\n",
    "ℹ️ This notebook require the execution of [`1.1-Migrating_MySQL_To_MongoDB`](1.1-Migrating_MySQL_To_MongoDB.ipynb). Or you can just load the snapshop as in the following cell."
   ]
  },
  {
   "cell_type": "markdown",
   "id": "ae060e79",
   "metadata": {},
   "source": [
    "## Load post-preprocessing data\n",
    "The following cell reset the `omero_museum` database loading the `2_migration_preprocessed` snapshot."
   ]
  },
  {
   "cell_type": "code",
   "execution_count": 3,
   "id": "a8b34548",
   "metadata": {},
   "outputs": [],
   "source": [
    "%%capture\n",
    "MongoClient(\"mongodb://localhost:27017/\").drop_database(\"omero_museum\")\n",
    "!mongorestore --host localhost:27017 --drop --db omero_museum  \"../backup/2_migration_preprocessed/omero_museum\""
   ]
  },
  {
   "cell_type": "code",
   "execution_count": null,
   "id": "2de6d1cb",
   "metadata": {},
   "outputs": [
    {
     "name": "stdout",
     "output_type": "stream",
     "text": [
      "The collections of the \u001b[1m\u001b[33momero_museum\u001b[0m db are:\n",
      "----------------------------------------\n",
      "[activities]:\n",
      "[artworks]: \u001b[1m\u001b[31m_id\u001b[0m \u001b[1m\u001b[33mdate\u001b[0m \u001b[1m\u001b[32mdescription\u001b[0m \u001b[1m\u001b[36mroom\u001b[0m \u001b[1m\u001b[34mtype\u001b[0m\n",
      "[authors]: \u001b[1m\u001b[31m_id\u001b[0m \u001b[1m\u001b[33mbirth_date\u001b[0m \u001b[1m\u001b[32mgender\u001b[0m \u001b[1m\u001b[36mhome_town\u001b[0m \u001b[1m\u001b[34mname\u001b[0m \u001b[1m\u001b[35msurname\u001b[0m\n",
      "[departments]: \u001b[1m\u001b[31m_id\u001b[0m \u001b[1m\u001b[33mfloor\u001b[0m \u001b[1m\u001b[32mfree_spots\u001b[0m \u001b[1m\u001b[36mroom\u001b[0m\n",
      "[employees]: \u001b[1m\u001b[31m_id\u001b[0m \u001b[1m\u001b[33mbirth_date\u001b[0m \u001b[1m\u001b[32mcurriculum\u001b[0m \u001b[1m\u001b[36mdate_start\u001b[0m \u001b[1m\u001b[34memail\u001b[0m \u001b[1m\u001b[35mgender\u001b[0m \u001b[1m\u001b[37mhometown\u001b[0m \u001b[1m\u001b[90mname\u001b[0m \u001b[1m\u001b[91mphone_number\u001b[0m \u001b[1m\u001b[93msurname\u001b[0m\n",
      "[limited_events]:\n",
      "[messages]:\n",
      "[rooms]:\n",
      "[suppliers]:\n",
      "[surveys]: \u001b[1m\u001b[31m_id\u001b[0m \u001b[1m\u001b[33maccompanying_persons_visit\u001b[0m \u001b[1m\u001b[32mdate_of_compilation\u001b[0m \u001b[1m\u001b[36mevaluation_of_experience\u001b[0m \u001b[1m\u001b[34mevaluation_of_facility\u001b[0m \u001b[1m\u001b[35mevaluation_of_visit\u001b[0m \u001b[1m\u001b[37mnumber_of_visits\u001b[0m \u001b[1m\u001b[90mreason_for_visit\u001b[0m \u001b[1m\u001b[91mreturn\u001b[0m \u001b[1m\u001b[93mtitle_of_studies\u001b[0m \u001b[1m\u001b[92mtype_of_visit\u001b[0m\n",
      "[tickets]: \u001b[1m\u001b[31m_id\u001b[0m \u001b[1m\u001b[33mdate\u001b[0m \u001b[1m\u001b[32mprice\u001b[0m\n",
      "[visitors]: \u001b[1m\u001b[31m_id\u001b[0m \u001b[1m\u001b[33mcell phone number\u001b[0m \u001b[1m\u001b[32memail\u001b[0m \u001b[1m\u001b[36mfare\u001b[0m \u001b[1m\u001b[34msurname\u001b[0m\n",
      "[workshops]: \u001b[1m\u001b[31m_id\u001b[0m \u001b[1m\u001b[33mduration\u001b[0m \u001b[1m\u001b[32mprice_class\u001b[0m \u001b[1m\u001b[36mprice_person\u001b[0m \u001b[1m\u001b[34mtype\u001b[0m\n"
     ]
    }
   ],
   "source": [
    "schema = json.load(open(\"schema.json\"))\n",
    "connector = MongoDBConnector(\"omero_museum\")\n",
    "db = connector.db"
   ]
  },
  {
   "cell_type": "markdown",
   "id": "0cf64a48",
   "metadata": {},
   "source": [
    "## Generating missing entries\n"
   ]
  },
  {
   "cell_type": "code",
   "execution_count": 32,
   "id": "9b9309dd",
   "metadata": {},
   "outputs": [],
   "source": [
    "ids = {\n",
    "    \"surveys\": range(100),\n",
    "    \"visitors\": range(50),\n",
    "    \"tickets\": range(50),\n",
    "    \"workshops\": [_[\"_id\"] for _ in db.workshops.find({})],\n",
    "    \"activities\":range(25),\n",
    "    \"rooms\": [\n",
    "        \"Greco e Romano\",\n",
    "        \"Medievale e 400\",\n",
    "        \"Ancona\",\n",
    "        \"Rinascimentale\",\n",
    "        \"Contemporaneo\",\n",
    "        \"Impressionismo\",\n",
    "    ],\n",
    "    \"messages\":range(100),\n",
    "    \"suppliers\":range(25),\n",
    "    \"artworks\": [\n",
    "        \"Mona Lisa\",\n",
    "        \"The Starry Night\",\n",
    "        \"The Persistence of Memory\",\n",
    "        \"The Birth of Venus\",\n",
    "        \"The Night Watch\",\n",
    "        \"Girl with a Pearl Earring\",\n",
    "        \"Guernica\",\n",
    "        \"American Gothic\",\n",
    "        \"The Scream\",\n",
    "        \"Les Demoiselles d'Avignon\",\n",
    "        \"The Kiss\",\n",
    "        \"The Last Supper\",\n",
    "        \"Liberty Leading the People\",\n",
    "        \"The Great Wave off Kanagawa\",\n",
    "        \"Nighthawks\",\n",
    "        \"Campbell's Soup Cans\",\n",
    "        \"Impression, Sunrise\",\n",
    "        \"No. 5, 1948\",\n",
    "        \"A Sunday Afternoon on the Island of La Grande Jatte\",\n",
    "        \"The School of Athens\",\n",
    "    ],\n",
    "    \"limited_events\": [\n",
    "        \"Digital Preservation of Cultural Heritage\",\n",
    "        \"Museum Education in the 21st Century\",\n",
    "        \"Community Engagement and Inclusion\",\n",
    "        \"Sustainability in Museum Practices\",\n",
    "        \"Virtual and Augmented Reality in Exhibitions\",\n",
    "        \"Ethics of Artifact Repatriation\",\n",
    "        \"Artificial Intelligence in Collections Management\",\n",
    "        \"Storytelling Through Curatorial Design\",\n",
    "        \"Accessibility and Universal Design in Museums\",\n",
    "        \"Cross-Cultural Dialogue Through Exhibits\",\n",
    "        \"The Future of Archaeological Conservation\",\n",
    "        \"Museums as Spaces for Social Justice\",\n",
    "        \"Data-Driven Visitor Experience\",\n",
    "        \"Collaborative Curation with Indigenous Communities\",\n",
    "        \"The Role of Museums in Climate Change Awareness\",\n",
    "        \"Gamification of Museum Learning\",\n",
    "        \"Blockchain for Provenance Tracking\",\n",
    "        \"Digital Twins of Artifacts\",\n",
    "        \"Museums and Mental Health\",\n",
    "        \"Hybrid Exhibitions: Physical Meets Digital\",\n",
    "    ],\n",
    "}"
   ]
  },
  {
   "cell_type": "code",
   "execution_count": 40,
   "id": "5a5869c5",
   "metadata": {},
   "outputs": [],
   "source": [
    "themes = [\n",
    "    \"Preservation\",\n",
    "    \"Education\",\n",
    "    \"Engagement\",\n",
    "    \"Sustainability\",\n",
    "    \"Virtuality\",\n",
    "    \"Repatriation\",\n",
    "    \"AI\",\n",
    "    \"Storytelling\",\n",
    "    \"Accessibility\",\n",
    "    \"Dialogue\",\n",
    "    \"Conservation\",\n",
    "    \"Justice\",\n",
    "    \"Data\",\n",
    "    \"Collaboration\",\n",
    "    \"Climate\",\n",
    "    \"Gamification\",\n",
    "    \"Blockchain\",\n",
    "    \"DigitalTwins\",\n",
    "    \"Wellbeing\",\n",
    "    \"Hybridization\",\n",
    "]\n",
    "surveys= db.surveys.find({},{\"_id\":0}).to_list()"
   ]
  },
  {
   "cell_type": "code",
   "execution_count": 35,
   "id": "9a0694a9",
   "metadata": {},
   "outputs": [],
   "source": [
    "seeders = {\n",
    "    \"rooms\": DocSeeder(\n",
    "        {\n",
    "            \"_id\": EntrySeeder(ids[\"rooms\"], unique=True),\n",
    "            \"floor\": EntrySeeder(range(5), p=0.6),\n",
    "        }\n",
    "    ),\n",
    "    \"activities\": DocSeeder(\n",
    "        {\n",
    "            \"_id\": EntrySeeder(ids[\"activities\"], unique=True),\n",
    "            \"room\": EntrySeeder(ids[\"rooms\"]),\n",
    "            \"duration\": EntrySeeder(range(15, 600, 15)),\n",
    "            \"enrolled\": EntrySeeder(range(20)),\n",
    "            \"startDate\": EntrySeeder(\"date_time\"),\n",
    "            \"capacity\": EntrySeeder(range(20, 100)),\n",
    "            \"ticketIds\": EntrySeeder(\n",
    "                lambda _: _.random_elements(\n",
    "                    range(len(ids[\"tickets\"])),\n",
    "                    length=_.random_int(max=15),\n",
    "                    unique=True,\n",
    "                )\n",
    "            ),\n",
    "            \"workshopTitle\": EntrySeeder(ids[\"workshops\"], p=0.4),\n",
    "        }\n",
    "    ),\n",
    "    \"limited_events\": DocSeeder(\n",
    "        {\n",
    "            \"_id\": EntrySeeder(ids[\"limited_events\"], unique=True),\n",
    "            \"capacity\": EntrySeeder(range(20, 50)),\n",
    "            \"type\": EntrySeeder([\"exhibition\", \"conference\"]),\n",
    "            \"startDate\": EntrySeeder(\"date_time\"),\n",
    "            \"endDate\": EntrySeeder(\"date_time\"),\n",
    "            \"artist\": EntrySeeder(range(10)),\n",
    "            \"theme\": EntrySeeder(themes, p=0.5),\n",
    "            \"description\": EntrySeeder(\"text\"),\n",
    "            \"roomName\": EntrySeeder(ids[\"rooms\"]),\n",
    "            \"authorIds\": EntrySeeder(\n",
    "                lambda _: _.random_elements(\n",
    "                    range(15), length=_.random_int(max=4), unique=True\n",
    "                )\n",
    "            ),\n",
    "            \"artworkTitles\": EntrySeeder(\n",
    "                lambda _: _.random_elements(\n",
    "                    ids[\"artworks\"], length=_.random_int(min=3, max=10), unique=True\n",
    "                ),\n",
    "                p=0.8,\n",
    "            ),\n",
    "            \"ticketIds\": EntrySeeder(\n",
    "                lambda _: _.random_elements(\n",
    "                    range(len(ids[\"tickets\"])), length=_.random_int(max=10), unique=True\n",
    "                ),\n",
    "            ),\n",
    "        }\n",
    "    ),\n",
    "    \"messages\": DocSeeder(\n",
    "        {\n",
    "            \"_id\": EntrySeeder(ids[\"messages\"], unique=True),\n",
    "            \"customerId\": EntrySeeder(range(len(ids[\"visitors\"]))),\n",
    "            \"sentDate\": EntrySeeder(\"date_time\"),\n",
    "            \"type\": EntrySeeder([\"text\", \"audio\", \"picture\"]),\n",
    "            \"content\": EntrySeeder(\"text\"),\n",
    "            \"deliveryStatus\": EntrySeeder([\"sending\", \"sent\", \"received\", \"seen\"]),\n",
    "            \"length\": EntrySeeder(range(10, 300, 5), p=0.25),\n",
    "            \"uri\": EntrySeeder(\"url\", p=0.35),\n",
    "        }\n",
    "    ),\n",
    "    \"suppliers\": DocSeeder(\n",
    "        {\n",
    "            \"_id\": EntrySeeder(ids[\"suppliers\"], unique=True),\n",
    "            \"name\": EntrySeeder(\"name\"),\n",
    "            \"iban\": EntrySeeder(\"iban\"),\n",
    "            \"isState\": EntrySeeder(\"boolean\", p=0.5),\n",
    "            \"isMuseum\": EntrySeeder(\"boolean\"),\n",
    "            \"email\": EntrySeeder(\"email\"),\n",
    "            \"phoneNum\": EntrySeeder(\"phone_number\"),\n",
    "            \"surveys\": EntrySeeder(\n",
    "                lambda _: _.random_elements(\n",
    "                    range(len(ids[\"surveys\"])), length=_.random_int(max=15), unique=True\n",
    "                )\n",
    "            ),\n",
    "        }\n",
    "    ),\n",
    "}"
   ]
  },
  {
   "cell_type": "code",
   "execution_count": 36,
   "id": "594e293b",
   "metadata": {},
   "outputs": [
    {
     "name": "stdout",
     "output_type": "stream",
     "text": [
      "Seeding \u001b[1m\u001b[32mrooms\u001b[0m ...\n",
      "Seeding \u001b[1m\u001b[32mactivities\u001b[0m ...\n",
      "Seeding \u001b[1m\u001b[32mlimited_events\u001b[0m ...\n",
      "Seeding \u001b[1m\u001b[32mmessages\u001b[0m ...\n",
      "Seeding \u001b[1m\u001b[32msuppliers\u001b[0m ...\n"
     ]
    }
   ],
   "source": [
    "# Seed!\n",
    "for coll, seeder in seeders.items():\n",
    "    cprint(\"Seeding\", f\"green:{coll}\", \"...\")\n",
    "    db[coll].delete_many({})\n",
    "    db[coll].insert_many(seeder.seed(len(ids[coll])))"
   ]
  },
  {
   "cell_type": "markdown",
   "id": "a73557cd",
   "metadata": {},
   "source": [
    "Si salvano\n",
    "- departments\n",
    "- employees\n",
    "- authors\n",
    "- workshops\n",
    "- surveys"
   ]
  },
  {
   "cell_type": "markdown",
   "id": "2a5ab9e2",
   "metadata": {},
   "source": [
    "Mancano\n",
    "- artworks\n",
    "- visitors\n",
    "- tickets"
   ]
  }
 ],
 "metadata": {
  "kernelspec": {
   "display_name": "Python 3",
   "language": "python",
   "name": "python3"
  },
  "language_info": {
   "codemirror_mode": {
    "name": "ipython",
    "version": 3
   },
   "file_extension": ".py",
   "mimetype": "text/x-python",
   "name": "python",
   "nbconvert_exporter": "python",
   "pygments_lexer": "ipython3",
   "version": "3.10.8"
  }
 },
 "nbformat": 4,
 "nbformat_minor": 5
}
