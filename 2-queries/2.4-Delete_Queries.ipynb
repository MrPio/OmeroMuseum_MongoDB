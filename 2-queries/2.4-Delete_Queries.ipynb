{
 "cells": [
  {
   "cell_type": "code",
   "execution_count": 1,
   "id": "e4225935",
   "metadata": {},
   "outputs": [],
   "source": [
    "%load_ext autoreload\n",
    "%autoreload 2\n",
    "from pymongo import MongoClient\n",
    "import sys\n",
    "from pathlib import Path\n",
    "from tqdm import tqdm\n",
    "import json\n",
    "from pprint import pprint\n",
    "from datetime import datetime\n",
    "\n",
    "\n",
    "sys.path.append(str(Path(\"..\").resolve()))\n",
    "from src import *"
   ]
  },
  {
   "cell_type": "markdown",
   "id": "acc257f0",
   "metadata": {},
   "source": [
    "# Delete Queries\n",
    "ℹ️ This notebook require the execution of [`1.3-Consistency_Recover`](../1-migration/1.3-Consistency_Recover.ipynb). Or you can just load the snapshop as in the following cell."
   ]
  },
  {
   "cell_type": "markdown",
   "id": "065afc72",
   "metadata": {},
   "source": [
    "## Load post-preprocessing data\n",
    "The following cell reset the `omero_museum` database loading the `4_consistent` snapshot."
   ]
  },
  {
   "cell_type": "code",
   "execution_count": null,
   "id": "e0447318",
   "metadata": {},
   "outputs": [],
   "source": [
    "%%capture\n",
    "MongoClient(\"mongodb://localhost:27017/\").drop_database(\"omero_museum\")\n",
    "!mongorestore --host localhost:27017 --drop --db omero_museum  \"../backup/5_optimized/omero_museum\""
   ]
  },
  {
   "cell_type": "code",
   "execution_count": 2,
   "id": "04e72afd",
   "metadata": {},
   "outputs": [],
   "source": [
    "connector = MongoDBConnector(\"omero_museum\", silent=True)\n",
    "db = connector.db"
   ]
  },
  {
   "cell_type": "markdown",
   "id": "ec831f76",
   "metadata": {},
   "source": [
    "### DL1: _Delete a posted comment_"
   ]
  },
  {
   "cell_type": "code",
   "execution_count": 6,
   "id": "df3d0251",
   "metadata": {},
   "outputs": [
    {
     "data": {
      "text/plain": [
       "UpdateResult({'n': 21, 'nModified': 1, 'ok': 1.0, 'updatedExisting': True}, acknowledged=True)"
      ]
     },
     "execution_count": 6,
     "metadata": {},
     "output_type": "execute_result"
    }
   ],
   "source": [
    "artwork = db.artworks.find_one({\"comments_star_3.0\": {\"$exists\": True}})\n",
    "artwork_id = artwork[\"_id\"] # type: ignore\n",
    "comment_id = artwork[\"comments_star_3\"][0][\"_id\"] # type: ignore\n",
    "\n",
    "db.artworks.update_many(\n",
    "    {},\n",
    "    {\n",
    "        \"$pull\": {\n",
    "            \"comments_star_1\": {\"_id\": comment_id},\n",
    "            \"comments_star_2\": {\"_id\": comment_id},\n",
    "            \"comments_star_3\": {\"_id\": comment_id},\n",
    "            \"comments_star_4\": {\"_id\": comment_id},\n",
    "            \"comments_star_5\": {\"_id\": comment_id},\n",
    "        }\n",
    "    },\n",
    ")"
   ]
  },
  {
   "cell_type": "markdown",
   "id": "62a8b0f4",
   "metadata": {},
   "source": [
    "### DL2: _Delete an artwork_"
   ]
  },
  {
   "cell_type": "code",
   "execution_count": null,
   "id": "01a028d1",
   "metadata": {},
   "outputs": [
    {
     "data": {
      "text/plain": [
       "DeleteResult({'n': 1, 'ok': 1.0}, acknowledged=True)"
      ]
     },
     "execution_count": 12,
     "metadata": {},
     "output_type": "execute_result"
    }
   ],
   "source": [
    "db.artworks.delete_one({\"_id\": \"La Notte Stellata\"})"
   ]
  },
  {
   "cell_type": "markdown",
   "id": "31990a13",
   "metadata": {},
   "source": [
    "### DL4: _Delete a shift of an employee_"
   ]
  },
  {
   "cell_type": "code",
   "execution_count": 7,
   "id": "f189d052",
   "metadata": {},
   "outputs": [
    {
     "data": {
      "text/plain": [
       "UpdateResult({'n': 1, 'nModified': 1, 'ok': 1.0, 'updatedExisting': True}, acknowledged=True)"
      ]
     },
     "execution_count": 7,
     "metadata": {},
     "output_type": "execute_result"
    }
   ],
   "source": [
    "employee_id = db.roles.find_one()[\"_id\"]  # type: ignore\n",
    "day_of_week = \"martedì\"\n",
    "\n",
    "db.roles.update_one(\n",
    "    {\"_id\": employee_id},\n",
    "    {\"$pull\": {\"shifts\": {\"day_of_week\": day_of_week}}},\n",
    ")"
   ]
  },
  {
   "cell_type": "markdown",
   "id": "10af6342",
   "metadata": {},
   "source": [
    "### DL6: _Delete a message_"
   ]
  },
  {
   "cell_type": "code",
   "execution_count": 8,
   "id": "e61ccc33",
   "metadata": {},
   "outputs": [
    {
     "data": {
      "text/plain": [
       "DeleteResult({'n': 1, 'ok': 1.0}, acknowledged=True)"
      ]
     },
     "execution_count": 8,
     "metadata": {},
     "output_type": "execute_result"
    }
   ],
   "source": [
    "customer = db.visitors.find_one({\"chat.old_messages.0\": {\"$exists\": True}})\n",
    "customer_id = customer[\"_id\"]  # type: ignore\n",
    "message_id = customer[\"chat\"][\"old_messages\"][0]  # type: ignore\n",
    "\n",
    "db.visitors.update_many(\n",
    "    {\"_id\": customer_id},\n",
    "    {\"$pull\": {\"chat.old_messages\": {\"_id\": message_id}}},\n",
    ")\n",
    "db.messages.delete_one({\"_id\": message_id})"
   ]
  }
 ],
 "metadata": {
  "kernelspec": {
   "display_name": "Python 3",
   "language": "python",
   "name": "python3"
  },
  "language_info": {
   "codemirror_mode": {
    "name": "ipython",
    "version": 3
   },
   "file_extension": ".py",
   "mimetype": "text/x-python",
   "name": "python",
   "nbconvert_exporter": "python",
   "pygments_lexer": "ipython3",
   "version": "3.10.8"
  }
 },
 "nbformat": 4,
 "nbformat_minor": 5
}
