{
 "cells": [
  {
   "cell_type": "code",
   "execution_count": 7,
   "id": "e4225935",
   "metadata": {},
   "outputs": [
    {
     "name": "stdout",
     "output_type": "stream",
     "text": [
      "The autoreload extension is already loaded. To reload it, use:\n",
      "  %reload_ext autoreload\n"
     ]
    }
   ],
   "source": [
    "%load_ext autoreload\n",
    "%autoreload 2\n",
    "from pymongo import MongoClient\n",
    "import sys\n",
    "from pathlib import Path\n",
    "from tqdm import tqdm\n",
    "import json\n",
    "from bson import ObjectId\n",
    "from pprint import pprint\n",
    "from datetime import datetime\n",
    "\n",
    "\n",
    "sys.path.append(str(Path(\"..\").resolve()))\n",
    "from src import *"
   ]
  },
  {
   "cell_type": "markdown",
   "id": "acc257f0",
   "metadata": {},
   "source": [
    "# Update Queries\n",
    "ℹ️ This notebook require the execution of [`1.3-Consistency_Recover`](../1-migration/1.3-Consistency_Recover.ipynb). Or you can just load the snapshop as in the following cell."
   ]
  },
  {
   "cell_type": "markdown",
   "id": "065afc72",
   "metadata": {},
   "source": [
    "## Load post-preprocessing data\n",
    "The following cell reset the `omero_museum` database loading the `4_consistent` snapshot."
   ]
  },
  {
   "cell_type": "code",
   "execution_count": null,
   "id": "e0447318",
   "metadata": {},
   "outputs": [],
   "source": [
    "%%capture\n",
    "MongoClient(\"mongodb://localhost:27017/\").drop_database(\"omero_museum\")\n",
    "!mongorestore --host localhost:27017 --drop --db omero_museum  \"../backup/5_optimized/omero_museum\""
   ]
  },
  {
   "cell_type": "code",
   "execution_count": 4,
   "id": "04e72afd",
   "metadata": {},
   "outputs": [
    {
     "name": "stdout",
     "output_type": "stream",
     "text": [
      "The collections of the \u001b[1m\u001b[33momero_museum\u001b[0m db are:\n",
      "----------------------------------------\n",
      "[activities]: \u001b[1m\u001b[31m_id\u001b[0m \u001b[1m\u001b[33mcapacity\u001b[0m \u001b[1m\u001b[32mduration\u001b[0m \u001b[1m\u001b[36menrolled\u001b[0m \u001b[1m\u001b[34mroom\u001b[0m \u001b[1m\u001b[35mstartDate\u001b[0m \u001b[1m\u001b[37mticketIds\u001b[0m \u001b[1m\u001b[90mworkshopTitle\u001b[0m\n",
      "[artworks]: \u001b[1m\u001b[31m_id\u001b[0m \u001b[1m\u001b[33mauthorIds\u001b[0m \u001b[1m\u001b[32mcomments_star_1\u001b[0m \u001b[1m\u001b[36mcomments_star_2\u001b[0m \u001b[1m\u001b[34mcomments_star_3\u001b[0m \u001b[1m\u001b[35mcomments_star_4\u001b[0m \u001b[1m\u001b[37mcomments_star_5\u001b[0m \u001b[1m\u001b[90mdate\u001b[0m \u001b[1m\u001b[91mdescription\u001b[0m \u001b[1m\u001b[93mdonationState\u001b[0m \u001b[1m\u001b[92mdonatorId\u001b[0m \u001b[1m\u001b[96misOriginal\u001b[0m \u001b[1m\u001b[94mlocationName\u001b[0m \u001b[1m\u001b[95mmaterials\u001b[0m \u001b[1m\u001b[31mperiod\u001b[0m \u001b[1m\u001b[33msellerId\u001b[0m \u001b[1m\u001b[32msize\u001b[0m \u001b[1m\u001b[36mtecniques\u001b[0m \u001b[1m\u001b[34mtrade\u001b[0m \u001b[1m\u001b[35mtype\u001b[0m\n",
      "[authors]: \u001b[1m\u001b[31m_id\u001b[0m \u001b[1m\u001b[33mbirth_date\u001b[0m \u001b[1m\u001b[32mgender\u001b[0m \u001b[1m\u001b[36mhome_town\u001b[0m \u001b[1m\u001b[34mname\u001b[0m \u001b[1m\u001b[35msurname\u001b[0m\n",
      "[departments]: \u001b[1m\u001b[31m_id\u001b[0m \u001b[1m\u001b[33mfloor\u001b[0m \u001b[1m\u001b[32mfree_spots\u001b[0m \u001b[1m\u001b[36mroom\u001b[0m\n",
      "[employees]: \u001b[1m\u001b[31m_id\u001b[0m \u001b[1m\u001b[33mbirth_date\u001b[0m \u001b[1m\u001b[32mcurriculum\u001b[0m \u001b[1m\u001b[36mdate_start\u001b[0m \u001b[1m\u001b[34memail\u001b[0m \u001b[1m\u001b[35mgender\u001b[0m \u001b[1m\u001b[37mhometown\u001b[0m \u001b[1m\u001b[90mname\u001b[0m \u001b[1m\u001b[91mphone_number\u001b[0m \u001b[1m\u001b[93msurname\u001b[0m\n",
      "[limited_events]: \u001b[1m\u001b[31m_id\u001b[0m \u001b[1m\u001b[33martist\u001b[0m \u001b[1m\u001b[32martworkTitles\u001b[0m \u001b[1m\u001b[36mauthorIds\u001b[0m \u001b[1m\u001b[34mcapacity\u001b[0m \u001b[1m\u001b[35mdescription\u001b[0m \u001b[1m\u001b[37mendDate\u001b[0m \u001b[1m\u001b[90mroomName\u001b[0m \u001b[1m\u001b[91mstartDate\u001b[0m \u001b[1m\u001b[93mtheme\u001b[0m \u001b[1m\u001b[92mticketIds\u001b[0m \u001b[1m\u001b[96mtype\u001b[0m\n",
      "[messages]: \u001b[1m\u001b[31m_id\u001b[0m \u001b[1m\u001b[33mcontent\u001b[0m \u001b[1m\u001b[32mcustomerId\u001b[0m \u001b[1m\u001b[36mdeliveryStatus\u001b[0m \u001b[1m\u001b[34mlength\u001b[0m \u001b[1m\u001b[35msentDate\u001b[0m \u001b[1m\u001b[37mtype\u001b[0m \u001b[1m\u001b[90muri\u001b[0m\n",
      "[rooms]: \u001b[1m\u001b[31m_id\u001b[0m \u001b[1m\u001b[33mfloor\u001b[0m\n",
      "[suppliers]: \u001b[1m\u001b[31m_id\u001b[0m \u001b[1m\u001b[33memail\u001b[0m \u001b[1m\u001b[32miban\u001b[0m \u001b[1m\u001b[36misMuseum\u001b[0m \u001b[1m\u001b[34misState\u001b[0m \u001b[1m\u001b[35mname\u001b[0m \u001b[1m\u001b[37mphoneNum\u001b[0m \u001b[1m\u001b[90msurveys\u001b[0m\n",
      "[visitors]: \u001b[1m\u001b[31m_id\u001b[0m \u001b[1m\u001b[33mbirthDate\u001b[0m \u001b[1m\u001b[32mchat\u001b[0m \u001b[1m\u001b[36mcomments\u001b[0m \u001b[1m\u001b[34mdonationIds\u001b[0m \u001b[1m\u001b[35memail\u001b[0m \u001b[1m\u001b[37mgender\u001b[0m \u001b[1m\u001b[90mimpairment\u001b[0m \u001b[1m\u001b[91misCustomer\u001b[0m \u001b[1m\u001b[93mland\u001b[0m \u001b[1m\u001b[92mname\u001b[0m \u001b[1m\u001b[96mphoneNum\u001b[0m \u001b[1m\u001b[94msaleIds\u001b[0m \u001b[1m\u001b[95msurname\u001b[0m \u001b[1m\u001b[31msurveys\u001b[0m \u001b[1m\u001b[33mtickets\u001b[0m \u001b[1m\u001b[32mtradeIds\u001b[0m\n",
      "[workshops]: \u001b[1m\u001b[31m_id\u001b[0m \u001b[1m\u001b[33mduration\u001b[0m \u001b[1m\u001b[32mprice_class\u001b[0m \u001b[1m\u001b[36mprice_person\u001b[0m \u001b[1m\u001b[34mtype\u001b[0m\n"
     ]
    }
   ],
   "source": [
    "connector = MongoDBConnector(\"omero_museum\")\n",
    "db = connector.db"
   ]
  },
  {
   "cell_type": "markdown",
   "id": "ec831f76",
   "metadata": {},
   "source": [
    "### UP1: _Update the description of a material_"
   ]
  },
  {
   "cell_type": "code",
   "execution_count": 9,
   "id": "df3d0251",
   "metadata": {},
   "outputs": [
    {
     "data": {
      "text/plain": [
       "UpdateResult({'n': 5, 'nModified': 5, 'ok': 1.0, 'updatedExisting': True}, acknowledged=True)"
      ]
     },
     "execution_count": 9,
     "metadata": {},
     "output_type": "execute_result"
    }
   ],
   "source": [
    "db.artworks.update_many(\n",
    "    {\"materials\": \"Marble\"},\n",
    "    [\n",
    "        {\"$set\": {\n",
    "            \"materials\": {\n",
    "                \"$map\": {\n",
    "                    \"input\": \"$materials\",\n",
    "                    \"as\": \"m\",\n",
    "                    \"in\": {\n",
    "                        \"$cond\": [\n",
    "                            {\"$eq\": [\"$$m\", \"Marble\"]},\n",
    "                            \"White Marble\",\n",
    "                            \"$$m\"\n",
    "                        ]\n",
    "                    }\n",
    "                }\n",
    "            }\n",
    "        }}\n",
    "    ]\n",
    ")\n"
   ]
  },
  {
   "cell_type": "markdown",
   "id": "cbb07951",
   "metadata": {},
   "source": [
    "### UP2: _Check-in a visitor's ticket_"
   ]
  },
  {
   "cell_type": "code",
   "execution_count": null,
   "id": "f24ad108",
   "metadata": {},
   "outputs": [],
   "source": [
    "ticket_date = datetime(2025, 9, 2, 13, 7, 37)\n",
    "\n",
    "db.visitors.update_one(\n",
    "    {\"_id\": 0},\n",
    "    [\n",
    "        {\n",
    "            \"$set\": {\n",
    "                \"tickets\": {\n",
    "                    \"$map\": {\n",
    "                        \"input\": \"$tickets\",\n",
    "                        \"as\": \"t\",\n",
    "                        \"in\": {\n",
    "                            \"$cond\": [\n",
    "                                {\"$eq\": [\"$$t.date\", ticket_date]},\n",
    "                                {**{\"check_in\": True}, **\"$$t\"},\n",
    "                                \"$$t\"\n",
    "                            ]\n",
    "                        }\n",
    "                    }\n",
    "                }\n",
    "            }\n",
    "        }\n",
    "    ]\n",
    ")\n"
   ]
  },
  {
   "cell_type": "markdown",
   "id": "9ddaf76f",
   "metadata": {},
   "source": [
    "### UP3: _Update trade information of an artwork_"
   ]
  },
  {
   "cell_type": "code",
   "execution_count": 15,
   "id": "9663c8ff",
   "metadata": {},
   "outputs": [
    {
     "data": {
      "text/plain": [
       "UpdateResult({'n': 1, 'nModified': 1, 'ok': 1.0, 'updatedExisting': True}, acknowledged=True)"
      ]
     },
     "execution_count": 15,
     "metadata": {},
     "output_type": "execute_result"
    }
   ],
   "source": [
    "db.artworks.update_one(\n",
    "    {\"_id\": \"La Notte Stellata\"}, \n",
    "    {\"$set\": {\n",
    "        \"trade.win_price\": 5000,\n",
    "        \"trade.winner_id\": 1,\n",
    "    }}\n",
    ")"
   ]
  },
  {
   "cell_type": "markdown",
   "id": "9d05f230",
   "metadata": {},
   "source": [
    "### UP4: _Update information of an artwork_"
   ]
  },
  {
   "cell_type": "code",
   "execution_count": 12,
   "id": "a235bf71",
   "metadata": {},
   "outputs": [
    {
     "data": {
      "text/plain": [
       "UpdateResult({'n': 1, 'nModified': 1, 'ok': 1.0, 'updatedExisting': True}, acknowledged=True)"
      ]
     },
     "execution_count": 12,
     "metadata": {},
     "output_type": "execute_result"
    }
   ],
   "source": [
    "db.artworks.update_one(\n",
    "    {\"_id\": \"La Notte Stellata\"}, \n",
    "    {\"$set\": {\n",
    "        \"isOriginal\": False,\n",
    "        \"tecniques\": [\"painting\"],\n",
    "        \"materials\": [\"Glass\", \"Bronze\"],\n",
    "    }}\n",
    ")"
   ]
  },
  {
   "cell_type": "markdown",
   "id": "3162b340",
   "metadata": {},
   "source": [
    "### UP5: _Update curriculum of an employee_"
   ]
  },
  {
   "cell_type": "code",
   "execution_count": 8,
   "id": "1c83bd83",
   "metadata": {},
   "outputs": [
    {
     "data": {
      "text/plain": [
       "UpdateResult({'n': 1, 'nModified': 1, 'ok': 1.0, 'updatedExisting': True}, acknowledged=True)"
      ]
     },
     "execution_count": 8,
     "metadata": {},
     "output_type": "execute_result"
    }
   ],
   "source": [
    "employee_id = ObjectId(\"68b572f8845fcdbabc1c8930\")\n",
    "new_curriculum = \"https://linkedin.com/in/matilda-scerbo\"\n",
    "\n",
    "db.employees.update_one(\n",
    "    {\"_id\": employee_id},\n",
    "    [\n",
    "        {\n",
    "            \"$set\": {\n",
    "                \"curriculum\": new_curriculum\n",
    "            }\n",
    "        }\n",
    "    ]\n",
    ")\n"
   ]
  },
  {
   "cell_type": "markdown",
   "id": "6124e79c",
   "metadata": {},
   "source": [
    "### UP6: _Update employee in a department_"
   ]
  },
  {
   "cell_type": "code",
   "execution_count": null,
   "id": "8e843ff4",
   "metadata": {},
   "outputs": [],
   "source": []
  },
  {
   "cell_type": "markdown",
   "id": "018b4bd4",
   "metadata": {},
   "source": [
    "### UP7: _Update the shift of an given employee_"
   ]
  },
  {
   "cell_type": "code",
   "execution_count": null,
   "id": "3d05cdf5",
   "metadata": {},
   "outputs": [],
   "source": []
  },
  {
   "cell_type": "markdown",
   "id": "f816eeb5",
   "metadata": {},
   "source": [
    "### UP8: _Change the date of a limited event_"
   ]
  },
  {
   "cell_type": "code",
   "execution_count": 10,
   "id": "c650e186",
   "metadata": {},
   "outputs": [
    {
     "data": {
      "text/plain": [
       "UpdateResult({'n': 1, 'nModified': 1, 'ok': 1.0, 'updatedExisting': True}, acknowledged=True)"
      ]
     },
     "execution_count": 10,
     "metadata": {},
     "output_type": "execute_result"
    }
   ],
   "source": [
    "db.limited_events.update_one(\n",
    "    {\"_id\": \"The Future of Mosaic\"}, \n",
    "    {\"$set\": {\n",
    "        \"startDate\": datetime(2025, 10, 2, 10, 0),\n",
    "        \"endDate\": datetime(2025, 10, 2, 18, 0),\n",
    "    }}\n",
    ")"
   ]
  },
  {
   "cell_type": "markdown",
   "id": "960ebcb8",
   "metadata": {},
   "source": [
    "### UP9: _Update a message in a given chat_"
   ]
  },
  {
   "cell_type": "code",
   "execution_count": null,
   "id": "0359d66f",
   "metadata": {},
   "outputs": [
    {
     "data": {
      "text/plain": [
       "UpdateResult({'n': 1, 'nModified': 1, 'ok': 1.0, 'updatedExisting': True}, acknowledged=True)"
      ]
     },
     "execution_count": 6,
     "metadata": {},
     "output_type": "execute_result"
    }
   ],
   "source": [
    "target_customer_id = 10\n",
    "target_sent_date = datetime(2025, 9, 1, 0, 44, 49)\n",
    "new_content = \"A new message content\"\n",
    "\n",
    "db.visitors.update_one(\n",
    "    {\"_id\": 0},\n",
    "    [\n",
    "        {\n",
    "            \"$set\": {\n",
    "                \"chat.new_messages\": {\n",
    "                    \"$map\": {\n",
    "                        \"input\": \"$chat.new_messages\",\n",
    "                        \"as\": \"msg\",\n",
    "                        \"in\": {\n",
    "                            \"$cond\": [\n",
    "                                {\n",
    "                                    \"$and\": [\n",
    "                                        {\"$eq\": [\"$$msg.customerId\", target_customer_id]},\n",
    "                                        {\"$eq\": [\"$$msg.sentDate\", target_sent_date]}\n",
    "                                    ]\n",
    "                                },\n",
    "                                {\n",
    "                                    \"$mergeObjects\": [\n",
    "                                        \"$$msg\",\n",
    "                                        {\n",
    "                                            \"content\": new_content,\n",
    "                                            \"sentDate\": datetime.now()\n",
    "                                        }\n",
    "                                    ]\n",
    "                                },\n",
    "                                \"$$msg\"\n",
    "                            ]\n",
    "                        }\n",
    "                    }\n",
    "                }\n",
    "            }\n",
    "        }\n",
    "    ]\n",
    ")\n"
   ]
  },
  {
   "cell_type": "markdown",
   "id": "717224cd",
   "metadata": {},
   "source": [
    "### UP10: _Update prices of a workshop_"
   ]
  },
  {
   "cell_type": "code",
   "execution_count": 4,
   "id": "7890daf4",
   "metadata": {},
   "outputs": [
    {
     "data": {
      "text/plain": [
       "UpdateResult({'n': 1, 'nModified': 1, 'ok': 1.0, 'updatedExisting': True}, acknowledged=True)"
      ]
     },
     "execution_count": 4,
     "metadata": {},
     "output_type": "execute_result"
    }
   ],
   "source": [
    "db.workshops.update_one(\n",
    "    {\"_id\": \"Pittura su tela\"}, \n",
    "    {\"$set\": {\n",
    "        \"price_person\": 30.00,\n",
    "        \"price_class\": 90.00\n",
    "    }}\n",
    ")"
   ]
  }
 ],
 "metadata": {
  "kernelspec": {
   "display_name": "Python 3",
   "language": "python",
   "name": "python3"
  },
  "language_info": {
   "codemirror_mode": {
    "name": "ipython",
    "version": 3
   },
   "file_extension": ".py",
   "mimetype": "text/x-python",
   "name": "python",
   "nbconvert_exporter": "python",
   "pygments_lexer": "ipython3",
   "version": "3.12.2"
  }
 },
 "nbformat": 4,
 "nbformat_minor": 5
}
