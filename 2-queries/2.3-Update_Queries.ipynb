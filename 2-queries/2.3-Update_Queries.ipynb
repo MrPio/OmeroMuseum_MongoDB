{
 "cells": [
  {
   "cell_type": "code",
   "execution_count": 1,
   "id": "e4225935",
   "metadata": {},
   "outputs": [],
   "source": [
    "%load_ext autoreload\n",
    "%autoreload 2\n",
    "from pymongo import MongoClient\n",
    "import sys\n",
    "from pathlib import Path\n",
    "from tqdm import tqdm\n",
    "import json\n",
    "from pprint import pprint\n",
    "\n",
    "sys.path.append(str(Path(\"..\").resolve()))\n",
    "from src import *"
   ]
  },
  {
   "cell_type": "markdown",
   "id": "acc257f0",
   "metadata": {},
   "source": [
    "# Update Queries\n",
    "ℹ️ This notebook require the execution of [`1.3-Consistency_Recover`](../1-migration/1.3-Consistency_Recover.ipynb). Or you can just load the snapshop as in the following cell."
   ]
  },
  {
   "cell_type": "markdown",
   "id": "065afc72",
   "metadata": {},
   "source": [
    "## Load post-preprocessing data\n",
    "The following cell reset the `omero_museum` database loading the `4_consistent` snapshot."
   ]
  },
  {
   "cell_type": "code",
   "execution_count": 2,
   "id": "e0447318",
   "metadata": {},
   "outputs": [],
   "source": [
    "%%capture\n",
    "MongoClient(\"mongodb://localhost:27017/\").drop_database(\"omero_museum\")\n",
    "!mongorestore --host localhost:27017 --drop --db omero_museum  \"../backup/4_consistent/omero_museum\""
   ]
  },
  {
   "cell_type": "code",
   "execution_count": 4,
   "id": "04e72afd",
   "metadata": {},
   "outputs": [
    {
     "name": "stdout",
     "output_type": "stream",
     "text": [
      "The collections of the \u001b[1m\u001b[33momero_museum\u001b[0m db are:\n",
      "----------------------------------------\n",
      "[activities]: \u001b[1m\u001b[31m_id\u001b[0m \u001b[1m\u001b[33mcapacity\u001b[0m \u001b[1m\u001b[32mduration\u001b[0m \u001b[1m\u001b[36menrolled\u001b[0m \u001b[1m\u001b[34mroom\u001b[0m \u001b[1m\u001b[35mstartDate\u001b[0m \u001b[1m\u001b[37mticketIds\u001b[0m \u001b[1m\u001b[90mworkshopTitle\u001b[0m\n",
      "[artworks]: \u001b[1m\u001b[31m_id\u001b[0m \u001b[1m\u001b[33mauthorIds\u001b[0m \u001b[1m\u001b[32mcomments_star_1\u001b[0m \u001b[1m\u001b[36mcomments_star_2\u001b[0m \u001b[1m\u001b[34mcomments_star_3\u001b[0m \u001b[1m\u001b[35mcomments_star_4\u001b[0m \u001b[1m\u001b[37mcomments_star_5\u001b[0m \u001b[1m\u001b[90mdate\u001b[0m \u001b[1m\u001b[91mdescription\u001b[0m \u001b[1m\u001b[93mdonationState\u001b[0m \u001b[1m\u001b[92mdonatorId\u001b[0m \u001b[1m\u001b[96misOriginal\u001b[0m \u001b[1m\u001b[94mlocationName\u001b[0m \u001b[1m\u001b[95mmaterials\u001b[0m \u001b[1m\u001b[31mperiod\u001b[0m \u001b[1m\u001b[33msellerId\u001b[0m \u001b[1m\u001b[32msize\u001b[0m \u001b[1m\u001b[36mtecniques\u001b[0m \u001b[1m\u001b[34mtrade\u001b[0m \u001b[1m\u001b[35mtype\u001b[0m\n",
      "[authors]: \u001b[1m\u001b[31m_id\u001b[0m \u001b[1m\u001b[33mbirth_date\u001b[0m \u001b[1m\u001b[32mgender\u001b[0m \u001b[1m\u001b[36mhome_town\u001b[0m \u001b[1m\u001b[34mname\u001b[0m \u001b[1m\u001b[35msurname\u001b[0m\n",
      "[departments]: \u001b[1m\u001b[31m_id\u001b[0m \u001b[1m\u001b[33mfloor\u001b[0m \u001b[1m\u001b[32mfree_spots\u001b[0m \u001b[1m\u001b[36mroom\u001b[0m\n",
      "[employees]: \u001b[1m\u001b[31m_id\u001b[0m \u001b[1m\u001b[33mbirth_date\u001b[0m \u001b[1m\u001b[32mcurriculum\u001b[0m \u001b[1m\u001b[36mdate_start\u001b[0m \u001b[1m\u001b[34memail\u001b[0m \u001b[1m\u001b[35mgender\u001b[0m \u001b[1m\u001b[37mhometown\u001b[0m \u001b[1m\u001b[90mname\u001b[0m \u001b[1m\u001b[91mphone_number\u001b[0m \u001b[1m\u001b[93msurname\u001b[0m\n",
      "[limited_events]: \u001b[1m\u001b[31m_id\u001b[0m \u001b[1m\u001b[33martist\u001b[0m \u001b[1m\u001b[32martworkTitles\u001b[0m \u001b[1m\u001b[36mauthorIds\u001b[0m \u001b[1m\u001b[34mcapacity\u001b[0m \u001b[1m\u001b[35mdescription\u001b[0m \u001b[1m\u001b[37mendDate\u001b[0m \u001b[1m\u001b[90mroomName\u001b[0m \u001b[1m\u001b[91mstartDate\u001b[0m \u001b[1m\u001b[93mtheme\u001b[0m \u001b[1m\u001b[92mticketIds\u001b[0m \u001b[1m\u001b[96mtype\u001b[0m\n",
      "[messages]: \u001b[1m\u001b[31m_id\u001b[0m \u001b[1m\u001b[33mcontent\u001b[0m \u001b[1m\u001b[32mcustomerId\u001b[0m \u001b[1m\u001b[36mdeliveryStatus\u001b[0m \u001b[1m\u001b[34mlength\u001b[0m \u001b[1m\u001b[35msentDate\u001b[0m \u001b[1m\u001b[37mtype\u001b[0m \u001b[1m\u001b[90muri\u001b[0m\n",
      "[rooms]: \u001b[1m\u001b[31m_id\u001b[0m \u001b[1m\u001b[33mfloor\u001b[0m\n",
      "[suppliers]: \u001b[1m\u001b[31m_id\u001b[0m \u001b[1m\u001b[33memail\u001b[0m \u001b[1m\u001b[32miban\u001b[0m \u001b[1m\u001b[36misMuseum\u001b[0m \u001b[1m\u001b[34misState\u001b[0m \u001b[1m\u001b[35mname\u001b[0m \u001b[1m\u001b[37mphoneNum\u001b[0m \u001b[1m\u001b[90msurveys\u001b[0m\n",
      "[visitors]: \u001b[1m\u001b[31m_id\u001b[0m \u001b[1m\u001b[33mbirthDate\u001b[0m \u001b[1m\u001b[32mchat\u001b[0m \u001b[1m\u001b[36mcomments\u001b[0m \u001b[1m\u001b[34mdonationIds\u001b[0m \u001b[1m\u001b[35memail\u001b[0m \u001b[1m\u001b[37mgender\u001b[0m \u001b[1m\u001b[90mimpairment\u001b[0m \u001b[1m\u001b[91misCustomer\u001b[0m \u001b[1m\u001b[93mland\u001b[0m \u001b[1m\u001b[92mname\u001b[0m \u001b[1m\u001b[96mphoneNum\u001b[0m \u001b[1m\u001b[94msaleIds\u001b[0m \u001b[1m\u001b[95msurname\u001b[0m \u001b[1m\u001b[31msurveys\u001b[0m \u001b[1m\u001b[33mtickets\u001b[0m \u001b[1m\u001b[32mtradeIds\u001b[0m\n",
      "[workshops]: \u001b[1m\u001b[31m_id\u001b[0m \u001b[1m\u001b[33mduration\u001b[0m \u001b[1m\u001b[32mprice_class\u001b[0m \u001b[1m\u001b[36mprice_person\u001b[0m \u001b[1m\u001b[34mtype\u001b[0m\n"
     ]
    }
   ],
   "source": [
    "connector = MongoDBConnector(\"omero_museum\")\n",
    "db = connector.db"
   ]
  },
  {
   "cell_type": "markdown",
   "id": "ec831f76",
   "metadata": {},
   "source": [
    "### UP1: _Update the description of a material_"
   ]
  },
  {
   "cell_type": "code",
   "execution_count": null,
   "id": "df3d0251",
   "metadata": {},
   "outputs": [],
   "source": []
  },
  {
   "cell_type": "markdown",
   "id": "cbb07951",
   "metadata": {},
   "source": [
    "### UP2: _Check-in a ticket_"
   ]
  },
  {
   "cell_type": "code",
   "execution_count": null,
   "id": "f24ad108",
   "metadata": {},
   "outputs": [],
   "source": []
  },
  {
   "cell_type": "markdown",
   "id": "9ddaf76f",
   "metadata": {},
   "source": [
    "### UP3: _Update trade information of an artwork_"
   ]
  },
  {
   "cell_type": "code",
   "execution_count": null,
   "id": "9663c8ff",
   "metadata": {},
   "outputs": [],
   "source": []
  },
  {
   "cell_type": "markdown",
   "id": "9d05f230",
   "metadata": {},
   "source": [
    "### UP4: _Update information of an artwork_"
   ]
  },
  {
   "cell_type": "code",
   "execution_count": null,
   "id": "a235bf71",
   "metadata": {},
   "outputs": [],
   "source": []
  },
  {
   "cell_type": "markdown",
   "id": "3162b340",
   "metadata": {},
   "source": [
    "### UP5: _Update curriculum of an employee_"
   ]
  },
  {
   "cell_type": "code",
   "execution_count": null,
   "id": "1c83bd83",
   "metadata": {},
   "outputs": [],
   "source": []
  },
  {
   "cell_type": "markdown",
   "id": "6124e79c",
   "metadata": {},
   "source": [
    "### UP6: _Update employee in a department_"
   ]
  },
  {
   "cell_type": "code",
   "execution_count": null,
   "id": "8e843ff4",
   "metadata": {},
   "outputs": [],
   "source": []
  },
  {
   "cell_type": "markdown",
   "id": "018b4bd4",
   "metadata": {},
   "source": [
    "### UP7: _Update the shift of an given employee_"
   ]
  },
  {
   "cell_type": "code",
   "execution_count": null,
   "id": "3d05cdf5",
   "metadata": {},
   "outputs": [],
   "source": []
  },
  {
   "cell_type": "markdown",
   "id": "f816eeb5",
   "metadata": {},
   "source": [
    "### UP8: _Change the date of a limited event_"
   ]
  },
  {
   "cell_type": "code",
   "execution_count": null,
   "id": "c650e186",
   "metadata": {},
   "outputs": [],
   "source": []
  },
  {
   "cell_type": "markdown",
   "id": "960ebcb8",
   "metadata": {},
   "source": [
    "### UP9: _Update a messagge in a given chat_"
   ]
  },
  {
   "cell_type": "code",
   "execution_count": null,
   "id": "0359d66f",
   "metadata": {},
   "outputs": [],
   "source": []
  },
  {
   "cell_type": "markdown",
   "id": "717224cd",
   "metadata": {},
   "source": [
    "### UP10: _Update prices of a workshop_"
   ]
  },
  {
   "cell_type": "code",
   "execution_count": null,
   "id": "7890daf4",
   "metadata": {},
   "outputs": [],
   "source": []
  }
 ],
 "metadata": {
  "kernelspec": {
   "display_name": "Python 3",
   "language": "python",
   "name": "python3"
  },
  "language_info": {
   "codemirror_mode": {
    "name": "ipython",
    "version": 3
   },
   "file_extension": ".py",
   "mimetype": "text/x-python",
   "name": "python",
   "nbconvert_exporter": "python",
   "pygments_lexer": "ipython3",
   "version": "3.12.2"
  }
 },
 "nbformat": 4,
 "nbformat_minor": 5
}
