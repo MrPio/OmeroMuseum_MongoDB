{
 "cells": [
  {
   "cell_type": "code",
   "execution_count": 2,
   "id": "e4225935",
   "metadata": {},
   "outputs": [],
   "source": [
    "%load_ext autoreload\n",
    "%autoreload 2\n",
    "from pymongo import MongoClient\n",
    "import sys\n",
    "from pathlib import Path\n",
    "from tqdm import tqdm\n",
    "import json\n",
    "from bson import ObjectId\n",
    "from pprint import pprint\n",
    "from datetime import datetime\n",
    "\n",
    "\n",
    "sys.path.append(str(Path(\"..\").resolve()))\n",
    "from src import *"
   ]
  },
  {
   "cell_type": "markdown",
   "id": "acc257f0",
   "metadata": {},
   "source": [
    "# Update Queries\n",
    "ℹ️ This notebook require the execution of [`1.3-Consistency_Recover`](../1-migration/1.3-Consistency_Recover.ipynb). Or you can just load the snapshop as in the following cell."
   ]
  },
  {
   "cell_type": "markdown",
   "id": "065afc72",
   "metadata": {},
   "source": [
    "## Load post-preprocessing data\n",
    "The following cell reset the `omero_museum` database loading the `4_consistent` snapshot."
   ]
  },
  {
   "cell_type": "code",
   "execution_count": null,
   "id": "e0447318",
   "metadata": {},
   "outputs": [],
   "source": [
    "%%capture\n",
    "MongoClient(\"mongodb://localhost:27017/\").drop_database(\"omero_museum\")\n",
    "!mongorestore --host localhost:27017 --drop --db omero_museum  \"../backup/5_optimized/omero_museum\""
   ]
  },
  {
   "cell_type": "code",
   "execution_count": 3,
   "id": "04e72afd",
   "metadata": {},
   "outputs": [],
   "source": [
    "connector = MongoDBConnector(\"omero_museum\", silent=True)\n",
    "db = connector.db"
   ]
  },
  {
   "cell_type": "markdown",
   "id": "ec831f76",
   "metadata": {},
   "source": [
    "### UP1: _Update the description of a material_"
   ]
  },
  {
   "cell_type": "code",
   "execution_count": 6,
   "id": "c811d15d",
   "metadata": {},
   "outputs": [
    {
     "data": {
      "text/plain": [
       "UpdateResult({'n': 2, 'nModified': 2, 'ok': 1.0, 'updatedExisting': True}, acknowledged=True)"
      ]
     },
     "execution_count": 6,
     "metadata": {},
     "output_type": "execute_result"
    }
   ],
   "source": [
    "old_name = \"Clay\"\n",
    "new_name = \"White Clay\"\n",
    "\n",
    "db.artworks.update_many(\n",
    "    {\"materials\": old_name},\n",
    "    {\"$set\": {\"materials.$[m]\": new_name}},\n",
    "    array_filters=[{\"m\": old_name}],\n",
    ")"
   ]
  },
  {
   "cell_type": "markdown",
   "id": "cbb07951",
   "metadata": {},
   "source": [
    "### UP2: _Check-in a visitor's ticket_"
   ]
  },
  {
   "cell_type": "code",
   "execution_count": 16,
   "id": "f24ad108",
   "metadata": {},
   "outputs": [
    {
     "data": {
      "text/plain": [
       "UpdateResult({'n': 1, 'nModified': 1, 'ok': 1.0, 'updatedExisting': True}, acknowledged=True)"
      ]
     },
     "execution_count": 16,
     "metadata": {},
     "output_type": "execute_result"
    }
   ],
   "source": [
    "ticket_date = datetime(2025, 9, 2, 13, 7, 37)\n",
    "visitor = db.visitors.find_one({\"tickets\": {\"$ne\": None}, \"tickets.0.check_in\": False})\n",
    "visitor_id = visitor[\"_id\"]  # type: ignore\n",
    "ticket_id = visitor[\"tickets\"][0][\"_id\"]  # type: ignore\n",
    "\n",
    "db.visitors.update_one(\n",
    "    {\"_id\": visitor_id},\n",
    "    {\"$set\": {\"tickets.$[t].check_in\": True}},\n",
    "    array_filters=[{\"t._id\": ticket_id}],\n",
    ")"
   ]
  },
  {
   "cell_type": "markdown",
   "id": "9ddaf76f",
   "metadata": {},
   "source": [
    "### UP3: _Update trade information of an artwork_"
   ]
  },
  {
   "cell_type": "code",
   "execution_count": null,
   "id": "9663c8ff",
   "metadata": {},
   "outputs": [
    {
     "data": {
      "text/plain": [
       "UpdateResult({'n': 1, 'nModified': 1, 'ok': 1.0, 'updatedExisting': True}, acknowledged=True)"
      ]
     },
     "execution_count": 15,
     "metadata": {},
     "output_type": "execute_result"
    }
   ],
   "source": [
    "customer_id = db.visitors.find_one({\"is_customer\": True})[\"_id\"]  # type: ignore\n",
    "\n",
    "db.artworks.update_one(\n",
    "    {\"_id\": \"La Notte Stellata\"}, \n",
    "    {\"$set\": {\n",
    "        \"trade.win_price\": 5000,\n",
    "        \"trade.winner_id\": customer_id,\n",
    "    }}\n",
    ")"
   ]
  },
  {
   "cell_type": "markdown",
   "id": "9d05f230",
   "metadata": {},
   "source": [
    "### UP4: _Update information of an artwork_"
   ]
  },
  {
   "cell_type": "code",
   "execution_count": 12,
   "id": "a235bf71",
   "metadata": {},
   "outputs": [
    {
     "data": {
      "text/plain": [
       "UpdateResult({'n': 1, 'nModified': 1, 'ok': 1.0, 'updatedExisting': True}, acknowledged=True)"
      ]
     },
     "execution_count": 12,
     "metadata": {},
     "output_type": "execute_result"
    }
   ],
   "source": [
    "db.artworks.update_one(\n",
    "    {\"_id\": \"La Notte Stellata\"}, \n",
    "    {\"$set\": {\n",
    "        \"isOriginal\": False,\n",
    "        \"tecniques\": [\"painting\"],\n",
    "        \"materials\": [\"Glass\", \"Bronze\"],\n",
    "    }}\n",
    ")"
   ]
  },
  {
   "cell_type": "markdown",
   "id": "3162b340",
   "metadata": {},
   "source": [
    "### UP5: _Update curriculum of an employee_"
   ]
  },
  {
   "cell_type": "code",
   "execution_count": 21,
   "id": "1c83bd83",
   "metadata": {},
   "outputs": [
    {
     "data": {
      "text/plain": [
       "UpdateResult({'n': 0, 'nModified': 0, 'ok': 1.0, 'updatedExisting': False}, acknowledged=True)"
      ]
     },
     "execution_count": 21,
     "metadata": {},
     "output_type": "execute_result"
    }
   ],
   "source": [
    "employee_id = db.roles.find_one()[\"_id\"]  # type: ignore\n",
    "new_curriculum = \"https://linkedin.com/in/matilda-scerbo\"\n",
    "\n",
    "db.employees.update_one(\n",
    "    {\"_id\": employee_id}, {\"$set\": {\"curriculum\": new_curriculum}}\n",
    ")"
   ]
  },
  {
   "cell_type": "markdown",
   "id": "6124e79c",
   "metadata": {},
   "source": [
    "### UP6: _Update employee's department_"
   ]
  },
  {
   "cell_type": "code",
   "execution_count": 22,
   "id": "8e843ff4",
   "metadata": {},
   "outputs": [
    {
     "data": {
      "text/plain": [
       "UpdateResult({'n': 0, 'nModified': 0, 'ok': 1.0, 'updatedExisting': False}, acknowledged=True)"
      ]
     },
     "execution_count": 22,
     "metadata": {},
     "output_type": "execute_result"
    }
   ],
   "source": [
    "employee_id = db.roles.find_one()[\"_id\"]  # type: ignore\n",
    "department_id = db.departments.find_one()[\"_id\"]  # type: ignore\n",
    "\n",
    "db.employees.update_one({\"_id\": employee_id}, {\"$set\": {\"department\": department_id}})"
   ]
  },
  {
   "cell_type": "markdown",
   "id": "018b4bd4",
   "metadata": {},
   "source": [
    "### UP7: _Update the shift of an given employee_"
   ]
  },
  {
   "cell_type": "code",
   "execution_count": 28,
   "id": "3d05cdf5",
   "metadata": {},
   "outputs": [
    {
     "data": {
      "text/plain": [
       "UpdateResult({'n': 1, 'nModified': 1, 'ok': 1.0, 'updatedExisting': True}, acknowledged=True)"
      ]
     },
     "execution_count": 28,
     "metadata": {},
     "output_type": "execute_result"
    }
   ],
   "source": [
    "employee_id = db.roles.find_one()[\"_id\"]  # type: ignore\n",
    "day_of_week = \"sabato\"\n",
    "new_time_start = \"13:00:00\"\n",
    "new_time_end = \"18:30:00\"\n",
    "\n",
    "db.roles.update_one(\n",
    "    {\"_id\": employee_id},\n",
    "    {\n",
    "        \"$set\": {\n",
    "            \"shifts.$[s].time_start\": new_time_start,\n",
    "            \"shifts.$[s].time_end\": new_time_end,\n",
    "        }\n",
    "    },\n",
    "    array_filters=[{\"s.day_of_week\": day_of_week}],\n",
    ")"
   ]
  },
  {
   "cell_type": "markdown",
   "id": "f816eeb5",
   "metadata": {},
   "source": [
    "### UP8: _Change the date of a limited event_"
   ]
  },
  {
   "cell_type": "code",
   "execution_count": null,
   "id": "c650e186",
   "metadata": {},
   "outputs": [
    {
     "data": {
      "text/plain": [
       "UpdateResult({'n': 1, 'nModified': 1, 'ok': 1.0, 'updatedExisting': True}, acknowledged=True)"
      ]
     },
     "execution_count": 10,
     "metadata": {},
     "output_type": "execute_result"
    }
   ],
   "source": [
    "limited_event_id = \"The Future of Mosaic\"\n",
    "\n",
    "db.limited_events.update_one(\n",
    "    {\"_id\": limited_event_id},\n",
    "    {\n",
    "        \"$set\": {\n",
    "            \"startDate\": datetime(2025, 10, 2, 10, 0),\n",
    "            \"endDate\": datetime(2025, 10, 2, 18, 0),\n",
    "        }\n",
    "    },\n",
    ")"
   ]
  },
  {
   "cell_type": "markdown",
   "id": "960ebcb8",
   "metadata": {},
   "source": [
    "### UP9: _Update a message in a given chat_"
   ]
  },
  {
   "cell_type": "code",
   "execution_count": 31,
   "id": "8c549805",
   "metadata": {},
   "outputs": [
    {
     "data": {
      "text/plain": [
       "UpdateResult({'n': 1, 'nModified': 1, 'ok': 1.0, 'updatedExisting': True}, acknowledged=True)"
      ]
     },
     "execution_count": 31,
     "metadata": {},
     "output_type": "execute_result"
    }
   ],
   "source": [
    "message_id = db.visitors.find_one({\"chat.old_messages\": {\"$exists\": True}})[\"chat\"][\"old_messages\"][0]  # type: ignore\n",
    "new_content = \"A new message content\"\n",
    "\n",
    "db.messages.update_one({\"_id\": message_id}, {\"$set\": {\"content\": new_content}})"
   ]
  },
  {
   "cell_type": "markdown",
   "id": "717224cd",
   "metadata": {},
   "source": [
    "### UP10: _Update prices of a workshop_"
   ]
  },
  {
   "cell_type": "code",
   "execution_count": null,
   "id": "7890daf4",
   "metadata": {},
   "outputs": [
    {
     "data": {
      "text/plain": [
       "UpdateResult({'n': 1, 'nModified': 1, 'ok': 1.0, 'updatedExisting': True}, acknowledged=True)"
      ]
     },
     "execution_count": 4,
     "metadata": {},
     "output_type": "execute_result"
    }
   ],
   "source": [
    "workshop_id = \"Pittura su tela\"\n",
    "\n",
    "db.workshops.update_one(\n",
    "    {\"_id\": workshop_id}, {\"$set\": {\"price_person\": 30.00, \"price_class\": 90.00}}\n",
    ")"
   ]
  }
 ],
 "metadata": {
  "kernelspec": {
   "display_name": "Python 3",
   "language": "python",
   "name": "python3"
  },
  "language_info": {
   "codemirror_mode": {
    "name": "ipython",
    "version": 3
   },
   "file_extension": ".py",
   "mimetype": "text/x-python",
   "name": "python",
   "nbconvert_exporter": "python",
   "pygments_lexer": "ipython3",
   "version": "3.10.8"
  }
 },
 "nbformat": 4,
 "nbformat_minor": 5
}
