{
 "cells": [
  {
   "cell_type": "code",
   "execution_count": 22,
   "id": "e4225935",
   "metadata": {},
   "outputs": [
    {
     "name": "stdout",
     "output_type": "stream",
     "text": [
      "The autoreload extension is already loaded. To reload it, use:\n",
      "  %reload_ext autoreload\n"
     ]
    }
   ],
   "source": [
    "%load_ext autoreload\n",
    "%autoreload 2\n",
    "from pymongo import MongoClient\n",
    "import sys\n",
    "from datetime import datetime\n",
    "from pathlib import Path\n",
    "from tqdm import tqdm\n",
    "import json\n",
    "from pprint import pprint\n",
    "\n",
    "sys.path.append(str(Path(\"..\").resolve()))\n",
    "from src import *"
   ]
  },
  {
   "cell_type": "markdown",
   "id": "acc257f0",
   "metadata": {},
   "source": [
    "# Read Queries\n",
    "ℹ️ This notebook require the execution of [`1.3-Consistency_Recover`](../1-migration/1.3-Consistency_Recover.ipynb). Or you can just load the snapshop as in the following cell."
   ]
  },
  {
   "cell_type": "markdown",
   "id": "065afc72",
   "metadata": {},
   "source": [
    "## Load post-preprocessing data\n",
    "The following cell reset the `omero_museum` database loading the `4_consistent` snapshot."
   ]
  },
  {
   "cell_type": "code",
   "execution_count": 3,
   "id": "e0447318",
   "metadata": {},
   "outputs": [],
   "source": [
    "%%capture\n",
    "MongoClient(\"mongodb://localhost:27017/\").drop_database(\"omero_museum\")\n",
    "!mongorestore --host localhost:27017 --drop --db omero_museum  \"../backup/4_consistent/omero_museum\""
   ]
  },
  {
   "cell_type": "code",
   "execution_count": 4,
   "id": "04e72afd",
   "metadata": {},
   "outputs": [
    {
     "name": "stdout",
     "output_type": "stream",
     "text": [
      "The collections of the \u001b[1m\u001b[33momero_museum\u001b[0m db are:\n",
      "----------------------------------------\n",
      "[activities]: \u001b[1m\u001b[31m_id\u001b[0m \u001b[1m\u001b[33mcapacity\u001b[0m \u001b[1m\u001b[32mduration\u001b[0m \u001b[1m\u001b[36menrolled\u001b[0m \u001b[1m\u001b[34mroom\u001b[0m \u001b[1m\u001b[35mstartDate\u001b[0m \u001b[1m\u001b[37mticketIds\u001b[0m \u001b[1m\u001b[90mworkshopTitle\u001b[0m\n",
      "[artworks]: \u001b[1m\u001b[31m_id\u001b[0m \u001b[1m\u001b[33mauthorIds\u001b[0m \u001b[1m\u001b[32mcomments_star_1\u001b[0m \u001b[1m\u001b[36mcomments_star_2\u001b[0m \u001b[1m\u001b[34mcomments_star_3\u001b[0m \u001b[1m\u001b[35mcomments_star_4\u001b[0m \u001b[1m\u001b[37mcomments_star_5\u001b[0m \u001b[1m\u001b[90mdate\u001b[0m \u001b[1m\u001b[91mdescription\u001b[0m \u001b[1m\u001b[93mdonationState\u001b[0m \u001b[1m\u001b[92mdonatorId\u001b[0m \u001b[1m\u001b[96misOriginal\u001b[0m \u001b[1m\u001b[94mlocationName\u001b[0m \u001b[1m\u001b[95mmaterials\u001b[0m \u001b[1m\u001b[31mperiod\u001b[0m \u001b[1m\u001b[33msellerId\u001b[0m \u001b[1m\u001b[32msize\u001b[0m \u001b[1m\u001b[36mtecniques\u001b[0m \u001b[1m\u001b[34mtrade\u001b[0m \u001b[1m\u001b[35mtype\u001b[0m\n",
      "[authors]: \u001b[1m\u001b[31m_id\u001b[0m \u001b[1m\u001b[33mbirth_date\u001b[0m \u001b[1m\u001b[32mgender\u001b[0m \u001b[1m\u001b[36mhome_town\u001b[0m \u001b[1m\u001b[34mname\u001b[0m \u001b[1m\u001b[35msurname\u001b[0m\n",
      "[departments]: \u001b[1m\u001b[31m_id\u001b[0m \u001b[1m\u001b[33mfloor\u001b[0m \u001b[1m\u001b[32mfree_spots\u001b[0m \u001b[1m\u001b[36mroom\u001b[0m\n",
      "[employees]: \u001b[1m\u001b[31m_id\u001b[0m \u001b[1m\u001b[33mbirth_date\u001b[0m \u001b[1m\u001b[32mcurriculum\u001b[0m \u001b[1m\u001b[36mdate_start\u001b[0m \u001b[1m\u001b[34memail\u001b[0m \u001b[1m\u001b[35mgender\u001b[0m \u001b[1m\u001b[37mhometown\u001b[0m \u001b[1m\u001b[90mname\u001b[0m \u001b[1m\u001b[91mphone_number\u001b[0m \u001b[1m\u001b[93msurname\u001b[0m\n",
      "[limited_events]: \u001b[1m\u001b[31m_id\u001b[0m \u001b[1m\u001b[33martist\u001b[0m \u001b[1m\u001b[32martworkTitles\u001b[0m \u001b[1m\u001b[36mauthorIds\u001b[0m \u001b[1m\u001b[34mcapacity\u001b[0m \u001b[1m\u001b[35mdescription\u001b[0m \u001b[1m\u001b[37mendDate\u001b[0m \u001b[1m\u001b[90mroomName\u001b[0m \u001b[1m\u001b[91mstartDate\u001b[0m \u001b[1m\u001b[93mtheme\u001b[0m \u001b[1m\u001b[92mticketIds\u001b[0m \u001b[1m\u001b[96mtype\u001b[0m\n",
      "[messages]: \u001b[1m\u001b[31m_id\u001b[0m \u001b[1m\u001b[33mcontent\u001b[0m \u001b[1m\u001b[32mcustomerId\u001b[0m \u001b[1m\u001b[36mdeliveryStatus\u001b[0m \u001b[1m\u001b[34mlength\u001b[0m \u001b[1m\u001b[35msentDate\u001b[0m \u001b[1m\u001b[37mtype\u001b[0m \u001b[1m\u001b[90muri\u001b[0m\n",
      "[rooms]: \u001b[1m\u001b[31m_id\u001b[0m \u001b[1m\u001b[33mfloor\u001b[0m\n",
      "[suppliers]: \u001b[1m\u001b[31m_id\u001b[0m \u001b[1m\u001b[33memail\u001b[0m \u001b[1m\u001b[32miban\u001b[0m \u001b[1m\u001b[36misMuseum\u001b[0m \u001b[1m\u001b[34misState\u001b[0m \u001b[1m\u001b[35mname\u001b[0m \u001b[1m\u001b[37mphoneNum\u001b[0m \u001b[1m\u001b[90msurveys\u001b[0m\n",
      "[visitors]: \u001b[1m\u001b[31m_id\u001b[0m \u001b[1m\u001b[33mbirthDate\u001b[0m \u001b[1m\u001b[32mchat\u001b[0m \u001b[1m\u001b[36mcomments\u001b[0m \u001b[1m\u001b[34mdonationIds\u001b[0m \u001b[1m\u001b[35memail\u001b[0m \u001b[1m\u001b[37mgender\u001b[0m \u001b[1m\u001b[90mimpairment\u001b[0m \u001b[1m\u001b[91misCustomer\u001b[0m \u001b[1m\u001b[93mland\u001b[0m \u001b[1m\u001b[92mname\u001b[0m \u001b[1m\u001b[96mphoneNum\u001b[0m \u001b[1m\u001b[94msaleIds\u001b[0m \u001b[1m\u001b[95msurname\u001b[0m \u001b[1m\u001b[31msurveys\u001b[0m \u001b[1m\u001b[33mtickets\u001b[0m \u001b[1m\u001b[32mtradeIds\u001b[0m\n",
      "[workshops]: \u001b[1m\u001b[31m_id\u001b[0m \u001b[1m\u001b[33mduration\u001b[0m \u001b[1m\u001b[32mprice_class\u001b[0m \u001b[1m\u001b[36mprice_person\u001b[0m \u001b[1m\u001b[34mtype\u001b[0m\n"
     ]
    }
   ],
   "source": [
    "connector = MongoDBConnector(\"omero_museum\")\n",
    "db = connector.db"
   ]
  },
  {
   "cell_type": "markdown",
   "id": "ec831f76",
   "metadata": {},
   "source": [
    "### RD1: _Read all the information of a given artwork, including its authors, materials, crafting techniques and room placement_"
   ]
  },
  {
   "cell_type": "code",
   "execution_count": null,
   "id": "df3d0251",
   "metadata": {},
   "outputs": [],
   "source": [
    "artwork = \"Mona Lisa\"\n",
    "doc = db.artworks.find_one({\"_id\": artwork})\n",
    "pprint(doc,width=120)"
   ]
  },
  {
   "cell_type": "markdown",
   "id": "186dff73",
   "metadata": {},
   "source": [
    "### RD2: _Read the last 10 comments of a given artwork_"
   ]
  },
  {
   "cell_type": "code",
   "execution_count": null,
   "id": "125abbc2",
   "metadata": {},
   "outputs": [],
   "source": [
    "pipeline = [\n",
    "    {\"$match\": {\"_id\": \"Mona Lisa\"}},\n",
    "    {\"$project\": {\n",
    "        \"all_comments\": {\n",
    "            \"$concatArrays\": [\n",
    "                \"$comments_star_1\",\n",
    "                \"$comments_star_2\",\n",
    "                \"$comments_star_3\",\n",
    "                \"$comments_star_4\",\n",
    "                \"$comments_star_5\"\n",
    "            ]\n",
    "        }\n",
    "    }},\n",
    "    {\"$unwind\": \"$all_comments\"},\n",
    "    {\"$sort\": {\"all_comments.date\": -1}},\n",
    "    {\"$limit\": 10},\n",
    "    {\"$replaceRoot\": {\"newRoot\": \"$all_comments\"}}\n",
    "]\n",
    "\n",
    "last_10_comments = list(db.artworks.aggregate(pipeline))\n",
    "pprint(last_10_comments, width=120)"
   ]
  },
  {
   "cell_type": "markdown",
   "id": "308815fe",
   "metadata": {},
   "source": [
    "### RD3: _Calculate the average rating of a given artwork_"
   ]
  },
  {
   "cell_type": "code",
   "execution_count": 12,
   "id": "bb07e364",
   "metadata": {},
   "outputs": [
    {
     "name": "stdout",
     "output_type": "stream",
     "text": [
      "Average rating: 3.0\n"
     ]
    }
   ],
   "source": [
    "pipeline_avg = [\n",
    "    {\"$match\": {\"_id\": \"Mona Lisa\"}},\n",
    "    {\"$project\": {\n",
    "        \"all_comments\": {\n",
    "            \"$concatArrays\": [\n",
    "                \"$comments_star_1\",\n",
    "                \"$comments_star_2\",\n",
    "                \"$comments_star_3\",\n",
    "                \"$comments_star_4\",\n",
    "                \"$comments_star_5\"\n",
    "            ]\n",
    "        }\n",
    "    }},\n",
    "    {\"$unwind\": \"$all_comments\"},\n",
    "    {\"$group\": {\n",
    "        \"_id\": None,\n",
    "        \"avg_rating\": {\"$avg\": \"$all_comments.rating\"}\n",
    "    }}\n",
    "]\n",
    "\n",
    "avg_rating_result = list(db.artworks.aggregate(pipeline_avg))\n",
    "print(\"Average rating:\", avg_rating_result[0][\"avg_rating\"] if avg_rating_result else None)"
   ]
  },
  {
   "cell_type": "markdown",
   "id": "94a5a34e",
   "metadata": {},
   "source": [
    "### RD4: _Calculate the average rating of the comments posted by a given customer_"
   ]
  },
  {
   "cell_type": "code",
   "execution_count": 14,
   "id": "ad85353a",
   "metadata": {},
   "outputs": [
    {
     "name": "stdout",
     "output_type": "stream",
     "text": [
      "Average rating by customer: 3.3333333333333335\n"
     ]
    }
   ],
   "source": [
    "# RD4: Calcola la media dei rating dei commenti postati da uno specifico customer (pipeline MongoDB)\n",
    "\n",
    "customer_id = 0\n",
    "\n",
    "pipeline = [\n",
    "    {\"$match\": {\"_id\": customer_id}},\n",
    "    {\"$unwind\": \"$comments\"},\n",
    "    {\"$group\": {\n",
    "        \"_id\": \"$_id\",\n",
    "        \"avg_rating\": {\"$avg\": \"$comments.rating\"}\n",
    "    }}\n",
    "]\n",
    "\n",
    "result = list(db.visitors.aggregate(pipeline))\n",
    "print(\"Average rating by customer:\", result[0][\"avg_rating\"] if result else None)"
   ]
  },
  {
   "cell_type": "markdown",
   "id": "7aa9549b",
   "metadata": {},
   "source": [
    "### RD5: _Read all the comments of a given artwork with a given rating_"
   ]
  },
  {
   "cell_type": "code",
   "execution_count": null,
   "id": "14408f44",
   "metadata": {},
   "outputs": [],
   "source": [
    "artwork_id = \"Mona Lisa\"\n",
    "desired_rating = 4\n",
    "\n",
    "pipeline = [\n",
    "    {\"$match\": {\"_id\": artwork_id}},\n",
    "    {\"$project\": {\n",
    "        \"all_comments\": {\n",
    "            \"$concatArrays\": [\n",
    "                \"$comments_star_1\",\n",
    "                \"$comments_star_2\",\n",
    "                \"$comments_star_3\",\n",
    "                \"$comments_star_4\",\n",
    "                \"$comments_star_5\"\n",
    "            ]\n",
    "        }\n",
    "    }},\n",
    "    {\"$unwind\": \"$all_comments\"},\n",
    "    {\"$match\": {\"all_comments.rating\": desired_rating}},\n",
    "    {\"$replaceRoot\": {\"newRoot\": \"$all_comments\"}}\n",
    "]\n",
    "\n",
    "comments_with_rating = list(db.artworks.aggregate(pipeline))\n",
    "pprint(comments_with_rating, width=120)"
   ]
  },
  {
   "cell_type": "markdown",
   "id": "0e58b6c3",
   "metadata": {},
   "source": [
    "### RD6: _Read all the surveys, relative to this museum, filled out in a specific year_"
   ]
  },
  {
   "cell_type": "code",
   "execution_count": null,
   "id": "60805161",
   "metadata": {},
   "outputs": [],
   "source": [
    "museum_id = 12\n",
    "year = 2021\n",
    "\n",
    "pipeline = [\n",
    "    {\"$match\": {\"_id\": museum_id, \"isMuseum\": True}},\n",
    "    {\"$unwind\": \"$surveys\"},\n",
    "    {\"$addFields\": {\n",
    "        \"survey_year\": {\"$year\": \"$surveys.date_of_compilation\"}\n",
    "    }},\n",
    "    {\"$match\": {\"survey_year\": year}},\n",
    "    {\"$replaceRoot\": {\"newRoot\": \"$surveys\"}}\n",
    "]\n",
    "\n",
    "surveys_in_year = list(db.suppliers.aggregate(pipeline))\n",
    "pprint(surveys_in_year, width=120)"
   ]
  },
  {
   "cell_type": "markdown",
   "id": "49179c66",
   "metadata": {},
   "source": [
    "### RD7: _Read all the surveys filled out by a specific customer_"
   ]
  },
  {
   "cell_type": "code",
   "execution_count": null,
   "id": "2eaad2dd",
   "metadata": {},
   "outputs": [],
   "source": [
    "customer_id = 0\n",
    "\n",
    "pipeline = [\n",
    "    {\"$match\": {\"_id\": customer_id, \"isCustomer\": True}},\n",
    "    {\"$unwind\": \"$surveys\"},\n",
    "    {\"$replaceRoot\": {\"newRoot\": \"$surveys\"}}\n",
    "]\n",
    "\n",
    "customer_surveys = list(db.visitors.aggregate(pipeline))\n",
    "pprint(customer_surveys, width=120)"
   ]
  },
  {
   "cell_type": "markdown",
   "id": "f6800446",
   "metadata": {},
   "source": [
    "### RD8: _Read all the surveys from a specific affiliated museum_"
   ]
  },
  {
   "cell_type": "code",
   "execution_count": null,
   "id": "5c7da5f0",
   "metadata": {},
   "outputs": [],
   "source": [
    "affiliated_museum_id = 12\n",
    "\n",
    "pipeline = [\n",
    "    {\"$match\": {\"_id\": affiliated_museum_id, \"isMuseum\": True}},\n",
    "    {\"$unwind\": \"$surveys\"},\n",
    "    {\"$replaceRoot\": {\"newRoot\": \"$surveys\"}}\n",
    "]\n",
    "\n",
    "affiliated_museum_surveys = list(db.suppliers.aggregate(pipeline))\n",
    "pprint(affiliated_museum_surveys, width=120)"
   ]
  },
  {
   "cell_type": "markdown",
   "id": "7d4fce48",
   "metadata": {},
   "source": [
    "### RD9: _Read all tickets of a visitor_"
   ]
  },
  {
   "cell_type": "code",
   "execution_count": null,
   "id": "a8810f5d",
   "metadata": {},
   "outputs": [],
   "source": [
    "visitor_id = 0\n",
    "\n",
    "pipeline = [\n",
    "    {\"$match\": {\"_id\": visitor_id}},\n",
    "    {\"$unwind\": \"$tickets\"},\n",
    "    {\"$replaceRoot\": {\"newRoot\": \"$tickets\"}}\n",
    "]\n",
    "\n",
    "visitor_tickets = list(db.visitors.aggregate(pipeline))\n",
    "pprint(visitor_tickets, width=120)"
   ]
  },
  {
   "cell_type": "markdown",
   "id": "823cdd08",
   "metadata": {},
   "source": [
    "### RD10: _Read all tickets for an event_"
   ]
  },
  {
   "cell_type": "code",
   "execution_count": null,
   "id": "9cfeddc4",
   "metadata": {},
   "outputs": [
    {
     "name": "stdout",
     "output_type": "stream",
     "text": [
      "[]\n"
     ]
    }
   ],
   "source": []
  },
  {
   "cell_type": "markdown",
   "id": "b2b866b3",
   "metadata": {},
   "source": [
    "### RD11: _Count tickets issued in a year_"
   ]
  },
  {
   "cell_type": "code",
   "execution_count": null,
   "id": "dca9f6d5",
   "metadata": {},
   "outputs": [],
   "source": []
  },
  {
   "cell_type": "markdown",
   "id": "64d236cf",
   "metadata": {},
   "source": [
    "### RD12: _Read 10 messages of a given chat previous than a specific date_"
   ]
  },
  {
   "cell_type": "code",
   "execution_count": null,
   "id": "2adaeb72",
   "metadata": {},
   "outputs": [],
   "source": [
    "customer_id = 0\n",
    "date_limit = datetime(2025, 8, 25, 0, 0, 0)\n",
    "\n",
    "pipeline = [\n",
    "    {\"$match\": {\"_id\": customer_id}},\n",
    "    {\"$unwind\": \"$chat.new_messages\"},\n",
    "    {\"$match\": {\"chat.new_messages.sentDate\": {\"$lt\": date_limit}}},\n",
    "    {\"$sort\": {\"chat.new_messages.sentDate\": -1}},\n",
    "    {\"$limit\": 10},\n",
    "    {\"$replaceRoot\": {\"newRoot\": \"$chat.new_messages\"}}\n",
    "]\n",
    "\n",
    "messages = list(db.visitors.aggregate(pipeline))\n",
    "pprint(messages, width=120)"
   ]
  },
  {
   "cell_type": "markdown",
   "id": "0d725108",
   "metadata": {},
   "source": [
    "### RD13: _Read active chats for a guide_ (correction json first)"
   ]
  },
  {
   "cell_type": "code",
   "execution_count": null,
   "id": "bd83d690",
   "metadata": {},
   "outputs": [],
   "source": []
  },
  {
   "cell_type": "markdown",
   "id": "ef61284f",
   "metadata": {},
   "source": [
    "### RD14: _Count chats opened in a year_"
   ]
  },
  {
   "cell_type": "code",
   "execution_count": 24,
   "id": "8f00894f",
   "metadata": {},
   "outputs": [
    {
     "name": "stdout",
     "output_type": "stream",
     "text": [
      "Chats opened in 2025 : 12\n"
     ]
    }
   ],
   "source": [
    "year = 2025\n",
    "\n",
    "pipeline = [\n",
    "    {\"$match\": {\"isCustomer\": True, \"chat.date_creation\": {\"$exists\": True}}},\n",
    "    {\"$addFields\": {\"chat_year\": {\"$year\": \"$chat.date_creation\"}}},\n",
    "    {\"$match\": {\"chat_year\": year}},\n",
    "    {\"$count\": \"opened_chats\"}\n",
    "]\n",
    "\n",
    "result = list(db.visitors.aggregate(pipeline))\n",
    "print(\"Chats opened in\", year, \":\", result[0][\"opened_chats\"] if result else 0)"
   ]
  },
  {
   "cell_type": "markdown",
   "id": "1b1641e7",
   "metadata": {},
   "source": [
    "### RD15: _Retrieve the artwork of a trade_"
   ]
  },
  {
   "cell_type": "code",
   "execution_count": null,
   "id": "3efc98ef",
   "metadata": {},
   "outputs": [],
   "source": []
  },
  {
   "cell_type": "markdown",
   "id": "f5291eb5",
   "metadata": {},
   "source": [
    "### RD16: _Count trades in a given year_"
   ]
  },
  {
   "cell_type": "code",
   "execution_count": 25,
   "id": "81a87d38",
   "metadata": {},
   "outputs": [
    {
     "name": "stdout",
     "output_type": "stream",
     "text": [
      "Trades in 2025 : 20\n"
     ]
    }
   ],
   "source": [
    "trade_year = 2025\n",
    "\n",
    "pipeline_count_trades = [\n",
    "    {\"$match\": {\"trade.date_start\": {\"$exists\": True}}},\n",
    "    {\"$addFields\": {\"trade_year\": {\"$year\": \"$trade.date_start\"}}},\n",
    "    {\"$match\": {\"trade_year\": trade_year}},\n",
    "    {\"$count\": \"trades_in_year\"}\n",
    "]\n",
    "\n",
    "trades_in_year = list(db.artworks.aggregate(pipeline_count_trades))\n",
    "print(\"Trades in\", trade_year, \":\", trades_in_year[0][\"trades_in_year\"] if trades_in_year else 0)"
   ]
  },
  {
   "cell_type": "markdown",
   "id": "13e976df",
   "metadata": {},
   "source": [
    "### RD17: _Retrieve the customer of a given artwork_"
   ]
  },
  {
   "cell_type": "code",
   "execution_count": null,
   "id": "7c15f2b7",
   "metadata": {},
   "outputs": [],
   "source": []
  },
  {
   "cell_type": "markdown",
   "id": "8f39b9ee",
   "metadata": {},
   "source": [
    "### RD18: _Retrieve all artwork inside a given room_"
   ]
  },
  {
   "cell_type": "code",
   "execution_count": null,
   "id": "eded9158",
   "metadata": {},
   "outputs": [],
   "source": []
  },
  {
   "cell_type": "markdown",
   "id": "1b3730e0",
   "metadata": {},
   "source": [
    "### RD19: _Retrieve all artwork of a given author_"
   ]
  },
  {
   "cell_type": "code",
   "execution_count": null,
   "id": "5aa5c3b7",
   "metadata": {},
   "outputs": [],
   "source": [
    "author_id = \"68b572f8845fcdbabc1c8905\"\n",
    "artworks_by_author = list(db.artworks.aggregate([\n",
    "    {\"$match\": {\"authorIds\": author_id}}\n",
    "]))\n",
    "pprint(artworks_by_author, width=120)"
   ]
  },
  {
   "cell_type": "markdown",
   "id": "6fcdcd08",
   "metadata": {},
   "source": [
    "### RD20: _Retrieve all activity of a given workshop type_"
   ]
  },
  {
   "cell_type": "code",
   "execution_count": null,
   "id": "299f2151",
   "metadata": {},
   "outputs": [],
   "source": [
    "workshop_title = \"Uno solo... ma tanti\"\n",
    "workshop_activities = list(db.activities.aggregate([\n",
    "    {\"$match\": {\"workshopTitle\": workshop_title}}\n",
    "]))\n",
    "pprint(workshop_activities, width=120)"
   ]
  },
  {
   "cell_type": "markdown",
   "id": "9230c4f1",
   "metadata": {},
   "source": [
    "### RD21: _Retrieve all the employee of a given department_"
   ]
  },
  {
   "cell_type": "code",
   "execution_count": null,
   "id": "4fe0df69",
   "metadata": {},
   "outputs": [],
   "source": []
  },
  {
   "cell_type": "markdown",
   "id": "3d327d38",
   "metadata": {},
   "source": [
    "### RD22: _Read all the surveys filled out in a specific day_"
   ]
  },
  {
   "cell_type": "code",
   "execution_count": null,
   "id": "bf91a8d0",
   "metadata": {},
   "outputs": [],
   "source": [
    "specific_day = datetime(2021, 4, 22)\n",
    "\n",
    "pipeline = [\n",
    "    {\"$unwind\": \"$surveys\"},\n",
    "    {\"$addFields\": {\n",
    "        \"survey_date\": {\n",
    "            \"$dateToString\": {\"format\": \"%Y-%m-%d\", \"date\": \"$surveys.date_of_compilation\"}\n",
    "        }\n",
    "    }},\n",
    "    {\"$match\": {\"survey_date\": specific_day.strftime(\"%Y-%m-%d\")}},\n",
    "    {\"$replaceRoot\": {\"newRoot\": \"$surveys\"}}\n",
    "]\n",
    "\n",
    "surveys_on_day = list(db.suppliers.aggregate(pipeline))\n",
    "pprint(surveys_on_day, width=120)"
   ]
  },
  {
   "cell_type": "markdown",
   "id": "c38fe729",
   "metadata": {},
   "source": [
    "### RD23: _Retrive information about a given laboratory activity, including the total number of reservations_"
   ]
  },
  {
   "cell_type": "code",
   "execution_count": null,
   "id": "3a1bcfca",
   "metadata": {},
   "outputs": [],
   "source": [
    "activity_id = 0\n",
    "\n",
    "pipeline = [\n",
    "    {\"$match\": {\"_id\": activity_id}},\n",
    "    {\"$addFields\": {\"total_reservations\": {\"$size\": \"$ticketIds\"}}}\n",
    "]\n",
    "\n",
    "activity_info = list(db.activities.aggregate(pipeline))\n",
    "pprint(activity_info, width=120)"
   ]
  },
  {
   "cell_type": "markdown",
   "id": "897edea8",
   "metadata": {},
   "source": [
    "### RD24: _View details about an employee, including their work shifts_"
   ]
  },
  {
   "cell_type": "code",
   "execution_count": null,
   "id": "cd16179c",
   "metadata": {},
   "outputs": [],
   "source": []
  },
  {
   "cell_type": "markdown",
   "id": "53b6368d",
   "metadata": {},
   "source": [
    "### RD25: _Retrive all the information about a limited event_ "
   ]
  },
  {
   "cell_type": "code",
   "execution_count": null,
   "id": "c5b1134b",
   "metadata": {},
   "outputs": [],
   "source": [
    "event_id = \"Digital Preservation of Cultural Heritage\"\n",
    "event_info = db.limited_events.find_one({\"_id\": event_id})\n",
    "pprint(event_info, width=120)"
   ]
  },
  {
   "cell_type": "markdown",
   "id": "b8ab0262",
   "metadata": {},
   "source": [
    "### RD26: _Retrive all the details of a visitor_ "
   ]
  },
  {
   "cell_type": "code",
   "execution_count": null,
   "id": "a493cf35",
   "metadata": {},
   "outputs": [],
   "source": [
    "visitor_id = 0\n",
    "visitor_info = db.visitors.find_one({\"_id\": visitor_id})\n",
    "pprint(visitor_info, width=120)"
   ]
  },
  {
   "cell_type": "markdown",
   "id": "e5038148",
   "metadata": {},
   "source": [
    "### RD27: _Retrive the visitor count for each land from most frequent to least frequent_ "
   ]
  },
  {
   "cell_type": "code",
   "execution_count": null,
   "id": "be5a04d3",
   "metadata": {},
   "outputs": [],
   "source": [
    "pipeline = [\n",
    "    {\"$group\": {\n",
    "        \"_id\": \"$land\",\n",
    "        \"visitorCount\": {\"$sum\": 1}\n",
    "    }},\n",
    "    {\"$sort\": {\"visitorCount\": -1}}\n",
    "]\n",
    "\n",
    "result = list(db.visitors.aggregate(pipeline))\n",
    "pprint(result, width=120)"
   ]
  },
  {
   "cell_type": "markdown",
   "id": "6929d187",
   "metadata": {},
   "source": [
    "### RD28: _Retrive the visitor count for each impairment from most frequent to least frequent_ "
   ]
  },
  {
   "cell_type": "code",
   "execution_count": null,
   "id": "c4c7d601",
   "metadata": {},
   "outputs": [],
   "source": [
    "pipeline = [\n",
    "    {\"$group\": {\n",
    "        \"_id\": \"$impairment\",\n",
    "        \"visitorCount\": {\"$sum\": 1}\n",
    "    }},\n",
    "    {\"$sort\": {\"visitorCount\": -1}}\n",
    "]\n",
    "\n",
    "result = list(db.visitors.aggregate(pipeline))\n",
    "pprint(result, width=120)"
   ]
  },
  {
   "cell_type": "markdown",
   "id": "4eb41253",
   "metadata": {},
   "source": [
    "### RD29: _Retrive the artwork count for each author from most frequent to least frequent_ "
   ]
  },
  {
   "cell_type": "code",
   "execution_count": null,
   "id": "6bca9473",
   "metadata": {},
   "outputs": [],
   "source": []
  },
  {
   "cell_type": "markdown",
   "id": "2885f9ad",
   "metadata": {},
   "source": [
    "### RD30: _Count the average age of participants at a given activity who completed the survey._ "
   ]
  },
  {
   "cell_type": "code",
   "execution_count": null,
   "id": "f0c53e99",
   "metadata": {},
   "outputs": [],
   "source": []
  }
 ],
 "metadata": {
  "kernelspec": {
   "display_name": "Python 3",
   "language": "python",
   "name": "python3"
  },
  "language_info": {
   "codemirror_mode": {
    "name": "ipython",
    "version": 3
   },
   "file_extension": ".py",
   "mimetype": "text/x-python",
   "name": "python",
   "nbconvert_exporter": "python",
   "pygments_lexer": "ipython3",
   "version": "3.12.2"
  }
 },
 "nbformat": 4,
 "nbformat_minor": 5
}
