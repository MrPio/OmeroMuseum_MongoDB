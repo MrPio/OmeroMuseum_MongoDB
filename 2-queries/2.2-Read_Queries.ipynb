{
 "cells": [
  {
   "cell_type": "code",
   "execution_count": 105,
   "id": "e4225935",
   "metadata": {},
   "outputs": [
    {
     "name": "stdout",
     "output_type": "stream",
     "text": [
      "The autoreload extension is already loaded. To reload it, use:\n",
      "  %reload_ext autoreload\n"
     ]
    }
   ],
   "source": [
    "%load_ext autoreload\n",
    "%autoreload 2\n",
    "from pymongo import MongoClient\n",
    "import sys\n",
    "from datetime import datetime\n",
    "from pathlib import Path\n",
    "from tqdm import tqdm \n",
    "import json\n",
    "from pprint import pprint\n",
    "from bson import ObjectId\n",
    "\n",
    "sys.path.append(str(Path(\"..\").resolve()))\n",
    "from src import *"
   ]
  },
  {
   "cell_type": "markdown",
   "id": "acc257f0",
   "metadata": {},
   "source": [
    "# Read Queries\n",
    "ℹ️ This notebook require the execution of [`1.3-Consistency_Recover`](../1-migration/1.3-Consistency_Recover.ipynb). Or you can just load the snapshop as in the following cell."
   ]
  },
  {
   "cell_type": "markdown",
   "id": "065afc72",
   "metadata": {},
   "source": [
    "## Load post-preprocessing data\n",
    "The following cell reset the `omero_museum` database loading the `4_consistent` snapshot."
   ]
  },
  {
   "cell_type": "code",
   "execution_count": 50,
   "id": "e0447318",
   "metadata": {},
   "outputs": [],
   "source": [
    "%%capture\n",
    "MongoClient(\"mongodb://localhost:27017/\").drop_database(\"omero_museum\")\n",
    "!mongorestore --host localhost:27017 --drop --db omero_museum  \"../backup/5_optimized/omero_museum\""
   ]
  },
  {
   "cell_type": "code",
   "execution_count": 2,
   "id": "04e72afd",
   "metadata": {},
   "outputs": [],
   "source": [
    "connector = MongoDBConnector(\"omero_museum\", silent=True)\n",
    "db = connector.db"
   ]
  },
  {
   "cell_type": "markdown",
   "id": "e420a2ac",
   "metadata": {},
   "source": [
    "## Artworks"
   ]
  },
  {
   "cell_type": "markdown",
   "id": "ec831f76",
   "metadata": {},
   "source": [
    "### RD1: _Read all the information of a given artwork, including its authors, materials, crafting techniques and room placement_"
   ]
  },
  {
   "cell_type": "code",
   "execution_count": null,
   "id": "df3d0251",
   "metadata": {},
   "outputs": [
    {
     "name": "stdout",
     "output_type": "stream",
     "text": [
      " {\n",
      "     \u001b[1m\u001b[31m_id\u001b[0m : \u001b[1m\u001b[32mMona Lisa\u001b[0m\n",
      "     \u001b[1m\u001b[31mdate\u001b[0m : \u001b[1m\u001b[37m2025-08-26 15:53:12\u001b[0m\n",
      "     \u001b[1m\u001b[31mtype\u001b[0m : \u001b[1m\u001b[32mrelief\u001b[0m\n",
      "     \u001b[1m\u001b[31mdescription\u001b[0m : \u001b[1m\u001b[32m“Il Partenone racchiude un’armonica sintesi di utilità, solidità e piacevolezza”, Vitruvio da “De Architectura”.\u001b[0m\n",
      "     \u001b[1m\u001b[31mis_original\u001b[0m : \u001b[1m\u001b[36mFalse\u001b[0m\n",
      "     \u001b[1m\u001b[31msize\u001b[0m : \u001b[1m\u001b[34m230\u001b[0m\n",
      "     \u001b[1m\u001b[31mperiod\u001b[0m : \u001b[1m\u001b[32mBaroque\u001b[0m\n",
      "     \u001b[1m\u001b[31mlocation_name\u001b[0m : \u001b[1m\u001b[32mGaiana\u001b[0m\n",
      "     \u001b[1m\u001b[31mtecniques\u001b[0m : \u001b[1m\u001b[33m[DigitalArt, OilPainting]\u001b[0m\n",
      "     \u001b[1m\u001b[31mmaterials\u001b[0m : \u001b[1m\u001b[33m[Clay, Canvas, Textile, Marble]\u001b[0m\n",
      "     \u001b[1m\u001b[31mauthors\u001b[0m : \u001b[1m\u001b[33m[Giacomo Balla]\u001b[0m\n",
      " }\n"
     ]
    }
   ],
   "source": [
    "artwork_id = \"Mona Lisa\"\n",
    "out = db.artworks.aggregate(\n",
    "    [\n",
    "        {\"$match\": {\"_id\": artwork_id}},\n",
    "        {\n",
    "            \"$lookup\": {\n",
    "                \"from\": \"authors\",\n",
    "                \"localField\": \"author_ids\",\n",
    "                \"foreignField\": \"_id\",\n",
    "                \"as\": \"authors\",\n",
    "            }\n",
    "        },\n",
    "        {\n",
    "            \"$project\": {\n",
    "                \"title\": 1,\n",
    "                \"date\": 1,\n",
    "                \"type\": 1,\n",
    "                \"description\": 1,\n",
    "                \"is_original\": 1,\n",
    "                \"size\": 1,\n",
    "                \"period\": 1,\n",
    "                \"location_name\": 1,\n",
    "                \"tecniques\": 1,\n",
    "                \"materials\": 1,\n",
    "                \"authors\": {\n",
    "                    \"$map\": {\n",
    "                        \"input\": \"$authors\",\n",
    "                        \"as\": \"a\",\n",
    "                        \"in\": {\"$concat\": [\"$$a.name\", \" \", \"$$a.surname\"]},\n",
    "                    }\n",
    "                },\n",
    "            }\n",
    "        },\n",
    "    ]\n",
    ").next()\n",
    "jprint(out)"
   ]
  },
  {
   "cell_type": "markdown",
   "id": "186dff73",
   "metadata": {},
   "source": [
    "### RD2: _Read the last 10 comments of a given artwork_"
   ]
  },
  {
   "cell_type": "code",
   "execution_count": null,
   "id": "125abbc2",
   "metadata": {},
   "outputs": [
    {
     "name": "stdout",
     "output_type": "stream",
     "text": [
      " {\n",
      "     \u001b[1m\u001b[31m_id\u001b[0m : \u001b[1m\u001b[32mThe Starry Night\u001b[0m\n",
      "     \u001b[1m\u001b[31mall_comments\u001b[0m :\n",
      "     [\n",
      "        \n",
      "         {\n",
      "             \u001b[1m\u001b[31m_id\u001b[0m : \u001b[1m\u001b[37m68bc20d4dd41b3717d3d7a1c\u001b[0m\n",
      "             \u001b[1m\u001b[31mrating\u001b[0m : \u001b[1m\u001b[34m1\u001b[0m\n",
      "             \u001b[1m\u001b[31mdate\u001b[0m : \u001b[1m\u001b[37m2025-08-29 20:35:46\u001b[0m\n",
      "             \u001b[1m\u001b[31mmessage\u001b[0m : \u001b[1m\u001b[32mStesso corso meglio spingere. Passare termine costringere riva trattare bene pane.\n",
      "Scorrere occhio fresco idea qua. Valere monte prato signorina notevole.\u001b[0m\n",
      "         }\n",
      "        \n",
      "         {\n",
      "             \u001b[1m\u001b[31m_id\u001b[0m : \u001b[1m\u001b[37m68bc20d4dd41b3717d3d7a2f\u001b[0m\n",
      "             \u001b[1m\u001b[31mrating\u001b[0m : \u001b[1m\u001b[34m1\u001b[0m\n",
      "             \u001b[1m\u001b[31mdate\u001b[0m : \u001b[1m\u001b[37m2025-08-09 05:30:19\u001b[0m\n",
      "             \u001b[1m\u001b[31mmessage\u001b[0m : \u001b[1m\u001b[32mSecondo nuovo arte difesa salvare sorella. Non caso dipendere fino freddo armare avanzare.\n",
      "Credere fiducia cattolico possibilità condurre esperienza. Rispondere dopo orecchio offrire ricco.\u001b[0m\n",
      "         }\n",
      "        \n",
      "         {\n",
      "             \u001b[1m\u001b[31m_id\u001b[0m : \u001b[1m\u001b[37m68bc20d4dd41b3717d3d79dd\u001b[0m\n",
      "             \u001b[1m\u001b[31mrating\u001b[0m : \u001b[1m\u001b[34m1\u001b[0m\n",
      "             \u001b[1m\u001b[31mdate\u001b[0m : \u001b[1m\u001b[37m2025-08-31 15:50:37\u001b[0m\n",
      "             \u001b[1m\u001b[31mmessage\u001b[0m : \u001b[1m\u001b[32mPeccato sperare famoso russo bambino. Preoccupare pietà costruire aspetto ora. Quadro baciare fatto milione speranza insieme felice mondo.\u001b[0m\n",
      "         }\n",
      "        \n",
      "         {\n",
      "             \u001b[1m\u001b[31m_id\u001b[0m : \u001b[1m\u001b[37m68bc20d4dd41b3717d3d7908\u001b[0m\n",
      "             \u001b[1m\u001b[31mrating\u001b[0m : \u001b[1m\u001b[34m2\u001b[0m\n",
      "             \u001b[1m\u001b[31mdate\u001b[0m : \u001b[1m\u001b[37m2025-08-14 21:12:48\u001b[0m\n",
      "             \u001b[1m\u001b[31mmessage\u001b[0m : \u001b[1m\u001b[32mCaro quale impossibile guardare generale. Condizione affrontare neanche tu peccato. Toccare cura coraggio roba termine colpo via. Annunciare li esso dimostrare.\n",
      "Vestito seguito là sonno dormire.\u001b[0m\n",
      "         }\n",
      "        \n",
      "         {\n",
      "             \u001b[1m\u001b[31m_id\u001b[0m : \u001b[1m\u001b[37m68bc20d4dd41b3717d3d78ef\u001b[0m\n",
      "             \u001b[1m\u001b[31mrating\u001b[0m : \u001b[1m\u001b[34m3\u001b[0m\n",
      "             \u001b[1m\u001b[31mdate\u001b[0m : \u001b[1m\u001b[37m2025-08-15 00:25:43\u001b[0m\n",
      "             \u001b[1m\u001b[31mmessage\u001b[0m : \u001b[1m\u001b[32mVista isola ritornare. Basso bastare liberare pregare vino.\n",
      "Riportare ora proporre decisione ricordo mattina. Quadro antico e volontà.\u001b[0m\n",
      "         }\n",
      "        \n",
      "         {\n",
      "             \u001b[1m\u001b[31m_id\u001b[0m : \u001b[1m\u001b[37m68bc20d4dd41b3717d3d7984\u001b[0m\n",
      "             \u001b[1m\u001b[31mrating\u001b[0m : \u001b[1m\u001b[34m3\u001b[0m\n",
      "             \u001b[1m\u001b[31mdate\u001b[0m : \u001b[1m\u001b[37m2025-09-03 05:18:18\u001b[0m\n",
      "             \u001b[1m\u001b[31mmessage\u001b[0m : \u001b[1m\u001b[32mOffrire sorridere pace arrestare tra. Sogno corsa atteggiamento pietra scala succedere espressione operazione.\u001b[0m\n",
      "         }\n",
      "     ]\n",
      " }\n"
     ]
    }
   ],
   "source": [
    "artwork_id = \"The Starry Night\"\n",
    "\n",
    "pipeline = [\n",
    "    {\"$match\": {\"_id\": artwork_id}},\n",
    "    {\n",
    "        \"$project\": {\n",
    "            \"all_comments\": {\n",
    "                \"$concatArrays\": [f\"$comments_star_{s}\" for s in range(1, 6)]\n",
    "            }\n",
    "        }\n",
    "    },\n",
    "    {\"$sort\": {\"all_comments.date\": -1}},\n",
    "    {\"$limit\": 10},\n",
    "]\n",
    "out = db.artworks.aggregate(pipeline).next()\n",
    "jprint(out)"
   ]
  },
  {
   "cell_type": "markdown",
   "id": "308815fe",
   "metadata": {},
   "source": [
    "### RD3: _Calculate the average rating of a given artwork_"
   ]
  },
  {
   "cell_type": "code",
   "execution_count": null,
   "id": "bb07e364",
   "metadata": {},
   "outputs": [
    {
     "name": "stdout",
     "output_type": "stream",
     "text": [
      " [\n",
      "    \n",
      "     {\n",
      "         \u001b[1m\u001b[31m_id\u001b[0m : \u001b[1m\u001b[37mNone\u001b[0m\n",
      "         \u001b[1m\u001b[31mavg_rating\u001b[0m : \u001b[1m\u001b[34m1.8333333333333333\u001b[0m\n",
      "     }\n",
      " ]\n"
     ]
    }
   ],
   "source": [
    "artwork_id = \"The Starry Night\"\n",
    "\n",
    "pipeline = [\n",
    "    {\"$match\": {\"_id\": artwork_id}},\n",
    "    {\n",
    "        \"$project\": {\n",
    "            \"all_comments\": {\n",
    "                \"$concatArrays\": [f\"$comments_star_{s}\" for s in range(1, 6)]\n",
    "            }\n",
    "        }\n",
    "    },\n",
    "    {\"$unwind\": \"$all_comments\"},\n",
    "    {\"$group\": {\"_id\": None, \"avg_rating\": {\"$avg\": \"$all_comments.rating\"}}},\n",
    "]\n",
    "out = list(db.artworks.aggregate(pipeline))\n",
    "jprint(out)"
   ]
  },
  {
   "cell_type": "markdown",
   "id": "94a5a34e",
   "metadata": {},
   "source": [
    "### RD4: _Calculate the average rating of the comments posted by a given customer_"
   ]
  },
  {
   "cell_type": "code",
   "execution_count": 235,
   "id": "ad85353a",
   "metadata": {},
   "outputs": [
    {
     "name": "stdout",
     "output_type": "stream",
     "text": [
      " [\n",
      "    \n",
      "     {\n",
      "         \u001b[1m\u001b[31m_id\u001b[0m : \u001b[1m\u001b[37mNone\u001b[0m\n",
      "         \u001b[1m\u001b[31mavg_rating\u001b[0m : \u001b[1m\u001b[34m2.6666666666666665\u001b[0m\n",
      "     }\n",
      " ]\n"
     ]
    }
   ],
   "source": [
    "customer_id = db.visitors.find_one({\"comments\": {\"$exists\": 1}})[\"_id\"]  # type: ignore\n",
    "\n",
    "pipeline = [\n",
    "    {\"$match\": {\"_id\": customer_id}},\n",
    "    {\"$unwind\": \"$comments\"},\n",
    "    {\"$group\": {\"_id\": None, \"avg_rating\": {\"$avg\": \"$comments.rating\"}}},\n",
    "]\n",
    "out = list(db.visitors.aggregate(pipeline))\n",
    "jprint(out)"
   ]
  },
  {
   "cell_type": "markdown",
   "id": "7aa9549b",
   "metadata": {},
   "source": [
    "### RD5: _Read all the comments of a given artwork with a given rating_"
   ]
  },
  {
   "cell_type": "code",
   "execution_count": null,
   "id": "14408f44",
   "metadata": {},
   "outputs": [
    {
     "name": "stdout",
     "output_type": "stream",
     "text": [
      " [\n",
      "    \n",
      "     {\n",
      "         \u001b[1m\u001b[31m_id\u001b[0m : \u001b[1m\u001b[37m68bc20d4dd41b3717d3d7919\u001b[0m\n",
      "         \u001b[1m\u001b[31mrating\u001b[0m : \u001b[1m\u001b[34m1\u001b[0m\n",
      "         \u001b[1m\u001b[31mdate\u001b[0m : \u001b[1m\u001b[37m2025-08-29 04:03:37\u001b[0m\n",
      "         \u001b[1m\u001b[31mmessage\u001b[0m : \u001b[1m\u001b[32mCrisi qua superiore triste oramai. Qualsiasi civile ecco voi apparire lira. Rimanere diventare convincere gridare pane.\n",
      "Confessare lira incontrare idea dio contadino. Ufficiale insegnare però sotto.\u001b[0m\n",
      "     }\n",
      "    \n",
      "     {\n",
      "         \u001b[1m\u001b[31m_id\u001b[0m : \u001b[1m\u001b[37m68bc20d4dd41b3717d3d7986\u001b[0m\n",
      "         \u001b[1m\u001b[31mrating\u001b[0m : \u001b[1m\u001b[34m1\u001b[0m\n",
      "         \u001b[1m\u001b[31mdate\u001b[0m : \u001b[1m\u001b[37m2025-08-09 16:14:25\u001b[0m\n",
      "         \u001b[1m\u001b[31mmessage\u001b[0m : \u001b[1m\u001b[32mPopolazione provincia difficoltà fame comprendere girare terzo di.\u001b[0m\n",
      "     }\n",
      " ]\n"
     ]
    }
   ],
   "source": [
    "artwork_id = \"Mona Lisa\"\n",
    "rating = 1\n",
    "\n",
    "pipeline = [\n",
    "    {\"$match\": {\"_id\": artwork_id}},\n",
    "    {\"$unwind\": f\"$comments_star_{rating}\"},\n",
    "    {\"$replaceRoot\": {\"newRoot\": f\"$comments_star_{rating}\"}},\n",
    "]\n",
    "out = list(db.artworks.aggregate(pipeline))\n",
    "jprint(out)"
   ]
  },
  {
   "cell_type": "markdown",
   "id": "b3242ecb",
   "metadata": {},
   "source": [
    "## Surveys"
   ]
  },
  {
   "cell_type": "markdown",
   "id": "0e58b6c3",
   "metadata": {},
   "source": [
    "### RD6: _Read all the surveys, relative to this museum, filled out in a specific year_"
   ]
  },
  {
   "cell_type": "code",
   "execution_count": 271,
   "id": "60805161",
   "metadata": {},
   "outputs": [
    {
     "name": "stdout",
     "output_type": "stream",
     "text": [
      " [\n",
      "    \n",
      "     {\n",
      "         \u001b[1m\u001b[31maccompanying_persons_visit\u001b[0m : \u001b[1m\u001b[32mfamiglia\u001b[0m\n",
      "         \u001b[1m\u001b[31mdate_of_compilation\u001b[0m : \u001b[1m\u001b[37m2021-04-22 00:00:00\u001b[0m\n",
      "         \u001b[1m\u001b[31mreason_for_visit\u001b[0m : \u001b[1m\u001b[32mtrascorrere tempo libero con amici/parenti\u001b[0m\n",
      "         \u001b[1m\u001b[31mnumber_of_visits\u001b[0m : \u001b[1m\u001b[34m0\u001b[0m\n",
      "         \u001b[1m\u001b[31mreturn\u001b[0m : \u001b[1m\u001b[32mProbabilmente No\u001b[0m\n",
      "         \u001b[1m\u001b[31mtype_of_visit\u001b[0m : \u001b[1m\u001b[32mvisita libera\u001b[0m\n",
      "         \u001b[1m\u001b[31mtitle_of_studies\u001b[0m : \u001b[1m\u001b[32mDiploma\u001b[0m\n",
      "         \u001b[1m\u001b[31mevaluation_of_experience\u001b[0m : \u001b[1m\u001b[34m10\u001b[0m\n",
      "         \u001b[1m\u001b[31mevaluation_of_facility\u001b[0m : \u001b[1m\u001b[34m10\u001b[0m\n",
      "         \u001b[1m\u001b[31mevaluation_of_visit\u001b[0m : \u001b[1m\u001b[34m10\u001b[0m\n",
      "     }\n",
      "    \n",
      "     {\n",
      "         \u001b[1m\u001b[31maccompanying_persons_visit\u001b[0m : \u001b[1m\u001b[32mscolaresca\u001b[0m\n",
      "         \u001b[1m\u001b[31mdate_of_compilation\u001b[0m : \u001b[1m\u001b[37m2021-04-28 00:00:00\u001b[0m\n",
      "         \u001b[1m\u001b[31mreason_for_visit\u001b[0m : \u001b[1m\u001b[32mpassare un momento personale piacevole\u001b[0m\n",
      "         \u001b[1m\u001b[31mnumber_of_visits\u001b[0m : \u001b[1m\u001b[37mNone\u001b[0m\n",
      "         \u001b[1m\u001b[31mreturn\u001b[0m : \u001b[1m\u001b[32mAssolutamente no\u001b[0m\n",
      "         \u001b[1m\u001b[31mtype_of_visit\u001b[0m : \u001b[1m\u001b[32mvisita libera\u001b[0m\n",
      "         \u001b[1m\u001b[31mtitle_of_studies\u001b[0m : \u001b[1m\u001b[32mElem.\u001b[0m\n",
      "         \u001b[1m\u001b[31mevaluation_of_experience\u001b[0m : \u001b[1m\u001b[37mNone\u001b[0m\n",
      "         \u001b[1m\u001b[31mevaluation_of_facility\u001b[0m : \u001b[1m\u001b[37mNone\u001b[0m\n",
      "         \u001b[1m\u001b[31mevaluation_of_visit\u001b[0m : \u001b[1m\u001b[37mNone\u001b[0m\n",
      "     }\n",
      " ]\n"
     ]
    }
   ],
   "source": [
    "date_start = datetime(2021, month=1, day=1)\n",
    "date_end = datetime(2022, month=1, day=1)\n",
    "out = db.visitors.find(\n",
    "        {\"surveys.date_of_compilation\": {\"$gte\": date_start, \"$lte\": date_end}},\n",
    "        {\"surveys\": 1},\n",
    "    \n",
    ")\n",
    "jprint([_ for visitor in out for _ in visitor[\"surveys\"]][:2])"
   ]
  },
  {
   "cell_type": "markdown",
   "id": "49179c66",
   "metadata": {},
   "source": [
    "### RD7: _Read all the surveys filled out by a specific customer_"
   ]
  },
  {
   "cell_type": "code",
   "execution_count": 282,
   "id": "2eaad2dd",
   "metadata": {},
   "outputs": [
    {
     "name": "stdout",
     "output_type": "stream",
     "text": [
      " [\n",
      "    \n",
      "     {\n",
      "         \u001b[1m\u001b[31maccompanying_persons_visit\u001b[0m : \u001b[1m\u001b[32mfamiglia\u001b[0m\n",
      "         \u001b[1m\u001b[31mdate_of_compilation\u001b[0m : \u001b[1m\u001b[37m2021-04-22 00:00:00\u001b[0m\n",
      "         \u001b[1m\u001b[31mreason_for_visit\u001b[0m : \u001b[1m\u001b[32mtrascorrere tempo libero con amici/parenti\u001b[0m\n",
      "         \u001b[1m\u001b[31mnumber_of_visits\u001b[0m : \u001b[1m\u001b[34m0\u001b[0m\n",
      "         \u001b[1m\u001b[31mreturn\u001b[0m : \u001b[1m\u001b[32mProbabilmente No\u001b[0m\n",
      "         \u001b[1m\u001b[31mtype_of_visit\u001b[0m : \u001b[1m\u001b[32mvisita libera\u001b[0m\n",
      "         \u001b[1m\u001b[31mtitle_of_studies\u001b[0m : \u001b[1m\u001b[32mDiploma\u001b[0m\n",
      "         \u001b[1m\u001b[31mevaluation_of_experience\u001b[0m : \u001b[1m\u001b[34m10\u001b[0m\n",
      "         \u001b[1m\u001b[31mevaluation_of_facility\u001b[0m : \u001b[1m\u001b[34m10\u001b[0m\n",
      "         \u001b[1m\u001b[31mevaluation_of_visit\u001b[0m : \u001b[1m\u001b[34m10\u001b[0m\n",
      "     }\n",
      "    \n",
      "     {\n",
      "         \u001b[1m\u001b[31maccompanying_persons_visit\u001b[0m : \u001b[1m\u001b[32mscolaresca\u001b[0m\n",
      "         \u001b[1m\u001b[31mdate_of_compilation\u001b[0m : \u001b[1m\u001b[37m2021-04-28 00:00:00\u001b[0m\n",
      "         \u001b[1m\u001b[31mreason_for_visit\u001b[0m : \u001b[1m\u001b[32mpassare un momento personale piacevole\u001b[0m\n",
      "         \u001b[1m\u001b[31mnumber_of_visits\u001b[0m : \u001b[1m\u001b[37mNone\u001b[0m\n",
      "         \u001b[1m\u001b[31mreturn\u001b[0m : \u001b[1m\u001b[32mAssolutamente no\u001b[0m\n",
      "         \u001b[1m\u001b[31mtype_of_visit\u001b[0m : \u001b[1m\u001b[32mvisita libera\u001b[0m\n",
      "         \u001b[1m\u001b[31mtitle_of_studies\u001b[0m : \u001b[1m\u001b[32mElem.\u001b[0m\n",
      "         \u001b[1m\u001b[31mevaluation_of_experience\u001b[0m : \u001b[1m\u001b[37mNone\u001b[0m\n",
      "         \u001b[1m\u001b[31mevaluation_of_facility\u001b[0m : \u001b[1m\u001b[37mNone\u001b[0m\n",
      "         \u001b[1m\u001b[31mevaluation_of_visit\u001b[0m : \u001b[1m\u001b[37mNone\u001b[0m\n",
      "     }\n",
      " ]\n"
     ]
    }
   ],
   "source": [
    "customer_id = db.visitors.find_one({\"surveys\": {\"$exists\": 1}})[\"_id\"]  # type: ignore\n",
    "\n",
    "out = db.visitors.find_one({\"_id\": customer_id}, {\"surveys\": 1})\n",
    "jprint(out[\"surveys\"][:2]) # type: ignore"
   ]
  },
  {
   "cell_type": "markdown",
   "id": "f6800446",
   "metadata": {},
   "source": [
    "### RD8: _Read all the surveys from a specific affiliated museum_"
   ]
  },
  {
   "cell_type": "code",
   "execution_count": 299,
   "id": "5c7da5f0",
   "metadata": {},
   "outputs": [
    {
     "name": "stdout",
     "output_type": "stream",
     "text": [
      " [\n",
      "    \n",
      "     {\n",
      "         \u001b[1m\u001b[31maccompanying_persons_visit\u001b[0m : \u001b[1m\u001b[32mscolaresca\u001b[0m\n",
      "         \u001b[1m\u001b[31mdate_of_compilation\u001b[0m : \u001b[1m\u001b[37m2021-04-29 00:00:00\u001b[0m\n",
      "         \u001b[1m\u001b[31mreason_for_visit\u001b[0m : \u001b[1m\u001b[32mimparare cose nuove\u001b[0m\n",
      "         \u001b[1m\u001b[31mnumber_of_visits\u001b[0m : \u001b[1m\u001b[34m0\u001b[0m\n",
      "         \u001b[1m\u001b[31mreturn\u001b[0m : \u001b[1m\u001b[32mAssolutamente no\u001b[0m\n",
      "         \u001b[1m\u001b[31mtype_of_visit\u001b[0m : \u001b[1m\u001b[32mpartecipazione ad una mostra/laboratorio\u001b[0m\n",
      "         \u001b[1m\u001b[31mtitle_of_studies\u001b[0m : \u001b[1m\u001b[32mElem.\u001b[0m\n",
      "         \u001b[1m\u001b[31mevaluation_of_experience\u001b[0m : \u001b[1m\u001b[34m10\u001b[0m\n",
      "         \u001b[1m\u001b[31mevaluation_of_facility\u001b[0m : \u001b[1m\u001b[34m10\u001b[0m\n",
      "         \u001b[1m\u001b[31mevaluation_of_visit\u001b[0m : \u001b[1m\u001b[34m10\u001b[0m\n",
      "     }\n",
      "    \n",
      "     {\n",
      "         \u001b[1m\u001b[31maccompanying_persons_visit\u001b[0m : \u001b[1m\u001b[32mgruppo organizzato\u001b[0m\n",
      "         \u001b[1m\u001b[31mdate_of_compilation\u001b[0m : \u001b[1m\u001b[37m2021-04-22 00:00:00\u001b[0m\n",
      "         \u001b[1m\u001b[31mreason_for_visit\u001b[0m : \u001b[1m\u001b[32mvedere oggetti importanti\u001b[0m\n",
      "         \u001b[1m\u001b[31mnumber_of_visits\u001b[0m : \u001b[1m\u001b[34m0\u001b[0m\n",
      "         \u001b[1m\u001b[31mreturn\u001b[0m : \u001b[1m\u001b[37mNone\u001b[0m\n",
      "         \u001b[1m\u001b[31mtype_of_visit\u001b[0m : \u001b[1m\u001b[32mvisita libera\u001b[0m\n",
      "         \u001b[1m\u001b[31mtitle_of_studies\u001b[0m : \u001b[1m\u001b[32mLaurea/PostLaurea\u001b[0m\n",
      "         \u001b[1m\u001b[31mevaluation_of_experience\u001b[0m : \u001b[1m\u001b[34m6\u001b[0m\n",
      "         \u001b[1m\u001b[31mevaluation_of_facility\u001b[0m : \u001b[1m\u001b[34m6\u001b[0m\n",
      "         \u001b[1m\u001b[31mevaluation_of_visit\u001b[0m : \u001b[1m\u001b[34m6\u001b[0m\n",
      "     }\n",
      " ]\n"
     ]
    }
   ],
   "source": [
    "# The constraint (\"is_musum\" = true) is implied by the existance of the \"surveys\" array\n",
    "supplier_id = db.suppliers.find_one({\"survey_ids\": {\"$exists\": 1}})[\"_id\"]  # type: ignore\n",
    "\n",
    "pipeline = [\n",
    "    {\"$match\": {\"_id\": supplier_id}},\n",
    "    {\n",
    "        \"$lookup\": {\n",
    "            \"from\": \"visitors\",\n",
    "            \"localField\": \"survey_ids\",\n",
    "            \"foreignField\": \"_id\",\n",
    "            \"as\": \"surveys\",\n",
    "        }\n",
    "    },\n",
    "]\n",
    "out = db.suppliers.aggregate(pipeline).next()\n",
    "jprint([v[\"surveys\"] for v in out[\"surveys\"]][3])"
   ]
  },
  {
   "cell_type": "markdown",
   "id": "a4c61317",
   "metadata": {},
   "source": [
    "## Tickets"
   ]
  },
  {
   "cell_type": "markdown",
   "id": "7d4fce48",
   "metadata": {},
   "source": [
    "### RD9: _Read all tickets of a visitor_"
   ]
  },
  {
   "cell_type": "code",
   "execution_count": null,
   "id": "a8810f5d",
   "metadata": {},
   "outputs": [
    {
     "name": "stdout",
     "output_type": "stream",
     "text": [
      " [\n",
      "    \n",
      "     {\n",
      "         \u001b[1m\u001b[31m_id\u001b[0m : \u001b[1m\u001b[37m68bc20d4dd41b3717d3d718c\u001b[0m\n",
      "         \u001b[1m\u001b[31mprice\u001b[0m : \u001b[1m\u001b[34m6\u001b[0m\n",
      "         \u001b[1m\u001b[31mdate\u001b[0m : \u001b[1m\u001b[37m2025-08-25 10:40:58\u001b[0m\n",
      "         \u001b[1m\u001b[31mcheck_in\u001b[0m : \u001b[1m\u001b[36mTrue\u001b[0m\n",
      "     }\n",
      "    \n",
      "     {\n",
      "         \u001b[1m\u001b[31m_id\u001b[0m : \u001b[1m\u001b[37m68bc20d4dd41b3717d3d7123\u001b[0m\n",
      "         \u001b[1m\u001b[31mprice\u001b[0m : \u001b[1m\u001b[34m6\u001b[0m\n",
      "         \u001b[1m\u001b[31mdate\u001b[0m : \u001b[1m\u001b[37m2025-08-11 08:54:43\u001b[0m\n",
      "         \u001b[1m\u001b[31mcheck_in\u001b[0m : \u001b[1m\u001b[36mFalse\u001b[0m\n",
      "     }\n",
      " ]\n"
     ]
    }
   ],
   "source": [
    "visitor_id = db.visitors.find_one()[\"_id\"]  # type: ignore\n",
    "\n",
    "out = db.visitors.find_one(visitor_id)\n",
    "jprint(out[\"tickets\"]) # type: ignore"
   ]
  },
  {
   "cell_type": "markdown",
   "id": "823cdd08",
   "metadata": {},
   "source": [
    "### RD10: _Read all tickets for an event_"
   ]
  },
  {
   "cell_type": "code",
   "execution_count": null,
   "id": "9affa3f7",
   "metadata": {},
   "outputs": [
    {
     "name": "stdout",
     "output_type": "stream",
     "text": [
      " [\n",
      "    \n",
      "     {\n",
      "         \u001b[1m\u001b[31m_id\u001b[0m : \u001b[1m\u001b[37m68bc20d4dd41b3717d3d71c2\u001b[0m\n",
      "         \u001b[1m\u001b[31mprice\u001b[0m : \u001b[1m\u001b[34m70\u001b[0m\n",
      "         \u001b[1m\u001b[31mdate\u001b[0m : \u001b[1m\u001b[37m2025-08-16 06:54:00\u001b[0m\n",
      "         \u001b[1m\u001b[31mcheck_in\u001b[0m : \u001b[1m\u001b[36mTrue\u001b[0m\n",
      "     }\n",
      "    \n",
      "     {\n",
      "         \u001b[1m\u001b[31m_id\u001b[0m : \u001b[1m\u001b[37m68bc20d4dd41b3717d3d70fc\u001b[0m\n",
      "         \u001b[1m\u001b[31mprice\u001b[0m : \u001b[1m\u001b[34m0\u001b[0m\n",
      "         \u001b[1m\u001b[31mdate\u001b[0m : \u001b[1m\u001b[37m2025-08-24 08:32:48\u001b[0m\n",
      "         \u001b[1m\u001b[31mcheck_in\u001b[0m : \u001b[1m\u001b[36mFalse\u001b[0m\n",
      "     }\n",
      " ]\n"
     ]
    }
   ],
   "source": [
    "event_id = ObjectId(\"68bc20d4dd41b3717d3d7261\")\n",
    "\n",
    "pipeline = [\n",
    "    {\"$match\": {\"_id\": event_id}},\n",
    "    {\n",
    "        \"$lookup\": {\n",
    "            \"from\": \"visitors\",\n",
    "            \"localField\": \"ticket_ids\",\n",
    "            \"foreignField\": \"tickets._id\",\n",
    "            \"as\": \"visitors\",\n",
    "        }\n",
    "    },\n",
    "]\n",
    "out = db.activities.aggregate(pipeline).next()\n",
    "jprint([t for v in out[\"visitors\"] for t in v[\"tickets\"]][:2])"
   ]
  },
  {
   "cell_type": "markdown",
   "id": "b2b866b3",
   "metadata": {},
   "source": [
    "### RD11: _Count tickets issued in a year_"
   ]
  },
  {
   "cell_type": "code",
   "execution_count": null,
   "id": "8014cb61",
   "metadata": {},
   "outputs": [
    {
     "data": {
      "text/plain": [
       "81"
      ]
     },
     "execution_count": 34,
     "metadata": {},
     "output_type": "execute_result"
    }
   ],
   "source": [
    "start = datetime(2025, 1, 1)\n",
    "end = datetime(2026, 1, 1)\n",
    "\n",
    "# Using B-Tree\n",
    "db.visitors.count_documents(\n",
    "    {\"tickets.date\": {\"$gte\": start, \"$lt\": end}}, hint=\"tickets.date_1\"\n",
    ")   "
   ]
  },
  {
   "cell_type": "markdown",
   "id": "7eccd7eb",
   "metadata": {},
   "source": [
    "## Chats"
   ]
  },
  {
   "cell_type": "markdown",
   "id": "64d236cf",
   "metadata": {},
   "source": [
    "### RD12: _Read 10 messages of a given chat previous than a specific date_"
   ]
  },
  {
   "cell_type": "code",
   "execution_count": null,
   "id": "89973557",
   "metadata": {},
   "outputs": [
    {
     "name": "stdout",
     "output_type": "stream",
     "text": [
      " [\n",
      "    \n",
      "     {\n",
      "         \u001b[1m\u001b[31mcustomer_id\u001b[0m : \u001b[1m\u001b[37m68bc6aad24580947f6121cb8\u001b[0m\n",
      "         \u001b[1m\u001b[31msent_date\u001b[0m : \u001b[1m\u001b[37m2025-09-03 14:57:37\u001b[0m\n",
      "         \u001b[1m\u001b[31mtype\u001b[0m : \u001b[1m\u001b[32mpicture\u001b[0m\n",
      "         \u001b[1m\u001b[31mcontent\u001b[0m : \u001b[1m\u001b[32mTecnico prendere grosso notevole dormire tuttavia. Mercato largo sacrificio davanti buio onore. Limitare subito trarre lui troppo.\n",
      "Scusare fede attesa abitare chi condurre.\u001b[0m\n",
      "         \u001b[1m\u001b[31mdelivery_status\u001b[0m : \u001b[1m\u001b[32msending\u001b[0m\n",
      "     }\n",
      "    \n",
      "     {\n",
      "         \u001b[1m\u001b[31mcustomer_id\u001b[0m : \u001b[1m\u001b[37m68bc6aad24580947f6121cae\u001b[0m\n",
      "         \u001b[1m\u001b[31msent_date\u001b[0m : \u001b[1m\u001b[37m2025-09-01 07:40:18\u001b[0m\n",
      "         \u001b[1m\u001b[31mtype\u001b[0m : \u001b[1m\u001b[32maudio\u001b[0m\n",
      "         \u001b[1m\u001b[31mcontent\u001b[0m : \u001b[1m\u001b[32mScoprire ecco essere giornata. Né ordinare senso qualcosa discorso. Cantare tranquillo enorme improvviso origine appunto campo difesa.\n",
      "Villa riunire liberare giovane. Incontrare muovere operaio.\u001b[0m\n",
      "         \u001b[1m\u001b[31mdelivery_status\u001b[0m : \u001b[1m\u001b[32msending\u001b[0m\n",
      "     }\n",
      " ]\n"
     ]
    }
   ],
   "source": [
    "customer_id = db.visitors.find_one({\"chat\": {\"$exists\": 1}})[\"_id\"]  # type: ignore\n",
    "before_date = datetime(2026, 8, 25)\n",
    "\n",
    "pipeline = [\n",
    "    {\"$match\": {\"_id\": customer_id}},\n",
    "    {\"$project\": {\"chat.new_messages\": 1}},\n",
    "    {\"$unwind\": \"$chat.new_messages\"},\n",
    "    {\"$match\": {\"chat.new_messages.sent_date\": {\"$lt\": before_date}}},\n",
    "    {\"$sort\": {\"chat.new_messages.sent_date\": -1}},\n",
    "    {\"$limit\": 10},\n",
    "    {\"$replaceRoot\": {\"newRoot\": \"$chat.new_messages\"}},\n",
    "]\n",
    "msgs = list(db.visitors.aggregate(pipeline))\n",
    "\n",
    "if (l := len(msgs)) < 10:\n",
    "    old_ids = db.visitors.find_one(customer_id)[\"chat\"][\"old_messages\"]  # type: ignore\n",
    "    old_msgs = list(\n",
    "        db.messages.find(\n",
    "            {\n",
    "                \"_id\": {\"$in\": old_ids},\n",
    "                # \"customer_id\": customer_id, # Inconsitent\n",
    "                \"sent_date\": {\"$lt\": before_date},\n",
    "            },\n",
    "            sort=[(\"sent_date\", -1)],\n",
    "            limit=10 - l,\n",
    "        )\n",
    "    )\n",
    "    msgs.extend(old_msgs)\n",
    "jprint(msgs[:2])"
   ]
  },
  {
   "cell_type": "markdown",
   "id": "0d725108",
   "metadata": {},
   "source": [
    "### RD13: _Read active chats for a guide_"
   ]
  },
  {
   "cell_type": "code",
   "execution_count": 97,
   "id": "bd83d690",
   "metadata": {},
   "outputs": [
    {
     "name": "stdout",
     "output_type": "stream",
     "text": [
      " [\n",
      "    \n",
      "     {\n",
      "         \u001b[1m\u001b[31m_id\u001b[0m : \u001b[1m\u001b[37m68bc6aad24580947f6122434\u001b[0m\n",
      "         \u001b[1m\u001b[31mdate_creation\u001b[0m : \u001b[1m\u001b[37m2025-08-27 05:01:38\u001b[0m\n",
      "         \u001b[1m\u001b[31mnew_messages\u001b[0m :\n",
      "         [\n",
      "            \n",
      "             {\n",
      "                 \u001b[1m\u001b[31mcustomer_id\u001b[0m : \u001b[1m\u001b[37m68bc6aad24580947f6121cd5\u001b[0m\n",
      "                 \u001b[1m\u001b[31msent_date\u001b[0m : \u001b[1m\u001b[37m2025-08-13 19:52:11\u001b[0m\n",
      "                 \u001b[1m\u001b[31mtype\u001b[0m : \u001b[1m\u001b[32mtext\u001b[0m\n",
      "                 \u001b[1m\u001b[31mcontent\u001b[0m : \u001b[1m\u001b[32mSposare ciascuno lì chiave. Fermare spiegare dolce addosso. Arrestare fiducia cioè finestra pensiero contento ora.\u001b[0m\n",
      "                 \u001b[1m\u001b[31mdelivery_status\u001b[0m : \u001b[1m\u001b[32mreceived\u001b[0m\n",
      "             }\n",
      "            \n",
      "             {\n",
      "                 \u001b[1m\u001b[31mcustomer_id\u001b[0m : \u001b[1m\u001b[37m68bc6aad24580947f6121cb0\u001b[0m\n",
      "                 \u001b[1m\u001b[31msent_date\u001b[0m : \u001b[1m\u001b[37m2025-08-26 00:54:45\u001b[0m\n",
      "                 \u001b[1m\u001b[31mtype\u001b[0m : \u001b[1m\u001b[32mtext\u001b[0m\n",
      "                 \u001b[1m\u001b[31mcontent\u001b[0m : \u001b[1m\u001b[32mPrincipale esso se movimento. Rapporto pesare tendere centrale tono nessuno di contento.\u001b[0m\n",
      "                 \u001b[1m\u001b[31mdelivery_status\u001b[0m : \u001b[1m\u001b[32mreceived\u001b[0m\n",
      "                 \u001b[1m\u001b[31muri\u001b[0m : \u001b[1m\u001b[32mhttps://www.salvemini-barozzi.com/\u001b[0m\n",
      "             }\n",
      "            \n",
      "             {\n",
      "                 \u001b[1m\u001b[31mcustomer_id\u001b[0m : \u001b[1m\u001b[37m68bc6aad24580947f6121cb6\u001b[0m\n",
      "                 \u001b[1m\u001b[31msent_date\u001b[0m : \u001b[1m\u001b[37m2025-08-11 01:58:43\u001b[0m\n",
      "                 \u001b[1m\u001b[31mtype\u001b[0m : \u001b[1m\u001b[32mtext\u001b[0m\n",
      "                 \u001b[1m\u001b[31mcontent\u001b[0m : \u001b[1m\u001b[32mGuidare punto odore lui. Fino morire università giovanotto punta domani. Minore trasformare donna scopo angolo qualcosa.\u001b[0m\n",
      "                 \u001b[1m\u001b[31mdelivery_status\u001b[0m : \u001b[1m\u001b[32mseen\u001b[0m\n",
      "                 \u001b[1m\u001b[31muri\u001b[0m : \u001b[1m\u001b[32mhttps://www.sabbatini.it/\u001b[0m\n",
      "             }\n",
      "            \n",
      "             {\n",
      "                 \u001b[1m\u001b[31mcustomer_id\u001b[0m : \u001b[1m\u001b[37m68bc6aad24580947f6121cb7\u001b[0m\n",
      "                 \u001b[1m\u001b[31msent_date\u001b[0m : \u001b[1m\u001b[37m2025-08-26 17:50:03\u001b[0m\n",
      "                 \u001b[1m\u001b[31mtype\u001b[0m : \u001b[1m\u001b[32mpicture\u001b[0m\n",
      "                 \u001b[1m\u001b[31mcontent\u001b[0m : \u001b[1m\u001b[32mCasa arma ammazzare proposta bambina dolce. Motivo giardino quanto ottenere sembrare termine prato.\u001b[0m\n",
      "                 \u001b[1m\u001b[31mdelivery_status\u001b[0m : \u001b[1m\u001b[32mreceived\u001b[0m\n",
      "                 \u001b[1m\u001b[31muri\u001b[0m : \u001b[1m\u001b[32mhttps://folliero-cardano.com/\u001b[0m\n",
      "             }\n",
      "            \n",
      "             {\n",
      "                 \u001b[1m\u001b[31mcustomer_id\u001b[0m : \u001b[1m\u001b[37m68bc6aad24580947f6121caa\u001b[0m\n",
      "                 \u001b[1m\u001b[31msent_date\u001b[0m : \u001b[1m\u001b[37m2025-08-15 04:01:23\u001b[0m\n",
      "                 \u001b[1m\u001b[31mtype\u001b[0m : \u001b[1m\u001b[32maudio\u001b[0m\n",
      "                 \u001b[1m\u001b[31mcontent\u001b[0m : \u001b[1m\u001b[32mImparare ordine rapporto rapporto. Teatro mostrare nazionale attimo. Prima scoprire acqua bosco notizia.\n",
      "Attuale dolce corsa sole mamma termine ponte. Grave circa esame arte attesa.\u001b[0m\n",
      "                 \u001b[1m\u001b[31mdelivery_status\u001b[0m : \u001b[1m\u001b[32msent\u001b[0m\n",
      "             }\n",
      "            \n",
      "             {\n",
      "                 \u001b[1m\u001b[31mcustomer_id\u001b[0m : \u001b[1m\u001b[37m68bc6aad24580947f6121ce9\u001b[0m\n",
      "                 \u001b[1m\u001b[31msent_date\u001b[0m : \u001b[1m\u001b[37m2025-08-12 19:55:13\u001b[0m\n",
      "                 \u001b[1m\u001b[31mtype\u001b[0m : \u001b[1m\u001b[32mpicture\u001b[0m\n",
      "                 \u001b[1m\u001b[31mcontent\u001b[0m : \u001b[1m\u001b[32mEccellenza forte unico idea paese immagine sinistro. Raggiungere determinare parlare egli. Lontano zio terreno carne recare baciare.\u001b[0m\n",
      "                 \u001b[1m\u001b[31mdelivery_status\u001b[0m : \u001b[1m\u001b[32mseen\u001b[0m\n",
      "                 \u001b[1m\u001b[31muri\u001b[0m : \u001b[1m\u001b[32mhttp://vittadello.it/\u001b[0m\n",
      "             }\n",
      "            \n",
      "             {\n",
      "                 \u001b[1m\u001b[31mcustomer_id\u001b[0m : \u001b[1m\u001b[37m68bc6aad24580947f6121cb8\u001b[0m\n",
      "                 \u001b[1m\u001b[31msent_date\u001b[0m : \u001b[1m\u001b[37m2025-09-03 14:57:37\u001b[0m\n",
      "                 \u001b[1m\u001b[31mtype\u001b[0m : \u001b[1m\u001b[32mpicture\u001b[0m\n",
      "                 \u001b[1m\u001b[31mcontent\u001b[0m : \u001b[1m\u001b[32mTecnico prendere grosso notevole dormire tuttavia. Mercato largo sacrificio davanti buio onore. Limitare subito trarre lui troppo.\n",
      "Scusare fede attesa abitare chi condurre.\u001b[0m\n",
      "                 \u001b[1m\u001b[31mdelivery_status\u001b[0m : \u001b[1m\u001b[32msending\u001b[0m\n",
      "             }\n",
      "            \n",
      "             {\n",
      "                 \u001b[1m\u001b[31mcustomer_id\u001b[0m : \u001b[1m\u001b[37m68bc6aad24580947f6121ccd\u001b[0m\n",
      "                 \u001b[1m\u001b[31msent_date\u001b[0m : \u001b[1m\u001b[37m2025-08-14 19:26:24\u001b[0m\n",
      "                 \u001b[1m\u001b[31mtype\u001b[0m : \u001b[1m\u001b[32maudio\u001b[0m\n",
      "                 \u001b[1m\u001b[31mcontent\u001b[0m : \u001b[1m\u001b[32mCommercio in signore con assoluto. Verso intero serie appoggiare. Segretario ricordo punto militare di.\u001b[0m\n",
      "                 \u001b[1m\u001b[31mdelivery_status\u001b[0m : \u001b[1m\u001b[32mreceived\u001b[0m\n",
      "             }\n",
      "            \n",
      "             {\n",
      "                 \u001b[1m\u001b[31mcustomer_id\u001b[0m : \u001b[1m\u001b[37m68bc6aad24580947f6121ca8\u001b[0m\n",
      "                 \u001b[1m\u001b[31msent_date\u001b[0m : \u001b[1m\u001b[37m2025-08-26 17:43:56\u001b[0m\n",
      "                 \u001b[1m\u001b[31mtype\u001b[0m : \u001b[1m\u001b[32mtext\u001b[0m\n",
      "                 \u001b[1m\u001b[31mcontent\u001b[0m : \u001b[1m\u001b[32mAssicurare ricordo impressione medesimo vuoto servizio impedire.\u001b[0m\n",
      "                 \u001b[1m\u001b[31mdelivery_status\u001b[0m : \u001b[1m\u001b[32mreceived\u001b[0m\n",
      "             }\n",
      "            \n",
      "             {\n",
      "                 \u001b[1m\u001b[31mcustomer_id\u001b[0m : \u001b[1m\u001b[37m68bc6aad24580947f6121d07\u001b[0m\n",
      "                 \u001b[1m\u001b[31msent_date\u001b[0m : \u001b[1m\u001b[37m2025-08-23 06:29:27\u001b[0m\n",
      "                 \u001b[1m\u001b[31mtype\u001b[0m : \u001b[1m\u001b[32mpicture\u001b[0m\n",
      "                 \u001b[1m\u001b[31mcontent\u001b[0m : \u001b[1m\u001b[32mSotto morte improvviso materia qualsiasi compagnia.\n",
      "Avanzare congresso campo coloro uguale campo possedere. Politico coprire coscienza piangere processo vendere.\u001b[0m\n",
      "                 \u001b[1m\u001b[31mdelivery_status\u001b[0m : \u001b[1m\u001b[32msending\u001b[0m\n",
      "             }\n",
      "         ]\n",
      "         \u001b[1m\u001b[31mold_messages\u001b[0m :\n",
      "         [\n",
      "             \u001b[1m\u001b[37m68bc6aad24580947f6122349\u001b[0m\n",
      "             \u001b[1m\u001b[37m68bc6aad24580947f612225b\u001b[0m\n",
      "             \u001b[1m\u001b[37m68bc6aad24580947f612206d\u001b[0m\n",
      "             \u001b[1m\u001b[37m68bc6aad24580947f61221a0\u001b[0m\n",
      "             \u001b[1m\u001b[37m68bc6aad24580947f6122039\u001b[0m\n",
      "             \u001b[1m\u001b[37m68bc6aad24580947f61222f2\u001b[0m\n",
      "             \u001b[1m\u001b[37m68bc6aad24580947f6121f93\u001b[0m\n",
      "             \u001b[1m\u001b[37m68bc6aad24580947f61220ad\u001b[0m\n",
      "             \u001b[1m\u001b[37m68bc6aad24580947f61220de\u001b[0m\n",
      "             \u001b[1m\u001b[37m68bc6aad24580947f6122076\u001b[0m\n",
      "             \u001b[1m\u001b[37m68bc6aad24580947f6122254\u001b[0m\n",
      "             \u001b[1m\u001b[37m68bc6aad24580947f6122175\u001b[0m\n",
      "             \u001b[1m\u001b[37m68bc6aad24580947f6122216\u001b[0m\n",
      "             \u001b[1m\u001b[37m68bc6aad24580947f6122233\u001b[0m\n",
      "             \u001b[1m\u001b[37m68bc6aad24580947f612212d\u001b[0m\n",
      "             \u001b[1m\u001b[37m68bc6aad24580947f6121f65\u001b[0m\n",
      "             \u001b[1m\u001b[37m68bc6aad24580947f61222a5\u001b[0m\n",
      "             \u001b[1m\u001b[37m68bc6aad24580947f6122037\u001b[0m\n",
      "             \u001b[1m\u001b[37m68bc6aad24580947f6121ff2\u001b[0m\n",
      "         ]\n",
      "     }\n",
      " ]\n"
     ]
    }
   ],
   "source": [
    "guide_id = db.roles.find_one({\"type\": \"guide\"})[\"_id\"]  # type: ignore\n",
    "\n",
    "pipeline = [\n",
    "    {\"$match\": {\"_id\": guide_id}},\n",
    "    {\n",
    "        \"$lookup\": {\n",
    "            \"from\": \"visitors\",\n",
    "            \"localField\": \"chat_ids\",\n",
    "            \"foreignField\": \"chat._id\",\n",
    "            \"as\": \"customers\",\n",
    "        }\n",
    "    },\n",
    "]\n",
    "out = db.roles.aggregate(pipeline).next()\n",
    "jprint([c[\"chat\"] for c in out[\"customers\"]])"
   ]
  },
  {
   "cell_type": "markdown",
   "id": "ef61284f",
   "metadata": {},
   "source": [
    "### RD14: _Count chats opened in a year_"
   ]
  },
  {
   "cell_type": "code",
   "execution_count": 101,
   "id": "8f00894f",
   "metadata": {},
   "outputs": [
    {
     "data": {
      "text/plain": [
       "18"
      ]
     },
     "execution_count": 101,
     "metadata": {},
     "output_type": "execute_result"
    }
   ],
   "source": [
    "start = datetime(2025, 1, 1)\n",
    "end = datetime(2026, 1, 1)\n",
    "\n",
    "# Using B-Tree\n",
    "db.visitors.count_documents(\n",
    "    {\"chat.date_creation\": {\"$gte\": start, \"$lt\": end}}, hint=\"chat.date_creation_1\"\n",
    ")"
   ]
  },
  {
   "cell_type": "markdown",
   "id": "b6022d04",
   "metadata": {},
   "source": [
    "## Trades"
   ]
  },
  {
   "cell_type": "markdown",
   "id": "1b1641e7",
   "metadata": {},
   "source": [
    "### RD15: _Retrieve the artwork of a trade_"
   ]
  },
  {
   "cell_type": "code",
   "execution_count": 103,
   "id": "3efc98ef",
   "metadata": {},
   "outputs": [
    {
     "name": "stdout",
     "output_type": "stream",
     "text": [
      " {\n",
      "     \u001b[1m\u001b[31m_id\u001b[0m : \u001b[1m\u001b[32mMona Lisa\u001b[0m\n",
      "     \u001b[1m\u001b[31mdate\u001b[0m : \u001b[1m\u001b[37m2025-09-02 09:28:18\u001b[0m\n",
      "     \u001b[1m\u001b[31mtype\u001b[0m : \u001b[1m\u001b[32mrelief\u001b[0m\n",
      "     \u001b[1m\u001b[31mdescription\u001b[0m : \u001b[1m\u001b[32m“Il Partenone racchiude un’armonica sintesi di utilità, solidità e piacevolezza”, Vitruvio da “De Architectura”.\u001b[0m\n",
      "     \u001b[1m\u001b[31mis_original\u001b[0m : \u001b[1m\u001b[36mFalse\u001b[0m\n",
      "     \u001b[1m\u001b[31msize\u001b[0m : \u001b[1m\u001b[34m230\u001b[0m\n",
      "     \u001b[1m\u001b[31mperiod\u001b[0m : \u001b[1m\u001b[32mAncient\u001b[0m\n",
      "     \u001b[1m\u001b[31mlocation_name\u001b[0m : \u001b[1m\u001b[32mForlimpopoli\u001b[0m\n",
      "     \u001b[1m\u001b[31mauthor_ids\u001b[0m :\n",
      "     [\n",
      "         \u001b[1m\u001b[37m68b572f8845fcdbabc1c8905\u001b[0m\n",
      "         \u001b[1m\u001b[37m68b572f8845fcdbabc1c8908\u001b[0m\n",
      "     ]\n",
      "     \u001b[1m\u001b[31mtecniques\u001b[0m : \u001b[1m\u001b[33m[Mosaic]\u001b[0m\n",
      "     \u001b[1m\u001b[31mcomments_star_1\u001b[0m :\n",
      "     [\n",
      "        \n",
      "         {\n",
      "             \u001b[1m\u001b[31m_id\u001b[0m : \u001b[1m\u001b[37m68bc6aad24580947f612262b\u001b[0m\n",
      "             \u001b[1m\u001b[31mrating\u001b[0m : \u001b[1m\u001b[34m1\u001b[0m\n",
      "             \u001b[1m\u001b[31mdate\u001b[0m : \u001b[1m\u001b[37m2025-08-24 21:51:17\u001b[0m\n",
      "             \u001b[1m\u001b[31mmessage\u001b[0m : \u001b[1m\u001b[32mFolla perché prendere animo insistere battere. Mattino utile oggi giardino.\n",
      "Cui rapido staccare fratello creare. Attendere ponte formare. Interesse sereno soffrire parlare staccare energia oro.\u001b[0m\n",
      "         }\n",
      "        \n",
      "         {\n",
      "             \u001b[1m\u001b[31m_id\u001b[0m : \u001b[1m\u001b[37m68bc6aad24580947f61225f5\u001b[0m\n",
      "             \u001b[1m\u001b[31mrating\u001b[0m : \u001b[1m\u001b[34m1\u001b[0m\n",
      "             \u001b[1m\u001b[31mdate\u001b[0m : \u001b[1m\u001b[37m2025-08-09 15:00:03\u001b[0m\n",
      "             \u001b[1m\u001b[31mmessage\u001b[0m : \u001b[1m\u001b[32mGoverno verità questione mese terzo.\n",
      "Lotta solito utile ripetere elemento. Arte nord bambina inverno. Sembrare loro sorridere uccidere neppure questione animale.\u001b[0m\n",
      "         }\n",
      "     ]\n",
      "     \u001b[1m\u001b[31mcomments_star_2\u001b[0m :\n",
      "     [\n",
      "        \n",
      "         {\n",
      "             \u001b[1m\u001b[31m_id\u001b[0m : \u001b[1m\u001b[37m68bc6aad24580947f61225af\u001b[0m\n",
      "             \u001b[1m\u001b[31mrating\u001b[0m : \u001b[1m\u001b[34m2\u001b[0m\n",
      "             \u001b[1m\u001b[31mdate\u001b[0m : \u001b[1m\u001b[37m2025-08-15 14:07:52\u001b[0m\n",
      "             \u001b[1m\u001b[31mmessage\u001b[0m : \u001b[1m\u001b[32mTecnico desiderio fortuna esercito. Rendere primo qualcosa.\n",
      "Perciò attesa vivo lungo rapporto calcio sicurezza. Restare immaginare fatica distinguere gatto già.\u001b[0m\n",
      "         }\n",
      "        \n",
      "         {\n",
      "             \u001b[1m\u001b[31m_id\u001b[0m : \u001b[1m\u001b[37m68bc6aad24580947f612250f\u001b[0m\n",
      "             \u001b[1m\u001b[31mrating\u001b[0m : \u001b[1m\u001b[34m2\u001b[0m\n",
      "             \u001b[1m\u001b[31mdate\u001b[0m : \u001b[1m\u001b[37m2025-08-28 23:51:00\u001b[0m\n",
      "             \u001b[1m\u001b[31mmessage\u001b[0m : \u001b[1m\u001b[32mAbitare atteggiamento intenzione nave. Superare soffrire scopo occorrere infine. Comprendere aria venire umano.\n",
      "Costringere buono sentimento disporre perdere naturale. Buono strada adesso elevare.\u001b[0m\n",
      "         }\n",
      "        \n",
      "         {\n",
      "             \u001b[1m\u001b[31m_id\u001b[0m : \u001b[1m\u001b[37m68bc6aad24580947f6122652\u001b[0m\n",
      "             \u001b[1m\u001b[31mrating\u001b[0m : \u001b[1m\u001b[34m2\u001b[0m\n",
      "             \u001b[1m\u001b[31mdate\u001b[0m : \u001b[1m\u001b[37m2025-08-18 15:44:23\u001b[0m\n",
      "             \u001b[1m\u001b[31mmessage\u001b[0m : \u001b[1m\u001b[32mPianura voglia tecnico spingere forte contatto. Segretario ferire indicare potere. Scorrere produrre pregare.\n",
      "Attorno giù zio processo morte quanto. Straordinario divenire insieme fianco fortuna.\u001b[0m\n",
      "         }\n",
      "        \n",
      "         {\n",
      "             \u001b[1m\u001b[31m_id\u001b[0m : \u001b[1m\u001b[37m68bc6aad24580947f6122616\u001b[0m\n",
      "             \u001b[1m\u001b[31mrating\u001b[0m : \u001b[1m\u001b[34m2\u001b[0m\n",
      "             \u001b[1m\u001b[31mdate\u001b[0m : \u001b[1m\u001b[37m2025-09-02 18:46:16\u001b[0m\n",
      "             \u001b[1m\u001b[31mmessage\u001b[0m : \u001b[1m\u001b[32mNazione gamba sorprendere continuare marito ripetere favore verità. Ponte riguardare prova affermare divertire labbro. Sinistro maggiore non fra volare francese.\u001b[0m\n",
      "         }\n",
      "     ]\n",
      "     \u001b[1m\u001b[31mcomments_star_3\u001b[0m :\n",
      "     [\n",
      "        \n",
      "         {\n",
      "             \u001b[1m\u001b[31m_id\u001b[0m : \u001b[1m\u001b[37m68bc6aad24580947f61224de\u001b[0m\n",
      "             \u001b[1m\u001b[31mrating\u001b[0m : \u001b[1m\u001b[34m3\u001b[0m\n",
      "             \u001b[1m\u001b[31mdate\u001b[0m : \u001b[1m\u001b[37m2025-09-05 19:42:16\u001b[0m\n",
      "             \u001b[1m\u001b[31mmessage\u001b[0m : \u001b[1m\u001b[32mNord nascondere sicurezza. Ospedale assoluto considerare.\n",
      "Partecipare vario riportare accorgersi. Comporre scusare aumentare messa processo sorprendere vedere. Vasto qualità ricchezza fermare.\u001b[0m\n",
      "         }\n",
      "        \n",
      "         {\n",
      "             \u001b[1m\u001b[31m_id\u001b[0m : \u001b[1m\u001b[37m68bc6aad24580947f61225c5\u001b[0m\n",
      "             \u001b[1m\u001b[31mrating\u001b[0m : \u001b[1m\u001b[34m3\u001b[0m\n",
      "             \u001b[1m\u001b[31mdate\u001b[0m : \u001b[1m\u001b[37m2025-08-25 13:47:41\u001b[0m\n",
      "             \u001b[1m\u001b[31mmessage\u001b[0m : \u001b[1m\u001b[32mMedesimo tacere mercato camminare salutare vario metro. Comunicazione foglia verde sostenere.\n",
      "Necessario aiuto presso centrale sentimento prodotto.\u001b[0m\n",
      "         }\n",
      "     ]\n",
      "     \u001b[1m\u001b[31mcomments_star_4\u001b[0m :\n",
      "     [\n",
      "        \n",
      "         {\n",
      "             \u001b[1m\u001b[31m_id\u001b[0m : \u001b[1m\u001b[37m68bc6aad24580947f6122675\u001b[0m\n",
      "             \u001b[1m\u001b[31mrating\u001b[0m : \u001b[1m\u001b[34m4\u001b[0m\n",
      "             \u001b[1m\u001b[31mdate\u001b[0m : \u001b[1m\u001b[37m2025-08-10 19:42:49\u001b[0m\n",
      "             \u001b[1m\u001b[31mmessage\u001b[0m : \u001b[1m\u001b[32mVestito moglie costituire strada sonno assoluto. Buttare fino pelle istante albergo. Foglia davanti inglese assoluto.\u001b[0m\n",
      "         }\n",
      "        \n",
      "         {\n",
      "             \u001b[1m\u001b[31m_id\u001b[0m : \u001b[1m\u001b[37m68bc6aad24580947f6122613\u001b[0m\n",
      "             \u001b[1m\u001b[31mrating\u001b[0m : \u001b[1m\u001b[34m4\u001b[0m\n",
      "             \u001b[1m\u001b[31mdate\u001b[0m : \u001b[1m\u001b[37m2025-08-12 22:41:09\u001b[0m\n",
      "             \u001b[1m\u001b[31mmessage\u001b[0m : \u001b[1m\u001b[32mDonna essa importanza in dopo lasciare italiano.\u001b[0m\n",
      "         }\n",
      "     ]\n",
      "     \u001b[1m\u001b[31mcomments_star_5\u001b[0m :\n",
      "     [\n",
      "        \n",
      "         {\n",
      "             \u001b[1m\u001b[31m_id\u001b[0m : \u001b[1m\u001b[37m68bc6aad24580947f612265b\u001b[0m\n",
      "             \u001b[1m\u001b[31mrating\u001b[0m : \u001b[1m\u001b[34m5\u001b[0m\n",
      "             \u001b[1m\u001b[31mdate\u001b[0m : \u001b[1m\u001b[37m2025-08-21 15:04:02\u001b[0m\n",
      "             \u001b[1m\u001b[31mmessage\u001b[0m : \u001b[1m\u001b[32mSignificare tagliare esporre adesso difficoltà ricordo ammazzare. Cantare difesa istituto popolo libro gatto. Pensiero concetto come perdere subito corsa ricordo.\u001b[0m\n",
      "         }\n",
      "        \n",
      "         {\n",
      "             \u001b[1m\u001b[31m_id\u001b[0m : \u001b[1m\u001b[37m68bc6aad24580947f6122598\u001b[0m\n",
      "             \u001b[1m\u001b[31mrating\u001b[0m : \u001b[1m\u001b[34m5\u001b[0m\n",
      "             \u001b[1m\u001b[31mdate\u001b[0m : \u001b[1m\u001b[37m2025-08-25 13:22:00\u001b[0m\n",
      "             \u001b[1m\u001b[31mmessage\u001b[0m : \u001b[1m\u001b[32mPericoloso giudicare libero lontano. Silenzio nessuno creare piuttosto sede ricevere. Carne mangiare voglia rivolgere vino giovane affrontare.\u001b[0m\n",
      "         }\n",
      "        \n",
      "         {\n",
      "             \u001b[1m\u001b[31m_id\u001b[0m : \u001b[1m\u001b[37m68bc6aad24580947f612262d\u001b[0m\n",
      "             \u001b[1m\u001b[31mrating\u001b[0m : \u001b[1m\u001b[34m5\u001b[0m\n",
      "             \u001b[1m\u001b[31mdate\u001b[0m : \u001b[1m\u001b[37m2025-08-23 22:59:27\u001b[0m\n",
      "             \u001b[1m\u001b[31mmessage\u001b[0m : \u001b[1m\u001b[32mGiugno sud ricordo roba forma.\n",
      "Noi abbastanza giornata chiudere. Strada sorprendere puro parere parte.\u001b[0m\n",
      "         }\n",
      "        \n",
      "         {\n",
      "             \u001b[1m\u001b[31m_id\u001b[0m : \u001b[1m\u001b[37m68bc6aad24580947f6122526\u001b[0m\n",
      "             \u001b[1m\u001b[31mrating\u001b[0m : \u001b[1m\u001b[34m5\u001b[0m\n",
      "             \u001b[1m\u001b[31mdate\u001b[0m : \u001b[1m\u001b[37m2025-08-11 02:08:10\u001b[0m\n",
      "             \u001b[1m\u001b[31mmessage\u001b[0m : \u001b[1m\u001b[32mPersonale dire personale aspetto freddo sforzo. Ritorno zona frutto verde. Assistere consentire fenomeno speranza notare medio.\n",
      "Popolo consentire grado ricchezza rappresentare fiume paese.\u001b[0m\n",
      "         }\n",
      "        \n",
      "         {\n",
      "             \u001b[1m\u001b[31m_id\u001b[0m : \u001b[1m\u001b[37m68bc6aad24580947f612250e\u001b[0m\n",
      "             \u001b[1m\u001b[31mrating\u001b[0m : \u001b[1m\u001b[34m5\u001b[0m\n",
      "             \u001b[1m\u001b[31mdate\u001b[0m : \u001b[1m\u001b[37m2025-08-22 23:56:21\u001b[0m\n",
      "             \u001b[1m\u001b[31mmessage\u001b[0m : \u001b[1m\u001b[32mPromettere potere presente buono atto che. Accompagnare allontanare ricevere rifiutare errore svolgere accadere. Storico nero iniziare.\u001b[0m\n",
      "         }\n",
      "     ]\n",
      "     \u001b[1m\u001b[31mtrade\u001b[0m :\n",
      "     {\n",
      "         \u001b[1m\u001b[31m_id\u001b[0m : \u001b[1m\u001b[37m68bc6aad24580947f61224b0\u001b[0m\n",
      "         \u001b[1m\u001b[31mdate_start\u001b[0m : \u001b[1m\u001b[37m2025-08-31 12:36:14\u001b[0m\n",
      "         \u001b[1m\u001b[31mdate_end\u001b[0m : \u001b[1m\u001b[37m2025-08-24 00:18:03\u001b[0m\n",
      "         \u001b[1m\u001b[31mwin_price\u001b[0m : \u001b[1m\u001b[34m520280\u001b[0m\n",
      "         \u001b[1m\u001b[31mwinner_id\u001b[0m : \u001b[1m\u001b[37m68bc6aad24580947f6121d09\u001b[0m\n",
      "         \u001b[1m\u001b[31mprice_max\u001b[0m : \u001b[1m\u001b[34m236300\u001b[0m\n",
      "         \u001b[1m\u001b[31mprice_min\u001b[0m : \u001b[1m\u001b[34m700\u001b[0m\n",
      "         \u001b[1m\u001b[31mprice_start\u001b[0m : \u001b[1m\u001b[34m720\u001b[0m\n",
      "         \u001b[1m\u001b[31mmin_increase\u001b[0m : \u001b[1m\u001b[34m65\u001b[0m\n",
      "         \u001b[1m\u001b[31mis_auction\u001b[0m : \u001b[1m\u001b[36mFalse\u001b[0m\n",
      "     }\n",
      " }\n"
     ]
    }
   ],
   "source": [
    "trade_id = db.artworks.find_one({\"trade\": {\"$exists\": True}})[\"trade\"][\"_id\"]  # type: ignore\n",
    "\n",
    "out = db.artworks.find_one({\"trade._id\": trade_id})\n",
    "jprint(out)"
   ]
  },
  {
   "cell_type": "markdown",
   "id": "f5291eb5",
   "metadata": {},
   "source": [
    "### RD16: _Count trades in a given year_"
   ]
  },
  {
   "cell_type": "code",
   "execution_count": 104,
   "id": "7cbaff59",
   "metadata": {},
   "outputs": [
    {
     "data": {
      "text/plain": [
       "20"
      ]
     },
     "execution_count": 104,
     "metadata": {},
     "output_type": "execute_result"
    }
   ],
   "source": [
    "start = datetime(2025, 1, 1)\n",
    "end = datetime(2026, 1, 1)\n",
    "\n",
    "# Using B-Tree\n",
    "db.artworks.count_documents(\n",
    "    {\"trade.date_start\": {\"$gte\": start, \"$lt\": end}}, hint=\"trade.date_start_1\"\n",
    ")"
   ]
  }
 ],
 "metadata": {
  "kernelspec": {
   "display_name": "Python 3",
   "language": "python",
   "name": "python3"
  },
  "language_info": {
   "codemirror_mode": {
    "name": "ipython",
    "version": 3
   },
   "file_extension": ".py",
   "mimetype": "text/x-python",
   "name": "python",
   "nbconvert_exporter": "python",
   "pygments_lexer": "ipython3",
   "version": "3.10.8"
  }
 },
 "nbformat": 4,
 "nbformat_minor": 5
}
