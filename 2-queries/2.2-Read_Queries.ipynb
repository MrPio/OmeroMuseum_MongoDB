{
 "cells": [
  {
   "cell_type": "code",
   "execution_count": null,
   "id": "e4225935",
   "metadata": {},
   "outputs": [],
   "source": [
    "%load_ext autoreload\n",
    "%autoreload 2\n",
    "from pymongo import MongoClient\n",
    "import sys\n",
    "from datetime import datetime\n",
    "from pathlib import Path\n",
    "from tqdm import tqdm \n",
    "import json\n",
    "from pprint import pprint\n",
    "\n",
    "sys.path.append(str(Path(\"..\").resolve()))\n",
    "from src import *"
   ]
  },
  {
   "cell_type": "markdown",
   "id": "acc257f0",
   "metadata": {},
   "source": [
    "# Read Queries\n",
    "ℹ️ This notebook require the execution of [`1.3-Consistency_Recover`](../1-migration/1.3-Consistency_Recover.ipynb). Or you can just load the snapshop as in the following cell."
   ]
  },
  {
   "cell_type": "markdown",
   "id": "065afc72",
   "metadata": {},
   "source": [
    "## Load post-preprocessing data\n",
    "The following cell reset the `omero_museum` database loading the `4_consistent` snapshot."
   ]
  },
  {
   "cell_type": "code",
   "execution_count": 3,
   "id": "e0447318",
   "metadata": {},
   "outputs": [],
   "source": [
    "%%capture\n",
    "MongoClient(\"mongodb://localhost:27017/\").drop_database(\"omero_museum\")\n",
    "!mongorestore --host localhost:27017 --drop --db omero_museum  \"../backup/4_consistent/omero_museum\""
   ]
  },
  {
   "cell_type": "code",
   "execution_count": 4,
   "id": "04e72afd",
   "metadata": {},
   "outputs": [
    {
     "name": "stdout",
     "output_type": "stream",
     "text": [
      "The collections of the \u001b[1m\u001b[33momero_museum\u001b[0m db are:\n",
      "----------------------------------------\n",
      "[activities]: \u001b[1m\u001b[31m_id\u001b[0m \u001b[1m\u001b[33mcapacity\u001b[0m \u001b[1m\u001b[32mduration\u001b[0m \u001b[1m\u001b[36menrolled\u001b[0m \u001b[1m\u001b[34mroom\u001b[0m \u001b[1m\u001b[35mstartDate\u001b[0m \u001b[1m\u001b[37mticketIds\u001b[0m \u001b[1m\u001b[90mworkshopTitle\u001b[0m\n",
      "[artworks]: \u001b[1m\u001b[31m_id\u001b[0m \u001b[1m\u001b[33mauthorIds\u001b[0m \u001b[1m\u001b[32mcomments_star_1\u001b[0m \u001b[1m\u001b[36mcomments_star_2\u001b[0m \u001b[1m\u001b[34mcomments_star_3\u001b[0m \u001b[1m\u001b[35mcomments_star_4\u001b[0m \u001b[1m\u001b[37mcomments_star_5\u001b[0m \u001b[1m\u001b[90mdate\u001b[0m \u001b[1m\u001b[91mdescription\u001b[0m \u001b[1m\u001b[93mdonationState\u001b[0m \u001b[1m\u001b[92mdonatorId\u001b[0m \u001b[1m\u001b[96misOriginal\u001b[0m \u001b[1m\u001b[94mlocationName\u001b[0m \u001b[1m\u001b[95mmaterials\u001b[0m \u001b[1m\u001b[31mperiod\u001b[0m \u001b[1m\u001b[33msellerId\u001b[0m \u001b[1m\u001b[32msize\u001b[0m \u001b[1m\u001b[36mtecniques\u001b[0m \u001b[1m\u001b[34mtrade\u001b[0m \u001b[1m\u001b[35mtype\u001b[0m\n",
      "[authors]: \u001b[1m\u001b[31m_id\u001b[0m \u001b[1m\u001b[33mbirth_date\u001b[0m \u001b[1m\u001b[32mgender\u001b[0m \u001b[1m\u001b[36mhome_town\u001b[0m \u001b[1m\u001b[34mname\u001b[0m \u001b[1m\u001b[35msurname\u001b[0m\n",
      "[departments]: \u001b[1m\u001b[31m_id\u001b[0m \u001b[1m\u001b[33mfloor\u001b[0m \u001b[1m\u001b[32mfree_spots\u001b[0m \u001b[1m\u001b[36mroom\u001b[0m\n",
      "[employees]: \u001b[1m\u001b[31m_id\u001b[0m \u001b[1m\u001b[33mbirth_date\u001b[0m \u001b[1m\u001b[32mcurriculum\u001b[0m \u001b[1m\u001b[36mdate_start\u001b[0m \u001b[1m\u001b[34memail\u001b[0m \u001b[1m\u001b[35mgender\u001b[0m \u001b[1m\u001b[37mhometown\u001b[0m \u001b[1m\u001b[90mname\u001b[0m \u001b[1m\u001b[91mphone_number\u001b[0m \u001b[1m\u001b[93msurname\u001b[0m\n",
      "[limited_events]: \u001b[1m\u001b[31m_id\u001b[0m \u001b[1m\u001b[33martist\u001b[0m \u001b[1m\u001b[32martworkTitles\u001b[0m \u001b[1m\u001b[36mauthorIds\u001b[0m \u001b[1m\u001b[34mcapacity\u001b[0m \u001b[1m\u001b[35mdescription\u001b[0m \u001b[1m\u001b[37mendDate\u001b[0m \u001b[1m\u001b[90mroomName\u001b[0m \u001b[1m\u001b[91mstartDate\u001b[0m \u001b[1m\u001b[93mtheme\u001b[0m \u001b[1m\u001b[92mticketIds\u001b[0m \u001b[1m\u001b[96mtype\u001b[0m\n",
      "[messages]: \u001b[1m\u001b[31m_id\u001b[0m \u001b[1m\u001b[33mcontent\u001b[0m \u001b[1m\u001b[32mcustomerId\u001b[0m \u001b[1m\u001b[36mdeliveryStatus\u001b[0m \u001b[1m\u001b[34mlength\u001b[0m \u001b[1m\u001b[35msentDate\u001b[0m \u001b[1m\u001b[37mtype\u001b[0m \u001b[1m\u001b[90muri\u001b[0m\n",
      "[rooms]: \u001b[1m\u001b[31m_id\u001b[0m \u001b[1m\u001b[33mfloor\u001b[0m\n",
      "[suppliers]: \u001b[1m\u001b[31m_id\u001b[0m \u001b[1m\u001b[33memail\u001b[0m \u001b[1m\u001b[32miban\u001b[0m \u001b[1m\u001b[36misMuseum\u001b[0m \u001b[1m\u001b[34misState\u001b[0m \u001b[1m\u001b[35mname\u001b[0m \u001b[1m\u001b[37mphoneNum\u001b[0m \u001b[1m\u001b[90msurveys\u001b[0m\n",
      "[visitors]: \u001b[1m\u001b[31m_id\u001b[0m \u001b[1m\u001b[33mbirthDate\u001b[0m \u001b[1m\u001b[32mchat\u001b[0m \u001b[1m\u001b[36mcomments\u001b[0m \u001b[1m\u001b[34mdonationIds\u001b[0m \u001b[1m\u001b[35memail\u001b[0m \u001b[1m\u001b[37mgender\u001b[0m \u001b[1m\u001b[90mimpairment\u001b[0m \u001b[1m\u001b[91misCustomer\u001b[0m \u001b[1m\u001b[93mland\u001b[0m \u001b[1m\u001b[92mname\u001b[0m \u001b[1m\u001b[96mphoneNum\u001b[0m \u001b[1m\u001b[94msaleIds\u001b[0m \u001b[1m\u001b[95msurname\u001b[0m \u001b[1m\u001b[31msurveys\u001b[0m \u001b[1m\u001b[33mtickets\u001b[0m \u001b[1m\u001b[32mtradeIds\u001b[0m\n",
      "[workshops]: \u001b[1m\u001b[31m_id\u001b[0m \u001b[1m\u001b[33mduration\u001b[0m \u001b[1m\u001b[32mprice_class\u001b[0m \u001b[1m\u001b[36mprice_person\u001b[0m \u001b[1m\u001b[34mtype\u001b[0m\n"
     ]
    }
   ],
   "source": [
    "connector = MongoDBConnector(\"omero_museum\")\n",
    "db = connector.db"
   ]
  },
  {
   "cell_type": "markdown",
   "id": "e420a2ac",
   "metadata": {},
   "source": [
    "## Artworks"
   ]
  },
  {
   "cell_type": "markdown",
   "id": "ec831f76",
   "metadata": {},
   "source": [
    "### RD1: _Read all the information of a given artwork, including its authors, materials, crafting techniques and room placement_"
   ]
  },
  {
   "cell_type": "code",
   "execution_count": null,
   "id": "df3d0251",
   "metadata": {},
   "outputs": [],
   "source": [
    "artwork = \"Mona Lisa\"\n",
    "doc = db.artworks.find_one({\"_id\": artwork})\n",
    "pprint(doc,width=120)"
   ]
  },
  {
   "cell_type": "markdown",
   "id": "186dff73",
   "metadata": {},
   "source": [
    "### RD2: _Read the last 10 comments of a given artwork_"
   ]
  },
  {
   "cell_type": "code",
   "execution_count": null,
   "id": "125abbc2",
   "metadata": {},
   "outputs": [],
   "source": [
    "pipeline = [\n",
    "    {\"$match\": {\"_id\": \"Mona Lisa\"}},\n",
    "    {\"$project\": {\n",
    "        \"all_comments\": {\n",
    "            \"$concatArrays\": [\n",
    "                \"$comments_star_1\",\n",
    "                \"$comments_star_2\",\n",
    "                \"$comments_star_3\",\n",
    "                \"$comments_star_4\",\n",
    "                \"$comments_star_5\"\n",
    "            ]\n",
    "        }\n",
    "    }},\n",
    "    {\"$unwind\": \"$all_comments\"},\n",
    "    {\"$sort\": {\"all_comments.date\": -1}},\n",
    "    {\"$limit\": 10},\n",
    "    {\"$replaceRoot\": {\"newRoot\": \"$all_comments\"}}\n",
    "]\n",
    "\n",
    "last_10_comments = list(db.artworks.aggregate(pipeline))\n",
    "pprint(last_10_comments, width=120)"
   ]
  },
  {
   "cell_type": "markdown",
   "id": "308815fe",
   "metadata": {},
   "source": [
    "### RD3: _Calculate the average rating of a given artwork_"
   ]
  },
  {
   "cell_type": "code",
   "execution_count": 12,
   "id": "bb07e364",
   "metadata": {},
   "outputs": [
    {
     "name": "stdout",
     "output_type": "stream",
     "text": [
      "Average rating: 3.0\n"
     ]
    }
   ],
   "source": [
    "pipeline_avg = [\n",
    "    {\"$match\": {\"_id\": \"Mona Lisa\"}},\n",
    "    {\"$project\": {\n",
    "        \"all_comments\": {\n",
    "            \"$concatArrays\": [\n",
    "                \"$comments_star_1\",\n",
    "                \"$comments_star_2\",\n",
    "                \"$comments_star_3\",\n",
    "                \"$comments_star_4\",\n",
    "                \"$comments_star_5\"\n",
    "            ]\n",
    "        }\n",
    "    }},\n",
    "    {\"$unwind\": \"$all_comments\"},\n",
    "    {\"$group\": {\n",
    "        \"_id\": None,\n",
    "        \"avg_rating\": {\"$avg\": \"$all_comments.rating\"}\n",
    "    }}\n",
    "]\n",
    "\n",
    "avg_rating_result = list(db.artworks.aggregate(pipeline_avg))\n",
    "print(\"Average rating:\", avg_rating_result[0][\"avg_rating\"] if avg_rating_result else None)"
   ]
  },
  {
   "cell_type": "markdown",
   "id": "94a5a34e",
   "metadata": {},
   "source": [
    "### RD4: _Calculate the average rating of the comments posted by a given customer_"
   ]
  },
  {
   "cell_type": "code",
   "execution_count": 14,
   "id": "ad85353a",
   "metadata": {},
   "outputs": [
    {
     "name": "stdout",
     "output_type": "stream",
     "text": [
      "Average rating by customer: 3.3333333333333335\n"
     ]
    }
   ],
   "source": [
    "customer_id = 0\n",
    "\n",
    "pipeline = [\n",
    "    {\"$match\": {\"_id\": customer_id}},\n",
    "    {\"$unwind\": \"$comments\"},\n",
    "    {\"$group\": {\n",
    "        \"_id\": \"$_id\",\n",
    "        \"avg_rating\": {\"$avg\": \"$comments.rating\"}\n",
    "    }}\n",
    "]\n",
    "\n",
    "result = list(db.visitors.aggregate(pipeline))\n",
    "print(\"Average rating by customer:\", result[0][\"avg_rating\"] if result else None)"
   ]
  },
  {
   "cell_type": "markdown",
   "id": "7aa9549b",
   "metadata": {},
   "source": [
    "### RD5: _Read all the comments of a given artwork with a given rating_"
   ]
  },
  {
   "cell_type": "code",
   "execution_count": null,
   "id": "14408f44",
   "metadata": {},
   "outputs": [],
   "source": [
    "artwork_id = \"Mona Lisa\"\n",
    "desired_rating = 4\n",
    "\n",
    "pipeline = [\n",
    "    {\"$match\": {\"_id\": artwork_id}},\n",
    "    {\"$project\": {\n",
    "        \"all_comments\": {\n",
    "            \"$concatArrays\": [\n",
    "                \"$comments_star_1\",\n",
    "                \"$comments_star_2\",\n",
    "                \"$comments_star_3\",\n",
    "                \"$comments_star_4\",\n",
    "                \"$comments_star_5\"\n",
    "            ]\n",
    "        }\n",
    "    }},\n",
    "    {\"$unwind\": \"$all_comments\"},\n",
    "    {\"$match\": {\"all_comments.rating\": desired_rating}},\n",
    "    {\"$replaceRoot\": {\"newRoot\": \"$all_comments\"}}\n",
    "]\n",
    "\n",
    "comments_with_rating = list(db.artworks.aggregate(pipeline))\n",
    "pprint(comments_with_rating, width=120)"
   ]
  },
  {
   "cell_type": "markdown",
   "id": "b3242ecb",
   "metadata": {},
   "source": [
    "## Surveys"
   ]
  },
  {
   "cell_type": "markdown",
   "id": "0e58b6c3",
   "metadata": {},
   "source": [
    "### RD6: _Read all the surveys, relative to this museum, filled out in a specific year_"
   ]
  },
  {
   "cell_type": "code",
   "execution_count": null,
   "id": "60805161",
   "metadata": {},
   "outputs": [],
   "source": [
    "museum_id = 12\n",
    "year = 2021\n",
    "\n",
    "pipeline = [\n",
    "    {\"$match\": {\"_id\": museum_id, \"isMuseum\": True}},\n",
    "    {\"$unwind\": \"$surveys\"},\n",
    "    {\"$addFields\": {\n",
    "        \"survey_year\": {\"$year\": \"$surveys.date_of_compilation\"}\n",
    "    }},\n",
    "    {\"$match\": {\"survey_year\": year}},\n",
    "    {\"$replaceRoot\": {\"newRoot\": \"$surveys\"}}\n",
    "]\n",
    "\n",
    "surveys_in_year = list(db.suppliers.aggregate(pipeline))\n",
    "pprint(surveys_in_year, width=120)"
   ]
  },
  {
   "cell_type": "markdown",
   "id": "49179c66",
   "metadata": {},
   "source": [
    "### RD7: _Read all the surveys filled out by a specific customer_"
   ]
  },
  {
   "cell_type": "code",
   "execution_count": null,
   "id": "2eaad2dd",
   "metadata": {},
   "outputs": [],
   "source": [
    "customer_id = 0\n",
    "\n",
    "pipeline = [\n",
    "    {\"$match\": {\"_id\": customer_id, \"isCustomer\": True}},\n",
    "    {\"$unwind\": \"$surveys\"},\n",
    "    {\"$replaceRoot\": {\"newRoot\": \"$surveys\"}}\n",
    "]\n",
    "\n",
    "customer_surveys = list(db.visitors.aggregate(pipeline))\n",
    "pprint(customer_surveys, width=120)"
   ]
  },
  {
   "cell_type": "markdown",
   "id": "f6800446",
   "metadata": {},
   "source": [
    "### RD8: _Read all the surveys from a specific affiliated museum_"
   ]
  },
  {
   "cell_type": "code",
   "execution_count": null,
   "id": "5c7da5f0",
   "metadata": {},
   "outputs": [],
   "source": [
    "affiliated_museum_id = 12\n",
    "\n",
    "pipeline = [\n",
    "    {\"$match\": {\"_id\": affiliated_museum_id, \"isMuseum\": True}},\n",
    "    {\"$unwind\": \"$surveys\"},\n",
    "    {\"$replaceRoot\": {\"newRoot\": \"$surveys\"}}\n",
    "]\n",
    "\n",
    "affiliated_museum_surveys = list(db.suppliers.aggregate(pipeline))\n",
    "pprint(affiliated_museum_surveys, width=120)"
   ]
  },
  {
   "cell_type": "markdown",
   "id": "a4c61317",
   "metadata": {},
   "source": [
    "## Tickets"
   ]
  },
  {
   "cell_type": "markdown",
   "id": "7d4fce48",
   "metadata": {},
   "source": [
    "### RD9: _Read all tickets of a visitor_"
   ]
  },
  {
   "cell_type": "code",
   "execution_count": null,
   "id": "a8810f5d",
   "metadata": {},
   "outputs": [],
   "source": [
    "visitor_id = 0\n",
    "\n",
    "pipeline = [\n",
    "    {\"$match\": {\"_id\": visitor_id}},\n",
    "    {\"$unwind\": \"$tickets\"},\n",
    "    {\"$replaceRoot\": {\"newRoot\": \"$tickets\"}}\n",
    "]\n",
    "\n",
    "visitor_tickets = list(db.visitors.aggregate(pipeline))\n",
    "pprint(visitor_tickets, width=120)"
   ]
  },
  {
   "cell_type": "markdown",
   "id": "823cdd08",
   "metadata": {},
   "source": [
    "### RD10: _Read all tickets for an event_"
   ]
  },
  {
   "cell_type": "code",
   "execution_count": null,
   "id": "9affa3f7",
   "metadata": {},
   "outputs": [],
   "source": []
  },
  {
   "cell_type": "markdown",
   "id": "b2b866b3",
   "metadata": {},
   "source": [
    "### RD11: _Count tickets issued in a year_"
   ]
  },
  {
   "cell_type": "code",
   "execution_count": 39,
   "id": "dca9f6d5",
   "metadata": {},
   "outputs": [
    {
     "name": "stdout",
     "output_type": "stream",
     "text": [
      "[{'tickets_issued': 104}]\n"
     ]
    }
   ],
   "source": [
    "year = 2025\n",
    "\n",
    "pipeline = [\n",
    "    {\"$unwind\": \"$tickets\"},\n",
    "    {\"$match\": {\n",
    "        \"tickets.date\": {\n",
    "            \"$gte\": datetime(year, 1, 1),\n",
    "            \"$lt\": datetime(year + 1, 1, 1)\n",
    "        }\n",
    "    }},\n",
    "    {\"$count\": \"tickets_issued\"}\n",
    "]\n",
    "\n",
    "result = list(db.visitors.aggregate(pipeline))\n",
    "print(result)\n"
   ]
  },
  {
   "cell_type": "markdown",
   "id": "7eccd7eb",
   "metadata": {},
   "source": [
    "## Chats"
   ]
  },
  {
   "cell_type": "markdown",
   "id": "64d236cf",
   "metadata": {},
   "source": [
    "### RD12: _Read 10 messages of a given chat previous than a specific date_"
   ]
  },
  {
   "cell_type": "code",
   "execution_count": null,
   "id": "2adaeb72",
   "metadata": {},
   "outputs": [],
   "source": [
    "customer_id = 0\n",
    "date_limit = datetime(2025, 8, 25, 0, 0, 0)\n",
    "\n",
    "pipeline = [\n",
    "    {\"$match\": {\"_id\": customer_id}},\n",
    "    {\"$unwind\": \"$chat.new_messages\"},\n",
    "    {\"$match\": {\"chat.new_messages.sentDate\": {\"$lt\": date_limit}}},\n",
    "    {\"$sort\": {\"chat.new_messages.sentDate\": -1}},\n",
    "    {\"$limit\": 10},\n",
    "    {\"$replaceRoot\": {\"newRoot\": \"$chat.new_messages\"}}\n",
    "]\n",
    "\n",
    "messages = list(db.visitors.aggregate(pipeline))\n",
    "pprint(messages, width=120)"
   ]
  },
  {
   "cell_type": "markdown",
   "id": "0d725108",
   "metadata": {},
   "source": [
    "### RD13: _Read active chats for a guide_ (correction json first)"
   ]
  },
  {
   "cell_type": "code",
   "execution_count": null,
   "id": "bd83d690",
   "metadata": {},
   "outputs": [],
   "source": []
  },
  {
   "cell_type": "markdown",
   "id": "ef61284f",
   "metadata": {},
   "source": [
    "### RD14: _Count chats opened in a year_"
   ]
  },
  {
   "cell_type": "code",
   "execution_count": 24,
   "id": "8f00894f",
   "metadata": {},
   "outputs": [
    {
     "name": "stdout",
     "output_type": "stream",
     "text": [
      "Chats opened in 2025 : 12\n"
     ]
    }
   ],
   "source": [
    "year = 2025\n",
    "\n",
    "pipeline = [\n",
    "    {\"$match\": {\"isCustomer\": True, \"chat.date_creation\": {\"$exists\": True}}},\n",
    "    {\"$addFields\": {\"chat_year\": {\"$year\": \"$chat.date_creation\"}}},\n",
    "    {\"$match\": {\"chat_year\": year}},\n",
    "    {\"$count\": \"opened_chats\"}\n",
    "]\n",
    "\n",
    "result = list(db.visitors.aggregate(pipeline))\n",
    "print(\"Chats opened in\", year, \":\", result[0][\"opened_chats\"] if result else 0)"
   ]
  },
  {
   "cell_type": "markdown",
   "id": "b6022d04",
   "metadata": {},
   "source": [
    "## Trades"
   ]
  },
  {
   "cell_type": "markdown",
   "id": "1b1641e7",
   "metadata": {},
   "source": [
    "### RD15: _Retrieve the artwork of a trade_"
   ]
  },
  {
   "cell_type": "code",
   "execution_count": null,
   "id": "3efc98ef",
   "metadata": {},
   "outputs": [],
   "source": []
  },
  {
   "cell_type": "markdown",
   "id": "f5291eb5",
   "metadata": {},
   "source": [
    "### RD16: _Count trades in a given year_"
   ]
  },
  {
   "cell_type": "code",
   "execution_count": 25,
   "id": "81a87d38",
   "metadata": {},
   "outputs": [
    {
     "name": "stdout",
     "output_type": "stream",
     "text": [
      "Trades in 2025 : 20\n"
     ]
    }
   ],
   "source": [
    "trade_year = 2025\n",
    "\n",
    "pipeline_count_trades = [\n",
    "    {\"$match\": {\"trade.date_start\": {\"$exists\": True}}},\n",
    "    {\"$addFields\": {\"trade_year\": {\"$year\": \"$trade.date_start\"}}},\n",
    "    {\"$match\": {\"trade_year\": trade_year}},\n",
    "    {\"$count\": \"trades_in_year\"}\n",
    "]\n",
    "\n",
    "trades_in_year = list(db.artworks.aggregate(pipeline_count_trades))\n",
    "print(\"Trades in\", trade_year, \":\", trades_in_year[0][\"trades_in_year\"] if trades_in_year else 0)"
   ]
  },
  {
   "cell_type": "markdown",
   "id": "13e976df",
   "metadata": {},
   "source": [
    "### RD17: _Retrieve the customer of a given artwork_"
   ]
  },
  {
   "cell_type": "code",
   "execution_count": null,
   "id": "7c15f2b7",
   "metadata": {},
   "outputs": [],
   "source": []
  },
  {
   "cell_type": "markdown",
   "id": "8f39b9ee",
   "metadata": {},
   "source": [
    "### RD18: _Retrieve all artwork inside a given room_"
   ]
  },
  {
   "cell_type": "code",
   "execution_count": null,
   "id": "eded9158",
   "metadata": {},
   "outputs": [],
   "source": []
  },
  {
   "cell_type": "markdown",
   "id": "1b3730e0",
   "metadata": {},
   "source": [
    "### RD19: _Retrieve all artwork of a given author_"
   ]
  },
  {
   "cell_type": "code",
   "execution_count": null,
   "id": "5aa5c3b7",
   "metadata": {},
   "outputs": [],
   "source": [
    "author_id = \"68b572f8845fcdbabc1c8905\"\n",
    "artworks_by_author = list(db.artworks.aggregate([\n",
    "    {\"$match\": {\"authorIds\": author_id}}\n",
    "]))\n",
    "pprint(artworks_by_author, width=120)"
   ]
  },
  {
   "cell_type": "markdown",
   "id": "6fcdcd08",
   "metadata": {},
   "source": [
    "### RD20: _Retrieve all activity of a given workshop type_"
   ]
  },
  {
   "cell_type": "code",
   "execution_count": null,
   "id": "299f2151",
   "metadata": {},
   "outputs": [],
   "source": [
    "workshop_title = \"Uno solo... ma tanti\"\n",
    "workshop_activities = list(db.activities.aggregate([\n",
    "    {\"$match\": {\"workshopTitle\": workshop_title}}\n",
    "]))\n",
    "pprint(workshop_activities, width=120)"
   ]
  },
  {
   "cell_type": "markdown",
   "id": "9230c4f1",
   "metadata": {},
   "source": [
    "### RD21: _Retrieve all the employee of a given department_"
   ]
  },
  {
   "cell_type": "code",
   "execution_count": null,
   "id": "4fe0df69",
   "metadata": {},
   "outputs": [],
   "source": []
  },
  {
   "cell_type": "markdown",
   "id": "3d327d38",
   "metadata": {},
   "source": [
    "### RD22: _Read all the surveys filled out in a specific day_"
   ]
  },
  {
   "cell_type": "code",
   "execution_count": null,
   "id": "bf91a8d0",
   "metadata": {},
   "outputs": [],
   "source": [
    "specific_day = datetime(2021, 4, 22)\n",
    "\n",
    "pipeline = [\n",
    "    {\"$unwind\": \"$surveys\"},\n",
    "    {\"$addFields\": {\n",
    "        \"survey_date\": {\n",
    "            \"$dateToString\": {\"format\": \"%Y-%m-%d\", \"date\": \"$surveys.date_of_compilation\"}\n",
    "        }\n",
    "    }},\n",
    "    {\"$match\": {\"survey_date\": specific_day.strftime(\"%Y-%m-%d\")}},\n",
    "    {\"$replaceRoot\": {\"newRoot\": \"$surveys\"}}\n",
    "]\n",
    "\n",
    "surveys_on_day = list(db.suppliers.aggregate(pipeline))\n",
    "pprint(surveys_on_day, width=120)"
   ]
  },
  {
   "cell_type": "markdown",
   "id": "c38fe729",
   "metadata": {},
   "source": [
    "### RD23: _Retrive information about a given laboratory activity, including the total number of reservations_"
   ]
  },
  {
   "cell_type": "code",
   "execution_count": null,
   "id": "3a1bcfca",
   "metadata": {},
   "outputs": [],
   "source": [
    "activity_id = 0\n",
    "\n",
    "pipeline = [\n",
    "    {\"$match\": {\"_id\": activity_id}},\n",
    "    {\"$addFields\": {\"total_reservations\": {\"$size\": \"$ticketIds\"}}}\n",
    "]\n",
    "\n",
    "activity_info = list(db.activities.aggregate(pipeline))\n",
    "pprint(activity_info, width=120)"
   ]
  },
  {
   "cell_type": "markdown",
   "id": "897edea8",
   "metadata": {},
   "source": [
    "### RD24: _View details about an employee, including their work shifts_"
   ]
  },
  {
   "cell_type": "code",
   "execution_count": null,
   "id": "cd16179c",
   "metadata": {},
   "outputs": [],
   "source": []
  },
  {
   "cell_type": "markdown",
   "id": "53b6368d",
   "metadata": {},
   "source": [
    "### RD25: _Retrive all the information about a limited event_ "
   ]
  },
  {
   "cell_type": "code",
   "execution_count": null,
   "id": "c5b1134b",
   "metadata": {},
   "outputs": [],
   "source": [
    "event_id = \"Digital Preservation of Cultural Heritage\"\n",
    "event_info = db.limited_events.find_one({\"_id\": event_id})\n",
    "pprint(event_info, width=120)"
   ]
  },
  {
   "cell_type": "markdown",
   "id": "b8ab0262",
   "metadata": {},
   "source": [
    "### RD26: _Retrive all the details of a visitor_ "
   ]
  },
  {
   "cell_type": "code",
   "execution_count": null,
   "id": "a493cf35",
   "metadata": {},
   "outputs": [],
   "source": [
    "visitor_id = 0\n",
    "visitor_info = db.visitors.find_one({\"_id\": visitor_id})\n",
    "pprint(visitor_info, width=120)"
   ]
  },
  {
   "cell_type": "markdown",
   "id": "e5038148",
   "metadata": {},
   "source": [
    "### RD27: _Retrive the visitor count for each land from most frequent to least frequent_ "
   ]
  },
  {
   "cell_type": "code",
   "execution_count": null,
   "id": "be5a04d3",
   "metadata": {},
   "outputs": [],
   "source": [
    "pipeline = [\n",
    "    {\"$group\": {\n",
    "        \"_id\": \"$land\",\n",
    "        \"visitorCount\": {\"$sum\": 1}\n",
    "    }},\n",
    "    {\"$sort\": {\"visitorCount\": -1}}\n",
    "]\n",
    "\n",
    "result = list(db.visitors.aggregate(pipeline))\n",
    "pprint(result, width=120)"
   ]
  },
  {
   "cell_type": "markdown",
   "id": "6929d187",
   "metadata": {},
   "source": [
    "### RD28: _Retrive the visitor count for each impairment from most frequent to least frequent_ "
   ]
  },
  {
   "cell_type": "code",
   "execution_count": null,
   "id": "c4c7d601",
   "metadata": {},
   "outputs": [],
   "source": [
    "pipeline = [\n",
    "    {\"$group\": {\n",
    "        \"_id\": \"$impairment\",\n",
    "        \"visitorCount\": {\"$sum\": 1}\n",
    "    }},\n",
    "    {\"$sort\": {\"visitorCount\": -1}}\n",
    "]\n",
    "\n",
    "result = list(db.visitors.aggregate(pipeline))\n",
    "pprint(result, width=120)"
   ]
  },
  {
   "cell_type": "markdown",
   "id": "4eb41253",
   "metadata": {},
   "source": [
    "### RD29: _Retrive the artwork count for each author from most frequent to least frequent_ "
   ]
  },
  {
   "cell_type": "code",
   "execution_count": null,
   "id": "6bca9473",
   "metadata": {},
   "outputs": [],
   "source": []
  },
  {
   "cell_type": "markdown",
   "id": "2885f9ad",
   "metadata": {},
   "source": [
    "### RD30: _Count the average age of participants at a given activity who completed the survey_ "
   ]
  },
  {
   "cell_type": "code",
   "execution_count": null,
   "id": "f0c53e99",
   "metadata": {},
   "outputs": [],
   "source": []
  },
  {
   "cell_type": "markdown",
   "id": "0e068f13",
   "metadata": {},
   "source": [
    "### RD31: _Count tickets issued for each year_ "
   ]
  },
  {
   "cell_type": "code",
   "execution_count": 40,
   "id": "d2615506",
   "metadata": {},
   "outputs": [
    {
     "name": "stdout",
     "output_type": "stream",
     "text": [
      "[{'_id': {'year': 2025}, 'tickets_issued': 104}]\n"
     ]
    }
   ],
   "source": [
    "pipeline = [\n",
    "    {\"$unwind\": \"$tickets\"},\n",
    "    {\"$group\": {\n",
    "        \"_id\": {\"year\": {\"$year\": \"$tickets.date\"}},\n",
    "        \"tickets_issued\": {\"$sum\": 1}\n",
    "    }},\n",
    "    {\"$sort\": {\"_id.year\": 1}}\n",
    "]\n",
    "\n",
    "result = list(db.visitors.aggregate(pipeline))\n",
    "print(result)"
   ]
  },
  {
   "cell_type": "markdown",
   "id": "947078a6",
   "metadata": {},
   "source": [
    "### RD32: _Calculate the distribution of visitor ages grouped into bands based on ticket activity in a specific year_ "
   ]
  },
  {
   "cell_type": "code",
   "execution_count": 44,
   "id": "99ced54e",
   "metadata": {},
   "outputs": [
    {
     "name": "stdout",
     "output_type": "stream",
     "text": [
      "Age group 0-18: 104 visitors\n"
     ]
    }
   ],
   "source": [
    "from datetime import datetime\n",
    "\n",
    "year = 2025\n",
    "start_date = datetime(year, 1, 1)\n",
    "end_date = datetime(year + 1, 1, 1)\n",
    "\n",
    "pipeline = [\n",
    "    {\"$unwind\": \"$tickets\"},\n",
    "    {\"$match\": {\n",
    "        \"tickets.date\": {\"$gte\": start_date, \"$lt\": end_date},\n",
    "        \"birthDate\": {\"$ne\": None}\n",
    "    }},\n",
    "    {\"$addFields\": {\n",
    "        \"age\": {\n",
    "            \"$dateDiff\": {\n",
    "                \"startDate\": \"$birthDate\",\n",
    "                \"endDate\": \"$tickets.date\",\n",
    "                \"unit\": \"year\"\n",
    "            }\n",
    "        }\n",
    "    }},\n",
    "    {\"$addFields\": {\n",
    "        \"age_group\": {\n",
    "            \"$switch\": {\n",
    "                \"branches\": [\n",
    "                    {\"case\": {\"$lte\": [\"$age\", 18]}, \"then\": \"0-18\"},\n",
    "                    {\"case\": {\"$and\": [{\"$gt\": [\"$age\", 18]}, {\"$lte\": [\"$age\", 30]}]}, \"then\": \"19-30\"},\n",
    "                    {\"case\": {\"$and\": [{\"$gt\": [\"$age\", 30]}, {\"$lte\": [\"$age\", 45]}]}, \"then\": \"31-45\"},\n",
    "                    {\"case\": {\"$and\": [{\"$gt\": [\"$age\", 45]}, {\"$lte\": [\"$age\", 65]}]}, \"then\": \"46-65\"},\n",
    "                    {\"case\": {\"$gt\": [\"$age\", 65]}, \"then\": \"65+\"}\n",
    "                ],\n",
    "                \"default\": \"unknown\"\n",
    "            }\n",
    "        }\n",
    "    }},\n",
    "    {\"$group\": {\n",
    "        \"_id\": \"$age_group\",\n",
    "        \"count\": {\"$sum\": 1}\n",
    "    }},\n",
    "    {\"$sort\": {\"_id\": 1}}\n",
    "]\n",
    "\n",
    "result = list(db.visitors.aggregate(pipeline))\n",
    "for group in result:\n",
    "    print(f\"Age group {group['_id']}: {group['count']} visitors\")\n"
   ]
  },
  {
   "cell_type": "markdown",
   "id": "cf01f17d",
   "metadata": {},
   "source": [
    "### RD33: _Count material usage in all artworks_ "
   ]
  },
  {
   "cell_type": "code",
   "execution_count": 45,
   "id": "2fbb7499",
   "metadata": {},
   "outputs": [
    {
     "name": "stdout",
     "output_type": "stream",
     "text": [
      "Stone: 9 artworks\n",
      "Canvas: 8 artworks\n",
      "Clay: 6 artworks\n",
      "Paper: 5 artworks\n",
      "White Marble: 5 artworks\n",
      "Glass: 4 artworks\n",
      "Textile: 3 artworks\n",
      "Bronze: 3 artworks\n",
      "Wood: 2 artworks\n",
      "Steel: 2 artworks\n"
     ]
    }
   ],
   "source": [
    "pipeline = [\n",
    "    {\"$unwind\": \"$materials\"},\n",
    "    {\"$group\": {\n",
    "        \"_id\": \"$materials\",\n",
    "        \"count\": {\"$sum\": 1}\n",
    "    }},\n",
    "    {\"$sort\": {\"count\": -1}}\n",
    "]\n",
    "\n",
    "result = list(db.artworks.aggregate(pipeline))\n",
    "for material in result:\n",
    "    print(f\"{material['_id']}: {material['count']} artworks\")\n"
   ]
  },
  {
   "cell_type": "markdown",
   "id": "7ca5e6fa",
   "metadata": {},
   "source": [
    "### RD33: _Count top 5 visit reasons_ "
   ]
  },
  {
   "cell_type": "code",
   "execution_count": 48,
   "id": "798e8cc0",
   "metadata": {},
   "outputs": [
    {
     "name": "stdout",
     "output_type": "stream",
     "text": [
      "trascorrere tempo libero con amici/parenti: 17 responses\n",
      "passare un momento personale piacevole: 16 responses\n",
      "incontrare persone con interessi simili ai miei: 14 responses\n",
      "vedere oggetti importanti: 13 responses\n",
      "approfondire le mie conoscenze: 9 responses\n"
     ]
    }
   ],
   "source": [
    "pipeline = [\n",
    "    {\"$unwind\": \"$surveys\"},\n",
    "    {\"$group\": {\n",
    "        \"_id\": \"$surveys.reason_for_visit\",\n",
    "        \"count\": {\"$sum\": 1}\n",
    "    }},\n",
    "    {\"$sort\": {\"count\": -1}},\n",
    "    {\"$limit\": 5}\n",
    "]\n",
    "\n",
    "result = list(db.visitors.aggregate(pipeline))\n",
    "for reason in result:\n",
    "    print(f\"{reason['_id']}: {reason['count']} responses\")\n"
   ]
  },
  {
   "cell_type": "markdown",
   "id": "1268c57e",
   "metadata": {},
   "source": [
    "### RD34: _Count how many artworks are original vs. not_"
   ]
  },
  {
   "cell_type": "code",
   "execution_count": 50,
   "id": "77e4c509",
   "metadata": {},
   "outputs": [
    {
     "name": "stdout",
     "output_type": "stream",
     "text": [
      "Replica: 15 artworks\n",
      "Original: 5 artworks\n"
     ]
    }
   ],
   "source": [
    "pipeline = [\n",
    "    {\"$group\": {\n",
    "        \"_id\": \"$isOriginal\",\n",
    "        \"count\": {\"$sum\": 1}\n",
    "    }}\n",
    "]\n",
    "\n",
    "result = list(db.artworks.aggregate(pipeline))\n",
    "for item in result:\n",
    "    label = \"Original\" if item[\"_id\"] else \"Replica\"\n",
    "    print(f\"{label}: {item['count']} artworks\")\n"
   ]
  },
  {
   "cell_type": "markdown",
   "id": "cf72a381",
   "metadata": {},
   "source": [
    "### RD35: _Count how many visitors came back_"
   ]
  },
  {
   "cell_type": "code",
   "execution_count": 52,
   "id": "69876cb5",
   "metadata": {},
   "outputs": [
    {
     "name": "stdout",
     "output_type": "stream",
     "text": [
      "Repeat visitors: 32\n"
     ]
    }
   ],
   "source": [
    "pipeline = [\n",
    "    {\"$project\": {\n",
    "        \"num_tickets\": {\"$size\": \"$tickets\"}\n",
    "    }},\n",
    "    {\"$match\": {\n",
    "        \"num_tickets\": {\"$gt\": 1}\n",
    "    }},\n",
    "    {\"$count\": \"repeat_visitors\"}\n",
    "]\n",
    "\n",
    "result = list(db.visitors.aggregate(pipeline))\n",
    "print(\"Repeat visitors:\", result[0][\"repeat_visitors\"])\n"
   ]
  },
  {
   "cell_type": "markdown",
   "id": "9f50e55c",
   "metadata": {},
   "source": [
    "### RD36: _Count which days had the most ticket activity_"
   ]
  },
  {
   "cell_type": "code",
   "execution_count": 53,
   "id": "0d5c5dde",
   "metadata": {},
   "outputs": [
    {
     "name": "stdout",
     "output_type": "stream",
     "text": [
      "2025-09-04: 8 tickets\n",
      "2025-09-01: 7 tickets\n",
      "2025-09-03: 7 tickets\n",
      "2025-08-22: 6 tickets\n",
      "2025-08-16: 6 tickets\n"
     ]
    }
   ],
   "source": [
    "pipeline = [\n",
    "    {\"$unwind\": \"$tickets\"},\n",
    "    {\"$group\": {\n",
    "        \"_id\": {\n",
    "            \"$dateToString\": {\"format\": \"%Y-%m-%d\", \"date\": \"$tickets.date\"}\n",
    "        },\n",
    "        \"count\": {\"$sum\": 1}\n",
    "    }},\n",
    "    {\"$sort\": {\"count\": -1}},\n",
    "    {\"$limit\": 5}\n",
    "]\n",
    "\n",
    "result = list(db.visitors.aggregate(pipeline))\n",
    "for day in result:\n",
    "    print(f\"{day['_id']}: {day['count']} tickets\")\n"
   ]
  },
  {
   "cell_type": "markdown",
   "id": "c58a0ad3",
   "metadata": {},
   "source": [
    "### RD37: _Average enrollment rate by workshop title_"
   ]
  },
  {
   "cell_type": "code",
   "execution_count": 59,
   "id": "450103f9",
   "metadata": {},
   "outputs": [
    {
     "name": "stdout",
     "output_type": "stream",
     "text": [
      "Ri-tratto con tatto: 40.91% enrolled\n",
      "Libri tattili: 4.44% enrolled\n",
      "Bestiario immaginario: 8.82% enrolled\n",
      "Uno solo... ma tanti: 23.73% enrolled\n",
      "Impronte: 21.35% enrolled\n",
      "Di-segno: 12.52% enrolled\n",
      "Le cose raccontano storie: 18.18% enrolled\n",
      "Mini corso di ceramica: 30.59% enrolled\n",
      "None: 20.03% enrolled\n"
     ]
    }
   ],
   "source": [
    "pipeline = [\n",
    "    {\"$project\": {\n",
    "        \"workshopTitle\": 1,\n",
    "        \"enrollment_rate\": {\n",
    "            \"$cond\": [\n",
    "                {\"$eq\": [\"$capacity\", 0]},\n",
    "                0,\n",
    "                {\"$divide\": [\"$enrolled\", \"$capacity\"]}\n",
    "            ]\n",
    "        }\n",
    "    }},\n",
    "    {\"$group\": {\n",
    "        \"_id\": \"$workshopTitle\",\n",
    "        \"average_enrollment_rate\": {\"$avg\": \"$enrollment_rate\"}\n",
    "    }}\n",
    "]\n",
    "\n",
    "result = list(db.activities.aggregate(pipeline))\n",
    "for activity in result:\n",
    "    print(f\"{activity['_id']}: {activity['average_enrollment_rate']:.2%} enrolled\")\n"
   ]
  },
  {
   "cell_type": "markdown",
   "id": "5ef22a26",
   "metadata": {},
   "source": [
    "### RD38: _Count visitor education level breakdown from surveys_"
   ]
  },
  {
   "cell_type": "code",
   "execution_count": 60,
   "id": "afb92669",
   "metadata": {},
   "outputs": [
    {
     "name": "stdout",
     "output_type": "stream",
     "text": [
      "Laurea/PostLaurea: 24 visitors\n",
      "Diploma: 19 visitors\n",
      "None: 17 visitors\n",
      "Lic. Media: 13 visitors\n",
      "Elem.: 4 visitors\n",
      "Nessuno: 3 visitors\n"
     ]
    }
   ],
   "source": [
    "pipeline = [\n",
    "    {\"$unwind\": \"$surveys\"},\n",
    "    {\"$group\": {\n",
    "        \"_id\": \"$surveys.title_of_studies\",\n",
    "        \"count\": {\"$sum\": 1}\n",
    "    }},\n",
    "    {\"$sort\": {\"count\": -1}}\n",
    "]\n",
    "result = list(db.visitors.aggregate(pipeline))\n",
    "for study in result:\n",
    "    print(f\"{study['_id']}: {study['count']} visitors\")"
   ]
  },
  {
   "cell_type": "markdown",
   "id": "2dfa1c2b",
   "metadata": {},
   "source": [
    "### RD39: _Show workshop duration distribution_"
   ]
  },
  {
   "cell_type": "code",
   "execution_count": 61,
   "id": "ca521308",
   "metadata": {},
   "outputs": [
    {
     "name": "stdout",
     "output_type": "stream",
     "text": [
      "Duration 60: 5 activities\n",
      "Duration 120: 3 activities\n",
      "Duration 240: 3 activities\n",
      "Duration 300+: 14 activities\n"
     ]
    }
   ],
   "source": [
    "pipeline = [\n",
    "    {\"$bucket\": {\n",
    "        \"groupBy\": \"$duration\",\n",
    "        \"boundaries\": [0, 60, 120, 180, 240, 300],\n",
    "        \"default\": \"300+\",\n",
    "        \"output\": {\n",
    "            \"count\": {\"$sum\": 1}\n",
    "        }\n",
    "    }}\n",
    "]\n",
    "result = list(db.activities.aggregate(pipeline))\n",
    "for bucket in result:\n",
    "    print(f\"Duration {bucket['_id']}: {bucket['count']} activities\")"
   ]
  },
  {
   "cell_type": "markdown",
   "id": "b2fd1266",
   "metadata": {},
   "source": [
    "### RD40: Count the number of museum suppliers with external suppliers"
   ]
  },
  {
   "cell_type": "code",
   "execution_count": 65,
   "id": "fcc6e6d1",
   "metadata": {},
   "outputs": [
    {
     "name": "stdout",
     "output_type": "stream",
     "text": [
      "Museum: 15 suppliers\n",
      "Not a Museum: 10 suppliers\n"
     ]
    }
   ],
   "source": [
    "pipeline = [\n",
    "    {\"$group\": {\n",
    "        \"_id\": \"$isMuseum\",\n",
    "        \"count\": {\"$sum\": 1}\n",
    "    }}\n",
    "]\n",
    "result = list(db.suppliers.aggregate(pipeline))\n",
    "for item in result:\n",
    "    label = \"Museum\" if item[\"_id\"] else \"Not a Museum\"\n",
    "    print(f\"{label}: {item['count']} suppliers\")"
   ]
  }
 ],
 "metadata": {
  "kernelspec": {
   "display_name": "Python 3",
   "language": "python",
   "name": "python3"
  },
  "language_info": {
   "codemirror_mode": {
    "name": "ipython",
    "version": 3
   },
   "file_extension": ".py",
   "mimetype": "text/x-python",
   "name": "python",
   "nbconvert_exporter": "python",
   "pygments_lexer": "ipython3",
   "version": "3.10.8"
  }
 },
 "nbformat": 4,
 "nbformat_minor": 5
}
