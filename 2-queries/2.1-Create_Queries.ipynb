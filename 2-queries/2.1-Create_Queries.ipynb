{
 "cells": [
  {
   "cell_type": "code",
   "execution_count": 1,
   "id": "e4225935",
   "metadata": {},
   "outputs": [],
   "source": [
    "%load_ext autoreload\n",
    "%autoreload 2\n",
    "from pymongo import MongoClient\n",
    "import sys\n",
    "from pathlib import Path\n",
    "from tqdm import tqdm\n",
    "import json\n",
    "from datetime import datetime\n",
    "from pprint import pprint\n",
    "from bson import ObjectId\n",
    "\n",
    "sys.path.append(str(Path(\"..\").resolve()))\n",
    "from src import *"
   ]
  },
  {
   "cell_type": "markdown",
   "id": "acc257f0",
   "metadata": {},
   "source": [
    "# Create Queries\n",
    "ℹ️ This notebook require the execution of [`1.3-Consistency_Recover`](../1-migration/1.3-Consistency_Recover.ipynb). Or you can just load the snapshop as in the following cell."
   ]
  },
  {
   "cell_type": "markdown",
   "id": "065afc72",
   "metadata": {},
   "source": [
    "## Load post-preprocessing data\n",
    "The following cell reset the `omero_museum` database loading the `4_consistent` snapshot."
   ]
  },
  {
   "cell_type": "code",
   "execution_count": 2,
   "id": "e0447318",
   "metadata": {},
   "outputs": [],
   "source": [
    "%%capture\n",
    "MongoClient(\"mongodb://localhost:27017/\").drop_database(\"omero_museum\")\n",
    "!mongorestore --host localhost:27017 --drop --db omero_museum  \"../backup/5_optimized/omero_museum\""
   ]
  },
  {
   "cell_type": "code",
   "execution_count": 3,
   "id": "04e72afd",
   "metadata": {},
   "outputs": [],
   "source": [
    "connector = MongoDBConnector(\"omero_museum\", silent=True)\n",
    "db = connector.db"
   ]
  },
  {
   "cell_type": "markdown",
   "id": "ec831f76",
   "metadata": {},
   "source": [
    "### CR1: _Create a new comment to a specific artwork_"
   ]
  },
  {
   "cell_type": "code",
   "execution_count": 5,
   "id": "df3d0251",
   "metadata": {},
   "outputs": [
    {
     "data": {
      "text/plain": [
       "UpdateResult({'n': 0, 'nModified': 0, 'ok': 1.0, 'updatedExisting': False}, acknowledged=True)"
      ]
     },
     "execution_count": 5,
     "metadata": {},
     "output_type": "execute_result"
    }
   ],
   "source": [
    "customer_id = db.visitors.find_one({\"is_customer\": True})[\"_id\"]  # type: ignore\n",
    "artwork_id = \"Mona Lisa\"\n",
    "rating = 5\n",
    "new_comment_id = ObjectId()\n",
    "\n",
    "db.artworks.update_one(\n",
    "    {\"_id\": artwork_id},\n",
    "    {\n",
    "        \"$push\": {\n",
    "            f\"comments_star_{rating}\": {\n",
    "                \"_id\": new_comment_id,\n",
    "                \"rating\": rating,\n",
    "                \"date\": datetime.now(),\n",
    "                \"message\": \"Capolavoro assoluto, emozionante da vedere dal vivo!\",\n",
    "            }\n",
    "        }\n",
    "    },\n",
    ")\n",
    "db.customers.update_one({\"_id\": customer_id}, {\"$push\": {\"comments\": new_comment_id}})"
   ]
  },
  {
   "cell_type": "markdown",
   "id": "7845b29d",
   "metadata": {},
   "source": [
    "### CR2: _Create a new survey compilation_"
   ]
  },
  {
   "cell_type": "code",
   "execution_count": null,
   "id": "dc479405",
   "metadata": {},
   "outputs": [
    {
     "data": {
      "text/plain": [
       "UpdateResult({'n': 1, 'nModified': 1, 'ok': 1.0, 'updatedExisting': True}, acknowledged=True)"
      ]
     },
     "execution_count": 9,
     "metadata": {},
     "output_type": "execute_result"
    }
   ],
   "source": [
    "visitor_id = db.visitors.find_one({})[\"_id\"]  # type: ignore\n",
    "\n",
    "db.visitors.update_one(\n",
    "    {\"_id\": visitor_id},\n",
    "    {\n",
    "        \"$push\": {\n",
    "            \"surveys\": {\n",
    "                \"accompanying_persons_visit\": \"amici\",\n",
    "                \"date_of_compilation\": datetime(2025, 9, 5, 15, 30),\n",
    "                \"reason_for_visit\": \"Interesse per l'arte moderna\",\n",
    "                \"number_of_visits\": 2,\n",
    "                \"return\": \"sì\",\n",
    "                \"type_of_visit\": \"visita guidata\",\n",
    "                \"title_of_studies\": \"Diploma\",\n",
    "                \"evaluation_of_experience\": 9,\n",
    "                \"evaluation_of_facility\": 8,\n",
    "                \"evaluation_of_visit\": 10\n",
    "            }\n",
    "        }\n",
    "    }\n",
    ")"
   ]
  },
  {
   "cell_type": "markdown",
   "id": "638f03cc",
   "metadata": {},
   "source": [
    "### CR3: _Create a new ticket for a visitor_"
   ]
  },
  {
   "cell_type": "code",
   "execution_count": null,
   "id": "bdbc27ae",
   "metadata": {},
   "outputs": [
    {
     "data": {
      "text/plain": [
       "UpdateResult({'n': 1, 'nModified': 1, 'ok': 1.0, 'updatedExisting': True}, acknowledged=True)"
      ]
     },
     "execution_count": 10,
     "metadata": {},
     "output_type": "execute_result"
    }
   ],
   "source": [
    "visitor_id = db.visitors.find_one({})[\"_id\"]  # type: ignore\n",
    "\n",
    "db.visitors.update_one(\n",
    "    {\"_id\": visitor_id},\n",
    "    {\n",
    "        \"$push\": {\n",
    "            \"tickets\": {\n",
    "                \"date\": datetime(2025, 9, 6, 11, 0),\n",
    "                \"price\": 18.0,\n",
    "                \"check_in\": False\n",
    "            }\n",
    "        }\n",
    "    }\n",
    ")"
   ]
  },
  {
   "cell_type": "markdown",
   "id": "d7ef8937",
   "metadata": {},
   "source": [
    "### CR4: _Create a new message_"
   ]
  },
  {
   "cell_type": "code",
   "execution_count": null,
   "id": "99b12a97",
   "metadata": {},
   "outputs": [
    {
     "data": {
      "text/plain": [
       "UpdateResult({'n': 1, 'nModified': 1, 'ok': 1.0, 'updatedExisting': True}, acknowledged=True)"
      ]
     },
     "execution_count": 13,
     "metadata": {},
     "output_type": "execute_result"
    }
   ],
   "source": [
    "visitor_id = db.visitors.find_one({\"chat\": {\"$exists\": True}})[\"_id\"]  # type: ignore\n",
    "\n",
    "new_message = {\n",
    "    \"customerId\": visitor_id,\n",
    "    \"sentDate\": datetime(2025, 9, 5, 16, 0),\n",
    "    \"type\": \"text\",\n",
    "    \"content\": \"Benvenuto al Museo Omero!\",\n",
    "    \"deliveryStatus\": \"sent\",\n",
    "    \"length\": 24,\n",
    "    \"uri\": None,\n",
    "}\n",
    "\n",
    "visitor = db.visitors.find_one({\"_id\": visitor_id})\n",
    "chat = visitor[\"chat\"]  # type: ignore\n",
    "new_msgs = chat.get(\"new_messages\", [])\n",
    "old_msgs = chat.get(\"old_messages\", [])\n",
    "\n",
    "new_msgs.append(new_message)\n",
    "\n",
    "# If there are more than 10 new messages, move the oldest to old messages\n",
    "if len(new_msgs) > 10:\n",
    "    oldest = new_msgs.pop(0)\n",
    "    oldest_id = ObjectId()\n",
    "    old_msgs.insert(0, oldest_id)\n",
    "    db.messages.insert_one({\"_id\": oldest_id, **oldest})\n",
    "\n",
    "db.visitors.update_one(\n",
    "    {\"_id\": visitor_id},\n",
    "    {\"$set\": {\"chat.new_messages\": new_msgs, \"chat.old_messages\": old_msgs}},\n",
    ")"
   ]
  },
  {
   "cell_type": "markdown",
   "id": "63a379c7",
   "metadata": {},
   "source": [
    "### CR5: _Create a new trade_"
   ]
  },
  {
   "cell_type": "code",
   "execution_count": 6,
   "id": "2a76872a",
   "metadata": {},
   "outputs": [
    {
     "data": {
      "text/plain": [
       "UpdateResult({'n': 1, 'nModified': 1, 'ok': 1.0, 'updatedExisting': True}, acknowledged=True)"
      ]
     },
     "execution_count": 6,
     "metadata": {},
     "output_type": "execute_result"
    }
   ],
   "source": [
    "artwork_id = \"Mona Lisa\"\n",
    "customer_id = db.visitors.find_one({\"is_customer\": True})[\"_id\"]  # type: ignore\n",
    "\n",
    "db.artworks.update_one(\n",
    "    {\"_id\": artwork_id},\n",
    "    {\n",
    "        \"$set\": {\n",
    "            \"trade\": {\n",
    "                \"date_start\": datetime(2025, 9, 10, 10, 0),\n",
    "                \"date_end\": datetime(2025, 9, 15, 18, 0),\n",
    "                \"win_price\": 12000,\n",
    "                \"winner_id\": customer_id,\n",
    "                \"price_max\": 15000,\n",
    "                \"price_min\": 8000,\n",
    "                \"price_start\": 5000,\n",
    "                \"min_increase\": 200,\n",
    "                \"is_auction\": True,\n",
    "            }\n",
    "        }\n",
    "    },\n",
    ")\n",
    "db.visitors.update_one({\"_id\": customer_id}, {\"$addToSet\": {\"tradeIds\": \"Mona Lisa\"}})"
   ]
  },
  {
   "cell_type": "markdown",
   "id": "3a41978b",
   "metadata": {},
   "source": [
    "### CR6: _Create a new visitor_"
   ]
  },
  {
   "cell_type": "code",
   "execution_count": 7,
   "id": "3c0b7ee2",
   "metadata": {},
   "outputs": [
    {
     "data": {
      "text/plain": [
       "InsertOneResult(ObjectId('68bc891e9122b3cf6357d50c'), acknowledged=True)"
      ]
     },
     "execution_count": 7,
     "metadata": {},
     "output_type": "execute_result"
    }
   ],
   "source": [
    "db.visitors.insert_one({\n",
    "    \"isCustomer\": False,\n",
    "    \"birthDate\": datetime(1990, 5, 15, 2, 0),\n",
    "    \"gender\": \"male\",\n",
    "    \"land\": \"Italy\",\n",
    "    \"tickets\": [\n",
    "        {\n",
    "            \"date\": datetime(2024, 7, 1, 10, 0),\n",
    "            \"price\": 15.0,\n",
    "            \"check_in\": True\n",
    "        }\n",
    "    ],\n",
    "})\n"
   ]
  },
  {
   "cell_type": "markdown",
   "id": "12e23c8a",
   "metadata": {},
   "source": [
    "### CR7: _Create a new activity_"
   ]
  },
  {
   "cell_type": "code",
   "execution_count": null,
   "id": "45823612",
   "metadata": {},
   "outputs": [
    {
     "data": {
      "text/plain": [
       "InsertOneResult(25, acknowledged=True)"
      ]
     },
     "execution_count": 38,
     "metadata": {},
     "output_type": "execute_result"
    }
   ],
   "source": [
    "db.activities.insert_one({\n",
    "    \"room\": \"Rinascimentale\",  \n",
    "    \"duration\": 90,\n",
    "    \"enrolled\": 5,\n",
    "    \"startDate\": datetime(2025, 9, 4, 15, 0),\n",
    "    \"capacity\": 30,\n",
    "    \"ticketIds\": [34, 46, 9, 7, 12],\n",
    "    \"workshopTitle\": \"Pittura su tela\"  \n",
    "})\n"
   ]
  },
  {
   "cell_type": "markdown",
   "id": "470b14fd",
   "metadata": {},
   "source": [
    "### CR8: _Create a new artwork_"
   ]
  },
  {
   "cell_type": "code",
   "execution_count": 8,
   "id": "c418edb9",
   "metadata": {},
   "outputs": [
    {
     "data": {
      "text/plain": [
       "InsertOneResult('La Notte Stellata', acknowledged=True)"
      ]
     },
     "execution_count": 8,
     "metadata": {},
     "output_type": "execute_result"
    }
   ],
   "source": [
    "author_id = db.authors.find_one({})[\"_id\"]  # type: ignore\n",
    "\n",
    "db.artworks.insert_one(\n",
    "    {\n",
    "        \"_id\": \"La Notte Stellata\",\n",
    "        \"date\": datetime(1889, 6, 1),\n",
    "        \"type\": \"painting\",\n",
    "        \"description\": \"Opera celebre di Van Gogh\",\n",
    "        \"isOriginal\": True,\n",
    "        \"size\": 73,\n",
    "        \"period\": \"Post-Impressionismo\",\n",
    "        \"sellerId\": 9,\n",
    "        \"donatorId\": 13,\n",
    "        \"donationState\": \"refused\",\n",
    "        \"locationName\": \"Parigi\",\n",
    "        \"authorIds\": [author_id],  # authors\n",
    "        \"tecniques\": [\"mosaic\"],\n",
    "        \"materials\": [\"Glass\", \"Wood\"],\n",
    "        \"comments_star_3\": [\n",
    "            {\n",
    "                \"rating\": 3,\n",
    "                \"date\": datetime(2025, 8, 12, 10, 30),\n",
    "                \"message\": \"Un buon lavoro, ma si può migliorare\",\n",
    "            }\n",
    "        ],\n",
    "    }\n",
    ")"
   ]
  },
  {
   "cell_type": "markdown",
   "id": "58ea730c",
   "metadata": {},
   "source": [
    "### CR9: _Create a new limited event_"
   ]
  },
  {
   "cell_type": "code",
   "execution_count": 16,
   "id": "addd7f51",
   "metadata": {},
   "outputs": [
    {
     "data": {
      "text/plain": [
       "InsertOneResult('The Future of Mosaic', acknowledged=True)"
      ]
     },
     "execution_count": 16,
     "metadata": {},
     "output_type": "execute_result"
    }
   ],
   "source": [
    "author_id = db.authors.find_one({})[\"_id\"]  # type: ignore\n",
    "ticket_id = db.visitors.find_one({\"tickets\": {\"$ne\": None}})[\"tickets\"][0][\"_id\"]  # type: ignore\n",
    "\n",
    "db.limited_events.insert_one(\n",
    "    {\n",
    "        \"_id\": \"The Future of Mosaic\",\n",
    "        \"capacity\": 40,\n",
    "        \"type\": \"exhibition\",\n",
    "        \"startDate\": datetime(2025, 10, 1, 10, 0),\n",
    "        \"endDate\": datetime(2025, 10, 1, 18, 0),\n",
    "        \"theme\": \"Innovation\",\n",
    "        \"description\": \"Mostra temporanea di opere moderne\",\n",
    "        \"roomName\": \"Contemporaneo\",  # room id\n",
    "        \"authorIds\": [author_id],\n",
    "        \"artworkTitles\": [\"The Scream\", \"Guernica\"],\n",
    "        \"ticketIds\": [42, 51, 8, 6, 7],\n",
    "    }\n",
    ")"
   ]
  },
  {
   "cell_type": "markdown",
   "id": "1dde1c00",
   "metadata": {},
   "source": [
    "### CR10: _Create a new employee_"
   ]
  },
  {
   "cell_type": "code",
   "execution_count": 19,
   "id": "b92ae4ad",
   "metadata": {},
   "outputs": [],
   "source": [
    "out=db.roles.insert_one(\n",
    "    {\n",
    "        \"phone_number\": \"+39 0922684697\",\n",
    "        \"surname\": \"Gozzano\",\n",
    "        \"curriculum\": \"http://monteverdi.com/\",\n",
    "        \"birth_date\": datetime(2025, 8, 23, 7, 6, 2),\n",
    "        \"date_start\": datetime(2025, 9, 2, 18, 14),\n",
    "        \"email\": \"carmelo87@example.com\",\n",
    "        \"hometown\": \"Trevenzuolo\",\n",
    "        \"name\": \"Amedeo\",\n",
    "        \"gender\": \"F\",\n",
    "        \"username\": \"ludovico03\",\n",
    "        \"password\": \"67d71a0a46db3ea107aa55cab0f8de7d\",\n",
    "        \"salary\": 40000,\n",
    "        \"desk\": 2,\n",
    "        \"department\": \"Amministrazione\",\n",
    "        \"type\": \"teaching staff\",\n",
    "        \"english_cert\": \"A1\",\n",
    "    }\n",
    ")"
   ]
  },
  {
   "cell_type": "markdown",
   "id": "22505904",
   "metadata": {},
   "source": [
    "### CR11: _Create a new shift_ (correction json first)"
   ]
  },
  {
   "cell_type": "code",
   "execution_count": 22,
   "id": "07fc7f10",
   "metadata": {},
   "outputs": [
    {
     "data": {
      "text/plain": [
       "UpdateResult({'n': 1, 'nModified': 1, 'ok': 1.0, 'updatedExisting': True}, acknowledged=True)"
      ]
     },
     "execution_count": 22,
     "metadata": {},
     "output_type": "execute_result"
    }
   ],
   "source": [
    "db.roles.update_one(\n",
    "    {\"_id\": out.inserted_id},\n",
    "    {\n",
    "        \"$push\": {\n",
    "            \"shifts\": {\n",
    "                \"time_start\": \"08:50:23\",\n",
    "                \"time_end\": \"16:58:45\",\n",
    "                \"day_of_week\": \"martedì\",\n",
    "            }\n",
    "        }\n",
    "    },\n",
    ")"
   ]
  },
  {
   "cell_type": "markdown",
   "id": "da7c8f0b",
   "metadata": {},
   "source": [
    "### CR12: _Create a new author_"
   ]
  },
  {
   "cell_type": "code",
   "execution_count": null,
   "id": "380ea1f0",
   "metadata": {},
   "outputs": [
    {
     "data": {
      "text/plain": [
       "InsertOneResult(ObjectId('68bab0df278cb5df47bf676b'), acknowledged=True)"
      ]
     },
     "execution_count": 16,
     "metadata": {},
     "output_type": "execute_result"
    }
   ],
   "source": [
    "db.authors.insert_one({\n",
    "    \"surname\": \"Rossi\",\n",
    "    \"birth_date\": datetime(1975, 4, 12),\n",
    "    \"home_town\": \"Milano\",\n",
    "    \"name\": \"Giovanni\",\n",
    "    \"gender\": \"M\"\n",
    "})"
   ]
  },
  {
   "cell_type": "markdown",
   "id": "fa8df896",
   "metadata": {},
   "source": [
    "### CR13: _Create a new workshop_"
   ]
  },
  {
   "cell_type": "code",
   "execution_count": null,
   "id": "a71f955e",
   "metadata": {},
   "outputs": [
    {
     "data": {
      "text/plain": [
       "InsertOneResult('Pittura su tela', acknowledged=True)"
      ]
     },
     "execution_count": 40,
     "metadata": {},
     "output_type": "execute_result"
    }
   ],
   "source": [
    "db.workshops.insert_one({\n",
    "    \"_id\": \"Pittura su tela\",\n",
    "    \"duration\": datetime(1970, 1, 1, 2, 0),         \n",
    "    \"price_class\": 80.00,        \n",
    "    \"price_person\": 25.00,      \n",
    "    \"type\": \"Design\"  \n",
    "})"
   ]
  },
  {
   "cell_type": "markdown",
   "id": "af1bcae7",
   "metadata": {},
   "source": [
    "### CR14: _Create a new supplier_"
   ]
  },
  {
   "cell_type": "code",
   "execution_count": null,
   "id": "a35ae131",
   "metadata": {},
   "outputs": [
    {
     "data": {
      "text/plain": [
       "InsertOneResult(25, acknowledged=True)"
      ]
     },
     "execution_count": 36,
     "metadata": {},
     "output_type": "execute_result"
    }
   ],
   "source": [
    "db.suppliers.insert_one(\n",
    "    {\n",
    "        \"name\": \"Maurizio Conte\",\n",
    "        \"iban\": \"IT60X0542811101000000123456\",\n",
    "        \"isState\": True,\n",
    "        \"isMuseum\": False,\n",
    "        \"email\": \"conte_mauto@outlook.it\",\n",
    "        \"phoneNum\": \"+390276543210\",\n",
    "    }\n",
    ")"
   ]
  }
 ],
 "metadata": {
  "kernelspec": {
   "display_name": "Python 3",
   "language": "python",
   "name": "python3"
  },
  "language_info": {
   "codemirror_mode": {
    "name": "ipython",
    "version": 3
   },
   "file_extension": ".py",
   "mimetype": "text/x-python",
   "name": "python",
   "nbconvert_exporter": "python",
   "pygments_lexer": "ipython3",
   "version": "3.10.8"
  }
 },
 "nbformat": 4,
 "nbformat_minor": 5
}
