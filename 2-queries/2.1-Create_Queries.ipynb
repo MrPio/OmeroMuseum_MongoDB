{
 "cells": [
  {
   "cell_type": "code",
   "execution_count": 1,
   "id": "e4225935",
   "metadata": {},
   "outputs": [],
   "source": [
    "%load_ext autoreload\n",
    "%autoreload 2\n",
    "from pymongo import MongoClient\n",
    "import sys\n",
    "from pathlib import Path\n",
    "from tqdm import tqdm\n",
    "import json\n",
    "from pprint import pprint\n",
    "\n",
    "sys.path.append(str(Path(\"..\").resolve()))\n",
    "from src import *"
   ]
  },
  {
   "cell_type": "markdown",
   "id": "acc257f0",
   "metadata": {},
   "source": [
    "# Create Queries\n",
    "ℹ️ This notebook require the execution of [`1.3-Consistency_Recover`](../1-migration/1.3-Consistency_Recover.ipynb). Or you can just load the snapshop as in the following cell."
   ]
  },
  {
   "cell_type": "markdown",
   "id": "065afc72",
   "metadata": {},
   "source": [
    "## Load post-preprocessing data\n",
    "The following cell reset the `omero_museum` database loading the `4_consistent` snapshot."
   ]
  },
  {
   "cell_type": "code",
   "execution_count": 2,
   "id": "e0447318",
   "metadata": {},
   "outputs": [],
   "source": [
    "%%capture\n",
    "MongoClient(\"mongodb://localhost:27017/\").drop_database(\"omero_museum\")\n",
    "!mongorestore --host localhost:27017 --drop --db omero_museum  \"../backup/4_consistent/omero_museum\""
   ]
  },
  {
   "cell_type": "code",
   "execution_count": 4,
   "id": "04e72afd",
   "metadata": {},
   "outputs": [
    {
     "name": "stdout",
     "output_type": "stream",
     "text": [
      "The collections of the \u001b[1m\u001b[33momero_museum\u001b[0m db are:\n",
      "----------------------------------------\n",
      "[activities]: \u001b[1m\u001b[31m_id\u001b[0m \u001b[1m\u001b[33mcapacity\u001b[0m \u001b[1m\u001b[32mduration\u001b[0m \u001b[1m\u001b[36menrolled\u001b[0m \u001b[1m\u001b[34mroom\u001b[0m \u001b[1m\u001b[35mstartDate\u001b[0m \u001b[1m\u001b[37mticketIds\u001b[0m \u001b[1m\u001b[90mworkshopTitle\u001b[0m\n",
      "[artworks]: \u001b[1m\u001b[31m_id\u001b[0m \u001b[1m\u001b[33mauthorIds\u001b[0m \u001b[1m\u001b[32mcomments_star_1\u001b[0m \u001b[1m\u001b[36mcomments_star_2\u001b[0m \u001b[1m\u001b[34mcomments_star_3\u001b[0m \u001b[1m\u001b[35mcomments_star_4\u001b[0m \u001b[1m\u001b[37mcomments_star_5\u001b[0m \u001b[1m\u001b[90mdate\u001b[0m \u001b[1m\u001b[91mdescription\u001b[0m \u001b[1m\u001b[93mdonationState\u001b[0m \u001b[1m\u001b[92mdonatorId\u001b[0m \u001b[1m\u001b[96misOriginal\u001b[0m \u001b[1m\u001b[94mlocationName\u001b[0m \u001b[1m\u001b[95mmaterials\u001b[0m \u001b[1m\u001b[31mperiod\u001b[0m \u001b[1m\u001b[33msellerId\u001b[0m \u001b[1m\u001b[32msize\u001b[0m \u001b[1m\u001b[36mtecniques\u001b[0m \u001b[1m\u001b[34mtrade\u001b[0m \u001b[1m\u001b[35mtype\u001b[0m\n",
      "[authors]: \u001b[1m\u001b[31m_id\u001b[0m \u001b[1m\u001b[33mbirth_date\u001b[0m \u001b[1m\u001b[32mgender\u001b[0m \u001b[1m\u001b[36mhome_town\u001b[0m \u001b[1m\u001b[34mname\u001b[0m \u001b[1m\u001b[35msurname\u001b[0m\n",
      "[departments]: \u001b[1m\u001b[31m_id\u001b[0m \u001b[1m\u001b[33mfloor\u001b[0m \u001b[1m\u001b[32mfree_spots\u001b[0m \u001b[1m\u001b[36mroom\u001b[0m\n",
      "[employees]: \u001b[1m\u001b[31m_id\u001b[0m \u001b[1m\u001b[33mbirth_date\u001b[0m \u001b[1m\u001b[32mcurriculum\u001b[0m \u001b[1m\u001b[36mdate_start\u001b[0m \u001b[1m\u001b[34memail\u001b[0m \u001b[1m\u001b[35mgender\u001b[0m \u001b[1m\u001b[37mhometown\u001b[0m \u001b[1m\u001b[90mname\u001b[0m \u001b[1m\u001b[91mphone_number\u001b[0m \u001b[1m\u001b[93msurname\u001b[0m\n",
      "[limited_events]: \u001b[1m\u001b[31m_id\u001b[0m \u001b[1m\u001b[33martist\u001b[0m \u001b[1m\u001b[32martworkTitles\u001b[0m \u001b[1m\u001b[36mauthorIds\u001b[0m \u001b[1m\u001b[34mcapacity\u001b[0m \u001b[1m\u001b[35mdescription\u001b[0m \u001b[1m\u001b[37mendDate\u001b[0m \u001b[1m\u001b[90mroomName\u001b[0m \u001b[1m\u001b[91mstartDate\u001b[0m \u001b[1m\u001b[93mtheme\u001b[0m \u001b[1m\u001b[92mticketIds\u001b[0m \u001b[1m\u001b[96mtype\u001b[0m\n",
      "[messages]: \u001b[1m\u001b[31m_id\u001b[0m \u001b[1m\u001b[33mcontent\u001b[0m \u001b[1m\u001b[32mcustomerId\u001b[0m \u001b[1m\u001b[36mdeliveryStatus\u001b[0m \u001b[1m\u001b[34mlength\u001b[0m \u001b[1m\u001b[35msentDate\u001b[0m \u001b[1m\u001b[37mtype\u001b[0m \u001b[1m\u001b[90muri\u001b[0m\n",
      "[rooms]: \u001b[1m\u001b[31m_id\u001b[0m \u001b[1m\u001b[33mfloor\u001b[0m\n",
      "[suppliers]: \u001b[1m\u001b[31m_id\u001b[0m \u001b[1m\u001b[33memail\u001b[0m \u001b[1m\u001b[32miban\u001b[0m \u001b[1m\u001b[36misMuseum\u001b[0m \u001b[1m\u001b[34misState\u001b[0m \u001b[1m\u001b[35mname\u001b[0m \u001b[1m\u001b[37mphoneNum\u001b[0m \u001b[1m\u001b[90msurveys\u001b[0m\n",
      "[visitors]: \u001b[1m\u001b[31m_id\u001b[0m \u001b[1m\u001b[33mbirthDate\u001b[0m \u001b[1m\u001b[32mchat\u001b[0m \u001b[1m\u001b[36mcomments\u001b[0m \u001b[1m\u001b[34mdonationIds\u001b[0m \u001b[1m\u001b[35memail\u001b[0m \u001b[1m\u001b[37mgender\u001b[0m \u001b[1m\u001b[90mimpairment\u001b[0m \u001b[1m\u001b[91misCustomer\u001b[0m \u001b[1m\u001b[93mland\u001b[0m \u001b[1m\u001b[92mname\u001b[0m \u001b[1m\u001b[96mphoneNum\u001b[0m \u001b[1m\u001b[94msaleIds\u001b[0m \u001b[1m\u001b[95msurname\u001b[0m \u001b[1m\u001b[31msurveys\u001b[0m \u001b[1m\u001b[33mtickets\u001b[0m \u001b[1m\u001b[32mtradeIds\u001b[0m\n",
      "[workshops]: \u001b[1m\u001b[31m_id\u001b[0m \u001b[1m\u001b[33mduration\u001b[0m \u001b[1m\u001b[32mprice_class\u001b[0m \u001b[1m\u001b[36mprice_person\u001b[0m \u001b[1m\u001b[34mtype\u001b[0m\n"
     ]
    }
   ],
   "source": [
    "connector = MongoDBConnector(\"omero_museum\")\n",
    "db = connector.db"
   ]
  },
  {
   "cell_type": "markdown",
   "id": "ec831f76",
   "metadata": {},
   "source": [
    "### CR1: _Create a new comment to a specific artwork_"
   ]
  },
  {
   "cell_type": "code",
   "execution_count": null,
   "id": "df3d0251",
   "metadata": {},
   "outputs": [],
   "source": []
  },
  {
   "cell_type": "markdown",
   "id": "7845b29d",
   "metadata": {},
   "source": [
    "### CR2: _Create a new survey compilation_"
   ]
  },
  {
   "cell_type": "code",
   "execution_count": null,
   "id": "dc479405",
   "metadata": {},
   "outputs": [],
   "source": []
  },
  {
   "cell_type": "markdown",
   "id": "638f03cc",
   "metadata": {},
   "source": [
    "### CR3: _Create a new ticket for a visitor_"
   ]
  },
  {
   "cell_type": "code",
   "execution_count": null,
   "id": "81576423",
   "metadata": {},
   "outputs": [],
   "source": []
  },
  {
   "cell_type": "markdown",
   "id": "d7ef8937",
   "metadata": {},
   "source": [
    "### CR4: _Create a new message_"
   ]
  },
  {
   "cell_type": "code",
   "execution_count": null,
   "id": "99b12a97",
   "metadata": {},
   "outputs": [],
   "source": []
  },
  {
   "cell_type": "markdown",
   "id": "63a379c7",
   "metadata": {},
   "source": [
    "### CR5: _Create a new trade_"
   ]
  },
  {
   "cell_type": "code",
   "execution_count": null,
   "id": "2a76872a",
   "metadata": {},
   "outputs": [],
   "source": []
  },
  {
   "cell_type": "markdown",
   "id": "3a41978b",
   "metadata": {},
   "source": [
    "### CR6: _Create a new visitor_"
   ]
  },
  {
   "cell_type": "code",
   "execution_count": null,
   "id": "3c0b7ee2",
   "metadata": {},
   "outputs": [],
   "source": []
  },
  {
   "cell_type": "markdown",
   "id": "12e23c8a",
   "metadata": {},
   "source": [
    "### CR7: _Create a new activity_"
   ]
  },
  {
   "cell_type": "code",
   "execution_count": null,
   "id": "45823612",
   "metadata": {},
   "outputs": [],
   "source": []
  },
  {
   "cell_type": "markdown",
   "id": "470b14fd",
   "metadata": {},
   "source": [
    "### CR8: _Create a new artwork_"
   ]
  },
  {
   "cell_type": "code",
   "execution_count": null,
   "id": "c418edb9",
   "metadata": {},
   "outputs": [],
   "source": []
  },
  {
   "cell_type": "markdown",
   "id": "58ea730c",
   "metadata": {},
   "source": [
    "### CR9: _Create a new limited event_"
   ]
  },
  {
   "cell_type": "code",
   "execution_count": null,
   "id": "addd7f51",
   "metadata": {},
   "outputs": [],
   "source": []
  },
  {
   "cell_type": "markdown",
   "id": "1dde1c00",
   "metadata": {},
   "source": [
    "### CR10: _Create a new employee_ (correction json first)"
   ]
  },
  {
   "cell_type": "markdown",
   "id": "a24da423",
   "metadata": {},
   "source": []
  },
  {
   "cell_type": "markdown",
   "id": "22505904",
   "metadata": {},
   "source": [
    "### CR11: _Create a new shift_ (correction json first)"
   ]
  },
  {
   "cell_type": "code",
   "execution_count": null,
   "id": "07fc7f10",
   "metadata": {},
   "outputs": [],
   "source": []
  },
  {
   "cell_type": "markdown",
   "id": "da7c8f0b",
   "metadata": {},
   "source": [
    "### CR12: _Create a new author_"
   ]
  },
  {
   "cell_type": "code",
   "execution_count": null,
   "id": "380ea1f0",
   "metadata": {},
   "outputs": [],
   "source": []
  },
  {
   "cell_type": "markdown",
   "id": "fa8df896",
   "metadata": {},
   "source": [
    "### CR13: _Create a new workshop_"
   ]
  },
  {
   "cell_type": "code",
   "execution_count": null,
   "id": "a71f955e",
   "metadata": {},
   "outputs": [],
   "source": []
  },
  {
   "cell_type": "markdown",
   "id": "af1bcae7",
   "metadata": {},
   "source": [
    "### CR14: _Create a new supplier_"
   ]
  },
  {
   "cell_type": "code",
   "execution_count": null,
   "id": "a35ae131",
   "metadata": {},
   "outputs": [],
   "source": []
  }
 ],
 "metadata": {
  "kernelspec": {
   "display_name": "Python 3",
   "language": "python",
   "name": "python3"
  },
  "language_info": {
   "codemirror_mode": {
    "name": "ipython",
    "version": 3
   },
   "file_extension": ".py",
   "mimetype": "text/x-python",
   "name": "python",
   "nbconvert_exporter": "python",
   "pygments_lexer": "ipython3",
   "version": "3.12.2"
  }
 },
 "nbformat": 4,
 "nbformat_minor": 5
}
