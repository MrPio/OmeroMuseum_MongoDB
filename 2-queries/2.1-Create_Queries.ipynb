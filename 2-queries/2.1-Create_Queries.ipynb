{
 "cells": [
  {
   "cell_type": "code",
   "execution_count": 15,
   "id": "e4225935",
   "metadata": {},
   "outputs": [
    {
     "name": "stdout",
     "output_type": "stream",
     "text": [
      "The autoreload extension is already loaded. To reload it, use:\n",
      "  %reload_ext autoreload\n"
     ]
    }
   ],
   "source": [
    "%load_ext autoreload\n",
    "%autoreload 2\n",
    "from pymongo import MongoClient\n",
    "import sys\n",
    "from pathlib import Path\n",
    "from tqdm import tqdm\n",
    "import json\n",
    "from datetime import datetime\n",
    "from pprint import pprint\n",
    "from bson import ObjectId\n",
    "\n",
    "sys.path.append(str(Path(\"..\").resolve()))\n",
    "from src import *"
   ]
  },
  {
   "cell_type": "markdown",
   "id": "acc257f0",
   "metadata": {},
   "source": [
    "# Create Queries\n",
    "ℹ️ This notebook require the execution of [`1.3-Consistency_Recover`](../1-migration/1.3-Consistency_Recover.ipynb). Or you can just load the snapshop as in the following cell."
   ]
  },
  {
   "cell_type": "markdown",
   "id": "065afc72",
   "metadata": {},
   "source": [
    "## Load post-preprocessing data\n",
    "The following cell reset the `omero_museum` database loading the `4_consistent` snapshot."
   ]
  },
  {
   "cell_type": "code",
   "execution_count": 5,
   "id": "e0447318",
   "metadata": {},
   "outputs": [],
   "source": [
    "%%capture\n",
    "MongoClient(\"mongodb://localhost:27017/\").drop_database(\"omero_museum\")\n",
    "!mongorestore --host localhost:27017 --drop --db omero_museum  \"../backup/4_consistent/omero_museum\""
   ]
  },
  {
   "cell_type": "code",
   "execution_count": 6,
   "id": "04e72afd",
   "metadata": {},
   "outputs": [
    {
     "name": "stdout",
     "output_type": "stream",
     "text": [
      "The collections of the \u001b[1m\u001b[33momero_museum\u001b[0m db are:\n",
      "----------------------------------------\n",
      "[activities]: \u001b[1m\u001b[31m_id\u001b[0m \u001b[1m\u001b[33mcapacity\u001b[0m \u001b[1m\u001b[32mduration\u001b[0m \u001b[1m\u001b[36menrolled\u001b[0m \u001b[1m\u001b[34mroom\u001b[0m \u001b[1m\u001b[35mstartDate\u001b[0m \u001b[1m\u001b[37mticketIds\u001b[0m \u001b[1m\u001b[90mworkshopTitle\u001b[0m\n",
      "[artworks]: \u001b[1m\u001b[31m_id\u001b[0m \u001b[1m\u001b[33mauthorIds\u001b[0m \u001b[1m\u001b[32mcomments_star_1\u001b[0m \u001b[1m\u001b[36mcomments_star_2\u001b[0m \u001b[1m\u001b[34mcomments_star_3\u001b[0m \u001b[1m\u001b[35mcomments_star_4\u001b[0m \u001b[1m\u001b[37mcomments_star_5\u001b[0m \u001b[1m\u001b[90mdate\u001b[0m \u001b[1m\u001b[91mdescription\u001b[0m \u001b[1m\u001b[93mdonationState\u001b[0m \u001b[1m\u001b[92mdonatorId\u001b[0m \u001b[1m\u001b[96misOriginal\u001b[0m \u001b[1m\u001b[94mlocationName\u001b[0m \u001b[1m\u001b[95mmaterials\u001b[0m \u001b[1m\u001b[31mperiod\u001b[0m \u001b[1m\u001b[33msellerId\u001b[0m \u001b[1m\u001b[32msize\u001b[0m \u001b[1m\u001b[36mtecniques\u001b[0m \u001b[1m\u001b[34mtrade\u001b[0m \u001b[1m\u001b[35mtype\u001b[0m\n",
      "[authors]: \u001b[1m\u001b[31m_id\u001b[0m \u001b[1m\u001b[33mbirth_date\u001b[0m \u001b[1m\u001b[32mgender\u001b[0m \u001b[1m\u001b[36mhome_town\u001b[0m \u001b[1m\u001b[34mname\u001b[0m \u001b[1m\u001b[35msurname\u001b[0m\n",
      "[departments]: \u001b[1m\u001b[31m_id\u001b[0m \u001b[1m\u001b[33mfloor\u001b[0m \u001b[1m\u001b[32mfree_spots\u001b[0m \u001b[1m\u001b[36mroom\u001b[0m\n",
      "[employees]: \u001b[1m\u001b[31m_id\u001b[0m \u001b[1m\u001b[33mbirth_date\u001b[0m \u001b[1m\u001b[32mcurriculum\u001b[0m \u001b[1m\u001b[36mdate_start\u001b[0m \u001b[1m\u001b[34memail\u001b[0m \u001b[1m\u001b[35mgender\u001b[0m \u001b[1m\u001b[37mhometown\u001b[0m \u001b[1m\u001b[90mname\u001b[0m \u001b[1m\u001b[91mphone_number\u001b[0m \u001b[1m\u001b[93msurname\u001b[0m\n",
      "[limited_events]: \u001b[1m\u001b[31m_id\u001b[0m \u001b[1m\u001b[33martist\u001b[0m \u001b[1m\u001b[32martworkTitles\u001b[0m \u001b[1m\u001b[36mauthorIds\u001b[0m \u001b[1m\u001b[34mcapacity\u001b[0m \u001b[1m\u001b[35mdescription\u001b[0m \u001b[1m\u001b[37mendDate\u001b[0m \u001b[1m\u001b[90mroomName\u001b[0m \u001b[1m\u001b[91mstartDate\u001b[0m \u001b[1m\u001b[93mtheme\u001b[0m \u001b[1m\u001b[92mticketIds\u001b[0m \u001b[1m\u001b[96mtype\u001b[0m\n",
      "[messages]: \u001b[1m\u001b[31m_id\u001b[0m \u001b[1m\u001b[33mcontent\u001b[0m \u001b[1m\u001b[32mcustomerId\u001b[0m \u001b[1m\u001b[36mdeliveryStatus\u001b[0m \u001b[1m\u001b[34mlength\u001b[0m \u001b[1m\u001b[35msentDate\u001b[0m \u001b[1m\u001b[37mtype\u001b[0m \u001b[1m\u001b[90muri\u001b[0m\n",
      "[rooms]: \u001b[1m\u001b[31m_id\u001b[0m \u001b[1m\u001b[33mfloor\u001b[0m\n",
      "[suppliers]: \u001b[1m\u001b[31m_id\u001b[0m \u001b[1m\u001b[33memail\u001b[0m \u001b[1m\u001b[32miban\u001b[0m \u001b[1m\u001b[36misMuseum\u001b[0m \u001b[1m\u001b[34misState\u001b[0m \u001b[1m\u001b[35mname\u001b[0m \u001b[1m\u001b[37mphoneNum\u001b[0m \u001b[1m\u001b[90msurveys\u001b[0m\n",
      "[visitors]: \u001b[1m\u001b[31m_id\u001b[0m \u001b[1m\u001b[33mbirthDate\u001b[0m \u001b[1m\u001b[32mchat\u001b[0m \u001b[1m\u001b[36mcomments\u001b[0m \u001b[1m\u001b[34mdonationIds\u001b[0m \u001b[1m\u001b[35memail\u001b[0m \u001b[1m\u001b[37mgender\u001b[0m \u001b[1m\u001b[90mimpairment\u001b[0m \u001b[1m\u001b[91misCustomer\u001b[0m \u001b[1m\u001b[93mland\u001b[0m \u001b[1m\u001b[92mname\u001b[0m \u001b[1m\u001b[96mphoneNum\u001b[0m \u001b[1m\u001b[94msaleIds\u001b[0m \u001b[1m\u001b[95msurname\u001b[0m \u001b[1m\u001b[31msurveys\u001b[0m \u001b[1m\u001b[33mtickets\u001b[0m \u001b[1m\u001b[32mtradeIds\u001b[0m\n",
      "[workshops]: \u001b[1m\u001b[31m_id\u001b[0m \u001b[1m\u001b[33mduration\u001b[0m \u001b[1m\u001b[32mprice_class\u001b[0m \u001b[1m\u001b[36mprice_person\u001b[0m \u001b[1m\u001b[34mtype\u001b[0m\n"
     ]
    }
   ],
   "source": [
    "connector = MongoDBConnector(\"omero_museum\")\n",
    "db = connector.db"
   ]
  },
  {
   "cell_type": "markdown",
   "id": "ec831f76",
   "metadata": {},
   "source": [
    "### CR1: _Create a new comment to a specific artwork_"
   ]
  },
  {
   "cell_type": "code",
   "execution_count": 8,
   "id": "df3d0251",
   "metadata": {},
   "outputs": [
    {
     "data": {
      "text/plain": [
       "UpdateResult({'n': 1, 'nModified': 1, 'ok': 1.0, 'updatedExisting': True}, acknowledged=True)"
      ]
     },
     "execution_count": 8,
     "metadata": {},
     "output_type": "execute_result"
    }
   ],
   "source": [
    "db.artworks.update_one(\n",
    "    {\"_id\": \"Mona Lisa\"},\n",
    "    {\n",
    "        \"$push\": {\n",
    "            \"comments_star_5\": { # N-star comment goes to comments_star_N array\n",
    "                \"rating\": 5, # N-star rating\n",
    "                \"date\": datetime.now(),\n",
    "                \"message\": \"Capolavoro assoluto, emozionante da vedere dal vivo!\"\n",
    "            }\n",
    "        }\n",
    "    }\n",
    ")"
   ]
  },
  {
   "cell_type": "markdown",
   "id": "7845b29d",
   "metadata": {},
   "source": [
    "### CR2: _Create a new survey compilation_"
   ]
  },
  {
   "cell_type": "code",
   "execution_count": 9,
   "id": "dc479405",
   "metadata": {},
   "outputs": [
    {
     "data": {
      "text/plain": [
       "UpdateResult({'n': 1, 'nModified': 1, 'ok': 1.0, 'updatedExisting': True}, acknowledged=True)"
      ]
     },
     "execution_count": 9,
     "metadata": {},
     "output_type": "execute_result"
    }
   ],
   "source": [
    "db.visitors.update_one(\n",
    "    {\"_id\": 0},\n",
    "    {\n",
    "        \"$push\": {\n",
    "            \"surveys\": {\n",
    "                \"accompanying_persons_visit\": \"amici\",\n",
    "                \"date_of_compilation\": datetime(2025, 9, 5, 15, 30),\n",
    "                \"reason_for_visit\": \"Interesse per l'arte moderna\",\n",
    "                \"number_of_visits\": 2,\n",
    "                \"return\": \"sì\",\n",
    "                \"type_of_visit\": \"visita guidata\",\n",
    "                \"title_of_studies\": \"Diploma\",\n",
    "                \"evaluation_of_experience\": 9,\n",
    "                \"evaluation_of_facility\": 8,\n",
    "                \"evaluation_of_visit\": 10\n",
    "            }\n",
    "        }\n",
    "    }\n",
    ")"
   ]
  },
  {
   "cell_type": "markdown",
   "id": "638f03cc",
   "metadata": {},
   "source": [
    "### CR3: _Create a new ticket for a visitor_"
   ]
  },
  {
   "cell_type": "code",
   "execution_count": 10,
   "id": "bdbc27ae",
   "metadata": {},
   "outputs": [
    {
     "data": {
      "text/plain": [
       "UpdateResult({'n': 1, 'nModified': 1, 'ok': 1.0, 'updatedExisting': True}, acknowledged=True)"
      ]
     },
     "execution_count": 10,
     "metadata": {},
     "output_type": "execute_result"
    }
   ],
   "source": [
    "db.visitors.update_one(\n",
    "    {\"_id\": 0},\n",
    "    {\n",
    "        \"$push\": {\n",
    "            \"tickets\": {\n",
    "                \"date\": datetime(2025, 9, 6, 11, 0),\n",
    "                \"price\": 18.0,\n",
    "                \"check_in\": False\n",
    "            }\n",
    "        }\n",
    "    }\n",
    ")"
   ]
  },
  {
   "cell_type": "markdown",
   "id": "d7ef8937",
   "metadata": {},
   "source": [
    "### CR4: _Create a new message_"
   ]
  },
  {
   "cell_type": "code",
   "execution_count": 13,
   "id": "99b12a97",
   "metadata": {},
   "outputs": [
    {
     "data": {
      "text/plain": [
       "UpdateResult({'n': 1, 'nModified': 1, 'ok': 1.0, 'updatedExisting': True}, acknowledged=True)"
      ]
     },
     "execution_count": 13,
     "metadata": {},
     "output_type": "execute_result"
    }
   ],
   "source": [
    "visitor_id = 0\n",
    "\n",
    "new_message = {\n",
    "    \"customerId\": visitor_id,\n",
    "    \"sentDate\": datetime(2025, 9, 5, 16, 0),\n",
    "    \"type\": \"text\",\n",
    "    \"content\": \"Benvenuto al Museo Omero!\",\n",
    "    \"deliveryStatus\": \"sent\",\n",
    "    \"length\": 24,\n",
    "    \"uri\": None\n",
    "}\n",
    "\n",
    "visitor = db.visitors.find_one({\"_id\": visitor_id})\n",
    "chat = visitor.get(\"chat\", {})\n",
    "new_msgs = chat.get(\"new_messages\", [])\n",
    "old_msgs = chat.get(\"old_messages\", [])\n",
    "\n",
    "new_msgs.append(new_message)\n",
    "\n",
    "# If there are more than 10 new messages, move the oldest to old messages\n",
    "if len(new_msgs) > 10:\n",
    "    oldest = new_msgs.pop(0)\n",
    "    old_msgs.insert(0, oldest)\n",
    "\n",
    "db.visitors.update_one(\n",
    "    {\"_id\": visitor_id},\n",
    "    {\n",
    "        \"$set\": {\n",
    "            \"chat.new_messages\": new_msgs,\n",
    "            \"chat.old_messages\": old_msgs\n",
    "        }\n",
    "    }\n",
    ")"
   ]
  },
  {
   "cell_type": "markdown",
   "id": "63a379c7",
   "metadata": {},
   "source": [
    "### CR5: _Create a new trade_"
   ]
  },
  {
   "cell_type": "code",
   "execution_count": 14,
   "id": "2a76872a",
   "metadata": {},
   "outputs": [
    {
     "data": {
      "text/plain": [
       "UpdateResult({'n': 1, 'nModified': 1, 'ok': 1.0, 'updatedExisting': True}, acknowledged=True)"
      ]
     },
     "execution_count": 14,
     "metadata": {},
     "output_type": "execute_result"
    }
   ],
   "source": [
    "db.artworks.update_one(\n",
    "    {\"_id\": \"Mona Lisa\"},\n",
    "    {\n",
    "        \"$set\": {\n",
    "            \"trade\": {\n",
    "                \"date_start\": datetime(2025, 9, 10, 10, 0),\n",
    "                \"date_end\": datetime(2025, 9, 15, 18, 0),\n",
    "                \"win_price\": 12000,\n",
    "                \"winner_id\": 20,  # Link to the visitor\n",
    "                \"price_max\": 15000,\n",
    "                \"price_min\": 8000,\n",
    "                \"price_start\": 5000,\n",
    "                \"min_increase\": 200,\n",
    "                \"is_auction\": True\n",
    "            }\n",
    "        }\n",
    "    }\n",
    ")\n",
    "\n",
    "\n",
    "db.visitors.update_one(\n",
    "    {\"_id\": 20},\n",
    "    {\"$addToSet\": {\"tradeIds\": \"Mona Lisa\"}}\n",
    ")"
   ]
  },
  {
   "cell_type": "markdown",
   "id": "3a41978b",
   "metadata": {},
   "source": [
    "### CR6: _Create a new visitor_"
   ]
  },
  {
   "cell_type": "code",
   "execution_count": null,
   "id": "3c0b7ee2",
   "metadata": {},
   "outputs": [
    {
     "data": {
      "text/plain": [
       "InsertOneResult(53, acknowledged=True)"
      ]
     },
     "execution_count": 24,
     "metadata": {},
     "output_type": "execute_result"
    }
   ],
   "source": [
    "last = db.visitors.find_one(sort=[(\"_id\", -1)])\n",
    "next_id = (last[\"_id\"] + 1) if last else 1\n",
    "\n",
    "db.visitors.insert_one({\n",
    "    \"_id\": next_id,\n",
    "    \"isCustomer\": True,\n",
    "    \"birthDate\": datetime(1990, 5, 15, 2, 0),\n",
    "    \"gender\": \"male\",\n",
    "    \"land\": \"Italy\",\n",
    "    \"tickets\": [\n",
    "        {\n",
    "            \"date\": datetime(2024, 7, 1, 10, 0),\n",
    "            \"price\": 15.0,\n",
    "            \"check_in\": True\n",
    "        }\n",
    "    ],\n",
    "    \"surname\": \"Rosa\",\n",
    "    \"name\": \"Maria\",\n",
    "    \"phoneNum\": \"+390123456789\",\n",
    "    \"email\": \"maria.rosa@.com\",\n",
    "    \"comments\": [],\n",
    "    \"donationIds\": [],\n",
    "    \"saleIds\": [],\n",
    "    \"tradeIds\": []\n",
    "})\n"
   ]
  },
  {
   "cell_type": "markdown",
   "id": "12e23c8a",
   "metadata": {},
   "source": [
    "### CR7: _Create a new activity_"
   ]
  },
  {
   "cell_type": "code",
   "execution_count": null,
   "id": "45823612",
   "metadata": {},
   "outputs": [
    {
     "data": {
      "text/plain": [
       "InsertOneResult(25, acknowledged=True)"
      ]
     },
     "execution_count": 38,
     "metadata": {},
     "output_type": "execute_result"
    }
   ],
   "source": [
    "last = db.activities.find_one(sort=[(\"_id\", -1)])\n",
    "next_id = (last[\"_id\"] + 1) if last else 1\n",
    "\n",
    "db.activities.insert_one({\n",
    "    \"_id\": next_id,\n",
    "    \"room\": \"Rinascimentale\",  \n",
    "    \"duration\": 90,\n",
    "    \"enrolled\": 5,\n",
    "    \"startDate\": datetime(2025, 9, 4, 15, 0),\n",
    "    \"capacity\": 30,\n",
    "    \"ticketIds\": [34, 46, 9, 7, 12],\n",
    "    \"workshopTitle\": \"Pittura su tela\"  \n",
    "})\n"
   ]
  },
  {
   "cell_type": "markdown",
   "id": "470b14fd",
   "metadata": {},
   "source": [
    "### CR8: _Create a new artwork_"
   ]
  },
  {
   "cell_type": "code",
   "execution_count": null,
   "id": "c418edb9",
   "metadata": {},
   "outputs": [
    {
     "data": {
      "text/plain": [
       "InsertOneResult('La Notte Stellata', acknowledged=True)"
      ]
     },
     "execution_count": 44,
     "metadata": {},
     "output_type": "execute_result"
    }
   ],
   "source": [
    "db.artworks.insert_one({\n",
    "    \"_id\": \"La Notte Stellata\",\n",
    "    \"date\": datetime(1889, 6, 1),\n",
    "    \"type\": \"painting\",\n",
    "    \"description\": \"Opera celebre di Van Gogh\",\n",
    "    \"isOriginal\": True,\n",
    "    \"size\": 73,\n",
    "    \"period\": \"Post-Impressionismo\",\n",
    "    \"sellerId\": 9,     \n",
    "    \"donatorId\": 13,    \n",
    "    \"donationState\": \"refused\",\n",
    "    \"locationName\": \"Parigi\",\n",
    "    \"authorIds\": [\"68b572f8845fcdbabc1c8906\"],  # authors\n",
    "    \"tecniques\": [\"mosaic\"],\n",
    "    \"materials\": [\"Glass\", \"wood\"],\n",
    "    \"comments_star_1\": [],\n",
    "    \"comments_star_2\": [],\n",
    "    \"comments_star_3\": [\n",
    "        {\n",
    "            \"rating\": 3,\n",
    "            \"date\": datetime(2025, 8, 12, 10, 30),\n",
    "            \"message\": \"Un buon lavoro, ma si può migliorare\"\n",
    "        }\n",
    "    ],    \n",
    "    \"comments_star_4\": [],\n",
    "    \"comments_star_5\": [],\n",
    "    \"trade\": {\n",
    "        \"date_start\": datetime(2025, 8, 24, 22, 52, 10),\n",
    "        \"date_end\": datetime(2025, 8, 30, 17, 42, 7),   \n",
    "        \"win_price\": 4800,\n",
    "        \"winner_id\": 3,\n",
    "        \"price_max\": 5000,\n",
    "        \"price_min\": 2900,\n",
    "        \"price_start\": 2500,\n",
    "        \"min_increase\": 50,\n",
    "        \"is_auction\": False\n",
    "    }\n",
    "})"
   ]
  },
  {
   "cell_type": "markdown",
   "id": "58ea730c",
   "metadata": {},
   "source": [
    "### CR9: _Create a new limited event_"
   ]
  },
  {
   "cell_type": "code",
   "execution_count": null,
   "id": "addd7f51",
   "metadata": {},
   "outputs": [
    {
     "data": {
      "text/plain": [
       "InsertOneResult('The Future of Mosaic', acknowledged=True)"
      ]
     },
     "execution_count": 42,
     "metadata": {},
     "output_type": "execute_result"
    }
   ],
   "source": [
    "db.limited_events.insert_one({\n",
    "    \"_id\": \"The Future of Mosaic\",\n",
    "    \"capacity\": 40,\n",
    "    \"type\": \"exhibition\",\n",
    "    \"startDate\": datetime(2025, 10, 1, 10, 0),\n",
    "    \"endDate\": datetime(2025, 10, 1, 18, 0),\n",
    "    \"artist\": 2,  # artista o id\n",
    "    \"theme\": \"Innovation\",\n",
    "    \"description\": \"Mostra temporanea di opere moderne\",\n",
    "    \"roomName\": \"Contemporaneo\",  # room id\n",
    "    \"authorIds\": [],\n",
    "    \"artworkTitles\": [\"The Scream\", \"Guernica\"],\n",
    "    \"ticketIds\": [42, 51, 8, 6, 7]\n",
    "})"
   ]
  },
  {
   "cell_type": "markdown",
   "id": "1dde1c00",
   "metadata": {},
   "source": [
    "### CR10: _Create a new employee_ (correction json first)"
   ]
  },
  {
   "cell_type": "code",
   "execution_count": null,
   "id": "b92ae4ad",
   "metadata": {},
   "outputs": [],
   "source": []
  },
  {
   "cell_type": "markdown",
   "id": "22505904",
   "metadata": {},
   "source": [
    "### CR11: _Create a new shift_ (correction json first)"
   ]
  },
  {
   "cell_type": "code",
   "execution_count": null,
   "id": "07fc7f10",
   "metadata": {},
   "outputs": [],
   "source": []
  },
  {
   "cell_type": "markdown",
   "id": "da7c8f0b",
   "metadata": {},
   "source": [
    "### CR12: _Create a new author_"
   ]
  },
  {
   "cell_type": "code",
   "execution_count": 16,
   "id": "380ea1f0",
   "metadata": {},
   "outputs": [
    {
     "data": {
      "text/plain": [
       "InsertOneResult(ObjectId('68bab0df278cb5df47bf676b'), acknowledged=True)"
      ]
     },
     "execution_count": 16,
     "metadata": {},
     "output_type": "execute_result"
    }
   ],
   "source": [
    "db.authors.insert_one({\n",
    "    \"_id\": ObjectId(),\n",
    "    \"surname\": \"Rossi\",\n",
    "    \"birth_date\": datetime(1975, 4, 12),\n",
    "    \"home_town\": \"Milano\",\n",
    "    \"name\": \"Giovanni\",\n",
    "    \"gender\": \"M\"\n",
    "})"
   ]
  },
  {
   "cell_type": "markdown",
   "id": "fa8df896",
   "metadata": {},
   "source": [
    "### CR13: _Create a new workshop_"
   ]
  },
  {
   "cell_type": "code",
   "execution_count": null,
   "id": "a71f955e",
   "metadata": {},
   "outputs": [
    {
     "data": {
      "text/plain": [
       "InsertOneResult('Pittura su tela', acknowledged=True)"
      ]
     },
     "execution_count": 40,
     "metadata": {},
     "output_type": "execute_result"
    }
   ],
   "source": [
    "db.workshops.insert_one({\n",
    "    \"_id\": \"Pittura su tela\",\n",
    "    \"duration\": datetime(1970, 1, 1, 2, 0),         \n",
    "    \"price_class\": 80.00,        \n",
    "    \"price_person\": 25.00,      \n",
    "    \"type\": \"Design\"  \n",
    "})"
   ]
  },
  {
   "cell_type": "markdown",
   "id": "af1bcae7",
   "metadata": {},
   "source": [
    "### CR14: _Create a new supplier_"
   ]
  },
  {
   "cell_type": "code",
   "execution_count": null,
   "id": "a35ae131",
   "metadata": {},
   "outputs": [
    {
     "data": {
      "text/plain": [
       "InsertOneResult(25, acknowledged=True)"
      ]
     },
     "execution_count": 36,
     "metadata": {},
     "output_type": "execute_result"
    }
   ],
   "source": [
    "last = db.suppliers.find_one(sort=[(\"_id\", -1)])\n",
    "next_id = (last[\"_id\"] + 1) if last else 1\n",
    "\n",
    "db.suppliers.insert_one({\n",
    "    \"_id\": next_id,\n",
    "    \"name\": \"Maurizio Conte\",\n",
    "    \"iban\": \"IT60X0542811101000000123456\",\n",
    "    \"isState\": True,\n",
    "    \"isMuseum\": False,\n",
    "    \"email\": \"conte_mauto@outlook.it\",\n",
    "    \"phoneNum\": \"+390276543210\",\n",
    "    \"surveys\": [\n",
    "        {\n",
    "            \"accompanying_persons_visit\": \"solo\",\n",
    "            \"date_of_compilation\": datetime(2025, 8, 20, 14, 30),\n",
    "            \"reason_for_visit\": \"dovevo aspettare 1 ora il treno\",\n",
    "            \"number_of_visits\": 0,\n",
    "            \"return\": \"probabilmente no\",\n",
    "            \"type_of_visit\": \"visita libera\",\n",
    "            \"title_of_studies\": \"Laurea\",\n",
    "            \"evaluation_of_experience\": 7,\n",
    "            \"evaluation_of_facility\": 4,\n",
    "            \"evaluation_of_visit\": 6\n",
    "        }\n",
    "    ]\n",
    "})\n"
   ]
  }
 ],
 "metadata": {
  "kernelspec": {
   "display_name": "Python 3",
   "language": "python",
   "name": "python3"
  },
  "language_info": {
   "codemirror_mode": {
    "name": "ipython",
    "version": 3
   },
   "file_extension": ".py",
   "mimetype": "text/x-python",
   "name": "python",
   "nbconvert_exporter": "python",
   "pygments_lexer": "ipython3",
   "version": "3.12.2"
  }
 },
 "nbformat": 4,
 "nbformat_minor": 5
}
