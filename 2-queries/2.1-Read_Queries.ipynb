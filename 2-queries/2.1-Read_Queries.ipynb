{
 "cells": [
  {
   "cell_type": "code",
   "execution_count": 23,
   "id": "e4225935",
   "metadata": {},
   "outputs": [
    {
     "name": "stdout",
     "output_type": "stream",
     "text": [
      "The autoreload extension is already loaded. To reload it, use:\n",
      "  %reload_ext autoreload\n"
     ]
    }
   ],
   "source": [
    "%load_ext autoreload\n",
    "%autoreload 2\n",
    "from pymongo import MongoClient\n",
    "import sys\n",
    "from pathlib import Path\n",
    "from tqdm import tqdm\n",
    "import json\n",
    "from pprint import pprint\n",
    "\n",
    "sys.path.append(str(Path(\"..\").resolve()))\n",
    "from src import *"
   ]
  },
  {
   "cell_type": "markdown",
   "id": "acc257f0",
   "metadata": {},
   "source": [
    "# Read Queries\n",
    "ℹ️ This notebook require the execution of [`1.3-Consistency_Recover`](../1-migration/1.3-Consistency_Recover.ipynb). Or you can just load the snapshop as in the following cell."
   ]
  },
  {
   "cell_type": "markdown",
   "id": "065afc72",
   "metadata": {},
   "source": [
    "## Load post-preprocessing data\n",
    "The following cell reset the `omero_museum` database loading the `4_consistent` snapshot."
   ]
  },
  {
   "cell_type": "code",
   "execution_count": 6,
   "id": "e0447318",
   "metadata": {},
   "outputs": [],
   "source": [
    "%%capture\n",
    "MongoClient(\"mongodb://localhost:27017/\").drop_database(\"omero_museum\")\n",
    "!mongorestore --host localhost:27017 --drop --db omero_museum  \"../backup/4_consistent/omero_museum\""
   ]
  },
  {
   "cell_type": "code",
   "execution_count": 7,
   "id": "04e72afd",
   "metadata": {},
   "outputs": [
    {
     "name": "stdout",
     "output_type": "stream",
     "text": [
      "The collections of the \u001b[1m\u001b[33momero_museum\u001b[0m db are:\n",
      "----------------------------------------\n",
      "[activities]: \u001b[1m\u001b[31m_id\u001b[0m \u001b[1m\u001b[33mcapacity\u001b[0m \u001b[1m\u001b[32mduration\u001b[0m \u001b[1m\u001b[36menrolled\u001b[0m \u001b[1m\u001b[34mroom\u001b[0m \u001b[1m\u001b[35mstartDate\u001b[0m \u001b[1m\u001b[37mticketIds\u001b[0m \u001b[1m\u001b[90mworkshopTitle\u001b[0m\n",
      "[artworks]: \u001b[1m\u001b[31m_id\u001b[0m \u001b[1m\u001b[33mauthorIds\u001b[0m \u001b[1m\u001b[32mcomments_star_1\u001b[0m \u001b[1m\u001b[36mcomments_star_2\u001b[0m \u001b[1m\u001b[34mcomments_star_3\u001b[0m \u001b[1m\u001b[35mcomments_star_4\u001b[0m \u001b[1m\u001b[37mcomments_star_5\u001b[0m \u001b[1m\u001b[90mdate\u001b[0m \u001b[1m\u001b[91mdescription\u001b[0m \u001b[1m\u001b[93mdonationState\u001b[0m \u001b[1m\u001b[92mdonatorId\u001b[0m \u001b[1m\u001b[96misOriginal\u001b[0m \u001b[1m\u001b[94mlocationName\u001b[0m \u001b[1m\u001b[95mmaterials\u001b[0m \u001b[1m\u001b[31mperiod\u001b[0m \u001b[1m\u001b[33msellerId\u001b[0m \u001b[1m\u001b[32msize\u001b[0m \u001b[1m\u001b[36mtecniques\u001b[0m \u001b[1m\u001b[34mtrade\u001b[0m \u001b[1m\u001b[35mtype\u001b[0m\n",
      "[authors]: \u001b[1m\u001b[31m_id\u001b[0m \u001b[1m\u001b[33mbirth_date\u001b[0m \u001b[1m\u001b[32mgender\u001b[0m \u001b[1m\u001b[36mhome_town\u001b[0m \u001b[1m\u001b[34mname\u001b[0m \u001b[1m\u001b[35msurname\u001b[0m\n",
      "[departments]: \u001b[1m\u001b[31m_id\u001b[0m \u001b[1m\u001b[33mfloor\u001b[0m \u001b[1m\u001b[32mfree_spots\u001b[0m \u001b[1m\u001b[36mroom\u001b[0m\n",
      "[employees]: \u001b[1m\u001b[31m_id\u001b[0m \u001b[1m\u001b[33mbirth_date\u001b[0m \u001b[1m\u001b[32mcurriculum\u001b[0m \u001b[1m\u001b[36mdate_start\u001b[0m \u001b[1m\u001b[34memail\u001b[0m \u001b[1m\u001b[35mgender\u001b[0m \u001b[1m\u001b[37mhometown\u001b[0m \u001b[1m\u001b[90mname\u001b[0m \u001b[1m\u001b[91mphone_number\u001b[0m \u001b[1m\u001b[93msurname\u001b[0m\n",
      "[limited_events]: \u001b[1m\u001b[31m_id\u001b[0m \u001b[1m\u001b[33martist\u001b[0m \u001b[1m\u001b[32martworkTitles\u001b[0m \u001b[1m\u001b[36mauthorIds\u001b[0m \u001b[1m\u001b[34mcapacity\u001b[0m \u001b[1m\u001b[35mdescription\u001b[0m \u001b[1m\u001b[37mendDate\u001b[0m \u001b[1m\u001b[90mroomName\u001b[0m \u001b[1m\u001b[91mstartDate\u001b[0m \u001b[1m\u001b[93mtheme\u001b[0m \u001b[1m\u001b[92mticketIds\u001b[0m \u001b[1m\u001b[96mtype\u001b[0m\n",
      "[messages]: \u001b[1m\u001b[31m_id\u001b[0m \u001b[1m\u001b[33mcontent\u001b[0m \u001b[1m\u001b[32mcustomerId\u001b[0m \u001b[1m\u001b[36mdeliveryStatus\u001b[0m \u001b[1m\u001b[34mlength\u001b[0m \u001b[1m\u001b[35msentDate\u001b[0m \u001b[1m\u001b[37mtype\u001b[0m \u001b[1m\u001b[90muri\u001b[0m\n",
      "[rooms]: \u001b[1m\u001b[31m_id\u001b[0m \u001b[1m\u001b[33mfloor\u001b[0m\n",
      "[suppliers]: \u001b[1m\u001b[31m_id\u001b[0m \u001b[1m\u001b[33memail\u001b[0m \u001b[1m\u001b[32miban\u001b[0m \u001b[1m\u001b[36misMuseum\u001b[0m \u001b[1m\u001b[34misState\u001b[0m \u001b[1m\u001b[35mname\u001b[0m \u001b[1m\u001b[37mphoneNum\u001b[0m \u001b[1m\u001b[90msurveys\u001b[0m\n",
      "[visitors]: \u001b[1m\u001b[31m_id\u001b[0m \u001b[1m\u001b[33mbirthDate\u001b[0m \u001b[1m\u001b[32mchat\u001b[0m \u001b[1m\u001b[36mcomments\u001b[0m \u001b[1m\u001b[34mdonationIds\u001b[0m \u001b[1m\u001b[35memail\u001b[0m \u001b[1m\u001b[37mgender\u001b[0m \u001b[1m\u001b[90mimpairment\u001b[0m \u001b[1m\u001b[91misCustomer\u001b[0m \u001b[1m\u001b[93mland\u001b[0m \u001b[1m\u001b[92mname\u001b[0m \u001b[1m\u001b[96mphoneNum\u001b[0m \u001b[1m\u001b[94msaleIds\u001b[0m \u001b[1m\u001b[95msurname\u001b[0m \u001b[1m\u001b[31msurveys\u001b[0m \u001b[1m\u001b[33mtickets\u001b[0m \u001b[1m\u001b[32mtradeIds\u001b[0m\n",
      "[workshops]: \u001b[1m\u001b[31m_id\u001b[0m \u001b[1m\u001b[33mduration\u001b[0m \u001b[1m\u001b[32mprice_class\u001b[0m \u001b[1m\u001b[36mprice_person\u001b[0m \u001b[1m\u001b[34mtype\u001b[0m\n"
     ]
    }
   ],
   "source": [
    "connector = MongoDBConnector(\"omero_museum\")\n",
    "db = connector.db"
   ]
  },
  {
   "cell_type": "markdown",
   "id": "ec831f76",
   "metadata": {},
   "source": [
    "### RD1: _Read all the information of a given artwork, including its authors, materials, crafting techniques and room placement_"
   ]
  },
  {
   "cell_type": "code",
   "execution_count": 24,
   "id": "df3d0251",
   "metadata": {},
   "outputs": [
    {
     "name": "stdout",
     "output_type": "stream",
     "text": [
      "{'_id': 'Mona Lisa',\n",
      " 'authorIds': [],\n",
      " 'comments_star_1': [{'date': datetime.datetime(2025, 8, 23, 6, 45, 13),\n",
      "                      'memssage': 'Costringere niente giovanotto profondo. Professore via insomma chiaro proposta '\n",
      "                                  'stazione denaro.',\n",
      "                      'rating': 1},\n",
      "                     {'date': datetime.datetime(2025, 8, 24, 4, 20, 5),\n",
      "                      'memssage': 'Inutile relazione inutile chiamare esame stamattina.\\n'\n",
      "                                  'Ricerca scherzare bere fino limitare durare periodo difendere. Anima alzare '\n",
      "                                  'prossimo suo limitare gatto. Posizione lavorare medio carne medesimo.',\n",
      "                      'rating': 1}],\n",
      " 'comments_star_2': [{'date': datetime.datetime(2025, 8, 23, 11, 39, 4),\n",
      "                      'memssage': 'Paura comprendere bestia correre foglia entrare. Trattare faccia interessante '\n",
      "                                  'stesso mente ragazza segretario.\\n'\n",
      "                                  'Sera questo descrivere chiesa. Prodotto caffè linea.',\n",
      "                      'rating': 2},\n",
      "                     {'date': datetime.datetime(2025, 8, 4, 19, 51, 42),\n",
      "                      'memssage': 'Campagna sonno russo pazzo finestra. Comprare processo loro rivolgere significare '\n",
      "                                  'sostenere accogliere coprire. Papà dormire abitare numeroso o permettere.',\n",
      "                      'rating': 2},\n",
      "                     {'date': datetime.datetime(2025, 8, 4, 0, 8, 27),\n",
      "                      'memssage': 'Insomma avvicinare secondo costringere. Inoltre sicuro esempio che felice capo '\n",
      "                                  'confessare. Rosso arrivare impressione punto mare gesto.',\n",
      "                      'rating': 2},\n",
      "                     {'date': datetime.datetime(2025, 8, 19, 7, 24, 10),\n",
      "                      'memssage': 'Assicurare metà normale considerare affare oggetto. Sottile su controllo prodotto '\n",
      "                                  'studio.\\n'\n",
      "                                  'Improvviso sorgere sole trascinare successo direttore. Attimo unire elevare peso '\n",
      "                                  'dietro luna suo matrimonio.',\n",
      "                      'rating': 2},\n",
      "                     {'date': datetime.datetime(2025, 8, 9, 13, 28, 53),\n",
      "                      'memssage': 'Passato impressione nero. Ciò accordo pagare. Buono parere sala certo riconoscere.\\n'\n",
      "                                  'Rispondere sala arrestare dormire abito attento straniero. Affermare aumentare '\n",
      "                                  'costituire straordinario.',\n",
      "                      'rating': 2}],\n",
      " 'comments_star_3': [{'date': datetime.datetime(2025, 8, 15, 11, 37, 34),\n",
      "                      'memssage': 'Biondo guidare fuggire. Modo notte rispetto ferire non bruciare istituto. Scuola '\n",
      "                                  'operazione utile bosco.',\n",
      "                      'rating': 3},\n",
      "                     {'date': datetime.datetime(2025, 8, 24, 7, 23, 47),\n",
      "                      'memssage': 'Pensiero profondo freddo riconoscere uguale. Abbastanza peggio scusare spazio ricco '\n",
      "                                  'mente staccare.',\n",
      "                      'rating': 3},\n",
      "                     {'date': datetime.datetime(2025, 8, 28, 2, 39, 15),\n",
      "                      'memssage': 'Piangere giovanotto no pagare. Scienza bruciare andare fenomeno lira.\\n'\n",
      "                                  'Pazzo disporre arrivare bambina ritorno. Stringere situazione angolo tagliare '\n",
      "                                  'scrivere limitare.',\n",
      "                      'rating': 3},\n",
      "                     {'date': datetime.datetime(2025, 8, 11, 6, 10, 45),\n",
      "                      'memssage': 'Rivolgere desiderio mettere. Crescere silenzio stasera estendere macchina. Creare '\n",
      "                                  'aspettare attuale brutto grigio settimana fantasia.',\n",
      "                      'rating': 3}],\n",
      " 'comments_star_4': [{'date': datetime.datetime(2025, 8, 8, 2, 45, 35),\n",
      "                      'memssage': 'Istante sotto accadere voi bruciare stazione caffè. Corrente medio accanto '\n",
      "                                  'scusare.\\n'\n",
      "                                  'Vivere decidere serie ascoltare nuovo posare dimenticare. Mancare uccidere gruppo '\n",
      "                                  'attraversare.',\n",
      "                      'rating': 4},\n",
      "                     {'date': datetime.datetime(2025, 8, 28, 11, 43, 29),\n",
      "                      'memssage': 'Rompere voi concedere carattere italiano ultimo. Soffrire oramai figurare giorno '\n",
      "                                  'regione fermo. Domani insistere cane mese.',\n",
      "                      'rating': 4},\n",
      "                     {'date': datetime.datetime(2025, 8, 23, 13, 56, 4),\n",
      "                      'memssage': 'Pensare brutto vendere difficoltà discutere. Colpa fortuna musica capire quale '\n",
      "                                  'albero ferire. Persona determinare indicare venire diventare lui.',\n",
      "                      'rating': 4},\n",
      "                     {'date': datetime.datetime(2025, 8, 30, 7, 21, 14),\n",
      "                      'memssage': 'Partire dormire uscire. Suonare ogni ognuno scena povero dirigere. Quale nazionale '\n",
      "                                  'temere ora angolo ragazza fianco. Classe richiedere parola campo trattare prevedere '\n",
      "                                  'vivere.',\n",
      "                      'rating': 4},\n",
      "                     {'date': datetime.datetime(2025, 8, 9, 15, 9, 31),\n",
      "                      'memssage': 'Politico conoscenza vivo importare finché.\\n'\n",
      "                                  'Nemico cittadino ordinare mattino università veramente. Tedesco fermo sposare '\n",
      "                                  'durante. Spingere proposito muro.',\n",
      "                      'rating': 4}],\n",
      " 'comments_star_5': [],\n",
      " 'date': datetime.datetime(2025, 8, 8, 21, 32, 42),\n",
      " 'description': '“Manichini Coloniali” è una trasposizione plastica in bronzo patinato dell’omonimo dipinto su tela '\n",
      "                'del 1943 raffigurante una coppia di manichini seduti uno di fianco all’altro su di un basso sedile.',\n",
      " 'isOriginal': True,\n",
      " 'locationName': 'Cimbro',\n",
      " 'materials': ['Canvas', 'Marble', 'Steel'],\n",
      " 'period': 'Modern',\n",
      " 'sellerId': 17,\n",
      " 'size': 230,\n",
      " 'tecniques': [],\n",
      " 'trade': {'date_end': datetime.datetime(2025, 8, 30, 9, 51, 28),\n",
      "           'date_start': datetime.datetime(2025, 8, 13, 20, 10, 39),\n",
      "           'is_auction': True,\n",
      "           'min_increase': 90,\n",
      "           'price_max': 4970,\n",
      "           'price_min': 4810,\n",
      "           'price_start': 290,\n",
      "           'win_price': 124430,\n",
      "           'winner_id': 44},\n",
      " 'type': 'statue'}\n"
     ]
    }
   ],
   "source": [
    "artwork = \"Mona Lisa\"\n",
    "doc = db.artworks.find_one({\"_id\": artwork})\n",
    "pprint(doc,width=120)"
   ]
  }
 ],
 "metadata": {
  "kernelspec": {
   "display_name": "Python 3",
   "language": "python",
   "name": "python3"
  },
  "language_info": {
   "codemirror_mode": {
    "name": "ipython",
    "version": 3
   },
   "file_extension": ".py",
   "mimetype": "text/x-python",
   "name": "python",
   "nbconvert_exporter": "python",
   "pygments_lexer": "ipython3",
   "version": "3.10.8"
  }
 },
 "nbformat": 4,
 "nbformat_minor": 5
}
