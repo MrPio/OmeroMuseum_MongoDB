{
 "cells": [
  {
   "cell_type": "code",
   "execution_count": null,
   "id": "e4225935",
   "metadata": {},
   "outputs": [],
   "source": [
    "%load_ext autoreload\n",
    "%autoreload 2\n",
    "from pymongo import MongoClient\n",
    "import sys\n",
    "from datetime import datetime\n",
    "from pathlib import Path\n",
    "from tqdm import tqdm \n",
    "import json\n",
    "from pprint import pprint\n",
    "\n",
    "sys.path.append(str(Path(\"..\").resolve()))\n",
    "from src import *"
   ]
  },
  {
   "cell_type": "markdown",
   "id": "acc257f0",
   "metadata": {},
   "source": [
    "# Other Read Queries\n",
    "ℹ️ This notebook require the execution of [`1.3-Consistency_Recover`](../1-migration/1.3-Consistency_Recover.ipynb). Or you can just load the snapshop as in the following cell."
   ]
  },
  {
   "cell_type": "markdown",
   "id": "065afc72",
   "metadata": {},
   "source": [
    "## Load post-preprocessing data\n",
    "The following cell reset the `omero_museum` database loading the `4_consistent` snapshot."
   ]
  },
  {
   "cell_type": "code",
   "execution_count": 50,
   "id": "e0447318",
   "metadata": {},
   "outputs": [],
   "source": [
    "%%capture\n",
    "MongoClient(\"mongodb://localhost:27017/\").drop_database(\"omero_museum\")\n",
    "!mongorestore --host localhost:27017 --drop --db omero_museum  \"../backup/5_optimized/omero_museum\""
   ]
  },
  {
   "cell_type": "code",
   "execution_count": 2,
   "id": "04e72afd",
   "metadata": {},
   "outputs": [],
   "source": [
    "connector = MongoDBConnector(\"omero_museum\", silent=True)\n",
    "db = connector.db"
   ]
  },
  {
   "cell_type": "markdown",
   "id": "1b3730e0",
   "metadata": {},
   "source": [
    "### RD19: _Retrieve all artwork of a given author_"
   ]
  },
  {
   "cell_type": "code",
   "execution_count": null,
   "id": "5aa5c3b7",
   "metadata": {},
   "outputs": [],
   "source": [
    "author_id = \"68b572f8845fcdbabc1c8905\"\n",
    "artworks_by_author = list(db.artworks.aggregate([\n",
    "    {\"$match\": {\"authorIds\": author_id}}\n",
    "]))\n",
    "pprint(artworks_by_author, width=120)"
   ]
  },
  {
   "cell_type": "markdown",
   "id": "6fcdcd08",
   "metadata": {},
   "source": [
    "### RD20: _Retrieve all activity of a given workshop type_"
   ]
  },
  {
   "cell_type": "code",
   "execution_count": null,
   "id": "299f2151",
   "metadata": {},
   "outputs": [],
   "source": [
    "workshop_title = \"Uno solo... ma tanti\"\n",
    "workshop_activities = list(db.activities.aggregate([\n",
    "    {\"$match\": {\"workshopTitle\": workshop_title}}\n",
    "]))\n",
    "pprint(workshop_activities, width=120)"
   ]
  },
  {
   "cell_type": "markdown",
   "id": "3d327d38",
   "metadata": {},
   "source": [
    "### RD22: _Read all the surveys filled out in a specific day_"
   ]
  },
  {
   "cell_type": "code",
   "execution_count": null,
   "id": "bf91a8d0",
   "metadata": {},
   "outputs": [],
   "source": [
    "specific_day = datetime(2021, 4, 22)\n",
    "\n",
    "pipeline = [\n",
    "    {\"$unwind\": \"$surveys\"},\n",
    "    {\"$addFields\": {\n",
    "        \"survey_date\": {\n",
    "            \"$dateToString\": {\"format\": \"%Y-%m-%d\", \"date\": \"$surveys.date_of_compilation\"}\n",
    "        }\n",
    "    }},\n",
    "    {\"$match\": {\"survey_date\": specific_day.strftime(\"%Y-%m-%d\")}},\n",
    "    {\"$replaceRoot\": {\"newRoot\": \"$surveys\"}}\n",
    "]\n",
    "\n",
    "surveys_on_day = list(db.suppliers.aggregate(pipeline))\n",
    "pprint(surveys_on_day, width=120)"
   ]
  },
  {
   "cell_type": "markdown",
   "id": "c38fe729",
   "metadata": {},
   "source": [
    "### RD23: _Retrive information about a given laboratory activity, including the total number of reservations_"
   ]
  },
  {
   "cell_type": "code",
   "execution_count": null,
   "id": "3a1bcfca",
   "metadata": {},
   "outputs": [],
   "source": [
    "activity_id = 0\n",
    "\n",
    "pipeline = [\n",
    "    {\"$match\": {\"_id\": activity_id}},\n",
    "    {\"$addFields\": {\"total_reservations\": {\"$size\": \"$ticketIds\"}}}\n",
    "]\n",
    "\n",
    "activity_info = list(db.activities.aggregate(pipeline))\n",
    "pprint(activity_info, width=120)"
   ]
  },
  {
   "cell_type": "markdown",
   "id": "53b6368d",
   "metadata": {},
   "source": [
    "### RD25: _Retrive all the information about a limited event_ "
   ]
  },
  {
   "cell_type": "code",
   "execution_count": null,
   "id": "c5b1134b",
   "metadata": {},
   "outputs": [],
   "source": [
    "event_id = \"Digital Preservation of Cultural Heritage\"\n",
    "event_info = db.limited_events.find_one({\"_id\": event_id})\n",
    "pprint(event_info, width=120)"
   ]
  },
  {
   "cell_type": "markdown",
   "id": "b8ab0262",
   "metadata": {},
   "source": [
    "### RD26: _Retrive all the details of a visitor_ "
   ]
  },
  {
   "cell_type": "code",
   "execution_count": null,
   "id": "a493cf35",
   "metadata": {},
   "outputs": [],
   "source": [
    "visitor_id = 0\n",
    "visitor_info = db.visitors.find_one({\"_id\": visitor_id})\n",
    "pprint(visitor_info, width=120)"
   ]
  },
  {
   "cell_type": "markdown",
   "id": "e5038148",
   "metadata": {},
   "source": [
    "### RD27: _Retrive the visitor count for each land from most frequent to least frequent_ "
   ]
  },
  {
   "cell_type": "code",
   "execution_count": null,
   "id": "be5a04d3",
   "metadata": {},
   "outputs": [],
   "source": [
    "pipeline = [\n",
    "    {\"$group\": {\n",
    "        \"_id\": \"$land\",\n",
    "        \"visitorCount\": {\"$sum\": 1}\n",
    "    }},\n",
    "    {\"$sort\": {\"visitorCount\": -1}}\n",
    "]\n",
    "\n",
    "result = list(db.visitors.aggregate(pipeline))\n",
    "pprint(result, width=120)"
   ]
  },
  {
   "cell_type": "markdown",
   "id": "6929d187",
   "metadata": {},
   "source": [
    "### RD28: _Retrive the visitor count for each impairment from most frequent to least frequent_ "
   ]
  },
  {
   "cell_type": "code",
   "execution_count": null,
   "id": "c4c7d601",
   "metadata": {},
   "outputs": [],
   "source": [
    "pipeline = [\n",
    "    {\"$group\": {\n",
    "        \"_id\": \"$impairment\",\n",
    "        \"visitorCount\": {\"$sum\": 1}\n",
    "    }},\n",
    "    {\"$sort\": {\"visitorCount\": -1}}\n",
    "]\n",
    "\n",
    "result = list(db.visitors.aggregate(pipeline))\n",
    "pprint(result, width=120)"
   ]
  },
  {
   "cell_type": "markdown",
   "id": "0e068f13",
   "metadata": {},
   "source": [
    "### RD31: _Count tickets issued for each year_ "
   ]
  },
  {
   "cell_type": "code",
   "execution_count": 40,
   "id": "d2615506",
   "metadata": {},
   "outputs": [
    {
     "name": "stdout",
     "output_type": "stream",
     "text": [
      "[{'_id': {'year': 2025}, 'tickets_issued': 104}]\n"
     ]
    }
   ],
   "source": [
    "pipeline = [\n",
    "    {\"$unwind\": \"$tickets\"},\n",
    "    {\"$group\": {\n",
    "        \"_id\": {\"year\": {\"$year\": \"$tickets.date\"}},\n",
    "        \"tickets_issued\": {\"$sum\": 1}\n",
    "    }},\n",
    "    {\"$sort\": {\"_id.year\": 1}}\n",
    "]\n",
    "\n",
    "result = list(db.visitors.aggregate(pipeline))\n",
    "print(result)"
   ]
  },
  {
   "cell_type": "markdown",
   "id": "947078a6",
   "metadata": {},
   "source": [
    "### RD32: _Calculate the distribution of visitor ages grouped into bands based on ticket activity in a specific year_ "
   ]
  },
  {
   "cell_type": "code",
   "execution_count": null,
   "id": "99ced54e",
   "metadata": {},
   "outputs": [
    {
     "name": "stdout",
     "output_type": "stream",
     "text": [
      "Age group 0-18: 104 visitors\n"
     ]
    }
   ],
   "source": [
    "year = 2025\n",
    "start_date = datetime(year, 1, 1)\n",
    "end_date = datetime(year + 1, 1, 1)\n",
    "\n",
    "pipeline = [\n",
    "    {\"$unwind\": \"$tickets\"},\n",
    "    {\"$match\": {\n",
    "        \"tickets.date\": {\"$gte\": start_date, \"$lt\": end_date},\n",
    "        \"birthDate\": {\"$ne\": None}\n",
    "    }},\n",
    "    {\"$addFields\": {\n",
    "        \"age\": {\n",
    "            \"$dateDiff\": {\n",
    "                \"startDate\": \"$birthDate\",\n",
    "                \"endDate\": \"$tickets.date\",\n",
    "                \"unit\": \"year\"\n",
    "            }\n",
    "        }\n",
    "    }},\n",
    "    {\"$addFields\": {\n",
    "        \"age_group\": {\n",
    "            \"$switch\": {\n",
    "                \"branches\": [\n",
    "                    {\"case\": {\"$lte\": [\"$age\", 18]}, \"then\": \"0-18\"},\n",
    "                    {\"case\": {\"$and\": [{\"$gt\": [\"$age\", 18]}, {\"$lte\": [\"$age\", 30]}]}, \"then\": \"19-30\"},\n",
    "                    {\"case\": {\"$and\": [{\"$gt\": [\"$age\", 30]}, {\"$lte\": [\"$age\", 45]}]}, \"then\": \"31-45\"},\n",
    "                    {\"case\": {\"$and\": [{\"$gt\": [\"$age\", 45]}, {\"$lte\": [\"$age\", 65]}]}, \"then\": \"46-65\"},\n",
    "                    {\"case\": {\"$gt\": [\"$age\", 65]}, \"then\": \"65+\"}\n",
    "                ],\n",
    "                \"default\": \"unknown\"\n",
    "            }\n",
    "        }\n",
    "    }},\n",
    "    {\"$group\": {\n",
    "        \"_id\": \"$age_group\",\n",
    "        \"count\": {\"$sum\": 1}\n",
    "    }},\n",
    "    {\"$sort\": {\"_id\": 1}}\n",
    "]\n",
    "\n",
    "result = list(db.visitors.aggregate(pipeline))\n",
    "for group in result:\n",
    "    print(f\"Age group {group['_id']}: {group['count']} visitors\")\n"
   ]
  },
  {
   "cell_type": "markdown",
   "id": "cf01f17d",
   "metadata": {},
   "source": [
    "### RD33: _Count material usage in all artworks_ "
   ]
  },
  {
   "cell_type": "code",
   "execution_count": 45,
   "id": "2fbb7499",
   "metadata": {},
   "outputs": [
    {
     "name": "stdout",
     "output_type": "stream",
     "text": [
      "Stone: 9 artworks\n",
      "Canvas: 8 artworks\n",
      "Clay: 6 artworks\n",
      "Paper: 5 artworks\n",
      "White Marble: 5 artworks\n",
      "Glass: 4 artworks\n",
      "Textile: 3 artworks\n",
      "Bronze: 3 artworks\n",
      "Wood: 2 artworks\n",
      "Steel: 2 artworks\n"
     ]
    }
   ],
   "source": [
    "pipeline = [\n",
    "    {\"$unwind\": \"$materials\"},\n",
    "    {\"$group\": {\n",
    "        \"_id\": \"$materials\",\n",
    "        \"count\": {\"$sum\": 1}\n",
    "    }},\n",
    "    {\"$sort\": {\"count\": -1}}\n",
    "]\n",
    "\n",
    "result = list(db.artworks.aggregate(pipeline))\n",
    "for material in result:\n",
    "    print(f\"{material['_id']}: {material['count']} artworks\")\n"
   ]
  },
  {
   "cell_type": "markdown",
   "id": "7ca5e6fa",
   "metadata": {},
   "source": [
    "### RD33: _Count top 5 visit reasons_ "
   ]
  },
  {
   "cell_type": "code",
   "execution_count": 48,
   "id": "798e8cc0",
   "metadata": {},
   "outputs": [
    {
     "name": "stdout",
     "output_type": "stream",
     "text": [
      "trascorrere tempo libero con amici/parenti: 17 responses\n",
      "passare un momento personale piacevole: 16 responses\n",
      "incontrare persone con interessi simili ai miei: 14 responses\n",
      "vedere oggetti importanti: 13 responses\n",
      "approfondire le mie conoscenze: 9 responses\n"
     ]
    }
   ],
   "source": [
    "pipeline = [\n",
    "    {\"$unwind\": \"$surveys\"},\n",
    "    {\"$group\": {\n",
    "        \"_id\": \"$surveys.reason_for_visit\",\n",
    "        \"count\": {\"$sum\": 1}\n",
    "    }},\n",
    "    {\"$sort\": {\"count\": -1}},\n",
    "    {\"$limit\": 5}\n",
    "]\n",
    "\n",
    "result = list(db.visitors.aggregate(pipeline))\n",
    "for reason in result:\n",
    "    print(f\"{reason['_id']}: {reason['count']} responses\")\n"
   ]
  },
  {
   "cell_type": "markdown",
   "id": "1268c57e",
   "metadata": {},
   "source": [
    "### RD34: _Count how many artworks are original vs. not_"
   ]
  },
  {
   "cell_type": "code",
   "execution_count": 50,
   "id": "77e4c509",
   "metadata": {},
   "outputs": [
    {
     "name": "stdout",
     "output_type": "stream",
     "text": [
      "Replica: 15 artworks\n",
      "Original: 5 artworks\n"
     ]
    }
   ],
   "source": [
    "pipeline = [\n",
    "    {\"$group\": {\n",
    "        \"_id\": \"$isOriginal\",\n",
    "        \"count\": {\"$sum\": 1}\n",
    "    }}\n",
    "]\n",
    "\n",
    "result = list(db.artworks.aggregate(pipeline))\n",
    "for item in result:\n",
    "    label = \"Original\" if item[\"_id\"] else \"Replica\"\n",
    "    print(f\"{label}: {item['count']} artworks\")\n"
   ]
  },
  {
   "cell_type": "markdown",
   "id": "cf72a381",
   "metadata": {},
   "source": [
    "### RD35: _Count how many visitors came back_"
   ]
  },
  {
   "cell_type": "code",
   "execution_count": 52,
   "id": "69876cb5",
   "metadata": {},
   "outputs": [
    {
     "name": "stdout",
     "output_type": "stream",
     "text": [
      "Repeat visitors: 32\n"
     ]
    }
   ],
   "source": [
    "pipeline = [\n",
    "    {\"$project\": {\n",
    "        \"num_tickets\": {\"$size\": \"$tickets\"}\n",
    "    }},\n",
    "    {\"$match\": {\n",
    "        \"num_tickets\": {\"$gt\": 1}\n",
    "    }},\n",
    "    {\"$count\": \"repeat_visitors\"}\n",
    "]\n",
    "\n",
    "result = list(db.visitors.aggregate(pipeline))\n",
    "print(\"Repeat visitors:\", result[0][\"repeat_visitors\"])\n"
   ]
  },
  {
   "cell_type": "markdown",
   "id": "9f50e55c",
   "metadata": {},
   "source": [
    "### RD36: _Count which days had the most ticket activity_"
   ]
  },
  {
   "cell_type": "code",
   "execution_count": 53,
   "id": "0d5c5dde",
   "metadata": {},
   "outputs": [
    {
     "name": "stdout",
     "output_type": "stream",
     "text": [
      "2025-09-04: 8 tickets\n",
      "2025-09-01: 7 tickets\n",
      "2025-09-03: 7 tickets\n",
      "2025-08-22: 6 tickets\n",
      "2025-08-16: 6 tickets\n"
     ]
    }
   ],
   "source": [
    "pipeline = [\n",
    "    {\"$unwind\": \"$tickets\"},\n",
    "    {\"$group\": {\n",
    "        \"_id\": {\n",
    "            \"$dateToString\": {\"format\": \"%Y-%m-%d\", \"date\": \"$tickets.date\"}\n",
    "        },\n",
    "        \"count\": {\"$sum\": 1}\n",
    "    }},\n",
    "    {\"$sort\": {\"count\": -1}},\n",
    "    {\"$limit\": 5}\n",
    "]\n",
    "\n",
    "result = list(db.visitors.aggregate(pipeline))\n",
    "for day in result:\n",
    "    print(f\"{day['_id']}: {day['count']} tickets\")\n"
   ]
  },
  {
   "cell_type": "markdown",
   "id": "c58a0ad3",
   "metadata": {},
   "source": [
    "### RD37: _Average enrollment rate by workshop title_"
   ]
  },
  {
   "cell_type": "code",
   "execution_count": 59,
   "id": "450103f9",
   "metadata": {},
   "outputs": [
    {
     "name": "stdout",
     "output_type": "stream",
     "text": [
      "Ri-tratto con tatto: 40.91% enrolled\n",
      "Libri tattili: 4.44% enrolled\n",
      "Bestiario immaginario: 8.82% enrolled\n",
      "Uno solo... ma tanti: 23.73% enrolled\n",
      "Impronte: 21.35% enrolled\n",
      "Di-segno: 12.52% enrolled\n",
      "Le cose raccontano storie: 18.18% enrolled\n",
      "Mini corso di ceramica: 30.59% enrolled\n",
      "None: 20.03% enrolled\n"
     ]
    }
   ],
   "source": [
    "pipeline = [\n",
    "    {\"$project\": {\n",
    "        \"workshopTitle\": 1,\n",
    "        \"enrollment_rate\": {\n",
    "            \"$cond\": [\n",
    "                {\"$eq\": [\"$capacity\", 0]},\n",
    "                0,\n",
    "                {\"$divide\": [\"$enrolled\", \"$capacity\"]}\n",
    "            ]\n",
    "        }\n",
    "    }},\n",
    "    {\"$group\": {\n",
    "        \"_id\": \"$workshopTitle\",\n",
    "        \"average_enrollment_rate\": {\"$avg\": \"$enrollment_rate\"}\n",
    "    }}\n",
    "]\n",
    "\n",
    "result = list(db.activities.aggregate(pipeline))\n",
    "for activity in result:\n",
    "    print(f\"{activity['_id']}: {activity['average_enrollment_rate']:.2%} enrolled\")\n"
   ]
  },
  {
   "cell_type": "markdown",
   "id": "5ef22a26",
   "metadata": {},
   "source": [
    "### RD38: _Count visitor education level breakdown from surveys_"
   ]
  },
  {
   "cell_type": "code",
   "execution_count": 60,
   "id": "afb92669",
   "metadata": {},
   "outputs": [
    {
     "name": "stdout",
     "output_type": "stream",
     "text": [
      "Laurea/PostLaurea: 24 visitors\n",
      "Diploma: 19 visitors\n",
      "None: 17 visitors\n",
      "Lic. Media: 13 visitors\n",
      "Elem.: 4 visitors\n",
      "Nessuno: 3 visitors\n"
     ]
    }
   ],
   "source": [
    "pipeline = [\n",
    "    {\"$unwind\": \"$surveys\"},\n",
    "    {\"$group\": {\n",
    "        \"_id\": \"$surveys.title_of_studies\",\n",
    "        \"count\": {\"$sum\": 1}\n",
    "    }},\n",
    "    {\"$sort\": {\"count\": -1}}\n",
    "]\n",
    "result = list(db.visitors.aggregate(pipeline))\n",
    "for study in result:\n",
    "    print(f\"{study['_id']}: {study['count']} visitors\")"
   ]
  },
  {
   "cell_type": "markdown",
   "id": "2dfa1c2b",
   "metadata": {},
   "source": [
    "### RD39: _Show workshop duration distribution_"
   ]
  },
  {
   "cell_type": "code",
   "execution_count": 61,
   "id": "ca521308",
   "metadata": {},
   "outputs": [
    {
     "name": "stdout",
     "output_type": "stream",
     "text": [
      "Duration 60: 5 activities\n",
      "Duration 120: 3 activities\n",
      "Duration 240: 3 activities\n",
      "Duration 300+: 14 activities\n"
     ]
    }
   ],
   "source": [
    "pipeline = [\n",
    "    {\"$bucket\": {\n",
    "        \"groupBy\": \"$duration\",\n",
    "        \"boundaries\": [0, 60, 120, 180, 240, 300],\n",
    "        \"default\": \"300+\",\n",
    "        \"output\": {\n",
    "            \"count\": {\"$sum\": 1}\n",
    "        }\n",
    "    }}\n",
    "]\n",
    "result = list(db.activities.aggregate(pipeline))\n",
    "for bucket in result:\n",
    "    print(f\"Duration {bucket['_id']}: {bucket['count']} activities\")"
   ]
  },
  {
   "cell_type": "markdown",
   "id": "b2fd1266",
   "metadata": {},
   "source": [
    "### RD40: Count the number of museum suppliers with external suppliers"
   ]
  },
  {
   "cell_type": "code",
   "execution_count": 65,
   "id": "fcc6e6d1",
   "metadata": {},
   "outputs": [
    {
     "name": "stdout",
     "output_type": "stream",
     "text": [
      "Museum: 15 suppliers\n",
      "Not a Museum: 10 suppliers\n"
     ]
    }
   ],
   "source": [
    "pipeline = [\n",
    "    {\"$group\": {\n",
    "        \"_id\": \"$isMuseum\",\n",
    "        \"count\": {\"$sum\": 1}\n",
    "    }}\n",
    "]\n",
    "result = list(db.suppliers.aggregate(pipeline))\n",
    "for item in result:\n",
    "    label = \"Museum\" if item[\"_id\"] else \"Not a Museum\"\n",
    "    print(f\"{label}: {item['count']} suppliers\")"
   ]
  }
 ],
 "metadata": {
  "kernelspec": {
   "display_name": "Python 3",
   "language": "python",
   "name": "python3"
  },
  "language_info": {
   "codemirror_mode": {
    "name": "ipython",
    "version": 3
   },
   "file_extension": ".py",
   "mimetype": "text/x-python",
   "name": "python",
   "nbconvert_exporter": "python",
   "pygments_lexer": "ipython3",
   "version": "3.10.8"
  }
 },
 "nbformat": 4,
 "nbformat_minor": 5
}
